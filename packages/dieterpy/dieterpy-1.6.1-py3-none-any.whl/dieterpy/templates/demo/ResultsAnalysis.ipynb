{
 "cells": [
  {
   "cell_type": "markdown",
   "id": "aff50f99",
   "metadata": {},
   "source": [
    "**Description:**\n",
    "\n",
    "As a result of executing several optimization scenarios, we are going to get a bunch of data of all kinds. For instance, scenario configuration, scenarios names, and parameters and variables with different dimensions. All these considerations make it difficult to get a quick and clean data analysis.\n",
    "\n",
    "In order to simplify this process, we have created two classes: SymbolsHandler, Symbol\n",
    "\n",
    "**SymbolsHandler** help to load the symbol files created by using CollectScenariosPerSymbol class. The files are stored by default in the 'report_files' folder. Each file has an extension that represents the kind of results, either marginals (.m) or values (.v).\n",
    "\n",
    "**Symbol** is an object that contains the data of a symbol but also enables mathematic operation between them by dealing with the dimensions and scenarios, as well as the scenario features.\n",
    "\n",
    "In this notebook, we use Plotly express which matches up well with Symbol objects.\n",
    "\n",
    "**Hint**: To run successfully this script make sure you are running this notebook on the root of your project folder where the manage.py is hosted."
   ]
  },
  {
   "cell_type": "code",
   "execution_count": null,
   "id": "91c2dcda",
   "metadata": {},
   "outputs": [],
   "source": [
    "from dieterpy import SymbolsHandler, Symbol, storagecycling\n",
    "import plotly.express as px"
   ]
  },
  {
   "cell_type": "code",
   "execution_count": null,
   "id": "67693b04",
   "metadata": {},
   "outputs": [],
   "source": [
    "SH = SymbolsHandler('folder')\n",
    "SH"
   ]
  },
  {
   "cell_type": "code",
   "execution_count": null,
   "id": "5c9e078e",
   "metadata": {},
   "outputs": [],
   "source": [
    "SH.symbol_list"
   ]
  },
  {
   "cell_type": "code",
   "execution_count": null,
   "id": "56803136",
   "metadata": {},
   "outputs": [],
   "source": [
    "# Get Z Symbol (Total system cost in DIETER)\n",
    "Z = Symbol(name=\"Z\", value_type=\"v\", symbol_handler=SH)"
   ]
  },
  {
   "cell_type": "code",
   "execution_count": null,
   "id": "de8b7117",
   "metadata": {},
   "outputs": [],
   "source": [
    "# see the data\n",
    "Z.df"
   ]
  },
  {
   "cell_type": "code",
   "execution_count": null,
   "id": "a64d3747",
   "metadata": {},
   "outputs": [],
   "source": [
    "MarginalCost = Symbol(name=\"eq_nodalbalance\", value_type=\"m\", symbol_handler=SH)*1"
   ]
  },
  {
   "cell_type": "code",
   "execution_count": null,
   "id": "832c88e1",
   "metadata": {},
   "outputs": [],
   "source": [
    "MarginalCost.df"
   ]
  },
  {
   "cell_type": "code",
   "execution_count": null,
   "id": "24662c75",
   "metadata": {},
   "outputs": [],
   "source": [
    "STO_IN = Symbol(\"STO_IN\", \"v\", symbol_handler=SH)\n",
    "STO_OUT = Symbol(\"STO_OUT\", \"v\", symbol_handler=SH)\n",
    "STO_L = Symbol(\"STO_L\", \"v\", symbol_handler=SH)"
   ]
  },
  {
   "cell_type": "code",
   "execution_count": null,
   "id": "e905de47",
   "metadata": {},
   "outputs": [],
   "source": [
    "BIN = storagecycling(STO_IN.dimreduc(\"t\").round(3),STO_OUT.round(3))"
   ]
  },
  {
   "cell_type": "code",
   "execution_count": null,
   "id": "17c3681b",
   "metadata": {},
   "outputs": [],
   "source": [
    "F = Symbol(\"F\", \"v\", symbol_handler=SH)\n",
    "inc = Symbol(\"incidence_matrix\", \"v\", symbol_handler=SH)"
   ]
  },
  {
   "cell_type": "code",
   "execution_count": null,
   "id": "179d3066",
   "metadata": {},
   "outputs": [],
   "source": [
    "Flow = inc*F"
   ]
  },
  {
   "cell_type": "code",
   "execution_count": null,
   "id": "1169ef86",
   "metadata": {},
   "outputs": [],
   "source": [
    "Flow.df.dropna(axis=0)"
   ]
  },
  {
   "cell_type": "code",
   "execution_count": null,
   "id": "b50141ec",
   "metadata": {},
   "outputs": [],
   "source": [
    "fig = px.line(data_frame=Flow.df.dropna(axis=0),\n",
    "        x='h',\n",
    "        y='value',\n",
    "        facet_row='id',\n",
    "        facet_col='n',\n",
    "        color='l',\n",
    "        hover_name='id',\n",
    "       )\n",
    "fig.show()"
   ]
  },
  {
   "cell_type": "code",
   "execution_count": null,
   "id": "7d0a8580",
   "metadata": {},
   "outputs": [],
   "source": [
    "fig = px.line(data_frame=STO_L.df.dropna(axis=0),\n",
    "        x='h',\n",
    "        y='value',\n",
    "        facet_row='id',\n",
    "        facet_col='s',\n",
    "        color='n',\n",
    "        hover_name='id',\n",
    "       )\n",
    "fig.show()"
   ]
  },
  {
   "cell_type": "code",
   "execution_count": null,
   "id": "32962546",
   "metadata": {},
   "outputs": [],
   "source": [
    "G_L = Symbol(\"G_L\", \"v\", symbol_handler=SH)"
   ]
  },
  {
   "cell_type": "code",
   "execution_count": null,
   "id": "2c55f75e",
   "metadata": {},
   "outputs": [],
   "source": [
    "fig = px.line(data_frame=G_L.df.dropna(axis=0),\n",
    "        x='h',\n",
    "        y='value',\n",
    "        facet_row='id',\n",
    "        facet_col='n',\n",
    "        color='g',\n",
    "        hover_name='id',\n",
    "       )\n",
    "fig.show()"
   ]
  },
  {
   "cell_type": "code",
   "execution_count": null,
   "id": "f1c0a872",
   "metadata": {},
   "outputs": [],
   "source": [
    "N_TECH = Symbol(\"N_TECH\", \"v\", symbol_handler=SH)"
   ]
  },
  {
   "cell_type": "code",
   "execution_count": null,
   "id": "b2036726",
   "metadata": {},
   "outputs": [],
   "source": [
    "N_TECH.dfm"
   ]
  },
  {
   "cell_type": "code",
   "execution_count": null,
   "id": "eb8553c1",
   "metadata": {},
   "outputs": [],
   "source": [
    "N_TECH.info"
   ]
  },
  {
   "cell_type": "code",
   "execution_count": null,
   "id": "d191fbda",
   "metadata": {},
   "outputs": [],
   "source": [
    "N_TECH.dims"
   ]
  },
  {
   "cell_type": "code",
   "execution_count": null,
   "id": "c0f3b34b",
   "metadata": {},
   "outputs": [],
   "source": [
    "N_TECH.items"
   ]
  },
  {
   "cell_type": "code",
   "execution_count": null,
   "id": "7dee9908",
   "metadata": {},
   "outputs": [],
   "source": [
    "fig = px.bar(data_frame=N_TECH.df,\n",
    "        x='id',\n",
    "        y='value',\n",
    "        color='g',\n",
    "        facet_row='n',\n",
    "       )\n",
    "fig.show()"
   ]
  },
  {
   "cell_type": "code",
   "execution_count": null,
   "id": "5fab75bd",
   "metadata": {},
   "outputs": [],
   "source": []
  },
  {
   "cell_type": "code",
   "execution_count": null,
   "id": "c701f0df",
   "metadata": {},
   "outputs": [],
   "source": []
  }
 ],
 "metadata": {
  "interpreter": {
   "hash": "77bb463a042e98fc37cd6acd05f3eb690be1679932b2c8155605faf577bbb64b"
  },
  "kernelspec": {
   "display_name": "Python 3 (ipykernel)",
   "language": "python",
   "name": "python3"
  },
  "language_info": {
   "codemirror_mode": {
    "name": "ipython",
    "version": 3
   },
   "file_extension": ".py",
   "mimetype": "text/x-python",
   "name": "python",
   "nbconvert_exporter": "python",
   "pygments_lexer": "ipython3",
   "version": "3.9.7"
  }
 },
 "nbformat": 4,
 "nbformat_minor": 5
}
