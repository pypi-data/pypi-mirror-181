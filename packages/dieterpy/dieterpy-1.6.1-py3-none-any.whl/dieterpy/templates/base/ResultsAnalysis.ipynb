{
 "cells": [
  {
   "cell_type": "markdown",
   "id": "aff50f99",
   "metadata": {},
   "source": [
    "**Description:**\n",
    "\n",
    "As a result of executing several optimization scenarios, we are going to get a bunch of data of all kinds. For instance, scenario configuration, scenarios names, and parameters and variables with different dimensions. All these considerations make it difficult to get a quick and clean data analysis.\n",
    "\n",
    "In order to simplify this process, we have created two classes: SymbolsHandler, Symbol\n",
    "\n",
    "**SymbolsHandler** help to load the symbol files created by using CollectScenariosPerSymbol class. The files are stored by default in the 'report_files' folder. Each file has an extension that represents the kind of results, either marginals (.m) or values (.v).\n",
    "\n",
    "**Symbol** is an object that contains the data of a symbol but also enables mathematic operation between them by dealing with the dimensions and scenarios, as well as the scenario features.\n",
    "\n",
    "In this notebook, we use Plotly express which matches up well with Symbol objects.\n",
    "\n",
    "**Hint**: To run successfully this script make sure you are running this notebook on the root of your project folder where the manage.py is hosted."
   ]
  },
  {
   "cell_type": "code",
   "execution_count": null,
   "id": "91c2dcda",
   "metadata": {},
   "outputs": [],
   "source": [
    "from dieterpy import SymbolsHandler, Symbol, storagecycling\n",
    "import plotly.express as px"
   ]
  },
  {
   "cell_type": "code",
   "execution_count": null,
   "id": "67693b04",
   "metadata": {},
   "outputs": [],
   "source": [
    "SH = SymbolsHandler('folder')\n",
    "SH"
   ]
  },
  {
   "cell_type": "code",
   "execution_count": null,
   "id": "56803136",
   "metadata": {},
   "outputs": [],
   "source": [
    "# Get Z Symbol (Total system cost in DIETER)\n",
    "Z = Symbol(name=\"Z\", value_type=\"v\", symbol_handler=SH)"
   ]
  },
  {
   "cell_type": "code",
   "execution_count": null,
   "id": "de8b7117",
   "metadata": {},
   "outputs": [],
   "source": [
    "# see the data\n",
    "Z.df"
   ]
  },
  {
   "cell_type": "code",
   "execution_count": null,
   "id": "c960a05d",
   "metadata": {},
   "outputs": [],
   "source": [
    "Z.info"
   ]
  },
  {
   "cell_type": "code",
   "execution_count": null,
   "id": "60b9aaf5",
   "metadata": {},
   "outputs": [],
   "source": [
    "Z.dims"
   ]
  },
  {
   "cell_type": "code",
   "execution_count": null,
   "id": "36eaad61",
   "metadata": {},
   "outputs": [],
   "source": [
    "Z.items"
   ]
  },
  {
   "cell_type": "code",
   "execution_count": null,
   "id": "f1c0a872",
   "metadata": {},
   "outputs": [],
   "source": [
    "N_TECH = Symbol(\"N_TECH\", \"v\", symbol_handler=SH)"
   ]
  },
  {
   "cell_type": "code",
   "execution_count": null,
   "id": "b2036726",
   "metadata": {},
   "outputs": [],
   "source": [
    "N_TECH.dfm"
   ]
  },
  {
   "cell_type": "code",
   "execution_count": null,
   "id": "eb8553c1",
   "metadata": {},
   "outputs": [],
   "source": [
    "N_TECH.info"
   ]
  },
  {
   "cell_type": "code",
   "execution_count": null,
   "id": "d191fbda",
   "metadata": {},
   "outputs": [],
   "source": [
    "N_TECH.dims"
   ]
  },
  {
   "cell_type": "code",
   "execution_count": null,
   "id": "c0f3b34b",
   "metadata": {},
   "outputs": [],
   "source": [
    "N_TECH.items"
   ]
  },
  {
   "cell_type": "code",
   "execution_count": null,
   "id": "9e025423",
   "metadata": {},
   "outputs": [],
   "source": [
    "con1a_bal = Symbol(\"con1a_bal\", \"m\", symbol_handler=SH)"
   ]
  },
  {
   "cell_type": "code",
   "execution_count": null,
   "id": "58ea30b4",
   "metadata": {},
   "outputs": [],
   "source": [
    "con1a_bal"
   ]
  },
  {
   "cell_type": "code",
   "execution_count": null,
   "id": "24cb8c5b",
   "metadata": {},
   "outputs": [],
   "source": [
    "con1a_bal.info"
   ]
  },
  {
   "cell_type": "code",
   "execution_count": null,
   "id": "5311fafb",
   "metadata": {},
   "outputs": [],
   "source": [
    "# First operation: Symbol * number"
   ]
  },
  {
   "cell_type": "code",
   "execution_count": null,
   "id": "5660ab7b",
   "metadata": {},
   "outputs": [],
   "source": [
    "PRICE = con1a_bal * -1   # This operation creates a new Symbol"
   ]
  },
  {
   "cell_type": "code",
   "execution_count": null,
   "id": "e3d9368b",
   "metadata": {},
   "outputs": [],
   "source": [
    "PRICE                    # Look at the name = '(con1a_bal)*-1'"
   ]
  },
  {
   "cell_type": "code",
   "execution_count": null,
   "id": "a5fdce34",
   "metadata": {},
   "outputs": [],
   "source": [
    "PRICE.df"
   ]
  },
  {
   "cell_type": "code",
   "execution_count": null,
   "id": "5fc25805",
   "metadata": {},
   "outputs": [],
   "source": [
    "# Second operation: multiplication of two symbols. First we get the hourly capacity factor of renewables as its availability.\n",
    "phi_res = Symbol(\"phi_res\", \"v\", symbol_handler=SH)\n",
    "phi_res"
   ]
  },
  {
   "cell_type": "code",
   "execution_count": null,
   "id": "615cde64",
   "metadata": {},
   "outputs": [],
   "source": [
    "phi_res.info"
   ]
  },
  {
   "cell_type": "code",
   "execution_count": null,
   "id": "e77613f5",
   "metadata": {},
   "outputs": [],
   "source": [
    "# Now the multiplication\n",
    "TOTAL_vRES_GEN = N_TECH * phi_res"
   ]
  },
  {
   "cell_type": "code",
   "execution_count": null,
   "id": "38bef7f2",
   "metadata": {},
   "outputs": [],
   "source": [
    "TOTAL_vRES_GEN     # see symbol_type 'expression' as it is a Symbol created from other symbols, always \"v\" as value_type"
   ]
  },
  {
   "cell_type": "code",
   "execution_count": null,
   "id": "8974a138",
   "metadata": {},
   "outputs": [],
   "source": [
    "TOTAL_vRES_GEN.df"
   ]
  },
  {
   "cell_type": "code",
   "execution_count": null,
   "id": "2f3530e8",
   "metadata": {},
   "outputs": [],
   "source": [
    "TOTAL_vRES_GEN.items"
   ]
  },
  {
   "cell_type": "code",
   "execution_count": null,
   "id": "8dc42213",
   "metadata": {},
   "outputs": [],
   "source": [
    "# As this is an 'expression' Symbol it has None info\n",
    "TOTAL_vRES_GEN.info"
   ]
  },
  {
   "cell_type": "code",
   "execution_count": null,
   "id": "b6972fd9",
   "metadata": {},
   "outputs": [],
   "source": [
    "# We can add a desription (optional)\n",
    "TOTAL_vRES_GEN.info = \"Electricity generated by vRES: disptched + curtailed [MWh]\"\n"
   ]
  },
  {
   "cell_type": "code",
   "execution_count": null,
   "id": "aefdf7af",
   "metadata": {},
   "outputs": [],
   "source": [
    "# Third operation: Addition of two symbols. First we get the symbols that will be added\n",
    "G_L = Symbol(\"G_L\", \"v\", symbol_handler=SH)\n",
    "G_L"
   ]
  },
  {
   "cell_type": "code",
   "execution_count": null,
   "id": "a1ebf7f0",
   "metadata": {},
   "outputs": [],
   "source": [
    "G_L.info"
   ]
  },
  {
   "cell_type": "code",
   "execution_count": null,
   "id": "10738753",
   "metadata": {},
   "outputs": [],
   "source": [
    "G_RES = Symbol(\"G_RES\", \"v\", symbol_handler=SH)\n",
    "G_RES"
   ]
  },
  {
   "cell_type": "code",
   "execution_count": null,
   "id": "21a94838",
   "metadata": {},
   "outputs": [],
   "source": [
    "G_RES.info       # Dispatched electricity"
   ]
  },
  {
   "cell_type": "code",
   "execution_count": null,
   "id": "0f4bb739",
   "metadata": {},
   "outputs": [],
   "source": [
    "# Now the addition\n",
    "G_TECH = G_L + G_RES"
   ]
  },
  {
   "cell_type": "code",
   "execution_count": null,
   "id": "95af6a22",
   "metadata": {},
   "outputs": [],
   "source": [
    "G_TECH"
   ]
  },
  {
   "cell_type": "code",
   "execution_count": null,
   "id": "35cf218b",
   "metadata": {},
   "outputs": [],
   "source": [
    "G_TECH.items"
   ]
  },
  {
   "cell_type": "code",
   "execution_count": null,
   "id": "48512b36",
   "metadata": {},
   "outputs": [],
   "source": [
    "# Fourth operation: Subtraction. First we get the Symbol\n",
    "d = Symbol(\"d\", \"v\", symbol_handler=SH)\n",
    "d"
   ]
  },
  {
   "cell_type": "code",
   "execution_count": null,
   "id": "a2dc50cf",
   "metadata": {},
   "outputs": [],
   "source": [
    "d.info"
   ]
  },
  {
   "cell_type": "code",
   "execution_count": null,
   "id": "6c7872c4",
   "metadata": {},
   "outputs": [],
   "source": [
    "RESIDUAL_LOAD = d - TOTAL_vRES_GEN # This line will lead to an error. See comment bellow."
   ]
  },
  {
   "cell_type": "code",
   "execution_count": null,
   "id": "f5c59279",
   "metadata": {},
   "outputs": [],
   "source": [
    "# The error above says that the two Symbols differs in dimensions. \n",
    "# In this case, we could try to remove the 'tech' dimension from TOTAL_vRES_GEN by doing dimension reduction (default 'sum', it could be 'mean', 'max', and more)\n",
    "RESIDUAL_LOAD = d - TOTAL_vRES_GEN.dimreduc('tech')"
   ]
  },
  {
   "cell_type": "code",
   "execution_count": null,
   "id": "2e873db8",
   "metadata": {},
   "outputs": [],
   "source": [
    "RESIDUAL_LOAD"
   ]
  },
  {
   "cell_type": "code",
   "execution_count": null,
   "id": "fd9abcd6",
   "metadata": {},
   "outputs": [],
   "source": [
    "fig = px.line(data_frame=RESIDUAL_LOAD.df,\n",
    "        x='h',\n",
    "        y='value',\n",
    "        facet_row='n',\n",
    "        color='id',\n",
    "        hover_name='id',\n",
    "       )\n",
    "fig.show()"
   ]
  },
  {
   "cell_type": "code",
   "execution_count": null,
   "id": "fa877dc5",
   "metadata": {},
   "outputs": [],
   "source": [
    "# In case you want to generate the residual load duration curve uncomment this snippet\n",
    "\n",
    "# import pandas as pd\n",
    "# lt = []\n",
    "# for ix, gr in RESIDUAL_LOAD.df.sort_values(by='value', ascending=False).groupby([\"id\", \"n\"]):\n",
    "#     dt = gr.copy()\n",
    "#     dt.loc[:, \"hr\"] = [i for i in range(1, len(gr) + 1)]\n",
    "#     lt.append(dt)\n",
    "# data = pd.concat(lt)\n",
    "\n",
    "# fig = px.line(data_frame=data,\n",
    "#         x='hr',\n",
    "#         y='value',\n",
    "#         facet_row='n',\n",
    "#         color='id',\n",
    "#         hover_name='id',\n",
    "#        )\n",
    "# fig.show()"
   ]
  },
  {
   "cell_type": "code",
   "execution_count": null,
   "id": "b3b4510c",
   "metadata": {},
   "outputs": [],
   "source": [
    "# Fifth operation: Division of symbols\n",
    "COST_MWh = Z/G_TECH.dimreduc('tech').dimreduc('h').dimreduc('n')"
   ]
  },
  {
   "cell_type": "code",
   "execution_count": null,
   "id": "0b7333ec",
   "metadata": {},
   "outputs": [],
   "source": [
    "COST_MWh"
   ]
  },
  {
   "cell_type": "code",
   "execution_count": null,
   "id": "33c8de02",
   "metadata": {},
   "outputs": [],
   "source": [
    "COST_MWh.df"
   ]
  },
  {
   "cell_type": "code",
   "execution_count": null,
   "id": "fadaa683",
   "metadata": {},
   "outputs": [],
   "source": [
    "COST_MWh.info = \"Total system cost per total generation [€/MWh]\""
   ]
  },
  {
   "cell_type": "code",
   "execution_count": null,
   "id": "e8374ef1",
   "metadata": {},
   "outputs": [],
   "source": [
    "G_TECH.items"
   ]
  },
  {
   "cell_type": "code",
   "execution_count": null,
   "id": "58cdb181",
   "metadata": {},
   "outputs": [],
   "source": [
    "# Add dimension\n",
    "G_TECH_type = G_TECH.add_dim(dim_name='type', value={'tech': {'CCGT': 'Conventional',\n",
    "                                                              'OCGT': 'Conventional',\n",
    "                                                              'bio': 'Renewables',\n",
    "                                                              'hc': 'Conventional',\n",
    "                                                              'lig': 'Conventional',\n",
    "                                                              'nuc': 'Conventional',\n",
    "                                                              'oil': 'Conventional', \n",
    "                                                              'other': 'Conventional',\n",
    "                                                              'pv': 'Renewables',\n",
    "                                                              'ror': 'Renewables',\n",
    "                                                              'wind_off': 'Renewables',\n",
    "                                                              'wind_on': 'Renewables'\n",
    "                                                              }\n",
    "                                                    }\n",
    "                                )"
   ]
  },
  {
   "cell_type": "code",
   "execution_count": null,
   "id": "5dfcf51e",
   "metadata": {},
   "outputs": [],
   "source": [
    "G_TECH_type"
   ]
  },
  {
   "cell_type": "code",
   "execution_count": null,
   "id": "52ab9a4b",
   "metadata": {},
   "outputs": [],
   "source": [
    "GEN_SHARE = G_TECH_type.dimreduc('tech').dimreduc('h')/G_TECH.dimreduc('tech').dimreduc('h')"
   ]
  },
  {
   "cell_type": "code",
   "execution_count": null,
   "id": "ee5bd0f2",
   "metadata": {},
   "outputs": [],
   "source": [
    "GEN_SHARE"
   ]
  },
  {
   "cell_type": "code",
   "execution_count": null,
   "id": "0b0cf63d",
   "metadata": {},
   "outputs": [],
   "source": [
    "GEN_SHARE.df"
   ]
  },
  {
   "cell_type": "code",
   "execution_count": null,
   "id": "8e31002c",
   "metadata": {},
   "outputs": [],
   "source": [
    "# Finally some charts"
   ]
  },
  {
   "cell_type": "code",
   "execution_count": null,
   "id": "45ab492c",
   "metadata": {},
   "outputs": [],
   "source": [
    "N_STO_E = Symbol(\"N_STO_E\", \"v\", symbol_handler=SH)"
   ]
  },
  {
   "cell_type": "code",
   "execution_count": null,
   "id": "d5f643af",
   "metadata": {},
   "outputs": [],
   "source": [
    "N_STO_E.df"
   ]
  },
  {
   "cell_type": "code",
   "execution_count": null,
   "id": "758794b1",
   "metadata": {},
   "outputs": [],
   "source": [
    "N_STO_E.dfm"
   ]
  },
  {
   "cell_type": "code",
   "execution_count": null,
   "id": "117dafc8",
   "metadata": {},
   "outputs": [],
   "source": [
    "N_STO_E.dfm_nan   # For some charts this method .dfm_nan becomes useful.\n",
    "                  # Features elements of scenarios that have None values (NaN) are replaced by -1. Only for numeric features.\n",
    "                  # From Above dataframe: a numeric feature is 'phi_min_res(n)' and its elements are 0.8 and 0.9.\n",
    "                  # in this example there are no difference between .dfm and .dfm_nan"
   ]
  },
  {
   "cell_type": "code",
   "execution_count": null,
   "id": "65712fe3",
   "metadata": {},
   "outputs": [],
   "source": [
    "fig = px.bar(data_frame=(N_STO_E/1000000).dfm,    # 1000000 is the conversion factor from MWh to TWh\n",
    "        x='id',\n",
    "        y='value',\n",
    "        color='sto',\n",
    "        facet_row='n',\n",
    "        facet_col='phi_min_res(n)',\n",
    "        labels = {'value': 'Storage energy capacity [TWh]'},\n",
    "       )\n",
    "fig.show()"
   ]
  },
  {
   "cell_type": "code",
   "execution_count": null,
   "id": "cf10b733",
   "metadata": {},
   "outputs": [],
   "source": [
    "# Code Comparison\n",
    "\n",
    "# GAMS: \n",
    "# sum(h2_channel,h2_aux_pretrans_sw(n,h2_channel) * h2_aux_pretrans_ed(n,h2_channel) * (sum(h2_tech,h2_bypass_1_sw(n,h2_tech,h2_channel) * H2_BYPASS_1.l(n,h2_tech,h2_channel,h)) + H2_STO_P_OUT.l(n,h2_channel,h)))\n",
    "\n",
    "# Symbol class:\n",
    "# (h2_aux_pretrans_sw * h2_aux_pretrans_ed*((h2_bypass_1_sw * H2_BYPASS_1).dimreduc('h2_tech')) + H2_STO_P_OUT).dimreduc('h2_channel')"
   ]
  },
  {
   "cell_type": "code",
   "execution_count": null,
   "id": "41a2f6aa",
   "metadata": {},
   "outputs": [],
   "source": [
    "# Finally. Check if some of your storage technologies in any scenario is affected by storage cycling\n",
    "# First, load variables for hourly input and output storage\n",
    "\n",
    "STO_IN = Symbol(\"STO_IN\", \"v\", symbol_handler=SH)\n",
    "STO_OUT = Symbol(\"STO_OUT\", \"v\", symbol_handler=SH)"
   ]
  },
  {
   "cell_type": "code",
   "execution_count": null,
   "id": "04258506",
   "metadata": {},
   "outputs": [],
   "source": [
    "# use the function storagecycling it returns a Symbol with value 1 at the time of charging or discharging and 0 if nothing occurs\n",
    "STO_Bin = storagecycling(STO_IN, STO_OUT)  # if 2 is present at any hour, it means that discharge and charge occurred "
   ]
  },
  {
   "cell_type": "code",
   "execution_count": null,
   "id": "3f480f43",
   "metadata": {},
   "outputs": [],
   "source": [
    "STO_Bin.df"
   ]
  },
  {
   "cell_type": "code",
   "execution_count": null,
   "id": "be6cc340",
   "metadata": {},
   "outputs": [],
   "source": [
    "STO_Bin.df.query(\"value == 2\")"
   ]
  },
  {
   "cell_type": "code",
   "execution_count": null,
   "id": "38c30f93",
   "metadata": {},
   "outputs": [],
   "source": [
    "# The last chart. Visualize STO_IN and STO_OUT together in one symbol\n",
    "STO_inout = STO_IN.add_dim('flow','charge') + STO_OUT.add_dim('flow','discharge') # Hint: Avoid using existing dimension names from other symbols."
   ]
  },
  {
   "cell_type": "code",
   "execution_count": null,
   "id": "bfc975a5",
   "metadata": {},
   "outputs": [],
   "source": [
    "STO_inout.df"
   ]
  },
  {
   "cell_type": "code",
   "execution_count": null,
   "id": "7dee9908",
   "metadata": {},
   "outputs": [],
   "source": [
    "fig = px.line(data_frame=STO_inout.df,\n",
    "        x='h',\n",
    "        y='value',\n",
    "        color='flow',\n",
    "        line_dash = 'sto',\n",
    "        facet_row='id',\n",
    "        facet_col='n',\n",
    "        labels = {'value': '(Dis)charging [MWh]'},\n",
    "       )\n",
    "fig.show()"
   ]
  },
  {
   "cell_type": "code",
   "execution_count": null,
   "id": "5fab75bd",
   "metadata": {},
   "outputs": [],
   "source": []
  }
 ],
 "metadata": {
  "kernelspec": {
   "display_name": "Python 3.7.15 ('tmp37')",
   "language": "python",
   "name": "python3"
  },
  "language_info": {
   "codemirror_mode": {
    "name": "ipython",
    "version": 3
   },
   "file_extension": ".py",
   "mimetype": "text/x-python",
   "name": "python",
   "nbconvert_exporter": "python",
   "pygments_lexer": "ipython3",
   "version": "3.7.15"
  },
  "vscode": {
   "interpreter": {
    "hash": "929630f9c7ebc1d449c1ed5506c67d387d4e5f8d48467d94e6f7a2aa73b6e4b5"
   }
  }
 },
 "nbformat": 4,
 "nbformat_minor": 5
}
