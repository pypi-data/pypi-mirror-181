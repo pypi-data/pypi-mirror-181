{
 "cells": [
  {
   "cell_type": "markdown",
   "id": "73c54893",
   "metadata": {},
   "source": [
    "!wget https://paddlenlp.bj.bcebos.com/data/senta_word_dict.txt -P assets/# Load the Pretrained Model and the dataset\n",
    "We use bilstm as the model and chnsenticorp as the dataset for example. More models can be found in [PaddleNLP Model Zoo](https://paddlenlp.readthedocs.io/zh/latest/model_zoo/transformers.html#transformer).\n",
    "\n",
    "BiLSTM does not have a tokenizer so we use JiebaTokenizer.\n",
    "\n",
    "Obviously, PaddleNLP is needed to run this notebook, which is easy to install:\n",
    "```bash\n",
    "pip install setuptools_scm \n",
    "pip install --upgrade paddlenlp\n",
    "```"
   ]
  },
  {
   "cell_type": "code",
   "execution_count": 2,
   "id": "00fbd2ef-b94f-47cc-ae30-e419e25120de",
   "metadata": {},
   "outputs": [
    {
     "name": "stdout",
     "output_type": "stream",
     "text": [
      "--2022-03-28 12:30:06--  https://paddlenlp.bj.bcebos.com/data/senta_word_dict.txt\n",
      "Resolving paddlenlp.bj.bcebos.com (paddlenlp.bj.bcebos.com)... 10.70.0.165\n",
      "Connecting to paddlenlp.bj.bcebos.com (paddlenlp.bj.bcebos.com)|10.70.0.165|:443... connected.\n",
      "HTTP request sent, awaiting response... 200 OK\n",
      "Length: 14600150 (14M) [text/plain]\n",
      "Saving to: ‘assets/senta_word_dict.txt’\n",
      "\n",
      "senta_word_dict.txt 100%[===================>]  13.92M  37.5MB/s    in 0.4s    \n",
      "\n",
      "2022-03-28 12:30:07 (37.5 MB/s) - ‘assets/senta_word_dict.txt’ saved [14600150/14600150]\n",
      "\n"
     ]
    }
   ],
   "source": [
    "!wget https://paddlenlp.bj.bcebos.com/data/senta_word_dict.txt -P assets/"
   ]
  },
  {
   "cell_type": "code",
   "execution_count": 3,
   "id": "538f206c",
   "metadata": {},
   "outputs": [],
   "source": [
    "from paddlenlp.data import JiebaTokenizer, Pad, Stack, Tuple, Vocab\n",
    "\n",
    "VOCAB_PATH = \"assets/senta_word_dict.txt\"\n",
    "\n",
    "vocab = Vocab.load_vocabulary(VOCAB_PATH, unk_token='[UNK]', pad_token='[PAD]')\n",
    "\n",
    "vocab_size = len(vocab)\n",
    "num_classes = 2\n",
    "pad_token_id = vocab.to_indices('[PAD]')"
   ]
  },
  {
   "cell_type": "code",
   "execution_count": 8,
   "id": "16569dae",
   "metadata": {},
   "outputs": [],
   "source": [
    "from paddlenlp.datasets import load_dataset\n",
    "DATASET_NAME = 'chnsenticorp'\n",
    "train_ds, dev_ds, test_ds = load_dataset(\n",
    "    DATASET_NAME, splits=[\"train\", \"dev\", \"test\"]\n",
    ")"
   ]
  },
  {
   "cell_type": "code",
   "execution_count": 9,
   "id": "cf0c9d9d",
   "metadata": {},
   "outputs": [
    {
     "name": "stderr",
     "output_type": "stream",
     "text": [
      "W0328 12:38:25.235689 19403 device_context.cc:447] Please NOTE: device: 0, GPU Compute Capability: 7.0, Driver API Version: 11.4, Runtime API Version: 10.2\n",
      "W0328 12:38:25.241302 19403 device_context.cc:465] device: 0, cuDNN Version: 7.6.\n"
     ]
    }
   ],
   "source": [
    "import paddle\n",
    "import paddlenlp\n",
    "import paddle.nn as nn\n",
    "import paddle.nn.functional as F\n",
    "\n",
    "MODEL_NAME = 'bilstm'\n",
    "\n",
    "class LSTMModel(nn.Layer):\n",
    "    def __init__(self,\n",
    "                 vocab_size,\n",
    "                 num_classes,\n",
    "                 emb_dim=128,\n",
    "                 padding_idx=0,\n",
    "                 lstm_hidden_size=198,\n",
    "                 direction='forward',\n",
    "                 lstm_layers=1,\n",
    "                 dropout_rate=0.0,\n",
    "                 pooling_type=None,\n",
    "                 fc_hidden_size=96):\n",
    "        super().__init__()\n",
    "\n",
    "        # 首先将输入word id 查表后映射成 word embedding\n",
    "        self.embedder = nn.Embedding(\n",
    "            num_embeddings=vocab_size,\n",
    "            embedding_dim=emb_dim,\n",
    "            padding_idx=padding_idx)\n",
    "\n",
    "        # 将word embedding经过LSTMEncoder变换到文本语义表征空间中\n",
    "        self.lstm_encoder = paddlenlp.seq2vec.LSTMEncoder(\n",
    "            emb_dim,\n",
    "            lstm_hidden_size,\n",
    "            num_layers=lstm_layers,\n",
    "            direction=direction,\n",
    "            dropout=dropout_rate,\n",
    "            pooling_type=pooling_type)\n",
    "\n",
    "        # LSTMEncoder.get_output_dim()方法可以获取经过encoder之后的文本表示hidden_size\n",
    "        self.fc = nn.Linear(self.lstm_encoder.get_output_dim(), fc_hidden_size)\n",
    "\n",
    "        # 最后的分类器\n",
    "        self.output_layer = nn.Linear(fc_hidden_size, num_classes)\n",
    "\n",
    "    def forward(self, text, seq_len):\n",
    "        # Shape: (batch_size, num_tokens, embedding_dim)\n",
    "        embedded_text = self.embedder(text)\n",
    "\n",
    "        # Shape: (batch_size, num_tokens, num_directions*lstm_hidden_size)\n",
    "        # num_directions = 2 if direction is 'bidirectional' else 1\n",
    "        text_repr = self.lstm_encoder(embedded_text, sequence_length=seq_len)\n",
    "\n",
    "\n",
    "        # Shape: (batch_size, fc_hidden_size)\n",
    "        fc_out = paddle.tanh(self.fc(text_repr))\n",
    "\n",
    "        # Shape: (batch_size, num_classes)\n",
    "        logits = self.output_layer(fc_out)\n",
    "        return logits\n",
    "\n",
    "model_ = LSTMModel(\n",
    "        len(vocab),\n",
    "        2,\n",
    "        direction='bidirectional',\n",
    "        padding_idx=vocab['[PAD]'])\n",
    "\n",
    "model = paddle.Model(model_)"
   ]
  },
  {
   "cell_type": "markdown",
   "id": "445c99fe",
   "metadata": {},
   "source": [
    "# Prepare the Model"
   ]
  },
  {
   "cell_type": "markdown",
   "id": "a91242ea",
   "metadata": {},
   "source": [
    "## Train the model"
   ]
  },
  {
   "cell_type": "code",
   "execution_count": 10,
   "id": "61612b87",
   "metadata": {},
   "outputs": [
    {
     "name": "stdout",
     "output_type": "stream",
     "text": [
      "The loss value printed in the log is the current step, and the metric is the average value of previous steps.\n",
      "Epoch 1/3\n",
      "step 75/75 [==============================] - loss: 0.4312 - acc: 0.6749 - 112ms/step          \n",
      "save checkpoint at /root/codespace/InterpretDL-master/tutorials/assets/chnsenticorp-bilstm/0\n",
      "Eval begin...\n",
      "step 10/10 [==============================] - loss: 0.4984 - acc: 0.8100 - 77ms/step\n",
      "Eval samples: 1200\n",
      "Epoch 2/3\n",
      "step 75/75 [==============================] - loss: 0.1987 - acc: 0.9140 - 104ms/step          \n",
      "save checkpoint at /root/codespace/InterpretDL-master/tutorials/assets/chnsenticorp-bilstm/1\n",
      "Eval begin...\n",
      "step 10/10 [==============================] - loss: 0.4054 - acc: 0.8842 - 69ms/step\n",
      "Eval samples: 1200\n",
      "Epoch 3/3\n",
      "step 75/75 [==============================] - loss: 0.0500 - acc: 0.9765 - 102ms/step          \n",
      "save checkpoint at /root/codespace/InterpretDL-master/tutorials/assets/chnsenticorp-bilstm/2\n",
      "Eval begin...\n",
      "step 10/10 [==============================] - loss: 0.4739 - acc: 0.8917 - 75ms/step\n",
      "Eval samples: 1200\n",
      "save checkpoint at /root/codespace/InterpretDL-master/tutorials/assets/chnsenticorp-bilstm/final\n"
     ]
    }
   ],
   "source": [
    "import numpy as np\n",
    "from functools import partial\n",
    "from assets.utils import create_dataloader\n",
    "\n",
    "def convert_example(example, tokenizer, is_test=False):\n",
    "    input_ids = tokenizer.encode(example[\"text\"])\n",
    "    valid_length = np.array(len(input_ids), dtype='int64')\n",
    "    input_ids = np.array(input_ids, dtype='int64')\n",
    "\n",
    "    if not is_test:\n",
    "        label = np.array(example[\"label\"], dtype=\"int64\")\n",
    "        return input_ids, valid_length, label\n",
    "    else:\n",
    "        qid = np.array(example[\"qid\"], dtype=\"int64\")\n",
    "        return input_ids, valid_length, qid\n",
    "\n",
    "# Reads data and generates mini-batches.\n",
    "tokenizer = JiebaTokenizer(vocab)\n",
    "trans_fn = partial(convert_example, tokenizer=tokenizer, is_test=False)\n",
    "\n",
    "batchify_fn = lambda samples, fn=Tuple(\n",
    "    Pad(axis=0, pad_val=vocab.token_to_idx.get('[PAD]', 0)),  # input_ids\n",
    "    Stack(dtype=\"int64\"),  # seq len\n",
    "    Stack(dtype=\"int64\")  # label\n",
    "): [data for data in fn(samples)]\n",
    "                        \n",
    "train_loader = create_dataloader(\n",
    "    train_ds,\n",
    "    trans_fn=trans_fn,\n",
    "    batch_size=128,\n",
    "    mode='train',\n",
    "    batchify_fn=batchify_fn)\n",
    "                        \n",
    "dev_loader = create_dataloader(\n",
    "    dev_ds,\n",
    "    trans_fn=trans_fn,\n",
    "    batch_size=128,\n",
    "    mode='validation',\n",
    "    batchify_fn=batchify_fn)\n",
    "\n",
    "optimizer = paddle.optimizer.Adam(\n",
    "    parameters=model.parameters(), learning_rate=5e-4)\n",
    "\n",
    "# Defines loss and metric.\n",
    "criterion = paddle.nn.CrossEntropyLoss()\n",
    "metric = paddle.metric.Accuracy()\n",
    "\n",
    "model.prepare(optimizer, criterion, metric)\n",
    "\n",
    "model.fit(\n",
    "    train_loader,\n",
    "    dev_loader,\n",
    "    epochs=3,\n",
    "    save_dir=f'assets/{DATASET_NAME}-{MODEL_NAME}',\n",
    "    verbose=1\n",
    ")"
   ]
  },
  {
   "cell_type": "markdown",
   "id": "c6ef8342",
   "metadata": {},
   "source": [
    "## Or Load the trained model"
   ]
  },
  {
   "cell_type": "code",
   "execution_count": 11,
   "id": "512a35b6",
   "metadata": {
    "tags": []
   },
   "outputs": [],
   "source": [
    "# Load the trained model.\n",
    "state_dict = paddle.load(f'assets/{DATASET_NAME}-{MODEL_NAME}/final.pdparams')\n",
    "model_.set_dict(state_dict)"
   ]
  },
  {
   "cell_type": "markdown",
   "id": "cc6f2662",
   "metadata": {},
   "source": [
    "# See the prediction results"
   ]
  },
  {
   "cell_type": "code",
   "execution_count": 12,
   "id": "5b683d2a",
   "metadata": {},
   "outputs": [],
   "source": [
    "from assets.utils import predict\n",
    "\n",
    "data = [\n",
    "    {\"text\":'这个宾馆比较陈旧了，特价的房间也很一般。总体来说一般'},\n",
    "    {\"text\":'怀着十分激动的心情放映，可是看着看着发现，在放映完毕后，出现一集米老鼠的动画片'},\n",
    "    {\"text\":'作为老的四星酒店，房间依然很整洁，相当不错。机场接机服务很好，可以在车上办理入住手续，节省时间。'},\n",
    "]\n",
    "\n",
    "label_map = {0: 'negative', 1: 'positive'}\n",
    "\n",
    "batch_size = 32\n",
    "\n",
    "# results = predict(\n",
    "#     model, data, tokenizer, label_map, batch_size=batch_size)\n",
    "\n",
    "# for idx, text in enumerate(data):\n",
    "#     print('Data: {} \\t Lable: {}'.format(text, results[idx]))"
   ]
  },
  {
   "cell_type": "markdown",
   "id": "9aa534f5",
   "metadata": {},
   "source": [
    "# Prepare for Interpretations"
   ]
  },
  {
   "cell_type": "code",
   "execution_count": 13,
   "id": "73f268da",
   "metadata": {},
   "outputs": [],
   "source": [
    "import interpretdl as it\n",
    "import numpy as np\n",
    "from assets.utils import convert_example, aggregate_subwords_and_importances\n",
    "from paddlenlp.data import Stack, Tuple, Pad\n",
    "from interpretdl.data_processor.visualizer import VisualizationTextRecord, visualize_text\n",
    "\n",
    "import jieba\n",
    "def preprocess_fn(text):\n",
    "    texts = []\n",
    "    seq_lens = []\n",
    "    tokens = \" \".join(jieba.cut(text)).split(' ')\n",
    "    ids = []\n",
    "    unk_id = vocab.token_to_idx.get('[UNK]', None)\n",
    "    for token in tokens:\n",
    "        wid = vocab.token_to_idx.get(token, unk_id)\n",
    "        if wid:\n",
    "            ids.append(wid)\n",
    "    texts.append(ids)\n",
    "    seq_lens.append(len(ids))\n",
    "\n",
    "    pad_token_id = 0\n",
    "    max_seq_len = max(seq_lens)\n",
    "\n",
    "    texts = paddle.to_tensor(texts)\n",
    "    seq_lens = paddle.to_tensor(seq_lens)\n",
    "    return texts, seq_lens"
   ]
  },
  {
   "cell_type": "markdown",
   "id": "fc15d983",
   "metadata": {},
   "source": [
    "## IG Interpreter"
   ]
  },
  {
   "cell_type": "code",
   "execution_count": 17,
   "id": "1aaf4a6a",
   "metadata": {
    "tags": []
   },
   "outputs": [
    {
     "data": {
      "text/html": [
       "<table width: 100%><tr><th>True Label</th><th>Predicted Label (Prob)</th><th>Target Label</th><th>Word Importance</th><tr><td><text style=\"padding-right:2em\"><b>0</b></text></td><td><text style=\"padding-right:2em\"><b>0 (0.82)</b></text></td><td><text style=\"padding-right:2em\"><b>0</b></text></td><td><mark style=\"background-color: hsl(0, 75%, 88%); opacity:1.0;                         line-height:1.75\"><font color=\"black\"> 这个                        </font></mark><mark style=\"background-color: hsl(0, 75%, 99%); opacity:1.0;                         line-height:1.75\"><font color=\"black\"> 宾馆                        </font></mark><mark style=\"background-color: hsl(120, 75%, 97%); opacity:1.0;                         line-height:1.75\"><font color=\"black\"> 比较                        </font></mark><mark style=\"background-color: hsl(0, 75%, 82%); opacity:1.0;                         line-height:1.75\"><font color=\"black\"> 陈旧                        </font></mark><mark style=\"background-color: hsl(120, 75%, 98%); opacity:1.0;                         line-height:1.75\"><font color=\"black\"> 了                        </font></mark><mark style=\"background-color: hsl(120, 75%, 94%); opacity:1.0;                         line-height:1.75\"><font color=\"black\"> ，                        </font></mark><mark style=\"background-color: hsl(120, 75%, 92%); opacity:1.0;                         line-height:1.75\"><font color=\"black\"> 特价                        </font></mark><mark style=\"background-color: hsl(120, 75%, 99%); opacity:1.0;                         line-height:1.75\"><font color=\"black\"> 的                        </font></mark><mark style=\"background-color: hsl(0, 75%, 100%); opacity:1.0;                         line-height:1.75\"><font color=\"black\"> 房间                        </font></mark><mark style=\"background-color: hsl(120, 75%, 89%); opacity:1.0;                         line-height:1.75\"><font color=\"black\"> 也                        </font></mark><mark style=\"background-color: hsl(120, 75%, 100%); opacity:1.0;                         line-height:1.75\"><font color=\"black\"> 很                        </font></mark><mark style=\"background-color: hsl(0, 75%, 84%); opacity:1.0;                         line-height:1.75\"><font color=\"black\"> 一般                        </font></mark><mark style=\"background-color: hsl(120, 75%, 100%); opacity:1.0;                         line-height:1.75\"><font color=\"black\"> 。                        </font></mark><mark style=\"background-color: hsl(120, 75%, 75%); opacity:1.0;                         line-height:1.75\"><font color=\"black\"> 总体                        </font></mark><mark style=\"background-color: hsl(120, 75%, 95%); opacity:1.0;                         line-height:1.75\"><font color=\"black\"> 来说                        </font></mark><mark style=\"background-color: hsl(0, 75%, 86%); opacity:1.0;                         line-height:1.75\"><font color=\"black\"> 一般                        </font></mark></td><tr><tr><td><text style=\"padding-right:2em\"><b>0</b></text></td><td><text style=\"padding-right:2em\"><b>0 (0.92)</b></text></td><td><text style=\"padding-right:2em\"><b>0</b></text></td><td><mark style=\"background-color: hsl(0, 75%, 85%); opacity:1.0;                         line-height:1.75\"><font color=\"black\"> 怀着                        </font></mark><mark style=\"background-color: hsl(0, 75%, 86%); opacity:1.0;                         line-height:1.75\"><font color=\"black\"> 十分                        </font></mark><mark style=\"background-color: hsl(0, 75%, 100%); opacity:1.0;                         line-height:1.75\"><font color=\"black\"> 激动                        </font></mark><mark style=\"background-color: hsl(120, 75%, 98%); opacity:1.0;                         line-height:1.75\"><font color=\"black\"> 的                        </font></mark><mark style=\"background-color: hsl(0, 75%, 97%); opacity:1.0;                         line-height:1.75\"><font color=\"black\"> 心情                        </font></mark><mark style=\"background-color: hsl(0, 75%, 83%); opacity:1.0;                         line-height:1.75\"><font color=\"black\"> 放映                        </font></mark><mark style=\"background-color: hsl(120, 75%, 91%); opacity:1.0;                         line-height:1.75\"><font color=\"black\"> ，                        </font></mark><mark style=\"background-color: hsl(0, 75%, 94%); opacity:1.0;                         line-height:1.75\"><font color=\"black\"> 可是                        </font></mark><mark style=\"background-color: hsl(120, 75%, 92%); opacity:1.0;                         line-height:1.75\"><font color=\"black\"> 看着                        </font></mark><mark style=\"background-color: hsl(120, 75%, 93%); opacity:1.0;                         line-height:1.75\"><font color=\"black\"> 看着                        </font></mark><mark style=\"background-color: hsl(0, 75%, 93%); opacity:1.0;                         line-height:1.75\"><font color=\"black\"> 发现                        </font></mark><mark style=\"background-color: hsl(120, 75%, 91%); opacity:1.0;                         line-height:1.75\"><font color=\"black\"> ，                        </font></mark><mark style=\"background-color: hsl(120, 75%, 87%); opacity:1.0;                         line-height:1.75\"><font color=\"black\"> 在                        </font></mark><mark style=\"background-color: hsl(0, 75%, 85%); opacity:1.0;                         line-height:1.75\"><font color=\"black\"> 放映                        </font></mark><mark style=\"background-color: hsl(0, 75%, 98%); opacity:1.0;                         line-height:1.75\"><font color=\"black\"> 完毕                        </font></mark><mark style=\"background-color: hsl(120, 75%, 88%); opacity:1.0;                         line-height:1.75\"><font color=\"black\"> 后                        </font></mark><mark style=\"background-color: hsl(120, 75%, 92%); opacity:1.0;                         line-height:1.75\"><font color=\"black\"> ，                        </font></mark><mark style=\"background-color: hsl(0, 75%, 98%); opacity:1.0;                         line-height:1.75\"><font color=\"black\"> 出现                        </font></mark><mark style=\"background-color: hsl(0, 75%, 100%); opacity:1.0;                         line-height:1.75\"><font color=\"black\"> 一集                        </font></mark><mark style=\"background-color: hsl(0, 75%, 100%); opacity:1.0;                         line-height:1.75\"><font color=\"black\"> 米老鼠                        </font></mark><mark style=\"background-color: hsl(120, 75%, 99%); opacity:1.0;                         line-height:1.75\"><font color=\"black\"> 的                        </font></mark><mark style=\"background-color: hsl(0, 75%, 95%); opacity:1.0;                         line-height:1.75\"><font color=\"black\"> 动画片                        </font></mark></td><tr><tr><td><text style=\"padding-right:2em\"><b>0</b></text></td><td><text style=\"padding-right:2em\"><b>1 (1.00)</b></text></td><td><text style=\"padding-right:2em\"><b>1</b></text></td><td><mark style=\"background-color: hsl(0, 75%, 100%); opacity:1.0;                         line-height:1.75\"><font color=\"black\"> 作为                        </font></mark><mark style=\"background-color: hsl(120, 75%, 91%); opacity:1.0;                         line-height:1.75\"><font color=\"black\"> 老                        </font></mark><mark style=\"background-color: hsl(120, 75%, 99%); opacity:1.0;                         line-height:1.75\"><font color=\"black\"> 的                        </font></mark><mark style=\"background-color: hsl(120, 75%, 94%); opacity:1.0;                         line-height:1.75\"><font color=\"black\"> 四星                        </font></mark><mark style=\"background-color: hsl(0, 75%, 95%); opacity:1.0;                         line-height:1.75\"><font color=\"black\"> 酒店                        </font></mark><mark style=\"background-color: hsl(120, 75%, 94%); opacity:1.0;                         line-height:1.75\"><font color=\"black\"> ，                        </font></mark><mark style=\"background-color: hsl(0, 75%, 100%); opacity:1.0;                         line-height:1.75\"><font color=\"black\"> 房间                        </font></mark><mark style=\"background-color: hsl(120, 75%, 94%); opacity:1.0;                         line-height:1.75\"><font color=\"black\"> 依然                        </font></mark><mark style=\"background-color: hsl(120, 75%, 100%); opacity:1.0;                         line-height:1.75\"><font color=\"black\"> 很                        </font></mark><mark style=\"background-color: hsl(120, 75%, 74%); opacity:1.0;                         line-height:1.75\"><font color=\"black\"> 整洁                        </font></mark><mark style=\"background-color: hsl(120, 75%, 94%); opacity:1.0;                         line-height:1.75\"><font color=\"black\"> ，                        </font></mark><mark style=\"background-color: hsl(120, 75%, 84%); opacity:1.0;                         line-height:1.75\"><font color=\"black\"> 相当                        </font></mark><mark style=\"background-color: hsl(120, 75%, 73%); opacity:1.0;                         line-height:1.75\"><font color=\"black\"> 不错                        </font></mark><mark style=\"background-color: hsl(120, 75%, 100%); opacity:1.0;                         line-height:1.75\"><font color=\"black\"> 。                        </font></mark><mark style=\"background-color: hsl(120, 75%, 95%); opacity:1.0;                         line-height:1.75\"><font color=\"black\"> 机场                        </font></mark><mark style=\"background-color: hsl(0, 75%, 90%); opacity:1.0;                         line-height:1.75\"><font color=\"black\"> 接机                        </font></mark><mark style=\"background-color: hsl(120, 75%, 93%); opacity:1.0;                         line-height:1.75\"><font color=\"black\"> 服务                        </font></mark><mark style=\"background-color: hsl(120, 75%, 100%); opacity:1.0;                         line-height:1.75\"><font color=\"black\"> 很                        </font></mark><mark style=\"background-color: hsl(120, 75%, 95%); opacity:1.0;                         line-height:1.75\"><font color=\"black\"> 好                        </font></mark><mark style=\"background-color: hsl(120, 75%, 95%); opacity:1.0;                         line-height:1.75\"><font color=\"black\"> ，                        </font></mark><mark style=\"background-color: hsl(120, 75%, 95%); opacity:1.0;                         line-height:1.75\"><font color=\"black\"> 可以                        </font></mark><mark style=\"background-color: hsl(120, 75%, 93%); opacity:1.0;                         line-height:1.75\"><font color=\"black\"> 在                        </font></mark><mark style=\"background-color: hsl(120, 75%, 93%); opacity:1.0;                         line-height:1.75\"><font color=\"black\"> 车上                        </font></mark><mark style=\"background-color: hsl(0, 75%, 99%); opacity:1.0;                         line-height:1.75\"><font color=\"black\"> 办理                        </font></mark><mark style=\"background-color: hsl(0, 75%, 98%); opacity:1.0;                         line-height:1.75\"><font color=\"black\"> 入住                        </font></mark><mark style=\"background-color: hsl(0, 75%, 99%); opacity:1.0;                         line-height:1.75\"><font color=\"black\"> 手续                        </font></mark><mark style=\"background-color: hsl(120, 75%, 96%); opacity:1.0;                         line-height:1.75\"><font color=\"black\"> ，                        </font></mark><mark style=\"background-color: hsl(120, 75%, 100%); opacity:1.0;                         line-height:1.75\"><font color=\"black\"> 节省时间                        </font></mark><mark style=\"background-color: hsl(120, 75%, 100%); opacity:1.0;                         line-height:1.75\"><font color=\"black\"> 。                        </font></mark></td><tr></table>"
      ],
      "text/plain": [
       "<IPython.core.display.HTML object>"
      ]
     },
     "metadata": {},
     "output_type": "display_data"
    }
   ],
   "source": [
    "ig = it.IntGradNLPInterpreter(model_, device='gpu:0')\n",
    "\n",
    "true_labels = [0, 0, 1]\n",
    "recs = []\n",
    "for review in data:\n",
    "    text = review['text']\n",
    "\n",
    "    pred_labels, pred_probs, avg_gradients = ig.interpret(\n",
    "        preprocess_fn(text),\n",
    "        steps=10,\n",
    "        embedding_name='embedder',\n",
    "        return_pred=True)\n",
    "\n",
    "    for i in range(avg_gradients.shape[0]):\n",
    "        subwords = \" \".join(jieba.cut(text)).split(' ')\n",
    "        subword_importances = avg_gradients[i]\n",
    "        words, word_importances = aggregate_subwords_and_importances(subwords, subword_importances)\n",
    "        word_importances = np.array(word_importances) / np.linalg.norm(\n",
    "            word_importances)\n",
    "\n",
    "        pred_label = pred_labels[i]\n",
    "        pred_prob = pred_probs[i, pred_label]\n",
    "        true_label = true_labels[i]\n",
    "        interp_class = pred_label\n",
    "\n",
    "        if interp_class == 0:\n",
    "            word_importances = -word_importances\n",
    "        recs.append(\n",
    "            VisualizationTextRecord(words, word_importances, true_label,\n",
    "                                    pred_label, pred_prob, interp_class)\n",
    "        )\n",
    "\n",
    "visualize_text(recs)\n",
    "# The visualization is not available at github"
   ]
  },
  {
   "cell_type": "markdown",
   "id": "427ac6ab",
   "metadata": {},
   "source": [
    "## LIME Interpreter"
   ]
  },
  {
   "cell_type": "code",
   "execution_count": 18,
   "id": "b290fcb9",
   "metadata": {},
   "outputs": [
    {
     "data": {
      "text/html": [
       "<table width: 100%><tr><th>True Label</th><th>Predicted Label (Prob)</th><th>Target Label</th><th>Word Importance</th><tr><td><text style=\"padding-right:2em\"><b>0</b></text></td><td><text style=\"padding-right:2em\"><b>0 (0.82)</b></text></td><td><text style=\"padding-right:2em\"><b>0</b></text></td><td><mark style=\"background-color: hsl(0, 75%, 98%); opacity:1.0;                         line-height:1.75\"><font color=\"black\"> 这个                        </font></mark><mark style=\"background-color: hsl(120, 75%, 98%); opacity:1.0;                         line-height:1.75\"><font color=\"black\"> 宾馆                        </font></mark><mark style=\"background-color: hsl(0, 75%, 78%); opacity:1.0;                         line-height:1.75\"><font color=\"black\"> 比较                        </font></mark><mark style=\"background-color: hsl(120, 75%, 99%); opacity:1.0;                         line-height:1.75\"><font color=\"black\"> 陈旧                        </font></mark><mark style=\"background-color: hsl(120, 75%, 95%); opacity:1.0;                         line-height:1.75\"><font color=\"black\"> 了                        </font></mark><mark style=\"background-color: hsl(120, 75%, 93%); opacity:1.0;                         line-height:1.75\"><font color=\"black\"> ，                        </font></mark><mark style=\"background-color: hsl(120, 75%, 100%); opacity:1.0;                         line-height:1.75\"><font color=\"black\"> 特价                        </font></mark><mark style=\"background-color: hsl(0, 75%, 99%); opacity:1.0;                         line-height:1.75\"><font color=\"black\"> 的                        </font></mark><mark style=\"background-color: hsl(120, 75%, 88%); opacity:1.0;                         line-height:1.75\"><font color=\"black\"> 房间                        </font></mark><mark style=\"background-color: hsl(0, 75%, 100%); opacity:1.0;                         line-height:1.75\"><font color=\"black\"> 也                        </font></mark><mark style=\"background-color: hsl(0, 75%, 80%); opacity:1.0;                         line-height:1.75\"><font color=\"black\"> 很                        </font></mark><mark style=\"background-color: hsl(0, 75%, 100%); opacity:1.0;                         line-height:1.75\"><font color=\"black\"> 一般                        </font></mark><mark style=\"background-color: hsl(120, 75%, 73%); opacity:1.0;                         line-height:1.75\"><font color=\"black\"> 。                        </font></mark><mark style=\"background-color: hsl(120, 75%, 96%); opacity:1.0;                         line-height:1.75\"><font color=\"black\"> 总体                        </font></mark></td><tr><tr><td><text style=\"padding-right:2em\"><b>0</b></text></td><td><text style=\"padding-right:2em\"><b>0 (0.92)</b></text></td><td><text style=\"padding-right:2em\"><b>0</b></text></td><td><mark style=\"background-color: hsl(0, 75%, 83%); opacity:1.0;                         line-height:1.75\"><font color=\"black\"> 怀着                        </font></mark><mark style=\"background-color: hsl(0, 75%, 98%); opacity:1.0;                         line-height:1.75\"><font color=\"black\"> 十分                        </font></mark><mark style=\"background-color: hsl(0, 75%, 100%); opacity:1.0;                         line-height:1.75\"><font color=\"black\"> 激动                        </font></mark><mark style=\"background-color: hsl(0, 75%, 95%); opacity:1.0;                         line-height:1.75\"><font color=\"black\"> 的                        </font></mark><mark style=\"background-color: hsl(0, 75%, 80%); opacity:1.0;                         line-height:1.75\"><font color=\"black\"> 心情                        </font></mark><mark style=\"background-color: hsl(120, 75%, 92%); opacity:1.0;                         line-height:1.75\"><font color=\"black\"> 放映                        </font></mark><mark style=\"background-color: hsl(0, 75%, 92%); opacity:1.0;                         line-height:1.75\"><font color=\"black\"> ，                        </font></mark><mark style=\"background-color: hsl(120, 75%, 94%); opacity:1.0;                         line-height:1.75\"><font color=\"black\"> 可是                        </font></mark><mark style=\"background-color: hsl(120, 75%, 94%); opacity:1.0;                         line-height:1.75\"><font color=\"black\"> 看着                        </font></mark><mark style=\"background-color: hsl(0, 75%, 91%); opacity:1.0;                         line-height:1.75\"><font color=\"black\"> 看着                        </font></mark><mark style=\"background-color: hsl(120, 75%, 93%); opacity:1.0;                         line-height:1.75\"><font color=\"black\"> 发现                        </font></mark><mark style=\"background-color: hsl(120, 75%, 89%); opacity:1.0;                         line-height:1.75\"><font color=\"black\"> ，                        </font></mark><mark style=\"background-color: hsl(0, 75%, 83%); opacity:1.0;                         line-height:1.75\"><font color=\"black\"> 在                        </font></mark><mark style=\"background-color: hsl(0, 75%, 97%); opacity:1.0;                         line-height:1.75\"><font color=\"black\"> 放映                        </font></mark><mark style=\"background-color: hsl(120, 75%, 90%); opacity:1.0;                         line-height:1.75\"><font color=\"black\"> 完毕                        </font></mark><mark style=\"background-color: hsl(120, 75%, 94%); opacity:1.0;                         line-height:1.75\"><font color=\"black\"> 后                        </font></mark><mark style=\"background-color: hsl(0, 75%, 96%); opacity:1.0;                         line-height:1.75\"><font color=\"black\"> ，                        </font></mark><mark style=\"background-color: hsl(0, 75%, 99%); opacity:1.0;                         line-height:1.75\"><font color=\"black\"> 出现                        </font></mark><mark style=\"background-color: hsl(0, 75%, 99%); opacity:1.0;                         line-height:1.75\"><font color=\"black\"> 一集                        </font></mark><mark style=\"background-color: hsl(120, 75%, 100%); opacity:1.0;                         line-height:1.75\"><font color=\"black\"> 米老鼠                        </font></mark></td><tr><tr><td><text style=\"padding-right:2em\"><b>1</b></text></td><td><text style=\"padding-right:2em\"><b>1 (1.00)</b></text></td><td><text style=\"padding-right:2em\"><b>1</b></text></td><td><mark style=\"background-color: hsl(120, 75%, 93%); opacity:1.0;                         line-height:1.75\"><font color=\"black\"> 作为                        </font></mark><mark style=\"background-color: hsl(120, 75%, 99%); opacity:1.0;                         line-height:1.75\"><font color=\"black\"> 老                        </font></mark><mark style=\"background-color: hsl(120, 75%, 96%); opacity:1.0;                         line-height:1.75\"><font color=\"black\"> 的                        </font></mark><mark style=\"background-color: hsl(0, 75%, 94%); opacity:1.0;                         line-height:1.75\"><font color=\"black\"> 四星                        </font></mark><mark style=\"background-color: hsl(120, 75%, 95%); opacity:1.0;                         line-height:1.75\"><font color=\"black\"> 酒店                        </font></mark><mark style=\"background-color: hsl(0, 75%, 100%); opacity:1.0;                         line-height:1.75\"><font color=\"black\"> ，                        </font></mark><mark style=\"background-color: hsl(120, 75%, 96%); opacity:1.0;                         line-height:1.75\"><font color=\"black\"> 房间                        </font></mark><mark style=\"background-color: hsl(0, 75%, 100%); opacity:1.0;                         line-height:1.75\"><font color=\"black\"> 依然                        </font></mark><mark style=\"background-color: hsl(120, 75%, 73%); opacity:1.0;                         line-height:1.75\"><font color=\"black\"> 很                        </font></mark><mark style=\"background-color: hsl(120, 75%, 96%); opacity:1.0;                         line-height:1.75\"><font color=\"black\"> 整洁                        </font></mark><mark style=\"background-color: hsl(120, 75%, 84%); opacity:1.0;                         line-height:1.75\"><font color=\"black\"> ，                        </font></mark><mark style=\"background-color: hsl(120, 75%, 73%); opacity:1.0;                         line-height:1.75\"><font color=\"black\"> 相当                        </font></mark><mark style=\"background-color: hsl(0, 75%, 99%); opacity:1.0;                         line-height:1.75\"><font color=\"black\"> 不错                        </font></mark><mark style=\"background-color: hsl(120, 75%, 95%); opacity:1.0;                         line-height:1.75\"><font color=\"black\"> 。                        </font></mark><mark style=\"background-color: hsl(0, 75%, 89%); opacity:1.0;                         line-height:1.75\"><font color=\"black\"> 机场                        </font></mark><mark style=\"background-color: hsl(120, 75%, 92%); opacity:1.0;                         line-height:1.75\"><font color=\"black\"> 接机                        </font></mark><mark style=\"background-color: hsl(0, 75%, 100%); opacity:1.0;                         line-height:1.75\"><font color=\"black\"> 服务                        </font></mark><mark style=\"background-color: hsl(120, 75%, 95%); opacity:1.0;                         line-height:1.75\"><font color=\"black\"> 很                        </font></mark><mark style=\"background-color: hsl(120, 75%, 96%); opacity:1.0;                         line-height:1.75\"><font color=\"black\"> 好                        </font></mark><mark style=\"background-color: hsl(120, 75%, 96%); opacity:1.0;                         line-height:1.75\"><font color=\"black\"> ，                        </font></mark><mark style=\"background-color: hsl(120, 75%, 94%); opacity:1.0;                         line-height:1.75\"><font color=\"black\"> 可以                        </font></mark><mark style=\"background-color: hsl(120, 75%, 95%); opacity:1.0;                         line-height:1.75\"><font color=\"black\"> 在                        </font></mark><mark style=\"background-color: hsl(0, 75%, 98%); opacity:1.0;                         line-height:1.75\"><font color=\"black\"> 车上                        </font></mark><mark style=\"background-color: hsl(0, 75%, 97%); opacity:1.0;                         line-height:1.75\"><font color=\"black\"> 办理                        </font></mark><mark style=\"background-color: hsl(0, 75%, 99%); opacity:1.0;                         line-height:1.75\"><font color=\"black\"> 入住                        </font></mark><mark style=\"background-color: hsl(120, 75%, 95%); opacity:1.0;                         line-height:1.75\"><font color=\"black\"> 手续                        </font></mark><mark style=\"background-color: hsl(120, 75%, 100%); opacity:1.0;                         line-height:1.75\"><font color=\"black\"> ，                        </font></mark></td><tr></table>"
      ],
      "text/plain": [
       "<IPython.core.display.HTML object>"
      ]
     },
     "metadata": {},
     "output_type": "display_data"
    }
   ],
   "source": [
    "true_labels = [0, 0, 1]\n",
    "recs = []\n",
    "\n",
    "lime = it.LIMENLPInterpreter(model_, device='gpu:0')\n",
    "for i, review in enumerate(data):\n",
    "    review = review['text']\n",
    "    pred_class, pred_prob, lime_weights = lime.interpret(\n",
    "        review,\n",
    "        preprocess_fn,\n",
    "        num_samples=1000,\n",
    "        batch_size=10,\n",
    "        unk_id=vocab['[UNK]'],\n",
    "        pad_id=0,\n",
    "        return_pred=True)\n",
    "\n",
    "    # subwords\n",
    "    subwords = \" \".join(jieba.cut(review)).split(' ')\n",
    "    interp_class = list(lime_weights.keys())[0]\n",
    "    weights = lime_weights[interp_class][1 : -1]\n",
    "    subword_importances = [t[1] for t in lime_weights[interp_class][1 : -1]]\n",
    "    \n",
    "    words, word_importances = subwords, subword_importances\n",
    "    word_importances = np.array(word_importances) / np.linalg.norm(\n",
    "        word_importances)\n",
    "    \n",
    "    true_label = true_labels[i]\n",
    "    \n",
    "    if interp_class == 0:\n",
    "        word_importances = -word_importances\n",
    "        \n",
    "    rec = VisualizationTextRecord(\n",
    "        words, \n",
    "        word_importances, \n",
    "        true_label,                   \n",
    "        pred_class[0], \n",
    "        pred_prob[0],\n",
    "        interp_class\n",
    "    )\n",
    "    \n",
    "    recs.append(rec)\n",
    "\n",
    "visualize_text(recs)\n",
    "# The visualization is not available at github"
   ]
  },
  {
   "cell_type": "markdown",
   "id": "8ea942b3",
   "metadata": {},
   "source": [
    "## GradShapNLPInterpreter"
   ]
  },
  {
   "cell_type": "code",
   "execution_count": 19,
   "id": "7ad113f3",
   "metadata": {},
   "outputs": [
    {
     "data": {
      "text/html": [
       "<table width: 100%><tr><th>True Label</th><th>Predicted Label (Prob)</th><th>Target Label</th><th>Word Importance</th><tr><td><text style=\"padding-right:2em\"><b>0</b></text></td><td><text style=\"padding-right:2em\"><b>0 (0.82)</b></text></td><td><text style=\"padding-right:2em\"><b>0</b></text></td><td><mark style=\"background-color: hsl(0, 75%, 88%); opacity:1.0;                         line-height:1.75\"><font color=\"black\"> 这个                        </font></mark><mark style=\"background-color: hsl(0, 75%, 99%); opacity:1.0;                         line-height:1.75\"><font color=\"black\"> 宾馆                        </font></mark><mark style=\"background-color: hsl(120, 75%, 97%); opacity:1.0;                         line-height:1.75\"><font color=\"black\"> 比较                        </font></mark><mark style=\"background-color: hsl(0, 75%, 82%); opacity:1.0;                         line-height:1.75\"><font color=\"black\"> 陈旧                        </font></mark><mark style=\"background-color: hsl(120, 75%, 98%); opacity:1.0;                         line-height:1.75\"><font color=\"black\"> 了                        </font></mark><mark style=\"background-color: hsl(120, 75%, 94%); opacity:1.0;                         line-height:1.75\"><font color=\"black\"> ，                        </font></mark><mark style=\"background-color: hsl(120, 75%, 92%); opacity:1.0;                         line-height:1.75\"><font color=\"black\"> 特价                        </font></mark><mark style=\"background-color: hsl(120, 75%, 99%); opacity:1.0;                         line-height:1.75\"><font color=\"black\"> 的                        </font></mark><mark style=\"background-color: hsl(0, 75%, 100%); opacity:1.0;                         line-height:1.75\"><font color=\"black\"> 房间                        </font></mark><mark style=\"background-color: hsl(120, 75%, 89%); opacity:1.0;                         line-height:1.75\"><font color=\"black\"> 也                        </font></mark><mark style=\"background-color: hsl(120, 75%, 100%); opacity:1.0;                         line-height:1.75\"><font color=\"black\"> 很                        </font></mark><mark style=\"background-color: hsl(0, 75%, 84%); opacity:1.0;                         line-height:1.75\"><font color=\"black\"> 一般                        </font></mark><mark style=\"background-color: hsl(120, 75%, 100%); opacity:1.0;                         line-height:1.75\"><font color=\"black\"> 。                        </font></mark><mark style=\"background-color: hsl(120, 75%, 75%); opacity:1.0;                         line-height:1.75\"><font color=\"black\"> 总体                        </font></mark><mark style=\"background-color: hsl(120, 75%, 95%); opacity:1.0;                         line-height:1.75\"><font color=\"black\"> 来说                        </font></mark><mark style=\"background-color: hsl(0, 75%, 86%); opacity:1.0;                         line-height:1.75\"><font color=\"black\"> 一般                        </font></mark></td><tr><tr><td><text style=\"padding-right:2em\"><b>0</b></text></td><td><text style=\"padding-right:2em\"><b>0 (0.92)</b></text></td><td><text style=\"padding-right:2em\"><b>0</b></text></td><td><mark style=\"background-color: hsl(0, 75%, 85%); opacity:1.0;                         line-height:1.75\"><font color=\"black\"> 怀着                        </font></mark><mark style=\"background-color: hsl(0, 75%, 86%); opacity:1.0;                         line-height:1.75\"><font color=\"black\"> 十分                        </font></mark><mark style=\"background-color: hsl(0, 75%, 100%); opacity:1.0;                         line-height:1.75\"><font color=\"black\"> 激动                        </font></mark><mark style=\"background-color: hsl(120, 75%, 98%); opacity:1.0;                         line-height:1.75\"><font color=\"black\"> 的                        </font></mark><mark style=\"background-color: hsl(0, 75%, 97%); opacity:1.0;                         line-height:1.75\"><font color=\"black\"> 心情                        </font></mark><mark style=\"background-color: hsl(0, 75%, 83%); opacity:1.0;                         line-height:1.75\"><font color=\"black\"> 放映                        </font></mark><mark style=\"background-color: hsl(120, 75%, 91%); opacity:1.0;                         line-height:1.75\"><font color=\"black\"> ，                        </font></mark><mark style=\"background-color: hsl(0, 75%, 94%); opacity:1.0;                         line-height:1.75\"><font color=\"black\"> 可是                        </font></mark><mark style=\"background-color: hsl(120, 75%, 92%); opacity:1.0;                         line-height:1.75\"><font color=\"black\"> 看着                        </font></mark><mark style=\"background-color: hsl(120, 75%, 93%); opacity:1.0;                         line-height:1.75\"><font color=\"black\"> 看着                        </font></mark><mark style=\"background-color: hsl(0, 75%, 93%); opacity:1.0;                         line-height:1.75\"><font color=\"black\"> 发现                        </font></mark><mark style=\"background-color: hsl(120, 75%, 91%); opacity:1.0;                         line-height:1.75\"><font color=\"black\"> ，                        </font></mark><mark style=\"background-color: hsl(120, 75%, 87%); opacity:1.0;                         line-height:1.75\"><font color=\"black\"> 在                        </font></mark><mark style=\"background-color: hsl(0, 75%, 85%); opacity:1.0;                         line-height:1.75\"><font color=\"black\"> 放映                        </font></mark><mark style=\"background-color: hsl(0, 75%, 98%); opacity:1.0;                         line-height:1.75\"><font color=\"black\"> 完毕                        </font></mark><mark style=\"background-color: hsl(120, 75%, 88%); opacity:1.0;                         line-height:1.75\"><font color=\"black\"> 后                        </font></mark><mark style=\"background-color: hsl(120, 75%, 92%); opacity:1.0;                         line-height:1.75\"><font color=\"black\"> ，                        </font></mark><mark style=\"background-color: hsl(0, 75%, 98%); opacity:1.0;                         line-height:1.75\"><font color=\"black\"> 出现                        </font></mark><mark style=\"background-color: hsl(0, 75%, 100%); opacity:1.0;                         line-height:1.75\"><font color=\"black\"> 一集                        </font></mark><mark style=\"background-color: hsl(0, 75%, 100%); opacity:1.0;                         line-height:1.75\"><font color=\"black\"> 米老鼠                        </font></mark><mark style=\"background-color: hsl(120, 75%, 99%); opacity:1.0;                         line-height:1.75\"><font color=\"black\"> 的                        </font></mark><mark style=\"background-color: hsl(0, 75%, 95%); opacity:1.0;                         line-height:1.75\"><font color=\"black\"> 动画片                        </font></mark></td><tr><tr><td><text style=\"padding-right:2em\"><b>0</b></text></td><td><text style=\"padding-right:2em\"><b>1 (1.00)</b></text></td><td><text style=\"padding-right:2em\"><b>1</b></text></td><td><mark style=\"background-color: hsl(0, 75%, 100%); opacity:1.0;                         line-height:1.75\"><font color=\"black\"> 作为                        </font></mark><mark style=\"background-color: hsl(120, 75%, 91%); opacity:1.0;                         line-height:1.75\"><font color=\"black\"> 老                        </font></mark><mark style=\"background-color: hsl(120, 75%, 99%); opacity:1.0;                         line-height:1.75\"><font color=\"black\"> 的                        </font></mark><mark style=\"background-color: hsl(120, 75%, 94%); opacity:1.0;                         line-height:1.75\"><font color=\"black\"> 四星                        </font></mark><mark style=\"background-color: hsl(0, 75%, 95%); opacity:1.0;                         line-height:1.75\"><font color=\"black\"> 酒店                        </font></mark><mark style=\"background-color: hsl(120, 75%, 94%); opacity:1.0;                         line-height:1.75\"><font color=\"black\"> ，                        </font></mark><mark style=\"background-color: hsl(0, 75%, 100%); opacity:1.0;                         line-height:1.75\"><font color=\"black\"> 房间                        </font></mark><mark style=\"background-color: hsl(120, 75%, 94%); opacity:1.0;                         line-height:1.75\"><font color=\"black\"> 依然                        </font></mark><mark style=\"background-color: hsl(120, 75%, 100%); opacity:1.0;                         line-height:1.75\"><font color=\"black\"> 很                        </font></mark><mark style=\"background-color: hsl(120, 75%, 74%); opacity:1.0;                         line-height:1.75\"><font color=\"black\"> 整洁                        </font></mark><mark style=\"background-color: hsl(120, 75%, 94%); opacity:1.0;                         line-height:1.75\"><font color=\"black\"> ，                        </font></mark><mark style=\"background-color: hsl(120, 75%, 84%); opacity:1.0;                         line-height:1.75\"><font color=\"black\"> 相当                        </font></mark><mark style=\"background-color: hsl(120, 75%, 73%); opacity:1.0;                         line-height:1.75\"><font color=\"black\"> 不错                        </font></mark><mark style=\"background-color: hsl(120, 75%, 100%); opacity:1.0;                         line-height:1.75\"><font color=\"black\"> 。                        </font></mark><mark style=\"background-color: hsl(120, 75%, 95%); opacity:1.0;                         line-height:1.75\"><font color=\"black\"> 机场                        </font></mark><mark style=\"background-color: hsl(0, 75%, 90%); opacity:1.0;                         line-height:1.75\"><font color=\"black\"> 接机                        </font></mark><mark style=\"background-color: hsl(120, 75%, 93%); opacity:1.0;                         line-height:1.75\"><font color=\"black\"> 服务                        </font></mark><mark style=\"background-color: hsl(120, 75%, 100%); opacity:1.0;                         line-height:1.75\"><font color=\"black\"> 很                        </font></mark><mark style=\"background-color: hsl(120, 75%, 95%); opacity:1.0;                         line-height:1.75\"><font color=\"black\"> 好                        </font></mark><mark style=\"background-color: hsl(120, 75%, 95%); opacity:1.0;                         line-height:1.75\"><font color=\"black\"> ，                        </font></mark><mark style=\"background-color: hsl(120, 75%, 95%); opacity:1.0;                         line-height:1.75\"><font color=\"black\"> 可以                        </font></mark><mark style=\"background-color: hsl(120, 75%, 93%); opacity:1.0;                         line-height:1.75\"><font color=\"black\"> 在                        </font></mark><mark style=\"background-color: hsl(120, 75%, 93%); opacity:1.0;                         line-height:1.75\"><font color=\"black\"> 车上                        </font></mark><mark style=\"background-color: hsl(0, 75%, 99%); opacity:1.0;                         line-height:1.75\"><font color=\"black\"> 办理                        </font></mark><mark style=\"background-color: hsl(0, 75%, 98%); opacity:1.0;                         line-height:1.75\"><font color=\"black\"> 入住                        </font></mark><mark style=\"background-color: hsl(0, 75%, 99%); opacity:1.0;                         line-height:1.75\"><font color=\"black\"> 手续                        </font></mark><mark style=\"background-color: hsl(120, 75%, 96%); opacity:1.0;                         line-height:1.75\"><font color=\"black\"> ，                        </font></mark><mark style=\"background-color: hsl(120, 75%, 100%); opacity:1.0;                         line-height:1.75\"><font color=\"black\"> 节省时间                        </font></mark><mark style=\"background-color: hsl(120, 75%, 100%); opacity:1.0;                         line-height:1.75\"><font color=\"black\"> 。                        </font></mark></td><tr></table>"
      ],
      "text/plain": [
       "<IPython.core.display.HTML object>"
      ]
     },
     "metadata": {},
     "output_type": "display_data"
    }
   ],
   "source": [
    "ig = it.GradShapNLPInterpreter(model_, device='gpu:0')\n",
    "\n",
    "true_labels = [0, 0, 1]\n",
    "recs = []\n",
    "\n",
    "for review in data:\n",
    "    text = review['text']\n",
    "\n",
    "    pred_labels, pred_probs, avg_gradients = ig.interpret(\n",
    "        preprocess_fn(text),\n",
    "        n_samples=50,\n",
    "        noise_amount=0.1,\n",
    "        embedding_name='embedder',\n",
    "        return_pred=True)\n",
    "    \n",
    "    for i in range(avg_gradients.shape[0]):\n",
    "        subwords = \" \".join(jieba.cut(text)).split(' ')\n",
    "        subword_importances = avg_gradients[i]\n",
    "        words, word_importances = aggregate_subwords_and_importances(subwords, subword_importances)\n",
    "        word_importances = np.array(word_importances) / np.linalg.norm(\n",
    "            word_importances)\n",
    "\n",
    "        pred_label = pred_labels[i]\n",
    "        pred_prob = pred_probs[i, pred_label]\n",
    "        true_label = true_labels[i]\n",
    "        interp_class = pred_label\n",
    "\n",
    "        if interp_class == 0:\n",
    "            word_importances = -word_importances\n",
    "        recs.append(\n",
    "            VisualizationTextRecord(words, word_importances, true_label,\n",
    "                                    pred_label, pred_prob, interp_class)\n",
    "        )\n",
    "\n",
    "visualize_text(recs)\n",
    "# The visualization is not available at github"
   ]
  },
  {
   "cell_type": "code",
   "execution_count": null,
   "id": "9b3a2819",
   "metadata": {},
   "outputs": [],
   "source": []
  }
 ],
 "metadata": {
  "interpreter": {
   "hash": "a77f6a7464ce9eaa05196aac170c6d9a8812f0d84e7e92f765cacaf98118350b"
  },
  "kernelspec": {
   "display_name": "pp2",
   "language": "python",
   "name": "pp2"
  },
  "language_info": {
   "codemirror_mode": {
    "name": "ipython",
    "version": 3
   },
   "file_extension": ".py",
   "mimetype": "text/x-python",
   "name": "python",
   "nbconvert_exporter": "python",
   "pygments_lexer": "ipython3",
   "version": "3.7.11"
  }
 },
 "nbformat": 4,
 "nbformat_minor": 5
}
