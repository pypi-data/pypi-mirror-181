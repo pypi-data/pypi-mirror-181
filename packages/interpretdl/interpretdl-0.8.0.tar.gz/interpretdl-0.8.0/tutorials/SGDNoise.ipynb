{
 "cells": [
  {
   "cell_type": "markdown",
   "metadata": {},
   "source": [
    "# Interpreting SVHN Training with SGDNoise"
   ]
  },
  {
   "cell_type": "markdown",
   "metadata": {},
   "source": [
    "The gradient noise of SGD is considered crucial to the generalization performaces of deep learning models. However, in SGDNoise, authors propose that \"noises in classes different from the SGD noise can also effectively regularize gradient descent.\" This notebook trains a VGG11 model using small SVHN dataset. Three different training methods are conducted: Stochastic Gradient Descenet (SGD), Gradient Descent (GD), and Bernoulli Gradient Descent (BGD). Results show that an algorithm (for example BGD) that performs noisy gradient descent can generalize as SGD. "
   ]
  },
  {
   "cell_type": "code",
   "execution_count": 1,
   "metadata": {},
   "outputs": [],
   "source": [
    "import paddle\n",
    "import paddle.fluid as fluid\n",
    "import tarfile, pickle, itertools\n",
    "import paddle.fluid.dygraph.nn as nn\n",
    "import random\n",
    "import gzip\n",
    "from struct import unpack\n",
    "import numpy as np\n",
    "import os"
   ]
  },
  {
   "cell_type": "markdown",
   "metadata": {},
   "source": [
    "If you haven't done so, please first download the cropped SVHN training [dataset](http://ufldl.stanford.edu/housenumbers/train_32x32.mat) and [testing](http://ufldl.stanford.edu/housenumbers/test_32x32.mat) dataset.\n",
    "\n",
    "SVHN is a real-world image dataset for Street View House Numbers. "
   ]
  },
  {
   "cell_type": "code",
   "execution_count": 2,
   "metadata": {},
   "outputs": [],
   "source": [
    "import scipy.io as sio\n",
    "import os\n",
    "\n",
    "def svhn(data_dir='./'):\n",
    "    print('loading SVHN dataset ......')\n",
    "    data = []\n",
    "    trainset = sio.loadmat(os.path.join(data_dir, 'train_32x32.mat'))\n",
    "    images = trainset['X'].transpose([3,2,0,1])\n",
    "    labels = trainset['y'].reshape(-1,1)\n",
    "    labels = labels - 1\n",
    "    data.append((images[0:70000], labels[0:70000]))\n",
    "    \n",
    "    testset = sio.loadmat(os.path.join(data_dir, 'test_32x32.mat'))\n",
    "    images = testset['X'].transpose([3,2,0,1])\n",
    "    labels = testset['y'].reshape(-1,1)\n",
    "    labels = labels - 1\n",
    "    data.append((images[0:25000], labels[0:25000]))\n",
    "    return tuple(data)"
   ]
  },
  {
   "cell_type": "markdown",
   "metadata": {},
   "source": [
    "Define a VGG11 architecture for Small SVHN dataset."
   ]
  },
  {
   "cell_type": "code",
   "execution_count": 3,
   "metadata": {},
   "outputs": [],
   "source": [
    "from paddle.fluid.layer_helper import LayerHelper\n",
    "from paddle.fluid.dygraph.nn import Conv2D, Pool2D, BatchNorm, Linear\n",
    "from paddle.fluid.dygraph.base import to_variable\n",
    "\n",
    "class vgg_block(fluid.dygraph.Layer):\n",
    "    def __init__(self, name_scope, num_convs, in_channels, out_channels):\n",
    "        super(vgg_block, self).__init__(name_scope)\n",
    "        self.conv_list = []\n",
    "        for i in range(num_convs):\n",
    "            conv_layer = self.add_sublayer('conv_' + str(i), Conv2D(num_channels=in_channels, \n",
    "                                        num_filters=out_channels, filter_size=3, padding=1, act='relu'))\n",
    "            self.conv_list.append(conv_layer)\n",
    "            in_channels = out_channels\n",
    "        self.pool = Pool2D(pool_stride=2, pool_size = 2, pool_type='max')\n",
    "    def forward(self, x):\n",
    "        for item in self.conv_list:\n",
    "            x = item(x)\n",
    "        return self.pool(x)\n",
    "    \n",
    "class VGG11(fluid.dygraph.Layer):\n",
    "    def __init__(self, conv_arch=((1, 64), \n",
    "                                (1, 128), (2, 256), (2, 512), (2, 512))):\n",
    "        super(VGG11, self).__init__()\n",
    "        self.vgg_blocks=[]\n",
    "        iter_id = 0\n",
    "        in_channels = [3, 64, 128, 256, 512, 512]\n",
    "        for (num_convs, num_channels) in conv_arch:\n",
    "            block = self.add_sublayer('block_' + str(iter_id), \n",
    "                    vgg_block(self.full_name(), num_convs, in_channels=in_channels[iter_id], \n",
    "                              out_channels=num_channels))\n",
    "            self.vgg_blocks.append(block)\n",
    "            iter_id += 1\n",
    "        self.fc1 = Linear(input_dim=512, output_dim=512,\n",
    "                      act='relu')\n",
    "        self.drop1_ratio = 0.5\n",
    "        self.fc2= Linear(input_dim=512, output_dim=512,\n",
    "                      act='relu')\n",
    "        self.drop2_ratio = 0.5\n",
    "        self.fc3 = Linear(input_dim=512, output_dim=10)\n",
    "    def forward(self, x, y=None):\n",
    "        for item in self.vgg_blocks:\n",
    "            x = item(x)\n",
    "        x = fluid.layers.reshape(x, [x.shape[0], -1])\n",
    "        x = fluid.layers.dropout(self.fc1(x), self.drop1_ratio)\n",
    "        x = fluid.layers.dropout(self.fc2(x), self.drop2_ratio)\n",
    "        x = self.fc3(x)\n",
    "        return x"
   ]
  },
  {
   "cell_type": "markdown",
   "metadata": {},
   "source": [
    "Define the dataloader, in which images are scaled to [0,1]."
   ]
  },
  {
   "cell_type": "code",
   "execution_count": 4,
   "metadata": {},
   "outputs": [],
   "source": [
    "def data_loader(data, batch_size=100, shuffle=False):\n",
    "    images = data[0].astype('float32') / 255.0\n",
    "    labels = data[1].astype('int64')\n",
    "    assert images.shape[0] == labels.shape[0], \\\n",
    "        'length of images({}) should be the same as labels({})'.format(images.shape[0], labels.shape[0])\n",
    "    data_ids = list(range(labels.shape[0]))\n",
    "\n",
    "    def generator():\n",
    "        if shuffle:\n",
    "            random.shuffle(data_ids)\n",
    "        batch_image, batch_label = [], []\n",
    "        for i in data_ids:\n",
    "            batch_image.append(images[i])\n",
    "            batch_label.append(labels[i])\n",
    "            if len(batch_label) == batch_size:\n",
    "                yield np.array(batch_image), np.array(batch_label)\n",
    "                batch_image, batch_label = [], []\n",
    "        if len(batch_label) > 0:\n",
    "            yield np.array(batch_image), np.array(batch_label)\n",
    "\n",
    "    return generator"
   ]
  },
  {
   "cell_type": "markdown",
   "metadata": {},
   "source": [
    "To reduce the training time, 25000 images from the original test set are used as the training set, and 70000 images from the original training set are used as the test set."
   ]
  },
  {
   "cell_type": "code",
   "execution_count": 5,
   "metadata": {},
   "outputs": [
    {
     "name": "stdout",
     "output_type": "stream",
     "text": [
      "loading SVHN dataset ......\n"
     ]
    }
   ],
   "source": [
    "test_dataset, train_dataset = svhn()\n",
    "train_loader = data_loader(train_dataset, batch_size=100, shuffle=True)\n",
    "test_loader = data_loader(test_dataset, batch_size=100, shuffle=False)"
   ]
  },
  {
   "cell_type": "markdown",
   "metadata": {},
   "source": [
    "Here we self-defined a loss function that apply masks to cross entropy loss."
   ]
  },
  {
   "cell_type": "code",
   "execution_count": 6,
   "metadata": {},
   "outputs": [],
   "source": [
    "def CEwithMask(input, target, mask=None):\n",
    "    \"\"\"mask should have identity mean\"\"\"\n",
    "    input = fluid.layers.log_softmax(input, axis=-1)\n",
    "    onehot_target = fluid.layers.one_hot(target, 10)\n",
    "    loss = fluid.layers.elementwise_mul(input, onehot_target)\n",
    "    loss = - fluid.layers.reduce_sum(loss, dim=1, keep_dim=True)#- input[]\n",
    "    if mask is not None:\n",
    "        loss = loss * mask\n",
    "    loss = fluid.layers.mean(loss)\n",
    "    return loss"
   ]
  },
  {
   "cell_type": "markdown",
   "metadata": {},
   "source": [
    "Define the trainer and tester."
   ]
  },
  {
   "cell_type": "code",
   "execution_count": 24,
   "metadata": {},
   "outputs": [],
   "source": [
    "def tester(model, data_loader, place=fluid.CPUPlace()):\n",
    "    model.eval()\n",
    "    correct, total = 0, 0\n",
    "    with fluid.dygraph.guard(place), fluid.dygraph.no_grad():\n",
    "        for batch_id, (batch_image, batch_label) in enumerate(data_loader(), 1):\n",
    "            batch_image = fluid.dygraph.to_variable(batch_image)\n",
    "            batch_label = fluid.dygraph.to_variable(batch_label.reshape(-1,))\n",
    "            predict = fluid.layers.argmax(model(batch_image), axis=1)\n",
    "            correct += fluid.layers.reduce_sum(fluid.layers.equal(predict, batch_label).astype('int32')).numpy()[0]\n",
    "            total += batch_label.shape[0]\n",
    "    return correct / total\n",
    "\n",
    "\n",
    "def trainer(train_type, iterations=10000, lr=0.05, batch_size=100, no_cuda=False, test_iter=10):\n",
    "    if no_cuda:\n",
    "        place = fluid.CPUPlace()\n",
    "    else:\n",
    "        place = fluid.CUDAPlace(0)\n",
    "    \n",
    "    test_accuracy = list()\n",
    "    iter = 0\n",
    "    with fluid.dygraph.guard(place):\n",
    "        model = VGG11()\n",
    "        model.train()\n",
    "\n",
    "        n_batches = np.ceil(train_dataset[0].shape[0] / batch_size)\n",
    "        optimizer = fluid.optimizer.SGDOptimizer(learning_rate=lr, parameter_list=model.parameters())\n",
    "        \n",
    "        if train_type == 'sgd':\n",
    "            epochs = int(iterations // n_batches)\n",
    "        elif train_type == 'gd' or train_type == 'bgd':\n",
    "            epochs = iterations\n",
    "        \n",
    "        prob = 1 / n_batches\n",
    "        best_acc = 0\n",
    "        for epoch_id in range(1, epochs + 1):\n",
    "            l_total = None\n",
    "            total_loss = 0\n",
    "            if train_type == 'gd' or train_type == 'bgd':\n",
    "                model.clear_gradients()\n",
    "            for batch_id, (batch_image, batch_label) in enumerate(train_loader(), 1):\n",
    "                batch_image = fluid.dygraph.to_variable(batch_image)\n",
    "                batch_label = fluid.dygraph.to_variable(batch_label)\n",
    "                \n",
    "                predict = model(batch_image, batch_label)\n",
    "                \n",
    "                if train_type == 'sgd':\n",
    "                    avg_loss = CEwithMask(predict, batch_label, mask=None)\n",
    "                    model.clear_gradients()\n",
    "                    avg_loss.backward()\n",
    "                    \n",
    "                    if iter % test_iter == 0:\n",
    "                        accuracy = tester(model, test_loader, place)\n",
    "                        print(accuracy)\n",
    "                        test_accuracy.append((accuracy, iter))\n",
    "                        model.train()\n",
    "                    iter += 1\n",
    "                    \n",
    "                elif train_type == 'gd':\n",
    "                    avg_loss = CEwithMask(predict, batch_label, mask=None) \n",
    "                    if batch_id % 100 == 0:\n",
    "                        print('loss', avg_loss.numpy()[0])\n",
    "                    avg_loss.backward()\n",
    "                    l = optimizer.backward(avg_loss, parameter_list = None)\n",
    "\n",
    "                    if l_total is None:\n",
    "                        l_total = [(tup[0], tup[1]/n_batches) for tup in l]\n",
    "                    else:\n",
    "                        for i, param in enumerate(l):\n",
    "                            l_total[i] = (l_total[i][0], l_total[i][1] + l[i][1]/n_batches)\n",
    "                            \n",
    "                elif train_type == 'bgd':\n",
    "                    mask = fluid.layers.uniform_random(batch_label.shape, dtype=\"float32\")\n",
    "                    mask = fluid.layers.cast(mask > 1-prob, dtype='float32')\n",
    "                    mask *= n_batches\n",
    "                    \n",
    "                    avg_loss = CEwithMask(predict, batch_label, mask=mask)\n",
    "                    print('loss', avg_loss.numpy()[0])\n",
    "                    \n",
    "                    avg_loss.backward()\n",
    "                    l = optimizer.backward(avg_loss, parameter_list = None)\n",
    "                    \n",
    "                    if l_total is None:\n",
    "                        l_total = [(tup[0], tup[1]/n_batches) for tup in l]\n",
    "                    else:\n",
    "                        for i, param in enumerate(l):\n",
    "                            l_total[i] = (l_total[i][0], l_total[i][1] + l[i][1]/n_batches)\n",
    "                    \n",
    "                if train_type == 'sgd':\n",
    "                    optimizer.minimize(avg_loss)\n",
    "                    \n",
    "            if train_type == 'gd' or train_type == 'bgd':\n",
    "                optimizer.apply_gradients(l_total)\n",
    "                if iter % test_iter == 0:\n",
    "                    accuracy = tester(model, test_loader, place)\n",
    "                    print(accuracy)\n",
    "                    test_accuracy.append((accuracy, iter))\n",
    "                    model.train()\n",
    "                iter += 1\n",
    "\n",
    "    test_accuracy = np.array(test_accuracy)\n",
    "    return test_accuracy"
   ]
  },
  {
   "cell_type": "code",
   "execution_count": null,
   "metadata": {},
   "outputs": [],
   "source": []
  },
  {
   "cell_type": "code",
   "execution_count": 16,
   "metadata": {},
   "outputs": [],
   "source": [
    "sgd_accuracies = trainer(train_type='sgd', iterations=15000, lr=0.05, batch_size=100, no_cuda=False, test_iter=10)"
   ]
  },
  {
   "cell_type": "code",
   "execution_count": 26,
   "metadata": {},
   "outputs": [],
   "source": [
    "gd_accuracies = trainer(train_type='gd', iterations=15000, lr=0.05, batch_size=100, no_cuda=False, test_iter=1)"
   ]
  },
  {
   "cell_type": "code",
   "execution_count": 3,
   "metadata": {},
   "outputs": [],
   "source": [
    "bgd_accuracies = trainer(train_type='bgd', iterations=15000, lr=0.05, batch_size=100, no_cuda=False, test_iter=10)"
   ]
  },
  {
   "cell_type": "markdown",
   "metadata": {},
   "source": [
    "In the cells below, we print the best test accuracies and plot testing accuracies for three training procedures. We observe that the best accuracies for SGD and BGD are close, and both are better than GD. "
   ]
  },
  {
   "cell_type": "code",
   "execution_count": 24,
   "metadata": {},
   "outputs": [
    {
     "name": "stdout",
     "output_type": "stream",
     "text": [
      "Best SGD Testing Accuracy: 0.8726285714285714\n",
      "Best GD Testing Accuracy: 0.8474428571428572\n",
      "Best BGD Testing Accuracy: 0.8690857142857142\n"
     ]
    }
   ],
   "source": [
    "print('Best SGD Testing Accuracy:', max([tup[0] for tup in sgd_accuracies]))\n",
    "print('Best GD Testing Accuracy:', max([tup[0] for tup in gd_accuracies]))\n",
    "print('Best BGD Testing Accuracy:', max([tup[0] for tup in bgd_accuracies]))"
   ]
  },
  {
   "cell_type": "code",
   "execution_count": 20,
   "metadata": {},
   "outputs": [
    {
     "data": {
      "text/plain": [
       "<matplotlib.legend.Legend at 0x7fbcb626f350>"
      ]
     },
     "execution_count": 20,
     "metadata": {},
     "output_type": "execute_result"
    },
    {
     "data": {
      "image/png": "[encoded data removed]",
      "text/plain": [
       "<Figure size 432x288 with 1 Axes>"
      ]
     },
     "metadata": {
      "needs_background": "light"
     },
     "output_type": "display_data"
    }
   ],
   "source": [
    "import matplotlib.pyplot as plt\n",
    "plt.plot(np.arange(0, 15000, 10), [tup[0] for tup in bgd_accuracies], linewidth=1, label = 'bgd')\n",
    "plt.plot(np.arange(0, 15000, 10), [tup[0] for tup in gd_accuracies], linewidth=1,label = 'gd')\n",
    "plt.plot(np.arange(0, 15000, 10), [tup[0] for tup in sgd_accuracies],  linewidth=1,label = 'sgd')\n",
    "plt.legend()"
   ]
  },
  {
   "cell_type": "code",
   "execution_count": 16,
   "metadata": {},
   "outputs": [
    {
     "name": "stdout",
     "output_type": "stream",
     "text": [
      "0.8690857142857142\n",
      "0.8474428571428572\n",
      "0.8726285714285714\n"
     ]
    }
   ],
   "source": [
    "import numpy as np\n",
    "bgd = np.load('bgd_svhn_sgd.npy')[:15000]\n",
    "gd = np.load('gd_svhn_sgd.npy')[:15000]\n",
    "sgd = np.load('sgd_svhn_sgd.npy')[:15000]\n",
    "print(max([tup[0] for tup in bgd]))\n",
    "print(max([tup[0] for tup in gd]))\n",
    "print(max([tup[0] for tup in sgd]))"
   ]
  },
  {
   "cell_type": "code",
   "execution_count": 19,
   "metadata": {},
   "outputs": [
    {
     "data": {
      "text/plain": [
       "<matplotlib.legend.Legend at 0x7fbcb72bdc50>"
      ]
     },
     "execution_count": 19,
     "metadata": {},
     "output_type": "execute_result"
    },
    {
     "data": {
      "image/png": "[encoded data removed]",
      "text/plain": [
       "<Figure size 432x288 with 1 Axes>"
      ]
     },
     "metadata": {
      "needs_background": "light"
     },
     "output_type": "display_data"
    }
   ],
   "source": [
    "import matplotlib.pyplot as plt\n",
    "plt.plot(np.arange(0, 15000, 10), [tup[0] for i, tup in enumerate(bgd) if i % 10 == 0], linewidth=1, label = 'bgd')\n",
    "plt.plot(np.arange(0, 15000, 10), [tup[0] for i, tup in enumerate(gd) if i % 10 == 0], linewidth=1,label = 'gd')\n",
    "plt.plot(np.arange(0, 15000, 10), [tup[0] for i, tup in enumerate(sgd) if i % 10 == 0],  linewidth=1,label = 'sgd')\n",
    "plt.legend()"
   ]
  },
  {
   "cell_type": "code",
   "execution_count": null,
   "metadata": {},
   "outputs": [],
   "source": []
  }
 ],
 "metadata": {
  "kernelspec": {
   "display_name": "Python 3",
   "language": "python",
   "name": "python3"
  },
  "language_info": {
   "codemirror_mode": {
    "name": "ipython",
    "version": 3
   },
   "file_extension": ".py",
   "mimetype": "text/x-python",
   "name": "python",
   "nbconvert_exporter": "python",
   "pygments_lexer": "ipython3",
   "version": "3.7.7"
  }
 },
 "nbformat": 4,
 "nbformat_minor": 4
}
