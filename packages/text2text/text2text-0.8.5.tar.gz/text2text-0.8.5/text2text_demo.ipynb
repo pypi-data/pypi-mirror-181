{
  "cells": [
    {
      "cell_type": "markdown",
      "metadata": {
        "id": "zL8uiXTHIrHI"
      },
      "source": [
        "# [Text2Text](https://github.com/artitw/text2text): Crosslingual NLP/G toolkit\n",
        "\n",
        "## How Crosslingual Models Work (click to watch)\n",
        "[![Crosslingual Models](http://img.youtube.com/vi/caZLVcJqsqo/0.jpg)](https://youtu.be/caZLVcJqsqo \"Crosslingual Models\")"
      ]
    },
    {
      "cell_type": "code",
      "execution_count": null,
      "metadata": {
        "colab": {
          "base_uri": "https://localhost:8080/"
        },
        "id": "R5p-YiGOJRLV",
        "outputId": "b7cf0ec5-c678-4740-e80d-4ac533bff8d8"
      },
      "outputs": [
        {
          "output_type": "stream",
          "name": "stdout",
          "text": [
            "\u001b[K     |████████████████████████████████| 67 kB 3.6 MB/s \n",
            "\u001b[K     |████████████████████████████████| 4.7 MB 15.9 MB/s \n",
            "\u001b[K     |████████████████████████████████| 4.7 MB 56.5 MB/s \n",
            "\u001b[K     |████████████████████████████████| 1.3 MB 48.8 MB/s \n",
            "\u001b[K     |████████████████████████████████| 6.6 MB 46.9 MB/s \n",
            "\u001b[K     |████████████████████████████████| 120 kB 63.5 MB/s \n",
            "\u001b[?25h"
          ]
        }
      ],
      "source": [
        "pip install -q -U text2text"
      ]
    },
    {
      "cell_type": "code",
      "source": [
        "%%bash\n",
        "sudo apt-get -qq install libopenblas-dev\n",
        "sudo apt-get -qq install libomp-dev"
      ],
      "metadata": {
        "id": "EcMdSs8D90Po",
        "colab": {
          "base_uri": "https://localhost:8080/"
        },
        "outputId": "867d5c63-1783-477c-bfb2-b930250b829a"
      },
      "execution_count": null,
      "outputs": [
        {
          "output_type": "stream",
          "name": "stdout",
          "text": [
            "Selecting previously unselected package libomp5:amd64.\r\n",
            "(Reading database ... \r(Reading database ... 5%\r(Reading database ... 10%\r(Reading database ... 15%\r(Reading database ... 20%\r(Reading database ... 25%\r(Reading database ... 30%\r(Reading database ... 35%\r(Reading database ... 40%\r(Reading database ... 45%\r(Reading database ... 50%\r(Reading database ... 55%\r(Reading database ... 60%\r(Reading database ... 65%\r(Reading database ... 70%\r(Reading database ... 75%\r(Reading database ... 80%\r(Reading database ... 85%\r(Reading database ... 90%\r(Reading database ... 95%\r(Reading database ... 100%\r(Reading database ... 155685 files and directories currently installed.)\r\n",
            "Preparing to unpack .../libomp5_5.0.1-1_amd64.deb ...\r\n",
            "Unpacking libomp5:amd64 (5.0.1-1) ...\r\n",
            "Selecting previously unselected package libomp-dev.\r\n",
            "Preparing to unpack .../libomp-dev_5.0.1-1_amd64.deb ...\r\n",
            "Unpacking libomp-dev (5.0.1-1) ...\r\n",
            "Setting up libomp5:amd64 (5.0.1-1) ...\r\n",
            "Setting up libomp-dev (5.0.1-1) ...\r\n",
            "Processing triggers for libc-bin (2.27-3ubuntu1.5) ...\r\n"
          ]
        },
        {
          "output_type": "stream",
          "name": "stderr",
          "text": [
            "debconf: unable to initialize frontend: Dialog\n",
            "debconf: (No usable dialog-like program is installed, so the dialog based frontend cannot be used. at /usr/share/perl5/Debconf/FrontEnd/Dialog.pm line 76, <> line 2.)\n",
            "debconf: falling back to frontend: Readline\n",
            "debconf: unable to initialize frontend: Readline\n",
            "debconf: (This frontend requires a controlling tty.)\n",
            "debconf: falling back to frontend: Teletype\n",
            "dpkg-preconfigure: unable to re-open stdin: \n"
          ]
        }
      ]
    },
    {
      "cell_type": "code",
      "execution_count": null,
      "metadata": {
        "colab": {
          "base_uri": "https://localhost:8080/",
          "height": 211,
          "referenced_widgets": [
            "0ecc3c62faa643ed8bb0043c90a0c83d",
            "081ccb1a031748d9b303e230bbaf1351",
            "4c76ffe309834eb98f9db062755ad78b",
            "da008fc449f746829c4642ff91dfee2c",
            "33ada5c46138462e808a7d036e229b3c",
            "611093678a4c4b239315648b3fd5ef73",
            "d78f40398747464da092a21af308f305",
            "e0013a27f9da47b9abe6cfa88cd7f92e",
            "70095c8c343e4a4f9f4fe029c98c0db6",
            "fe73f33fd4664e5986be929281ca51c4",
            "cd46ffd7351d46e5ba4cc0ab624a42e8",
            "f3f0c05b87a04868aa2d2989021421cf",
            "49517ec03c9447bf9780b40c70100a6c",
            "04c68a624deb44e0b7ec7b86ff3b937d",
            "432856a25aff4a4e9cd3f20a64fb0e32",
            "902bc2aa7bc04b78afec8e81ffd3d99c",
            "0226b865f78c498880f3828a0928beb8",
            "5878310f192c42259d17f165d2c766a2",
            "93803b81d0414bdebceaa7b72a278d73",
            "8a2b1ecf68d642198dc4b669c2921f6f",
            "36bcdb8901aa4c67afe84f13b620db2e",
            "49292576c1ec448d8e1c0416c3c4bd93",
            "4592f6cd378b4a9eb62bb47c2f6c2477",
            "d1423f894f8e433fb9f8d4bb6d166235",
            "752d76c83df8436a98fed5b62c440318",
            "eddefba92ca24dd5810eebcb92056397",
            "68edcf68394f411488ad1ac5881aa1da",
            "048f7b7af1394faa946e436a2dcad146",
            "825412f94336431e99e1477c3a1626bb",
            "559e1dd1a7e04b54bfb73af17437e1b2",
            "c45244c608f0404d8c226e0f346a637f",
            "18dbb6cb1ef84d6c8ea1ae1cc114f4f6",
            "91ce4acf51f04658b131b95fdb544417",
            "a0d0738a5e4e45cfbd3793325b2a9762",
            "ac8fd06d4b1f4e43803048ffc932d89e",
            "f85428e7dc5c47a4bfcccf8c0ddd0ecf",
            "02dc5a6126ca46e3bef87f296d473d44",
            "197ce016e15d4fa185670efc80c8eb18",
            "82b4795074384d19967b27f23de9b2c4",
            "8408c8cc2d994de1a9baf140ceef7c64",
            "9efaddcaad3f4573ad09cfd7531759c4",
            "b56bb25986f746008d35e4c0bf09d2ff",
            "b28e652b346d429b9dad24e6f0dadf89",
            "d1cdf3487af7495383df6df36ed9d1e2",
            "d2d0c1c42ad049388e79a2a5699dbf00",
            "a13ed761a8df48289e0c98b750951fe8",
            "ff29c11d92a44a5a84c2870336d4071b",
            "c267cf58361a4b31a99131ec5ed07ef3",
            "8eb144084a194d5392391057557d0fa5",
            "e187d14ec038441a9ed82180bbe63653",
            "056e0b74f82542e8abd474f3a290a828",
            "526df2a41fba49e485a98679dd2a18f5",
            "fd110b6d2f5f49e9b71aa9c8c3a96b77",
            "f30599c7943f4f10aeda71577dc89f00",
            "19f41aaac4184151a483bf3c50dcfade"
          ]
        },
        "id": "jiUl1ls51cuW",
        "outputId": "068dc04b-e6f1-45bc-e420-f4466fd160ff"
      },
      "outputs": [
        {
          "output_type": "stream",
          "name": "stdout",
          "text": [
            "Better speed can be achieved with apex installed.\n"
          ]
        },
        {
          "output_type": "display_data",
          "data": {
            "text/plain": [
              "Downloading tokenizer_config.json:   0%|          | 0.00/272 [00:00<?, ?B/s]"
            ],
            "application/vnd.jupyter.widget-view+json": {
              "version_major": 2,
              "version_minor": 0,
              "model_id": "0ecc3c62faa643ed8bb0043c90a0c83d"
            }
          },
          "metadata": {}
        },
        {
          "output_type": "display_data",
          "data": {
            "text/plain": [
              "Downloading config.json:   0%|          | 0.00/908 [00:00<?, ?B/s]"
            ],
            "application/vnd.jupyter.widget-view+json": {
              "version_major": 2,
              "version_minor": 0,
              "model_id": "f3f0c05b87a04868aa2d2989021421cf"
            }
          },
          "metadata": {}
        },
        {
          "output_type": "display_data",
          "data": {
            "text/plain": [
              "Downloading vocab.json:   0%|          | 0.00/3.54M [00:00<?, ?B/s]"
            ],
            "application/vnd.jupyter.widget-view+json": {
              "version_major": 2,
              "version_minor": 0,
              "model_id": "4592f6cd378b4a9eb62bb47c2f6c2477"
            }
          },
          "metadata": {}
        },
        {
          "output_type": "display_data",
          "data": {
            "text/plain": [
              "Downloading sentencepiece.bpe.model:   0%|          | 0.00/2.31M [00:00<?, ?B/s]"
            ],
            "application/vnd.jupyter.widget-view+json": {
              "version_major": 2,
              "version_minor": 0,
              "model_id": "a0d0738a5e4e45cfbd3793325b2a9762"
            }
          },
          "metadata": {}
        },
        {
          "output_type": "display_data",
          "data": {
            "text/plain": [
              "Downloading special_tokens_map.json:   0%|          | 0.00/1.11k [00:00<?, ?B/s]"
            ],
            "application/vnd.jupyter.widget-view+json": {
              "version_major": 2,
              "version_minor": 0,
              "model_id": "d2d0c1c42ad049388e79a2a5699dbf00"
            }
          },
          "metadata": {}
        },
        {
          "output_type": "execute_result",
          "data": {
            "text/plain": [
              "[['▁Hello', ',', '▁World', '!']]"
            ]
          },
          "metadata": {},
          "execution_count": 3
        }
      ],
      "source": [
        "### Text Handler API quick start\n",
        "import text2text as t2t\n",
        "t2t.Transformer.PRETRAINED_TRANSLATOR = \"facebook/m2m100_418M\" #Remove this line for the larger model\n",
        "h = t2t.Handler([\"Hello, World!\"], src_lang=\"en\") #Initialize with some text\n",
        "h.tokenize() #[['▁Hello', ',', '▁World', '!']]"
      ]
    },
    {
      "cell_type": "code",
      "execution_count": null,
      "metadata": {
        "colab": {
          "base_uri": "https://localhost:8080/",
          "height": 83,
          "referenced_widgets": [
            "855de49d542841a79b3c37fab177abcd",
            "b8f0165de7b04ecbb381628c0ba61b78",
            "5d0fb74494364cc99a44e15a6e3bbb2a",
            "38780981a60d4e87a87eccceb765cc24",
            "64ed2290b2244c279ee94f8b307267a7",
            "de4a1b89a6eb4c4a96221c1fd23853d7",
            "96fbc30bc2b342d8a1d5d4840a87276f",
            "7c7d991970b240d3a8a5696e533bcaab",
            "7160c85bd5eb49e59e910c5e5276f57f",
            "06bad1ba9ae24bd5bad4eda5adb5f0bc",
            "13d1ccd4eae24ad594fca0e447c6fbc9"
          ]
        },
        "id": "kcTKpC5wS7Xs",
        "outputId": "286792b6-9549-4e38-8cef-301c5da779a2"
      },
      "outputs": [
        {
          "data": {
            "application/vnd.jupyter.widget-view+json": {
              "model_id": "855de49d542841a79b3c37fab177abcd",
              "version_major": 2,
              "version_minor": 0
            },
            "text/plain": [
              "Downloading:   0%|          | 0.00/1.80G [00:00<?, ?B/s]"
            ]
          },
          "metadata": {},
          "output_type": "display_data"
        },
        {
          "data": {
            "text/plain": [
              "array([[0.0125036 , 0.00377429, 0.01060266, ..., 0.03131488, 0.04224026,\n",
              "        0.02921941]], dtype=float32)"
            ]
          },
          "execution_count": 3,
          "metadata": {},
          "output_type": "execute_result"
        }
      ],
      "source": [
        "h.vectorize() #array([[0.18745188, 0.05658336, 0.15895301, ..., 0.46946704, 0.6332584 , 0.43805206]], dtype=float32)"
      ]
    },
    {
      "cell_type": "code",
      "execution_count": null,
      "metadata": {
        "colab": {
          "base_uri": "https://localhost:8080/"
        },
        "id": "NtbMwkhTS9ID",
        "outputId": "c415e6f6-0cc2-4852-c3d3-8512d8d6bc0b"
      },
      "outputs": [
        {
          "data": {
            "text/plain": [
              "[{'!': 0.5, ',': 0.5, '▁Hello': 0.5, '▁World': 0.5}]"
            ]
          },
          "execution_count": 4,
          "metadata": {},
          "output_type": "execute_result"
        }
      ],
      "source": [
        "h.tfidf() #[{'!': 0.5, ',': 0.5, '▁Hello': 0.5, '▁World': 0.5}]"
      ]
    },
    {
      "cell_type": "code",
      "execution_count": null,
      "metadata": {
        "colab": {
          "base_uri": "https://localhost:8080/"
        },
        "id": "PZd0nkVVnsYU",
        "outputId": "3e285eda-be9f-423d-afa0-440159918145"
      },
      "outputs": [
        {
          "data": {
            "text/plain": [
              "[{'!': 0.3068528194400547,\n",
              "  ',': 0.3068528194400547,\n",
              "  '▁Hello': 0.3068528194400547,\n",
              "  '▁World': 0.3068528194400547}]"
            ]
          },
          "execution_count": 5,
          "metadata": {},
          "output_type": "execute_result"
        }
      ],
      "source": [
        "h.bm25() #[{'!': 0.5, ',': 0.5, '▁Hello': 0.5, '▁World': 0.5}]"
      ]
    },
    {
      "cell_type": "code",
      "source": [
        "i = h.index() #Index object for similarity retrieval"
      ],
      "metadata": {
        "id": "IN0Un-Cu61WZ"
      },
      "execution_count": null,
      "outputs": []
    },
    {
      "cell_type": "code",
      "execution_count": null,
      "metadata": {
        "colab": {
          "base_uri": "https://localhost:8080/"
        },
        "id": "E54pZP2lS-Nz",
        "outputId": "eba1d9be-7f69-4b48-ac5d-f6bf4f3e22aa"
      },
      "outputs": [
        {
          "data": {
            "text/plain": [
              "array([[0.09415865]])"
            ]
          },
          "execution_count": 6,
          "metadata": {},
          "output_type": "execute_result"
        }
      ],
      "source": [
        "h.search(queries=[\"Hello\"]).toarray() #array([[0.5]])"
      ]
    },
    {
      "cell_type": "code",
      "execution_count": null,
      "metadata": {
        "colab": {
          "base_uri": "https://localhost:8080/"
        },
        "id": "ceb_OD6-S_Lx",
        "outputId": "a697c36c-d1d6-4ef3-dc7e-4cbe8f2f43c3"
      },
      "outputs": [
        {
          "data": {
            "text/plain": [
              "['你好,世界!']"
            ]
          },
          "execution_count": 8,
          "metadata": {},
          "output_type": "execute_result"
        }
      ],
      "source": [
        "h.translate(tgt_lang=\"zh\") #['你好,世界!']"
      ]
    },
    {
      "cell_type": "code",
      "execution_count": null,
      "metadata": {
        "id": "jFWWM9jFTAat"
      },
      "outputs": [],
      "source": [
        "h.summarize() #[\"World ' s largest world\"]"
      ]
    },
    {
      "cell_type": "code",
      "execution_count": null,
      "metadata": {
        "colab": {
          "base_uri": "https://localhost:8080/"
        },
        "id": "T6bEcoNCTBt7",
        "outputId": "6544cb7f-ef43-4586-9e3e-91a345a6da89"
      },
      "outputs": [
        {
          "name": "stderr",
          "output_type": "stream",
          "text": [
            "100%|██████████| 1/1 [00:02<00:00,  2.09s/it]\n"
          ]
        },
        {
          "data": {
            "text/plain": [
              "[('What is the name of the person who is in charge of the world?', 'hello')]"
            ]
          },
          "execution_count": 10,
          "metadata": {},
          "output_type": "execute_result"
        }
      ],
      "source": [
        "h.question() #[('What is the name of the world you are in?', 'The world')]"
      ]
    },
    {
      "cell_type": "code",
      "execution_count": null,
      "metadata": {
        "colab": {
          "background_save": true
        },
        "id": "I9CDJUZ0TCVj",
        "outputId": "c71b5dee-76a0-487b-cdad-a4b848632fdc"
      },
      "outputs": [
        {
          "data": {
            "text/plain": [
              "['Hello the world!',\n",
              " 'My brother and sister!',\n",
              " 'Welcome to the world!',\n",
              " 'Hello, the world',\n",
              " '“No to the world”',\n",
              " 'It is clearly!',\n",
              " 'Welcome to the light!',\n",
              " 'Hello to the world!',\n",
              " 'Hello to the world!',\n",
              " 'Hello, it’s a good thing!',\n",
              " 'Congratulations to all!',\n",
              " 'Hello to the world!',\n",
              " 'Hello to the world!',\n",
              " 'Good Morning, the World',\n",
              " 'Welcome to the World!',\n",
              " 'Hello the world!',\n",
              " 'Hello the world!',\n",
              " 'Good morning to the world!',\n",
              " 'Hello, World!',\n",
              " 'Hello the world!',\n",
              " 'Fortunately the world!',\n",
              " 'Hello to the world!',\n",
              " 'We do it!',\n",
              " 'Welcome to the world!',\n",
              " 'Hello to the world!',\n",
              " 'Go to the world!',\n",
              " 'Member of the Board of Directors of the Board of Directors of the Board of Directors of the Board of Directors',\n",
              " 'The world.',\n",
              " 'Hello to the world!',\n",
              " 'and it is!',\n",
              " 'Hello, for the world!',\n",
              " 'Hello to the world!',\n",
              " 'Hello to the world!',\n",
              " 'Hello to the world!',\n",
              " 'Hello to the world!',\n",
              " 'Hello to the world!',\n",
              " 'Welcome to the world!',\n",
              " 'Congratulations to the world!',\n",
              " 'Hello to the World!',\n",
              " 'Around the world!',\n",
              " 'Well and well!',\n",
              " 'Hello to the world!',\n",
              " 'Hello to the world!',\n",
              " 'Congratulations to you!',\n",
              " 'Go to the world!',\n",
              " 'I am I am I am!',\n",
              " 'and the air!',\n",
              " 'and it is the one!',\n",
              " 'Hello the world!',\n",
              " 'Hello the world!',\n",
              " 'Hello, movie!',\n",
              " 'Moko!',\n",
              " 'Home » World!',\n",
              " 'Hello and the world!',\n",
              " 'Hello the world!',\n",
              " 'You are here in the world!',\n",
              " 'Hello to the world!',\n",
              " 'Hello the world!',\n",
              " 'The latest!',\n",
              " 'Hello to the world!',\n",
              " 'Welcome to the world!',\n",
              " 'The house!',\n",
              " 'Hello to the world!',\n",
              " 'Hello the world!',\n",
              " 'Hello the world!',\n",
              " 'Smooth!',\n",
              " 'Hello to the world!',\n",
              " 'It is the truth, it is the truth, it is the truth, it is the truth, it is the truth, it is the truth, it is the truth, it is the truth, it is the truth, it is the truth, it is the truth.',\n",
              " 'Hello, Europe!',\n",
              " 'Hello the world!',\n",
              " 'in the world!',\n",
              " 'Hello to the world!',\n",
              " 'Good day to the world!',\n",
              " 'Hello to the world!',\n",
              " 'Hello to the world!',\n",
              " 'Congratulations to the world!',\n",
              " 'Good Morning World!',\n",
              " 'Hello to the world!',\n",
              " 'Aaaaaaaaa',\n",
              " 'Hello to the world!',\n",
              " 'Welcome to the world!',\n",
              " 'Issues',\n",
              " 'In the words of the',\n",
              " 'Hello the world!',\n",
              " 'Hello to the world!',\n",
              " 'Hello to the world!',\n",
              " 'Hello world!',\n",
              " 'Hello to the world!',\n",
              " 'The name!',\n",
              " 'Hello the world!',\n",
              " 'I am in the world!',\n",
              " 'Hello to the world!',\n",
              " 'Hello O’Y’Y’Y!',\n",
              " 'Hello to the world!',\n",
              " 'Wish!',\n",
              " 'First of all!',\n",
              " 'Hello to the world!',\n",
              " 'It is there!',\n",
              " 'Hello the world!',\n",
              " 'First of all!']"
            ]
          },
          "execution_count": null,
          "metadata": {},
          "output_type": "execute_result"
        }
      ],
      "source": [
        "h.variate() #['Hello the world!', 'Welcome to the world.', 'Hello to the world!',..."
      ]
    },
    {
      "cell_type": "code",
      "execution_count": null,
      "metadata": {
        "colab": {
          "background_save": true,
          "referenced_widgets": [
            "68dc6eb72e05444fb53700220dc72858",
            "1aeff12d2f504c8391ba998961f9e6ad",
            "a937f9cd291f4544b200555080dd32f4",
            "bf38702e64254a598746b1970d7c6dbc",
            "7b3b73aa219e45bab0c3c728daafbd68",
            "a4478c7cf309401d9f306afe57181ec0"
          ]
        },
        "id": "1IbuXQ0HTEbc",
        "outputId": "977204b4-6f06-43e9-8494-e44f9263d57e"
      },
      "outputs": [
        {
          "data": {
            "application/vnd.jupyter.widget-view+json": {
              "model_id": "68dc6eb72e05444fb53700220dc72858",
              "version_major": 2,
              "version_minor": 0
            },
            "text/plain": [
              "Downloading:   0%|          | 0.00/26.0 [00:00<?, ?B/s]"
            ]
          },
          "metadata": {},
          "output_type": "display_data"
        },
        {
          "data": {
            "application/vnd.jupyter.widget-view+json": {
              "model_id": "1aeff12d2f504c8391ba998961f9e6ad",
              "version_major": 2,
              "version_minor": 0
            },
            "text/plain": [
              "Downloading:   0%|          | 0.00/757 [00:00<?, ?B/s]"
            ]
          },
          "metadata": {},
          "output_type": "display_data"
        },
        {
          "data": {
            "application/vnd.jupyter.widget-view+json": {
              "model_id": "a937f9cd291f4544b200555080dd32f4",
              "version_major": 2,
              "version_minor": 0
            },
            "text/plain": [
              "Downloading:   0%|          | 0.00/780k [00:00<?, ?B/s]"
            ]
          },
          "metadata": {},
          "output_type": "display_data"
        },
        {
          "data": {
            "application/vnd.jupyter.widget-view+json": {
              "model_id": "bf38702e64254a598746b1970d7c6dbc",
              "version_major": 2,
              "version_minor": 0
            },
            "text/plain": [
              "Downloading:   0%|          | 0.00/446k [00:00<?, ?B/s]"
            ]
          },
          "metadata": {},
          "output_type": "display_data"
        },
        {
          "data": {
            "application/vnd.jupyter.widget-view+json": {
              "model_id": "7b3b73aa219e45bab0c3c728daafbd68",
              "version_major": 2,
              "version_minor": 0
            },
            "text/plain": [
              "Downloading:   0%|          | 0.00/150 [00:00<?, ?B/s]"
            ]
          },
          "metadata": {},
          "output_type": "display_data"
        },
        {
          "data": {
            "application/vnd.jupyter.widget-view+json": {
              "model_id": "a4478c7cf309401d9f306afe57181ec0",
              "version_major": 2,
              "version_minor": 0
            },
            "text/plain": [
              "Downloading:   0%|          | 0.00/567M [00:00<?, ?B/s]"
            ]
          },
          "metadata": {},
          "output_type": "display_data"
        },
        {
          "data": {
            "text/plain": [
              "['World']"
            ]
          },
          "execution_count": null,
          "metadata": {},
          "output_type": "execute_result"
        }
      ],
      "source": [
        "t2t.Handler([\"Hello, World! [SEP] Hello, what?\"]).answer() #['World']"
      ]
    },
    {
      "cell_type": "code",
      "execution_count": null,
      "metadata": {
        "colab": {
          "background_save": true
        },
        "id": "8V3geqhhTFdc",
        "outputId": "88a2e3a6-a818-4c5a-f314-a8a40335710f"
      },
      "outputs": [
        {
          "data": {
            "text/plain": [
              "[2]"
            ]
          },
          "execution_count": null,
          "metadata": {},
          "output_type": "execute_result"
        }
      ],
      "source": [
        "t2t.Handler([\"Hello, World! [SEP] Hello, what?\"]).measure() #[2]"
      ]
    },
    {
      "cell_type": "code",
      "source": [
        "t2t.Server(host='0.0.0.0', port=80)"
      ],
      "metadata": {
        "id": "hv72aPlE5ww1"
      },
      "execution_count": null,
      "outputs": []
    },
    {
      "cell_type": "code",
      "source": [
        "import socket\n",
        "import requests\n",
        "\n",
        "address = socket.gethostbyname(socket.getfqdn(socket.gethostname()))\n",
        "url = f\"http://{address}\"\n",
        "transform = \"translate\"\n",
        "payload = {\n",
        "  \"input_lines\": [\"hello\", \"world\"], \n",
        "  \"src_lang\": \"en\",\n",
        "  \"tgt_lang\": \"ko\",\n",
        "}\n",
        "r = requests.post(f\"{url}/{transform}\", json=payload)\n",
        "print(r.json())\n",
        "r = requests.post(f\"{url}/index/add\", json=payload)\n",
        "print(r.json())\n",
        "r = requests.post(f\"{url}/index/size\", json=payload)\n",
        "print(r.json())\n",
        "r = requests.post(f\"{url}/index/search\", json=payload)\n",
        "print(r.json())\n",
        "payload[\"ids\"] = [0,1]\n",
        "r = requests.post(f\"{url}/index/remove\", json=payload)\n",
        "print(r.json())"
      ],
      "metadata": {
        "id": "KsMirskN5xcG"
      },
      "execution_count": null,
      "outputs": []
    },
    {
      "cell_type": "code",
      "execution_count": null,
      "metadata": {
        "colab": {
          "base_uri": "https://localhost:8080/"
        },
        "id": "F0RWWWrM83ov",
        "outputId": "468b89cf-2458-42e2-eccf-fed799cbb96a"
      },
      "outputs": [
        {
          "data": {
            "text/plain": [
              "{'af': 'Afrikaans',\n",
              " 'am': 'Amharic',\n",
              " 'ar': 'Arabic',\n",
              " 'ast': 'Asturian',\n",
              " 'az': 'Azerbaijani',\n",
              " 'ba': 'Bashkir',\n",
              " 'be': 'Belarusian',\n",
              " 'bg': 'Bulgarian',\n",
              " 'bn': 'Bengali',\n",
              " 'br': 'Breton',\n",
              " 'bs': 'Bosnian',\n",
              " 'ca': 'Catalan_Valencian',\n",
              " 'ceb': 'Cebuano',\n",
              " 'cs': 'Czech',\n",
              " 'cy': 'Welsh',\n",
              " 'da': 'Danish',\n",
              " 'de': 'German',\n",
              " 'el': 'Greeek',\n",
              " 'en': 'English',\n",
              " 'es': 'Spanish',\n",
              " 'et': 'Estonian',\n",
              " 'fa': 'Persian',\n",
              " 'ff': 'Fulah',\n",
              " 'fi': 'Finnish',\n",
              " 'fr': 'French',\n",
              " 'fy': 'Western_Frisian',\n",
              " 'ga': 'Irish',\n",
              " 'gd': 'Gaelic_Scottish_Gaelic',\n",
              " 'gl': 'Galician',\n",
              " 'gu': 'Gujarati',\n",
              " 'ha': 'Hausa',\n",
              " 'he': 'Hebrew',\n",
              " 'hi': 'Hindi',\n",
              " 'hr': 'Croatian',\n",
              " 'ht': 'Haitian_Haitian_Creole',\n",
              " 'hu': 'Hungarian',\n",
              " 'hy': 'Armenian',\n",
              " 'id': 'Indonesian',\n",
              " 'ig': 'Igbo',\n",
              " 'ilo': 'Iloko',\n",
              " 'is': 'Icelandic',\n",
              " 'it': 'Italian',\n",
              " 'ja': 'Japanese',\n",
              " 'jv': 'Javanese',\n",
              " 'ka': 'Georgian',\n",
              " 'kk': 'Kazakh',\n",
              " 'km': 'Central_Khmer',\n",
              " 'kn': 'Kannada',\n",
              " 'ko': 'Korean',\n",
              " 'lb': 'Luxembourgish_Letzeburgesch',\n",
              " 'lg': 'Ganda',\n",
              " 'ln': 'Lingala',\n",
              " 'lo': 'Lao',\n",
              " 'lt': 'Lithuanian',\n",
              " 'lv': 'Latvian',\n",
              " 'mg': 'Malagasy',\n",
              " 'mk': 'Macedonian',\n",
              " 'ml': 'Malayalam',\n",
              " 'mn': 'Mongolian',\n",
              " 'mr': 'Marathi',\n",
              " 'ms': 'Malay',\n",
              " 'my': 'Burmese',\n",
              " 'ne': 'Nepali',\n",
              " 'nl': 'Dutch_Flemish',\n",
              " 'no': 'Norwegian',\n",
              " 'ns': 'Northern_Sotho',\n",
              " 'oc': 'Occitan',\n",
              " 'or': 'Oriya',\n",
              " 'pa': 'Panjabi_Punjabi',\n",
              " 'pl': 'Polish',\n",
              " 'ps': 'Pushto_Pashto',\n",
              " 'pt': 'Portuguese',\n",
              " 'ro': 'Romanian_Moldavian_Moldovan',\n",
              " 'ru': 'Russian',\n",
              " 'sd': 'Sindhi',\n",
              " 'si': 'Sinhala_Sinhalese',\n",
              " 'sk': 'Slovak',\n",
              " 'sl': 'Slovenian',\n",
              " 'so': 'Somali',\n",
              " 'sq': 'Albanian',\n",
              " 'sr': 'Serbian',\n",
              " 'ss': 'Swati',\n",
              " 'su': 'Sundanese',\n",
              " 'sv': 'Swedish',\n",
              " 'sw': 'Swahili',\n",
              " 'ta': 'Tamil',\n",
              " 'th': 'Thai',\n",
              " 'tl': 'Tagalog',\n",
              " 'tn': 'Tswana',\n",
              " 'tr': 'Turkish',\n",
              " 'uk': 'Ukrainian',\n",
              " 'ur': 'Urdu',\n",
              " 'uz': 'Uzbek',\n",
              " 'vi': 'Vietnamese',\n",
              " 'wo': 'Wolof',\n",
              " 'xh': 'Xhosa',\n",
              " 'yi': 'Yiddish',\n",
              " 'yo': 'Yoruba',\n",
              " 'zh': 'Chinese',\n",
              " 'zu': 'Zulu'}"
            ]
          },
          "execution_count": 3,
          "metadata": {
            "tags": []
          },
          "output_type": "execute_result"
        }
      ],
      "source": [
        "### Languages Available\n",
        "t2t.Transformer.LANGUAGES"
      ]
    },
    {
      "cell_type": "code",
      "execution_count": null,
      "metadata": {
        "id": "bG6oRnav9G__"
      },
      "outputs": [],
      "source": [
        "# Sample texts\n",
        "article_en = 'The Secretary-General of the United Nations says there is no military solution in Syria.'\n",
        " \n",
        "notre_dame_str = \"As at most other universities, Notre Dame's students run a number of news media outlets. The nine student - run outlets include three newspapers, both a radio and television station, and several magazines and journals. Begun as a one - page journal in September 1876, the Scholastic magazine is issued twice monthly and claims to be the oldest continuous collegiate publication in the United States. The other magazine, The Juggler, is released twice a year and focuses on student literature and artwork. The Dome yearbook is published annually. The newspapers have varying publication interests, with The Observer published daily and mainly reporting university and other news, and staffed by students from both Notre Dame and Saint Mary's College. Unlike Scholastic and The Dome, The Observer is an independent publication and does not have a faculty advisor or any editorial oversight from the University. In 1987, when some students believed that The Observer began to show a conservative bias, a liberal newspaper, Common Sense was published. Likewise, in 2003, when other students believed that the paper showed a liberal bias, the conservative paper Irish Rover went into production. Neither paper is published as often as The Observer; however, all three are distributed to all students. Finally, in Spring 2008 an undergraduate journal for political science research, Beyond Politics, made its debut.\"\n",
        " \n",
        "bacteria_str = \"Bacteria are a type of biological cell. They constitute a large domain of prokaryotic microorganisms. Typically a few micrometres in length, bacteria have a number of shapes, ranging from spheres to rods and spirals. Bacteria were among the first life forms to appear on Earth, and are present in most of its habitats.\"\n",
        " \n",
        "bio_str = \"Biology is the science that studies life. What exactly is life? This may sound like a silly question with an obvious answer, but it is not easy to define life. For example, a branch of biology called virology studies viruses, which exhibit some of the characteristics of living entities but lack others. It turns out that although viruses can attack living organisms, cause diseases, and even reproduce, they do not meet the criteria that biologists use to define life.\"\n",
        " "
      ]
    },
    {
      "cell_type": "code",
      "execution_count": null,
      "metadata": {
        "colab": {
          "base_uri": "https://localhost:8080/"
        },
        "id": "csZPSwelA5ya",
        "outputId": "bc74259c-a3ed-4bd9-b967-855864868750"
      },
      "outputs": [
        {
          "data": {
            "text/plain": [
              "[['▁Let', \"'\", 's', '▁go', '▁hik', 'ing', '▁tom', 'orrow'],\n",
              " ['▁안녕', '하세요', '.'],\n",
              " ['▁', '돼', '지', '꿈', '을', '▁꾸', '세요', '~~']]"
            ]
          },
          "execution_count": 5,
          "metadata": {
            "tags": []
          },
          "output_type": "execute_result"
        }
      ],
      "source": [
        "### Tokenization\n",
        "t2t.Handler([\n",
        "         \"Let's go hiking tomorrow\", \n",
        "         \"안녕하세요.\", \n",
        "         \"돼지꿈을 꾸세요~~\"\n",
        "         ]).tokenize()"
      ]
    },
    {
      "cell_type": "code",
      "execution_count": null,
      "metadata": {
        "id": "-wQq61LXWsQG"
      },
      "outputs": [],
      "source": [
        "# Embeddings\n",
        "t2t.Handler([\n",
        "         \"Let's go hiking tomorrow\", \n",
        "         \"안녕하세요.\", \n",
        "         \"돼지꿈을 꾸세요~~\"\n",
        "         ]).vectorize()"
      ]
    },
    {
      "cell_type": "code",
      "execution_count": null,
      "metadata": {
        "colab": {
          "base_uri": "https://localhost:8080/"
        },
        "id": "3x0ebuQ6SXh5",
        "outputId": "0207fdb2-a781-4bf9-9027-6105041965a1"
      },
      "outputs": [
        {
          "data": {
            "text/plain": [
              "[{\"'\": 0.3535533905932738,\n",
              "  'ing': 0.3535533905932738,\n",
              "  'orrow': 0.3535533905932738,\n",
              "  's': 0.3535533905932738,\n",
              "  '▁Let': 0.3535533905932738,\n",
              "  '▁go': 0.3535533905932738,\n",
              "  '▁hik': 0.3535533905932738,\n",
              "  '▁tom': 0.3535533905932738},\n",
              " {'.': 0.5773502691896258,\n",
              "  '▁안녕': 0.5773502691896258,\n",
              "  '하세요': 0.5773502691896258},\n",
              " {'~~': 0.3535533905932738,\n",
              "  '▁': 0.3535533905932738,\n",
              "  '▁꾸': 0.3535533905932738,\n",
              "  '꿈': 0.3535533905932738,\n",
              "  '돼': 0.3535533905932738,\n",
              "  '세요': 0.3535533905932738,\n",
              "  '을': 0.3535533905932738,\n",
              "  '지': 0.3535533905932738}]"
            ]
          },
          "execution_count": 7,
          "metadata": {
            "tags": []
          },
          "output_type": "execute_result"
        }
      ],
      "source": [
        "### TF-IDF\n",
        "t2t.Handler([\n",
        "         \"Let's go hiking tomorrow\", \n",
        "         \"안녕하세요.\", \n",
        "         \"돼지꿈을 꾸세요~~\"\n",
        "         ]).tfidf()"
      ]
    },
    {
      "cell_type": "code",
      "execution_count": null,
      "metadata": {
        "id": "K7QXWSjpn7HN"
      },
      "outputs": [],
      "source": [
        "### BM25\n",
        "t2t.Handler([\n",
        "         \"Let's go hiking tomorrow\", \n",
        "         \"안녕하세요.\", \n",
        "         \"돼지꿈을 꾸세요~~\"\n",
        "         ]).bm25()"
      ]
    },
    {
      "cell_type": "code",
      "source": [
        "### Index\n",
        "index = t2t.Handler([\n",
        "         \"Let's go hiking tomorrow, let's go!\", \n",
        "         \"안녕하세요.\", \n",
        "         \"돼지꿈을 꾸세요~~\",\n",
        "         ]).index(ids=[100, 101, 102])\n",
        "\n",
        "index.search([\"돼지\", \"안녕\", \"let's go\"], k=1) # Matching L2 distances and corresponding ids"
      ],
      "metadata": {
        "id": "jWTF88R46-au"
      },
      "execution_count": null,
      "outputs": []
    },
    {
      "cell_type": "code",
      "source": [
        "# Add documents incrementing on ids if none specified\n",
        "index.add([\"Hello, World! 你好,世界!\"])\n",
        "\n",
        "# Remove by ids\n",
        "index.remove([101])\n",
        "\n",
        "# Retrieve k results per query sorted by distance\n",
        "index.search([\"你好, World\"], k=3)"
      ],
      "metadata": {
        "id": "An9GPkpj7DSu"
      },
      "execution_count": null,
      "outputs": []
    },
    {
      "cell_type": "code",
      "execution_count": null,
      "metadata": {
        "colab": {
          "base_uri": "https://localhost:8080/"
        },
        "id": "5tum24sLSy6g",
        "outputId": "171d7709-41c5-4d82-85e6-696a71706c4c"
      },
      "outputs": [
        {
          "data": {
            "text/plain": [
              "array([[0.4472136 , 0.        , 0.        ],\n",
              "       [0.        , 0.57735027, 0.        ]])"
            ]
          },
          "execution_count": 13,
          "metadata": {
            "tags": []
          },
          "output_type": "execute_result"
        }
      ],
      "source": [
        "### Search\n",
        "t2t.Handler([\n",
        "         \"Let's go hiking tomorrow, let's go!\", \n",
        "         \"안녕하세요.\", \n",
        "         \"돼지꿈을 꾸세요~~\",\n",
        "         ]).search(queries=[\"go\", \"안녕\"]).toarray()"
      ]
    },
    {
      "cell_type": "code",
      "execution_count": null,
      "metadata": {
        "id": "JW66Xh6ioRY9"
      },
      "outputs": [],
      "source": [
        "#### Multiple queries on a single index\n",
        "bm25_index = t2t.Handler([\n",
        "                       article_en, \n",
        "                       notre_dame_str, \n",
        "                       bacteria_str, \n",
        "                       bio_str\n",
        "                       ]).bm25(output=\"matrix\")\n",
        "\n",
        "search_results_bm25 = t2t.Handler().search(\n",
        "    queries=[\"wonderful life\", \"university students\"], \n",
        "    vector_class=t2t.Bm25er,\n",
        "    index=bm25_index)\n",
        "\n",
        "search_results_bm25_2 = t2t.Handler().search(\n",
        "    queries=[\"Earth creatures are cool\", \"United Nations\"], \n",
        "    vector_class=t2t.Bm25er,\n",
        "    index=bm25_index)"
      ]
    },
    {
      "cell_type": "code",
      "execution_count": null,
      "metadata": {
        "id": "mZI-8SwWyPKJ"
      },
      "outputs": [],
      "source": [
        "#### Using TF-DF embeddings index\n",
        "tfidf_index = t2t.Handler([\n",
        "                       article_en, \n",
        "                       notre_dame_str, \n",
        "                       bacteria_str, \n",
        "                       bio_str\n",
        "                       ]).tfidf(output=\"matrix\")\n",
        "\n",
        "search_results_tf = t2t.Handler().search(\n",
        "    queries=[\"wonderful life\", \"university students\"], \n",
        "    vector_class=t2t.Tfidfer,\n",
        "    index=tfidf_index)"
      ]
    },
    {
      "cell_type": "code",
      "execution_count": null,
      "metadata": {
        "id": "sTOS6drtoxgC"
      },
      "outputs": [],
      "source": [
        "#### Using neural embeddings index\n",
        "embedding_index = t2t.Handler([\n",
        "                       article_en, \n",
        "                       notre_dame_str, \n",
        "                       bacteria_str, \n",
        "                       bio_str\n",
        "                       ]).vectorize()\n",
        "\n",
        "search_results_em = t2t.Handler().search(\n",
        "    queries=[\"wonderful life\", \"university students\"],\n",
        "    vector_class=t2t.Vectorizer,\n",
        "    index=embedding_index)"
      ]
    },
    {
      "cell_type": "code",
      "execution_count": null,
      "metadata": {
        "colab": {
          "base_uri": "https://localhost:8080/"
        },
        "id": "IeGPKEL6tWon",
        "outputId": "5cf6bacc-eabd-40e5-f62c-5fb4e04f9bf2"
      },
      "outputs": [
        {
          "data": {
            "text/plain": [
              "array([[ 0.00729176, -0.02835486,  0.0024925 ,  0.08656652],\n",
              "       [ 0.06525719,  0.13328168,  0.0185835 ,  0.01900256]])"
            ]
          },
          "execution_count": 19,
          "metadata": {
            "tags": []
          },
          "output_type": "execute_result"
        }
      ],
      "source": [
        "#### Blending neural embeddings and tf-idf\n",
        "import numpy as np\n",
        "\n",
        "np.mean( \n",
        "    np.array([\n",
        "              search_results_bm25,\n",
        "              search_results_tf,\n",
        "              search_results_em,\n",
        "              ]), axis=0)\n",
        "\n",
        "# averaged scores matrix\n",
        "#matrix([[ 0.00486117, -0.01890325,  0.53769584,  0.82506883],\n",
        "#        [ 0.0435048 ,  1.68977281,  0.01238902,  0.01266839]])"
      ]
    },
    {
      "cell_type": "code",
      "execution_count": null,
      "metadata": {
        "colab": {
          "base_uri": "https://localhost:8080/"
        },
        "id": "YbS4ZpU7GA3T",
        "outputId": "0ebb27bb-6cda-41b4-9e46-77b27750bdd9"
      },
      "outputs": [
        {
          "data": {
            "text/plain": [
              "[2, 8]"
            ]
          },
          "execution_count": 15,
          "metadata": {
            "tags": []
          },
          "output_type": "execute_result"
        }
      ],
      "source": [
        "### Levenshtein Sub-word Edit Distance\n",
        "t2t.Handler([\n",
        "         \"Hello, World! [SEP] Hello, what?\", \n",
        "         \"안녕하세요. [SEP] 돼지꿈을 꾸세요~~\"\n",
        "        ]).measure(metric=\"levenshtein_distance\")"
      ]
    },
    {
      "cell_type": "code",
      "execution_count": null,
      "metadata": {
        "id": "Vk-F8sYK9EfJ"
      },
      "outputs": [],
      "source": [
        "### Translation\n",
        "# Default translator model\n",
        "t2t.Handler([article_en, notre_dame_str, bacteria_str, bio_str], src_lang='en').translate(tgt_lang='zh')"
      ]
    },
    {
      "cell_type": "code",
      "execution_count": null,
      "metadata": {
        "id": "5OfyLZZg4wrT"
      },
      "outputs": [],
      "source": [
        "# Smaller model to save time and memory for development\n",
        "t2t.Transformer.PRETRAINED_TRANSLATOR = \"facebook/m2m100_418M\"\n",
        "t2t.Handler([\"I would like to go hiking tomorrow.\"], \n",
        "        src_lang=\"en\"\n",
        "        ).translate(tgt_lang='zh')\n"
      ]
    },
    {
      "cell_type": "code",
      "execution_count": null,
      "metadata": {
        "id": "6mxiqy764xa1"
      },
      "outputs": [],
      "source": [
        "# Smaller model to save time and memory for development\n",
        "# Note language code difference\n",
        "t2t.Transformer.PRETRAINED_TRANSLATOR = \"facebook/mbart-large-50-many-to-many-mmt\"\n",
        "t2t.Transformer.LANGUAGES = {\n",
        "  'af_ZA': 'Afrikaans',\n",
        "  'ar_AR': 'Arabic',\n",
        "  'az_AZ': 'Azerbaijani',\n",
        "  'bn_IN': 'Bengali',\n",
        "  'cs_CZ': 'Czech',\n",
        "  'de_DE': 'German',\n",
        "  'en_XX': 'English',\n",
        "  'es_XX': 'Spanish',\n",
        "  'et_EE': 'Estonian',\n",
        "  'fa_IR': 'Persian',\n",
        "  'fi_FI': 'Finnish',\n",
        "  'fr_XX': 'French',\n",
        "  'gl_ES': 'Galician',\n",
        "  'gu_IN': 'Gujarati',\n",
        "  'he_IL': 'Hebrew',\n",
        "  'hi_IN': 'Hindi',\n",
        "  'hr_HR': 'Croatian',\n",
        "  'id_ID': 'Indonesian',\n",
        "  'it_IT': 'Italian',\n",
        "  'ja_XX': 'Japanese',\n",
        "  'ka_GE': 'Georgian',\n",
        "  'kk_KZ': 'Kazakh',\n",
        "  'km_KH': 'Khmer',\n",
        "  'ko_KR': 'Korean',\n",
        "  'lt_LT': 'Lithuanian',\n",
        "  'lv_LV': 'Latvian',\n",
        "  'mk_MK': 'Macedonian',\n",
        "  'ml_IN': 'Malayalam',\n",
        "  'mn_MN': 'Mongolian',\n",
        "  'mr_IN': 'Marathi',\n",
        "  'my_MM': 'Burmese',\n",
        "  'ne_NP': 'Nepali',\n",
        "  'nl_XX': 'Dutch',\n",
        "  'pl_PL': 'Polish',\n",
        "  'ps_AF': 'Pashto',\n",
        "  'pt_XX': 'Portuguese',\n",
        "  'ro_RO': 'Romanian',\n",
        "  'ru_RU': 'Russian',\n",
        "  'si_LK': 'Sinhala',\n",
        "  'sl_SI': 'Slovene',\n",
        "  'sv_SE': 'Swedish',\n",
        "  'sw_KE': 'Swahili',\n",
        "  'ta_IN': 'Tamil',\n",
        "  'te_IN': 'Telugu',\n",
        "  'th_TH': 'Thai',\n",
        "  'tl_XX': 'Tagalog',\n",
        "  'tr_TR': 'Turkish',\n",
        "  'uk_UA': 'Ukrainian',\n",
        "  'ur_PK': 'Urdu',\n",
        "  'vi_VN': 'Vietnamese',\n",
        "  'xh_ZA': 'Xhosa',\n",
        "  'zh_CN': 'Chinese'\n",
        "}\n",
        "t2t.Handler([\"I would like to go hiking tomorrow.\"], \n",
        "        src_lang=\"en_XX\"\n",
        "        ).translate(tgt_lang='zh_CN')\n"
      ]
    },
    {
      "cell_type": "code",
      "execution_count": null,
      "metadata": {
        "id": "ITtEcKlPWPXR"
      },
      "outputs": [],
      "source": [
        "### Question Answering. Question must follow context with ` [SEP] ` in between.\n",
        "t2t.Handler([\n",
        "         \"Hello, this is Text2Text! [SEP] What is this?\", \n",
        "         \"It works very well. It's awesome! [SEP] How is it?\"\n",
        "         ]).answer()"
      ]
    },
    {
      "cell_type": "code",
      "execution_count": null,
      "metadata": {
        "id": "GHAFY6aJOtQQ"
      },
      "outputs": [],
      "source": [
        "t2t.Handler([\"很喜欢陈慧琳唱歌。[SEP] 喜欢做什么?\"], \n",
        "        src_lang=\"zh\",\n",
        "        ).answer()"
      ]
    },
    {
      "cell_type": "code",
      "execution_count": null,
      "metadata": {
        "id": "dF_NSzaKPjs2"
      },
      "outputs": [],
      "source": [
        "### Question Generation\n",
        "t2t.Handler([\n",
        "            bio_str,\n",
        "            bio_str,\n",
        "            bio_str,\n",
        "            bio_str,\n",
        "            bio_str,\n",
        "            \"I will go to school today to take my math exam.\",\n",
        "            \"I will go to school today to take my math exam.\",\n",
        "            \"Tomorrow is my cousin's birthday. He will turn 24 years old.\",\n",
        "            notre_dame_str,\n",
        "            bacteria_str,\n",
        "            bacteria_str,\n",
        "            bacteria_str,\n",
        "            \"I will go to school today to take my math exam. [SEP] school\",\n",
        "            \"I will go to school today to take my math exam. [SEP] exam\",\n",
        "            \"I will go to school today to take my math exam. [SEP] math\",\n",
        "          ], src_lang='en').question()"
      ]
    },
    {
      "cell_type": "code",
      "execution_count": null,
      "metadata": {
        "id": "GgCh6Co1mDry"
      },
      "outputs": [],
      "source": [
        "t2t.Handler([\"很喜欢陈慧琳唱歌。\"], src_lang='zh').question()"
      ]
    },
    {
      "cell_type": "code",
      "execution_count": null,
      "metadata": {
        "id": "JRBEPBFBvBqe"
      },
      "outputs": [],
      "source": [
        "### Summarization\n",
        "t2t.Handler([notre_dame_str, bacteria_str, bio_str], src_lang='en').summarize()"
      ]
    },
    {
      "cell_type": "code",
      "execution_count": null,
      "metadata": {
        "id": "--62SmM89Ymd"
      },
      "outputs": [],
      "source": [
        "### Variation\n",
        "# Useful for augmenting training data\n",
        "t2t.Handler([bacteria_str], src_lang='en').variate()"
      ]
    },
    {
      "cell_type": "code",
      "execution_count": null,
      "metadata": {
        "id": "v-YPGSntzLKk"
      },
      "outputs": [],
      "source": [
        "### Training / Fine-tuning\n",
        "# Finetune cross-lingual model on your data\n",
        "result = t2t.Handler([\"Hello, World! [TGT] 你好,世界!\"], \n",
        "            src_lang=\"en\",\n",
        "            tgt_lang=\"zh\",\n",
        "            num_epochs=10, \n",
        "            save_directory=\"model_dir\"\n",
        "            ).fit()\n",
        "\n",
        "# load and use model from saved directory\n",
        "t2t.Transformer.PRETRAINED_TRANSLATOR = \"model_dir\"\n",
        "t2t.Handler(\"Hello, World!\").translate(tgt_lang=\"zh\")"
      ]
    }
  ],
  "metadata": {
    "accelerator": "GPU",
    "colab": {
      "collapsed_sections": [],
      "machine_shape": "hm",
      "provenance": []
    },
    "kernelspec": {
      "display_name": "Python 3",
      "name": "python3"
    },
    "widgets": {
      "application/vnd.jupyter.widget-state+json": {
        "06bad1ba9ae24bd5bad4eda5adb5f0bc": {
          "model_module": "@jupyter-widgets/base",
          "model_module_version": "1.2.0",
          "model_name": "LayoutModel",
          "state": {
            "_model_module": "@jupyter-widgets/base",
            "_model_module_version": "1.2.0",
            "_model_name": "LayoutModel",
            "_view_count": null,
            "_view_module": "@jupyter-widgets/base",
            "_view_module_version": "1.2.0",
            "_view_name": "LayoutView",
            "align_content": null,
            "align_items": null,
            "align_self": null,
            "border": null,
            "bottom": null,
            "display": null,
            "flex": null,
            "flex_flow": null,
            "grid_area": null,
            "grid_auto_columns": null,
            "grid_auto_flow": null,
            "grid_auto_rows": null,
            "grid_column": null,
            "grid_gap": null,
            "grid_row": null,
            "grid_template_areas": null,
            "grid_template_columns": null,
            "grid_template_rows": null,
            "height": null,
            "justify_content": null,
            "justify_items": null,
            "left": null,
            "margin": null,
            "max_height": null,
            "max_width": null,
            "min_height": null,
            "min_width": null,
            "object_fit": null,
            "object_position": null,
            "order": null,
            "overflow": null,
            "overflow_x": null,
            "overflow_y": null,
            "padding": null,
            "right": null,
            "top": null,
            "visibility": null,
            "width": null
          }
        },
        "13d1ccd4eae24ad594fca0e447c6fbc9": {
          "model_module": "@jupyter-widgets/controls",
          "model_module_version": "1.5.0",
          "model_name": "DescriptionStyleModel",
          "state": {
            "_model_module": "@jupyter-widgets/controls",
            "_model_module_version": "1.5.0",
            "_model_name": "DescriptionStyleModel",
            "_view_count": null,
            "_view_module": "@jupyter-widgets/base",
            "_view_module_version": "1.2.0",
            "_view_name": "StyleView",
            "description_width": ""
          }
        },
        "38780981a60d4e87a87eccceb765cc24": {
          "model_module": "@jupyter-widgets/controls",
          "model_module_version": "1.5.0",
          "model_name": "HTMLModel",
          "state": {
            "_dom_classes": [],
            "_model_module": "@jupyter-widgets/controls",
            "_model_module_version": "1.5.0",
            "_model_name": "HTMLModel",
            "_view_count": null,
            "_view_module": "@jupyter-widgets/controls",
            "_view_module_version": "1.5.0",
            "_view_name": "HTMLView",
            "description": "",
            "description_tooltip": null,
            "layout": "IPY_MODEL_06bad1ba9ae24bd5bad4eda5adb5f0bc",
            "placeholder": "​",
            "style": "IPY_MODEL_13d1ccd4eae24ad594fca0e447c6fbc9",
            "value": " 1.80G/1.80G [01:14&lt;00:00, 29.7MB/s]"
          }
        },
        "5d0fb74494364cc99a44e15a6e3bbb2a": {
          "model_module": "@jupyter-widgets/controls",
          "model_module_version": "1.5.0",
          "model_name": "FloatProgressModel",
          "state": {
            "_dom_classes": [],
            "_model_module": "@jupyter-widgets/controls",
            "_model_module_version": "1.5.0",
            "_model_name": "FloatProgressModel",
            "_view_count": null,
            "_view_module": "@jupyter-widgets/controls",
            "_view_module_version": "1.5.0",
            "_view_name": "ProgressView",
            "bar_style": "success",
            "description": "",
            "description_tooltip": null,
            "layout": "IPY_MODEL_7c7d991970b240d3a8a5696e533bcaab",
            "max": 1935796948,
            "min": 0,
            "orientation": "horizontal",
            "style": "IPY_MODEL_7160c85bd5eb49e59e910c5e5276f57f",
            "value": 1935796948
          }
        },
        "64ed2290b2244c279ee94f8b307267a7": {
          "model_module": "@jupyter-widgets/base",
          "model_module_version": "1.2.0",
          "model_name": "LayoutModel",
          "state": {
            "_model_module": "@jupyter-widgets/base",
            "_model_module_version": "1.2.0",
            "_model_name": "LayoutModel",
            "_view_count": null,
            "_view_module": "@jupyter-widgets/base",
            "_view_module_version": "1.2.0",
            "_view_name": "LayoutView",
            "align_content": null,
            "align_items": null,
            "align_self": null,
            "border": null,
            "bottom": null,
            "display": null,
            "flex": null,
            "flex_flow": null,
            "grid_area": null,
            "grid_auto_columns": null,
            "grid_auto_flow": null,
            "grid_auto_rows": null,
            "grid_column": null,
            "grid_gap": null,
            "grid_row": null,
            "grid_template_areas": null,
            "grid_template_columns": null,
            "grid_template_rows": null,
            "height": null,
            "justify_content": null,
            "justify_items": null,
            "left": null,
            "margin": null,
            "max_height": null,
            "max_width": null,
            "min_height": null,
            "min_width": null,
            "object_fit": null,
            "object_position": null,
            "order": null,
            "overflow": null,
            "overflow_x": null,
            "overflow_y": null,
            "padding": null,
            "right": null,
            "top": null,
            "visibility": null,
            "width": null
          }
        },
        "7160c85bd5eb49e59e910c5e5276f57f": {
          "model_module": "@jupyter-widgets/controls",
          "model_module_version": "1.5.0",
          "model_name": "ProgressStyleModel",
          "state": {
            "_model_module": "@jupyter-widgets/controls",
            "_model_module_version": "1.5.0",
            "_model_name": "ProgressStyleModel",
            "_view_count": null,
            "_view_module": "@jupyter-widgets/base",
            "_view_module_version": "1.2.0",
            "_view_name": "StyleView",
            "bar_color": null,
            "description_width": ""
          }
        },
        "7c7d991970b240d3a8a5696e533bcaab": {
          "model_module": "@jupyter-widgets/base",
          "model_module_version": "1.2.0",
          "model_name": "LayoutModel",
          "state": {
            "_model_module": "@jupyter-widgets/base",
            "_model_module_version": "1.2.0",
            "_model_name": "LayoutModel",
            "_view_count": null,
            "_view_module": "@jupyter-widgets/base",
            "_view_module_version": "1.2.0",
            "_view_name": "LayoutView",
            "align_content": null,
            "align_items": null,
            "align_self": null,
            "border": null,
            "bottom": null,
            "display": null,
            "flex": null,
            "flex_flow": null,
            "grid_area": null,
            "grid_auto_columns": null,
            "grid_auto_flow": null,
            "grid_auto_rows": null,
            "grid_column": null,
            "grid_gap": null,
            "grid_row": null,
            "grid_template_areas": null,
            "grid_template_columns": null,
            "grid_template_rows": null,
            "height": null,
            "justify_content": null,
            "justify_items": null,
            "left": null,
            "margin": null,
            "max_height": null,
            "max_width": null,
            "min_height": null,
            "min_width": null,
            "object_fit": null,
            "object_position": null,
            "order": null,
            "overflow": null,
            "overflow_x": null,
            "overflow_y": null,
            "padding": null,
            "right": null,
            "top": null,
            "visibility": null,
            "width": null
          }
        },
        "855de49d542841a79b3c37fab177abcd": {
          "model_module": "@jupyter-widgets/controls",
          "model_module_version": "1.5.0",
          "model_name": "HBoxModel",
          "state": {
            "_dom_classes": [],
            "_model_module": "@jupyter-widgets/controls",
            "_model_module_version": "1.5.0",
            "_model_name": "HBoxModel",
            "_view_count": null,
            "_view_module": "@jupyter-widgets/controls",
            "_view_module_version": "1.5.0",
            "_view_name": "HBoxView",
            "box_style": "",
            "children": [
              "IPY_MODEL_b8f0165de7b04ecbb381628c0ba61b78",
              "IPY_MODEL_5d0fb74494364cc99a44e15a6e3bbb2a",
              "IPY_MODEL_38780981a60d4e87a87eccceb765cc24"
            ],
            "layout": "IPY_MODEL_64ed2290b2244c279ee94f8b307267a7"
          }
        },
        "96fbc30bc2b342d8a1d5d4840a87276f": {
          "model_module": "@jupyter-widgets/controls",
          "model_module_version": "1.5.0",
          "model_name": "DescriptionStyleModel",
          "state": {
            "_model_module": "@jupyter-widgets/controls",
            "_model_module_version": "1.5.0",
            "_model_name": "DescriptionStyleModel",
            "_view_count": null,
            "_view_module": "@jupyter-widgets/base",
            "_view_module_version": "1.2.0",
            "_view_name": "StyleView",
            "description_width": ""
          }
        },
        "b8f0165de7b04ecbb381628c0ba61b78": {
          "model_module": "@jupyter-widgets/controls",
          "model_module_version": "1.5.0",
          "model_name": "HTMLModel",
          "state": {
            "_dom_classes": [],
            "_model_module": "@jupyter-widgets/controls",
            "_model_module_version": "1.5.0",
            "_model_name": "HTMLModel",
            "_view_count": null,
            "_view_module": "@jupyter-widgets/controls",
            "_view_module_version": "1.5.0",
            "_view_name": "HTMLView",
            "description": "",
            "description_tooltip": null,
            "layout": "IPY_MODEL_de4a1b89a6eb4c4a96221c1fd23853d7",
            "placeholder": "​",
            "style": "IPY_MODEL_96fbc30bc2b342d8a1d5d4840a87276f",
            "value": "Downloading: 100%"
          }
        },
        "de4a1b89a6eb4c4a96221c1fd23853d7": {
          "model_module": "@jupyter-widgets/base",
          "model_module_version": "1.2.0",
          "model_name": "LayoutModel",
          "state": {
            "_model_module": "@jupyter-widgets/base",
            "_model_module_version": "1.2.0",
            "_model_name": "LayoutModel",
            "_view_count": null,
            "_view_module": "@jupyter-widgets/base",
            "_view_module_version": "1.2.0",
            "_view_name": "LayoutView",
            "align_content": null,
            "align_items": null,
            "align_self": null,
            "border": null,
            "bottom": null,
            "display": null,
            "flex": null,
            "flex_flow": null,
            "grid_area": null,
            "grid_auto_columns": null,
            "grid_auto_flow": null,
            "grid_auto_rows": null,
            "grid_column": null,
            "grid_gap": null,
            "grid_row": null,
            "grid_template_areas": null,
            "grid_template_columns": null,
            "grid_template_rows": null,
            "height": null,
            "justify_content": null,
            "justify_items": null,
            "left": null,
            "margin": null,
            "max_height": null,
            "max_width": null,
            "min_height": null,
            "min_width": null,
            "object_fit": null,
            "object_position": null,
            "order": null,
            "overflow": null,
            "overflow_x": null,
            "overflow_y": null,
            "padding": null,
            "right": null,
            "top": null,
            "visibility": null,
            "width": null
          }
        },
        "0ecc3c62faa643ed8bb0043c90a0c83d": {
          "model_module": "@jupyter-widgets/controls",
          "model_name": "HBoxModel",
          "model_module_version": "1.5.0",
          "state": {
            "_dom_classes": [],
            "_model_module": "@jupyter-widgets/controls",
            "_model_module_version": "1.5.0",
            "_model_name": "HBoxModel",
            "_view_count": null,
            "_view_module": "@jupyter-widgets/controls",
            "_view_module_version": "1.5.0",
            "_view_name": "HBoxView",
            "box_style": "",
            "children": [
              "IPY_MODEL_081ccb1a031748d9b303e230bbaf1351",
              "IPY_MODEL_4c76ffe309834eb98f9db062755ad78b",
              "IPY_MODEL_da008fc449f746829c4642ff91dfee2c"
            ],
            "layout": "IPY_MODEL_33ada5c46138462e808a7d036e229b3c"
          }
        },
        "081ccb1a031748d9b303e230bbaf1351": {
          "model_module": "@jupyter-widgets/controls",
          "model_name": "HTMLModel",
          "model_module_version": "1.5.0",
          "state": {
            "_dom_classes": [],
            "_model_module": "@jupyter-widgets/controls",
            "_model_module_version": "1.5.0",
            "_model_name": "HTMLModel",
            "_view_count": null,
            "_view_module": "@jupyter-widgets/controls",
            "_view_module_version": "1.5.0",
            "_view_name": "HTMLView",
            "description": "",
            "description_tooltip": null,
            "layout": "IPY_MODEL_611093678a4c4b239315648b3fd5ef73",
            "placeholder": "​",
            "style": "IPY_MODEL_d78f40398747464da092a21af308f305",
            "value": "Downloading tokenizer_config.json: 100%"
          }
        },
        "4c76ffe309834eb98f9db062755ad78b": {
          "model_module": "@jupyter-widgets/controls",
          "model_name": "FloatProgressModel",
          "model_module_version": "1.5.0",
          "state": {
            "_dom_classes": [],
            "_model_module": "@jupyter-widgets/controls",
            "_model_module_version": "1.5.0",
            "_model_name": "FloatProgressModel",
            "_view_count": null,
            "_view_module": "@jupyter-widgets/controls",
            "_view_module_version": "1.5.0",
            "_view_name": "ProgressView",
            "bar_style": "success",
            "description": "",
            "description_tooltip": null,
            "layout": "IPY_MODEL_e0013a27f9da47b9abe6cfa88cd7f92e",
            "max": 272,
            "min": 0,
            "orientation": "horizontal",
            "style": "IPY_MODEL_70095c8c343e4a4f9f4fe029c98c0db6",
            "value": 272
          }
        },
        "da008fc449f746829c4642ff91dfee2c": {
          "model_module": "@jupyter-widgets/controls",
          "model_name": "HTMLModel",
          "model_module_version": "1.5.0",
          "state": {
            "_dom_classes": [],
            "_model_module": "@jupyter-widgets/controls",
            "_model_module_version": "1.5.0",
            "_model_name": "HTMLModel",
            "_view_count": null,
            "_view_module": "@jupyter-widgets/controls",
            "_view_module_version": "1.5.0",
            "_view_name": "HTMLView",
            "description": "",
            "description_tooltip": null,
            "layout": "IPY_MODEL_fe73f33fd4664e5986be929281ca51c4",
            "placeholder": "​",
            "style": "IPY_MODEL_cd46ffd7351d46e5ba4cc0ab624a42e8",
            "value": " 272/272 [00:00&lt;00:00, 3.30kB/s]"
          }
        },
        "33ada5c46138462e808a7d036e229b3c": {
          "model_module": "@jupyter-widgets/base",
          "model_name": "LayoutModel",
          "model_module_version": "1.2.0",
          "state": {
            "_model_module": "@jupyter-widgets/base",
            "_model_module_version": "1.2.0",
            "_model_name": "LayoutModel",
            "_view_count": null,
            "_view_module": "@jupyter-widgets/base",
            "_view_module_version": "1.2.0",
            "_view_name": "LayoutView",
            "align_content": null,
            "align_items": null,
            "align_self": null,
            "border": null,
            "bottom": null,
            "display": null,
            "flex": null,
            "flex_flow": null,
            "grid_area": null,
            "grid_auto_columns": null,
            "grid_auto_flow": null,
            "grid_auto_rows": null,
            "grid_column": null,
            "grid_gap": null,
            "grid_row": null,
            "grid_template_areas": null,
            "grid_template_columns": null,
            "grid_template_rows": null,
            "height": null,
            "justify_content": null,
            "justify_items": null,
            "left": null,
            "margin": null,
            "max_height": null,
            "max_width": null,
            "min_height": null,
            "min_width": null,
            "object_fit": null,
            "object_position": null,
            "order": null,
            "overflow": null,
            "overflow_x": null,
            "overflow_y": null,
            "padding": null,
            "right": null,
            "top": null,
            "visibility": null,
            "width": null
          }
        },
        "611093678a4c4b239315648b3fd5ef73": {
          "model_module": "@jupyter-widgets/base",
          "model_name": "LayoutModel",
          "model_module_version": "1.2.0",
          "state": {
            "_model_module": "@jupyter-widgets/base",
            "_model_module_version": "1.2.0",
            "_model_name": "LayoutModel",
            "_view_count": null,
            "_view_module": "@jupyter-widgets/base",
            "_view_module_version": "1.2.0",
            "_view_name": "LayoutView",
            "align_content": null,
            "align_items": null,
            "align_self": null,
            "border": null,
            "bottom": null,
            "display": null,
            "flex": null,
            "flex_flow": null,
            "grid_area": null,
            "grid_auto_columns": null,
            "grid_auto_flow": null,
            "grid_auto_rows": null,
            "grid_column": null,
            "grid_gap": null,
            "grid_row": null,
            "grid_template_areas": null,
            "grid_template_columns": null,
            "grid_template_rows": null,
            "height": null,
            "justify_content": null,
            "justify_items": null,
            "left": null,
            "margin": null,
            "max_height": null,
            "max_width": null,
            "min_height": null,
            "min_width": null,
            "object_fit": null,
            "object_position": null,
            "order": null,
            "overflow": null,
            "overflow_x": null,
            "overflow_y": null,
            "padding": null,
            "right": null,
            "top": null,
            "visibility": null,
            "width": null
          }
        },
        "d78f40398747464da092a21af308f305": {
          "model_module": "@jupyter-widgets/controls",
          "model_name": "DescriptionStyleModel",
          "model_module_version": "1.5.0",
          "state": {
            "_model_module": "@jupyter-widgets/controls",
            "_model_module_version": "1.5.0",
            "_model_name": "DescriptionStyleModel",
            "_view_count": null,
            "_view_module": "@jupyter-widgets/base",
            "_view_module_version": "1.2.0",
            "_view_name": "StyleView",
            "description_width": ""
          }
        },
        "e0013a27f9da47b9abe6cfa88cd7f92e": {
          "model_module": "@jupyter-widgets/base",
          "model_name": "LayoutModel",
          "model_module_version": "1.2.0",
          "state": {
            "_model_module": "@jupyter-widgets/base",
            "_model_module_version": "1.2.0",
            "_model_name": "LayoutModel",
            "_view_count": null,
            "_view_module": "@jupyter-widgets/base",
            "_view_module_version": "1.2.0",
            "_view_name": "LayoutView",
            "align_content": null,
            "align_items": null,
            "align_self": null,
            "border": null,
            "bottom": null,
            "display": null,
            "flex": null,
            "flex_flow": null,
            "grid_area": null,
            "grid_auto_columns": null,
            "grid_auto_flow": null,
            "grid_auto_rows": null,
            "grid_column": null,
            "grid_gap": null,
            "grid_row": null,
            "grid_template_areas": null,
            "grid_template_columns": null,
            "grid_template_rows": null,
            "height": null,
            "justify_content": null,
            "justify_items": null,
            "left": null,
            "margin": null,
            "max_height": null,
            "max_width": null,
            "min_height": null,
            "min_width": null,
            "object_fit": null,
            "object_position": null,
            "order": null,
            "overflow": null,
            "overflow_x": null,
            "overflow_y": null,
            "padding": null,
            "right": null,
            "top": null,
            "visibility": null,
            "width": null
          }
        },
        "70095c8c343e4a4f9f4fe029c98c0db6": {
          "model_module": "@jupyter-widgets/controls",
          "model_name": "ProgressStyleModel",
          "model_module_version": "1.5.0",
          "state": {
            "_model_module": "@jupyter-widgets/controls",
            "_model_module_version": "1.5.0",
            "_model_name": "ProgressStyleModel",
            "_view_count": null,
            "_view_module": "@jupyter-widgets/base",
            "_view_module_version": "1.2.0",
            "_view_name": "StyleView",
            "bar_color": null,
            "description_width": ""
          }
        },
        "fe73f33fd4664e5986be929281ca51c4": {
          "model_module": "@jupyter-widgets/base",
          "model_name": "LayoutModel",
          "model_module_version": "1.2.0",
          "state": {
            "_model_module": "@jupyter-widgets/base",
            "_model_module_version": "1.2.0",
            "_model_name": "LayoutModel",
            "_view_count": null,
            "_view_module": "@jupyter-widgets/base",
            "_view_module_version": "1.2.0",
            "_view_name": "LayoutView",
            "align_content": null,
            "align_items": null,
            "align_self": null,
            "border": null,
            "bottom": null,
            "display": null,
            "flex": null,
            "flex_flow": null,
            "grid_area": null,
            "grid_auto_columns": null,
            "grid_auto_flow": null,
            "grid_auto_rows": null,
            "grid_column": null,
            "grid_gap": null,
            "grid_row": null,
            "grid_template_areas": null,
            "grid_template_columns": null,
            "grid_template_rows": null,
            "height": null,
            "justify_content": null,
            "justify_items": null,
            "left": null,
            "margin": null,
            "max_height": null,
            "max_width": null,
            "min_height": null,
            "min_width": null,
            "object_fit": null,
            "object_position": null,
            "order": null,
            "overflow": null,
            "overflow_x": null,
            "overflow_y": null,
            "padding": null,
            "right": null,
            "top": null,
            "visibility": null,
            "width": null
          }
        },
        "cd46ffd7351d46e5ba4cc0ab624a42e8": {
          "model_module": "@jupyter-widgets/controls",
          "model_name": "DescriptionStyleModel",
          "model_module_version": "1.5.0",
          "state": {
            "_model_module": "@jupyter-widgets/controls",
            "_model_module_version": "1.5.0",
            "_model_name": "DescriptionStyleModel",
            "_view_count": null,
            "_view_module": "@jupyter-widgets/base",
            "_view_module_version": "1.2.0",
            "_view_name": "StyleView",
            "description_width": ""
          }
        },
        "f3f0c05b87a04868aa2d2989021421cf": {
          "model_module": "@jupyter-widgets/controls",
          "model_name": "HBoxModel",
          "model_module_version": "1.5.0",
          "state": {
            "_dom_classes": [],
            "_model_module": "@jupyter-widgets/controls",
            "_model_module_version": "1.5.0",
            "_model_name": "HBoxModel",
            "_view_count": null,
            "_view_module": "@jupyter-widgets/controls",
            "_view_module_version": "1.5.0",
            "_view_name": "HBoxView",
            "box_style": "",
            "children": [
              "IPY_MODEL_49517ec03c9447bf9780b40c70100a6c",
              "IPY_MODEL_04c68a624deb44e0b7ec7b86ff3b937d",
              "IPY_MODEL_432856a25aff4a4e9cd3f20a64fb0e32"
            ],
            "layout": "IPY_MODEL_902bc2aa7bc04b78afec8e81ffd3d99c"
          }
        },
        "49517ec03c9447bf9780b40c70100a6c": {
          "model_module": "@jupyter-widgets/controls",
          "model_name": "HTMLModel",
          "model_module_version": "1.5.0",
          "state": {
            "_dom_classes": [],
            "_model_module": "@jupyter-widgets/controls",
            "_model_module_version": "1.5.0",
            "_model_name": "HTMLModel",
            "_view_count": null,
            "_view_module": "@jupyter-widgets/controls",
            "_view_module_version": "1.5.0",
            "_view_name": "HTMLView",
            "description": "",
            "description_tooltip": null,
            "layout": "IPY_MODEL_0226b865f78c498880f3828a0928beb8",
            "placeholder": "​",
            "style": "IPY_MODEL_5878310f192c42259d17f165d2c766a2",
            "value": "Downloading config.json: 100%"
          }
        },
        "04c68a624deb44e0b7ec7b86ff3b937d": {
          "model_module": "@jupyter-widgets/controls",
          "model_name": "FloatProgressModel",
          "model_module_version": "1.5.0",
          "state": {
            "_dom_classes": [],
            "_model_module": "@jupyter-widgets/controls",
            "_model_module_version": "1.5.0",
            "_model_name": "FloatProgressModel",
            "_view_count": null,
            "_view_module": "@jupyter-widgets/controls",
            "_view_module_version": "1.5.0",
            "_view_name": "ProgressView",
            "bar_style": "success",
            "description": "",
            "description_tooltip": null,
            "layout": "IPY_MODEL_93803b81d0414bdebceaa7b72a278d73",
            "max": 908,
            "min": 0,
            "orientation": "horizontal",
            "style": "IPY_MODEL_8a2b1ecf68d642198dc4b669c2921f6f",
            "value": 908
          }
        },
        "432856a25aff4a4e9cd3f20a64fb0e32": {
          "model_module": "@jupyter-widgets/controls",
          "model_name": "HTMLModel",
          "model_module_version": "1.5.0",
          "state": {
            "_dom_classes": [],
            "_model_module": "@jupyter-widgets/controls",
            "_model_module_version": "1.5.0",
            "_model_name": "HTMLModel",
            "_view_count": null,
            "_view_module": "@jupyter-widgets/controls",
            "_view_module_version": "1.5.0",
            "_view_name": "HTMLView",
            "description": "",
            "description_tooltip": null,
            "layout": "IPY_MODEL_36bcdb8901aa4c67afe84f13b620db2e",
            "placeholder": "​",
            "style": "IPY_MODEL_49292576c1ec448d8e1c0416c3c4bd93",
            "value": " 908/908 [00:00&lt;00:00, 25.7kB/s]"
          }
        },
        "902bc2aa7bc04b78afec8e81ffd3d99c": {
          "model_module": "@jupyter-widgets/base",
          "model_name": "LayoutModel",
          "model_module_version": "1.2.0",
          "state": {
            "_model_module": "@jupyter-widgets/base",
            "_model_module_version": "1.2.0",
            "_model_name": "LayoutModel",
            "_view_count": null,
            "_view_module": "@jupyter-widgets/base",
            "_view_module_version": "1.2.0",
            "_view_name": "LayoutView",
            "align_content": null,
            "align_items": null,
            "align_self": null,
            "border": null,
            "bottom": null,
            "display": null,
            "flex": null,
            "flex_flow": null,
            "grid_area": null,
            "grid_auto_columns": null,
            "grid_auto_flow": null,
            "grid_auto_rows": null,
            "grid_column": null,
            "grid_gap": null,
            "grid_row": null,
            "grid_template_areas": null,
            "grid_template_columns": null,
            "grid_template_rows": null,
            "height": null,
            "justify_content": null,
            "justify_items": null,
            "left": null,
            "margin": null,
            "max_height": null,
            "max_width": null,
            "min_height": null,
            "min_width": null,
            "object_fit": null,
            "object_position": null,
            "order": null,
            "overflow": null,
            "overflow_x": null,
            "overflow_y": null,
            "padding": null,
            "right": null,
            "top": null,
            "visibility": null,
            "width": null
          }
        },
        "0226b865f78c498880f3828a0928beb8": {
          "model_module": "@jupyter-widgets/base",
          "model_name": "LayoutModel",
          "model_module_version": "1.2.0",
          "state": {
            "_model_module": "@jupyter-widgets/base",
            "_model_module_version": "1.2.0",
            "_model_name": "LayoutModel",
            "_view_count": null,
            "_view_module": "@jupyter-widgets/base",
            "_view_module_version": "1.2.0",
            "_view_name": "LayoutView",
            "align_content": null,
            "align_items": null,
            "align_self": null,
            "border": null,
            "bottom": null,
            "display": null,
            "flex": null,
            "flex_flow": null,
            "grid_area": null,
            "grid_auto_columns": null,
            "grid_auto_flow": null,
            "grid_auto_rows": null,
            "grid_column": null,
            "grid_gap": null,
            "grid_row": null,
            "grid_template_areas": null,
            "grid_template_columns": null,
            "grid_template_rows": null,
            "height": null,
            "justify_content": null,
            "justify_items": null,
            "left": null,
            "margin": null,
            "max_height": null,
            "max_width": null,
            "min_height": null,
            "min_width": null,
            "object_fit": null,
            "object_position": null,
            "order": null,
            "overflow": null,
            "overflow_x": null,
            "overflow_y": null,
            "padding": null,
            "right": null,
            "top": null,
            "visibility": null,
            "width": null
          }
        },
        "5878310f192c42259d17f165d2c766a2": {
          "model_module": "@jupyter-widgets/controls",
          "model_name": "DescriptionStyleModel",
          "model_module_version": "1.5.0",
          "state": {
            "_model_module": "@jupyter-widgets/controls",
            "_model_module_version": "1.5.0",
            "_model_name": "DescriptionStyleModel",
            "_view_count": null,
            "_view_module": "@jupyter-widgets/base",
            "_view_module_version": "1.2.0",
            "_view_name": "StyleView",
            "description_width": ""
          }
        },
        "93803b81d0414bdebceaa7b72a278d73": {
          "model_module": "@jupyter-widgets/base",
          "model_name": "LayoutModel",
          "model_module_version": "1.2.0",
          "state": {
            "_model_module": "@jupyter-widgets/base",
            "_model_module_version": "1.2.0",
            "_model_name": "LayoutModel",
            "_view_count": null,
            "_view_module": "@jupyter-widgets/base",
            "_view_module_version": "1.2.0",
            "_view_name": "LayoutView",
            "align_content": null,
            "align_items": null,
            "align_self": null,
            "border": null,
            "bottom": null,
            "display": null,
            "flex": null,
            "flex_flow": null,
            "grid_area": null,
            "grid_auto_columns": null,
            "grid_auto_flow": null,
            "grid_auto_rows": null,
            "grid_column": null,
            "grid_gap": null,
            "grid_row": null,
            "grid_template_areas": null,
            "grid_template_columns": null,
            "grid_template_rows": null,
            "height": null,
            "justify_content": null,
            "justify_items": null,
            "left": null,
            "margin": null,
            "max_height": null,
            "max_width": null,
            "min_height": null,
            "min_width": null,
            "object_fit": null,
            "object_position": null,
            "order": null,
            "overflow": null,
            "overflow_x": null,
            "overflow_y": null,
            "padding": null,
            "right": null,
            "top": null,
            "visibility": null,
            "width": null
          }
        },
        "8a2b1ecf68d642198dc4b669c2921f6f": {
          "model_module": "@jupyter-widgets/controls",
          "model_name": "ProgressStyleModel",
          "model_module_version": "1.5.0",
          "state": {
            "_model_module": "@jupyter-widgets/controls",
            "_model_module_version": "1.5.0",
            "_model_name": "ProgressStyleModel",
            "_view_count": null,
            "_view_module": "@jupyter-widgets/base",
            "_view_module_version": "1.2.0",
            "_view_name": "StyleView",
            "bar_color": null,
            "description_width": ""
          }
        },
        "36bcdb8901aa4c67afe84f13b620db2e": {
          "model_module": "@jupyter-widgets/base",
          "model_name": "LayoutModel",
          "model_module_version": "1.2.0",
          "state": {
            "_model_module": "@jupyter-widgets/base",
            "_model_module_version": "1.2.0",
            "_model_name": "LayoutModel",
            "_view_count": null,
            "_view_module": "@jupyter-widgets/base",
            "_view_module_version": "1.2.0",
            "_view_name": "LayoutView",
            "align_content": null,
            "align_items": null,
            "align_self": null,
            "border": null,
            "bottom": null,
            "display": null,
            "flex": null,
            "flex_flow": null,
            "grid_area": null,
            "grid_auto_columns": null,
            "grid_auto_flow": null,
            "grid_auto_rows": null,
            "grid_column": null,
            "grid_gap": null,
            "grid_row": null,
            "grid_template_areas": null,
            "grid_template_columns": null,
            "grid_template_rows": null,
            "height": null,
            "justify_content": null,
            "justify_items": null,
            "left": null,
            "margin": null,
            "max_height": null,
            "max_width": null,
            "min_height": null,
            "min_width": null,
            "object_fit": null,
            "object_position": null,
            "order": null,
            "overflow": null,
            "overflow_x": null,
            "overflow_y": null,
            "padding": null,
            "right": null,
            "top": null,
            "visibility": null,
            "width": null
          }
        },
        "49292576c1ec448d8e1c0416c3c4bd93": {
          "model_module": "@jupyter-widgets/controls",
          "model_name": "DescriptionStyleModel",
          "model_module_version": "1.5.0",
          "state": {
            "_model_module": "@jupyter-widgets/controls",
            "_model_module_version": "1.5.0",
            "_model_name": "DescriptionStyleModel",
            "_view_count": null,
            "_view_module": "@jupyter-widgets/base",
            "_view_module_version": "1.2.0",
            "_view_name": "StyleView",
            "description_width": ""
          }
        },
        "4592f6cd378b4a9eb62bb47c2f6c2477": {
          "model_module": "@jupyter-widgets/controls",
          "model_name": "HBoxModel",
          "model_module_version": "1.5.0",
          "state": {
            "_dom_classes": [],
            "_model_module": "@jupyter-widgets/controls",
            "_model_module_version": "1.5.0",
            "_model_name": "HBoxModel",
            "_view_count": null,
            "_view_module": "@jupyter-widgets/controls",
            "_view_module_version": "1.5.0",
            "_view_name": "HBoxView",
            "box_style": "",
            "children": [
              "IPY_MODEL_d1423f894f8e433fb9f8d4bb6d166235",
              "IPY_MODEL_752d76c83df8436a98fed5b62c440318",
              "IPY_MODEL_eddefba92ca24dd5810eebcb92056397"
            ],
            "layout": "IPY_MODEL_68edcf68394f411488ad1ac5881aa1da"
          }
        },
        "d1423f894f8e433fb9f8d4bb6d166235": {
          "model_module": "@jupyter-widgets/controls",
          "model_name": "HTMLModel",
          "model_module_version": "1.5.0",
          "state": {
            "_dom_classes": [],
            "_model_module": "@jupyter-widgets/controls",
            "_model_module_version": "1.5.0",
            "_model_name": "HTMLModel",
            "_view_count": null,
            "_view_module": "@jupyter-widgets/controls",
            "_view_module_version": "1.5.0",
            "_view_name": "HTMLView",
            "description": "",
            "description_tooltip": null,
            "layout": "IPY_MODEL_048f7b7af1394faa946e436a2dcad146",
            "placeholder": "​",
            "style": "IPY_MODEL_825412f94336431e99e1477c3a1626bb",
            "value": "Downloading vocab.json: 100%"
          }
        },
        "752d76c83df8436a98fed5b62c440318": {
          "model_module": "@jupyter-widgets/controls",
          "model_name": "FloatProgressModel",
          "model_module_version": "1.5.0",
          "state": {
            "_dom_classes": [],
            "_model_module": "@jupyter-widgets/controls",
            "_model_module_version": "1.5.0",
            "_model_name": "FloatProgressModel",
            "_view_count": null,
            "_view_module": "@jupyter-widgets/controls",
            "_view_module_version": "1.5.0",
            "_view_name": "ProgressView",
            "bar_style": "success",
            "description": "",
            "description_tooltip": null,
            "layout": "IPY_MODEL_559e1dd1a7e04b54bfb73af17437e1b2",
            "max": 3708092,
            "min": 0,
            "orientation": "horizontal",
            "style": "IPY_MODEL_c45244c608f0404d8c226e0f346a637f",
            "value": 3708092
          }
        },
        "eddefba92ca24dd5810eebcb92056397": {
          "model_module": "@jupyter-widgets/controls",
          "model_name": "HTMLModel",
          "model_module_version": "1.5.0",
          "state": {
            "_dom_classes": [],
            "_model_module": "@jupyter-widgets/controls",
            "_model_module_version": "1.5.0",
            "_model_name": "HTMLModel",
            "_view_count": null,
            "_view_module": "@jupyter-widgets/controls",
            "_view_module_version": "1.5.0",
            "_view_name": "HTMLView",
            "description": "",
            "description_tooltip": null,
            "layout": "IPY_MODEL_18dbb6cb1ef84d6c8ea1ae1cc114f4f6",
            "placeholder": "​",
            "style": "IPY_MODEL_91ce4acf51f04658b131b95fdb544417",
            "value": " 3.54M/3.54M [00:00&lt;00:00, 7.98MB/s]"
          }
        },
        "68edcf68394f411488ad1ac5881aa1da": {
          "model_module": "@jupyter-widgets/base",
          "model_name": "LayoutModel",
          "model_module_version": "1.2.0",
          "state": {
            "_model_module": "@jupyter-widgets/base",
            "_model_module_version": "1.2.0",
            "_model_name": "LayoutModel",
            "_view_count": null,
            "_view_module": "@jupyter-widgets/base",
            "_view_module_version": "1.2.0",
            "_view_name": "LayoutView",
            "align_content": null,
            "align_items": null,
            "align_self": null,
            "border": null,
            "bottom": null,
            "display": null,
            "flex": null,
            "flex_flow": null,
            "grid_area": null,
            "grid_auto_columns": null,
            "grid_auto_flow": null,
            "grid_auto_rows": null,
            "grid_column": null,
            "grid_gap": null,
            "grid_row": null,
            "grid_template_areas": null,
            "grid_template_columns": null,
            "grid_template_rows": null,
            "height": null,
            "justify_content": null,
            "justify_items": null,
            "left": null,
            "margin": null,
            "max_height": null,
            "max_width": null,
            "min_height": null,
            "min_width": null,
            "object_fit": null,
            "object_position": null,
            "order": null,
            "overflow": null,
            "overflow_x": null,
            "overflow_y": null,
            "padding": null,
            "right": null,
            "top": null,
            "visibility": null,
            "width": null
          }
        },
        "048f7b7af1394faa946e436a2dcad146": {
          "model_module": "@jupyter-widgets/base",
          "model_name": "LayoutModel",
          "model_module_version": "1.2.0",
          "state": {
            "_model_module": "@jupyter-widgets/base",
            "_model_module_version": "1.2.0",
            "_model_name": "LayoutModel",
            "_view_count": null,
            "_view_module": "@jupyter-widgets/base",
            "_view_module_version": "1.2.0",
            "_view_name": "LayoutView",
            "align_content": null,
            "align_items": null,
            "align_self": null,
            "border": null,
            "bottom": null,
            "display": null,
            "flex": null,
            "flex_flow": null,
            "grid_area": null,
            "grid_auto_columns": null,
            "grid_auto_flow": null,
            "grid_auto_rows": null,
            "grid_column": null,
            "grid_gap": null,
            "grid_row": null,
            "grid_template_areas": null,
            "grid_template_columns": null,
            "grid_template_rows": null,
            "height": null,
            "justify_content": null,
            "justify_items": null,
            "left": null,
            "margin": null,
            "max_height": null,
            "max_width": null,
            "min_height": null,
            "min_width": null,
            "object_fit": null,
            "object_position": null,
            "order": null,
            "overflow": null,
            "overflow_x": null,
            "overflow_y": null,
            "padding": null,
            "right": null,
            "top": null,
            "visibility": null,
            "width": null
          }
        },
        "825412f94336431e99e1477c3a1626bb": {
          "model_module": "@jupyter-widgets/controls",
          "model_name": "DescriptionStyleModel",
          "model_module_version": "1.5.0",
          "state": {
            "_model_module": "@jupyter-widgets/controls",
            "_model_module_version": "1.5.0",
            "_model_name": "DescriptionStyleModel",
            "_view_count": null,
            "_view_module": "@jupyter-widgets/base",
            "_view_module_version": "1.2.0",
            "_view_name": "StyleView",
            "description_width": ""
          }
        },
        "559e1dd1a7e04b54bfb73af17437e1b2": {
          "model_module": "@jupyter-widgets/base",
          "model_name": "LayoutModel",
          "model_module_version": "1.2.0",
          "state": {
            "_model_module": "@jupyter-widgets/base",
            "_model_module_version": "1.2.0",
            "_model_name": "LayoutModel",
            "_view_count": null,
            "_view_module": "@jupyter-widgets/base",
            "_view_module_version": "1.2.0",
            "_view_name": "LayoutView",
            "align_content": null,
            "align_items": null,
            "align_self": null,
            "border": null,
            "bottom": null,
            "display": null,
            "flex": null,
            "flex_flow": null,
            "grid_area": null,
            "grid_auto_columns": null,
            "grid_auto_flow": null,
            "grid_auto_rows": null,
            "grid_column": null,
            "grid_gap": null,
            "grid_row": null,
            "grid_template_areas": null,
            "grid_template_columns": null,
            "grid_template_rows": null,
            "height": null,
            "justify_content": null,
            "justify_items": null,
            "left": null,
            "margin": null,
            "max_height": null,
            "max_width": null,
            "min_height": null,
            "min_width": null,
            "object_fit": null,
            "object_position": null,
            "order": null,
            "overflow": null,
            "overflow_x": null,
            "overflow_y": null,
            "padding": null,
            "right": null,
            "top": null,
            "visibility": null,
            "width": null
          }
        },
        "c45244c608f0404d8c226e0f346a637f": {
          "model_module": "@jupyter-widgets/controls",
          "model_name": "ProgressStyleModel",
          "model_module_version": "1.5.0",
          "state": {
            "_model_module": "@jupyter-widgets/controls",
            "_model_module_version": "1.5.0",
            "_model_name": "ProgressStyleModel",
            "_view_count": null,
            "_view_module": "@jupyter-widgets/base",
            "_view_module_version": "1.2.0",
            "_view_name": "StyleView",
            "bar_color": null,
            "description_width": ""
          }
        },
        "18dbb6cb1ef84d6c8ea1ae1cc114f4f6": {
          "model_module": "@jupyter-widgets/base",
          "model_name": "LayoutModel",
          "model_module_version": "1.2.0",
          "state": {
            "_model_module": "@jupyter-widgets/base",
            "_model_module_version": "1.2.0",
            "_model_name": "LayoutModel",
            "_view_count": null,
            "_view_module": "@jupyter-widgets/base",
            "_view_module_version": "1.2.0",
            "_view_name": "LayoutView",
            "align_content": null,
            "align_items": null,
            "align_self": null,
            "border": null,
            "bottom": null,
            "display": null,
            "flex": null,
            "flex_flow": null,
            "grid_area": null,
            "grid_auto_columns": null,
            "grid_auto_flow": null,
            "grid_auto_rows": null,
            "grid_column": null,
            "grid_gap": null,
            "grid_row": null,
            "grid_template_areas": null,
            "grid_template_columns": null,
            "grid_template_rows": null,
            "height": null,
            "justify_content": null,
            "justify_items": null,
            "left": null,
            "margin": null,
            "max_height": null,
            "max_width": null,
            "min_height": null,
            "min_width": null,
            "object_fit": null,
            "object_position": null,
            "order": null,
            "overflow": null,
            "overflow_x": null,
            "overflow_y": null,
            "padding": null,
            "right": null,
            "top": null,
            "visibility": null,
            "width": null
          }
        },
        "91ce4acf51f04658b131b95fdb544417": {
          "model_module": "@jupyter-widgets/controls",
          "model_name": "DescriptionStyleModel",
          "model_module_version": "1.5.0",
          "state": {
            "_model_module": "@jupyter-widgets/controls",
            "_model_module_version": "1.5.0",
            "_model_name": "DescriptionStyleModel",
            "_view_count": null,
            "_view_module": "@jupyter-widgets/base",
            "_view_module_version": "1.2.0",
            "_view_name": "StyleView",
            "description_width": ""
          }
        },
        "a0d0738a5e4e45cfbd3793325b2a9762": {
          "model_module": "@jupyter-widgets/controls",
          "model_name": "HBoxModel",
          "model_module_version": "1.5.0",
          "state": {
            "_dom_classes": [],
            "_model_module": "@jupyter-widgets/controls",
            "_model_module_version": "1.5.0",
            "_model_name": "HBoxModel",
            "_view_count": null,
            "_view_module": "@jupyter-widgets/controls",
            "_view_module_version": "1.5.0",
            "_view_name": "HBoxView",
            "box_style": "",
            "children": [
              "IPY_MODEL_ac8fd06d4b1f4e43803048ffc932d89e",
              "IPY_MODEL_f85428e7dc5c47a4bfcccf8c0ddd0ecf",
              "IPY_MODEL_02dc5a6126ca46e3bef87f296d473d44"
            ],
            "layout": "IPY_MODEL_197ce016e15d4fa185670efc80c8eb18"
          }
        },
        "ac8fd06d4b1f4e43803048ffc932d89e": {
          "model_module": "@jupyter-widgets/controls",
          "model_name": "HTMLModel",
          "model_module_version": "1.5.0",
          "state": {
            "_dom_classes": [],
            "_model_module": "@jupyter-widgets/controls",
            "_model_module_version": "1.5.0",
            "_model_name": "HTMLModel",
            "_view_count": null,
            "_view_module": "@jupyter-widgets/controls",
            "_view_module_version": "1.5.0",
            "_view_name": "HTMLView",
            "description": "",
            "description_tooltip": null,
            "layout": "IPY_MODEL_82b4795074384d19967b27f23de9b2c4",
            "placeholder": "​",
            "style": "IPY_MODEL_8408c8cc2d994de1a9baf140ceef7c64",
            "value": "Downloading sentencepiece.bpe.model: 100%"
          }
        },
        "f85428e7dc5c47a4bfcccf8c0ddd0ecf": {
          "model_module": "@jupyter-widgets/controls",
          "model_name": "FloatProgressModel",
          "model_module_version": "1.5.0",
          "state": {
            "_dom_classes": [],
            "_model_module": "@jupyter-widgets/controls",
            "_model_module_version": "1.5.0",
            "_model_name": "FloatProgressModel",
            "_view_count": null,
            "_view_module": "@jupyter-widgets/controls",
            "_view_module_version": "1.5.0",
            "_view_name": "ProgressView",
            "bar_style": "success",
            "description": "",
            "description_tooltip": null,
            "layout": "IPY_MODEL_9efaddcaad3f4573ad09cfd7531759c4",
            "max": 2423393,
            "min": 0,
            "orientation": "horizontal",
            "style": "IPY_MODEL_b56bb25986f746008d35e4c0bf09d2ff",
            "value": 2423393
          }
        },
        "02dc5a6126ca46e3bef87f296d473d44": {
          "model_module": "@jupyter-widgets/controls",
          "model_name": "HTMLModel",
          "model_module_version": "1.5.0",
          "state": {
            "_dom_classes": [],
            "_model_module": "@jupyter-widgets/controls",
            "_model_module_version": "1.5.0",
            "_model_name": "HTMLModel",
            "_view_count": null,
            "_view_module": "@jupyter-widgets/controls",
            "_view_module_version": "1.5.0",
            "_view_name": "HTMLView",
            "description": "",
            "description_tooltip": null,
            "layout": "IPY_MODEL_b28e652b346d429b9dad24e6f0dadf89",
            "placeholder": "​",
            "style": "IPY_MODEL_d1cdf3487af7495383df6df36ed9d1e2",
            "value": " 2.31M/2.31M [00:00&lt;00:00, 26.3MB/s]"
          }
        },
        "197ce016e15d4fa185670efc80c8eb18": {
          "model_module": "@jupyter-widgets/base",
          "model_name": "LayoutModel",
          "model_module_version": "1.2.0",
          "state": {
            "_model_module": "@jupyter-widgets/base",
            "_model_module_version": "1.2.0",
            "_model_name": "LayoutModel",
            "_view_count": null,
            "_view_module": "@jupyter-widgets/base",
            "_view_module_version": "1.2.0",
            "_view_name": "LayoutView",
            "align_content": null,
            "align_items": null,
            "align_self": null,
            "border": null,
            "bottom": null,
            "display": null,
            "flex": null,
            "flex_flow": null,
            "grid_area": null,
            "grid_auto_columns": null,
            "grid_auto_flow": null,
            "grid_auto_rows": null,
            "grid_column": null,
            "grid_gap": null,
            "grid_row": null,
            "grid_template_areas": null,
            "grid_template_columns": null,
            "grid_template_rows": null,
            "height": null,
            "justify_content": null,
            "justify_items": null,
            "left": null,
            "margin": null,
            "max_height": null,
            "max_width": null,
            "min_height": null,
            "min_width": null,
            "object_fit": null,
            "object_position": null,
            "order": null,
            "overflow": null,
            "overflow_x": null,
            "overflow_y": null,
            "padding": null,
            "right": null,
            "top": null,
            "visibility": null,
            "width": null
          }
        },
        "82b4795074384d19967b27f23de9b2c4": {
          "model_module": "@jupyter-widgets/base",
          "model_name": "LayoutModel",
          "model_module_version": "1.2.0",
          "state": {
            "_model_module": "@jupyter-widgets/base",
            "_model_module_version": "1.2.0",
            "_model_name": "LayoutModel",
            "_view_count": null,
            "_view_module": "@jupyter-widgets/base",
            "_view_module_version": "1.2.0",
            "_view_name": "LayoutView",
            "align_content": null,
            "align_items": null,
            "align_self": null,
            "border": null,
            "bottom": null,
            "display": null,
            "flex": null,
            "flex_flow": null,
            "grid_area": null,
            "grid_auto_columns": null,
            "grid_auto_flow": null,
            "grid_auto_rows": null,
            "grid_column": null,
            "grid_gap": null,
            "grid_row": null,
            "grid_template_areas": null,
            "grid_template_columns": null,
            "grid_template_rows": null,
            "height": null,
            "justify_content": null,
            "justify_items": null,
            "left": null,
            "margin": null,
            "max_height": null,
            "max_width": null,
            "min_height": null,
            "min_width": null,
            "object_fit": null,
            "object_position": null,
            "order": null,
            "overflow": null,
            "overflow_x": null,
            "overflow_y": null,
            "padding": null,
            "right": null,
            "top": null,
            "visibility": null,
            "width": null
          }
        },
        "8408c8cc2d994de1a9baf140ceef7c64": {
          "model_module": "@jupyter-widgets/controls",
          "model_name": "DescriptionStyleModel",
          "model_module_version": "1.5.0",
          "state": {
            "_model_module": "@jupyter-widgets/controls",
            "_model_module_version": "1.5.0",
            "_model_name": "DescriptionStyleModel",
            "_view_count": null,
            "_view_module": "@jupyter-widgets/base",
            "_view_module_version": "1.2.0",
            "_view_name": "StyleView",
            "description_width": ""
          }
        },
        "9efaddcaad3f4573ad09cfd7531759c4": {
          "model_module": "@jupyter-widgets/base",
          "model_name": "LayoutModel",
          "model_module_version": "1.2.0",
          "state": {
            "_model_module": "@jupyter-widgets/base",
            "_model_module_version": "1.2.0",
            "_model_name": "LayoutModel",
            "_view_count": null,
            "_view_module": "@jupyter-widgets/base",
            "_view_module_version": "1.2.0",
            "_view_name": "LayoutView",
            "align_content": null,
            "align_items": null,
            "align_self": null,
            "border": null,
            "bottom": null,
            "display": null,
            "flex": null,
            "flex_flow": null,
            "grid_area": null,
            "grid_auto_columns": null,
            "grid_auto_flow": null,
            "grid_auto_rows": null,
            "grid_column": null,
            "grid_gap": null,
            "grid_row": null,
            "grid_template_areas": null,
            "grid_template_columns": null,
            "grid_template_rows": null,
            "height": null,
            "justify_content": null,
            "justify_items": null,
            "left": null,
            "margin": null,
            "max_height": null,
            "max_width": null,
            "min_height": null,
            "min_width": null,
            "object_fit": null,
            "object_position": null,
            "order": null,
            "overflow": null,
            "overflow_x": null,
            "overflow_y": null,
            "padding": null,
            "right": null,
            "top": null,
            "visibility": null,
            "width": null
          }
        },
        "b56bb25986f746008d35e4c0bf09d2ff": {
          "model_module": "@jupyter-widgets/controls",
          "model_name": "ProgressStyleModel",
          "model_module_version": "1.5.0",
          "state": {
            "_model_module": "@jupyter-widgets/controls",
            "_model_module_version": "1.5.0",
            "_model_name": "ProgressStyleModel",
            "_view_count": null,
            "_view_module": "@jupyter-widgets/base",
            "_view_module_version": "1.2.0",
            "_view_name": "StyleView",
            "bar_color": null,
            "description_width": ""
          }
        },
        "b28e652b346d429b9dad24e6f0dadf89": {
          "model_module": "@jupyter-widgets/base",
          "model_name": "LayoutModel",
          "model_module_version": "1.2.0",
          "state": {
            "_model_module": "@jupyter-widgets/base",
            "_model_module_version": "1.2.0",
            "_model_name": "LayoutModel",
            "_view_count": null,
            "_view_module": "@jupyter-widgets/base",
            "_view_module_version": "1.2.0",
            "_view_name": "LayoutView",
            "align_content": null,
            "align_items": null,
            "align_self": null,
            "border": null,
            "bottom": null,
            "display": null,
            "flex": null,
            "flex_flow": null,
            "grid_area": null,
            "grid_auto_columns": null,
            "grid_auto_flow": null,
            "grid_auto_rows": null,
            "grid_column": null,
            "grid_gap": null,
            "grid_row": null,
            "grid_template_areas": null,
            "grid_template_columns": null,
            "grid_template_rows": null,
            "height": null,
            "justify_content": null,
            "justify_items": null,
            "left": null,
            "margin": null,
            "max_height": null,
            "max_width": null,
            "min_height": null,
            "min_width": null,
            "object_fit": null,
            "object_position": null,
            "order": null,
            "overflow": null,
            "overflow_x": null,
            "overflow_y": null,
            "padding": null,
            "right": null,
            "top": null,
            "visibility": null,
            "width": null
          }
        },
        "d1cdf3487af7495383df6df36ed9d1e2": {
          "model_module": "@jupyter-widgets/controls",
          "model_name": "DescriptionStyleModel",
          "model_module_version": "1.5.0",
          "state": {
            "_model_module": "@jupyter-widgets/controls",
            "_model_module_version": "1.5.0",
            "_model_name": "DescriptionStyleModel",
            "_view_count": null,
            "_view_module": "@jupyter-widgets/base",
            "_view_module_version": "1.2.0",
            "_view_name": "StyleView",
            "description_width": ""
          }
        },
        "d2d0c1c42ad049388e79a2a5699dbf00": {
          "model_module": "@jupyter-widgets/controls",
          "model_name": "HBoxModel",
          "model_module_version": "1.5.0",
          "state": {
            "_dom_classes": [],
            "_model_module": "@jupyter-widgets/controls",
            "_model_module_version": "1.5.0",
            "_model_name": "HBoxModel",
            "_view_count": null,
            "_view_module": "@jupyter-widgets/controls",
            "_view_module_version": "1.5.0",
            "_view_name": "HBoxView",
            "box_style": "",
            "children": [
              "IPY_MODEL_a13ed761a8df48289e0c98b750951fe8",
              "IPY_MODEL_ff29c11d92a44a5a84c2870336d4071b",
              "IPY_MODEL_c267cf58361a4b31a99131ec5ed07ef3"
            ],
            "layout": "IPY_MODEL_8eb144084a194d5392391057557d0fa5"
          }
        },
        "a13ed761a8df48289e0c98b750951fe8": {
          "model_module": "@jupyter-widgets/controls",
          "model_name": "HTMLModel",
          "model_module_version": "1.5.0",
          "state": {
            "_dom_classes": [],
            "_model_module": "@jupyter-widgets/controls",
            "_model_module_version": "1.5.0",
            "_model_name": "HTMLModel",
            "_view_count": null,
            "_view_module": "@jupyter-widgets/controls",
            "_view_module_version": "1.5.0",
            "_view_name": "HTMLView",
            "description": "",
            "description_tooltip": null,
            "layout": "IPY_MODEL_e187d14ec038441a9ed82180bbe63653",
            "placeholder": "​",
            "style": "IPY_MODEL_056e0b74f82542e8abd474f3a290a828",
            "value": "Downloading special_tokens_map.json: 100%"
          }
        },
        "ff29c11d92a44a5a84c2870336d4071b": {
          "model_module": "@jupyter-widgets/controls",
          "model_name": "FloatProgressModel",
          "model_module_version": "1.5.0",
          "state": {
            "_dom_classes": [],
            "_model_module": "@jupyter-widgets/controls",
            "_model_module_version": "1.5.0",
            "_model_name": "FloatProgressModel",
            "_view_count": null,
            "_view_module": "@jupyter-widgets/controls",
            "_view_module_version": "1.5.0",
            "_view_name": "ProgressView",
            "bar_style": "success",
            "description": "",
            "description_tooltip": null,
            "layout": "IPY_MODEL_526df2a41fba49e485a98679dd2a18f5",
            "max": 1140,
            "min": 0,
            "orientation": "horizontal",
            "style": "IPY_MODEL_fd110b6d2f5f49e9b71aa9c8c3a96b77",
            "value": 1140
          }
        },
        "c267cf58361a4b31a99131ec5ed07ef3": {
          "model_module": "@jupyter-widgets/controls",
          "model_name": "HTMLModel",
          "model_module_version": "1.5.0",
          "state": {
            "_dom_classes": [],
            "_model_module": "@jupyter-widgets/controls",
            "_model_module_version": "1.5.0",
            "_model_name": "HTMLModel",
            "_view_count": null,
            "_view_module": "@jupyter-widgets/controls",
            "_view_module_version": "1.5.0",
            "_view_name": "HTMLView",
            "description": "",
            "description_tooltip": null,
            "layout": "IPY_MODEL_f30599c7943f4f10aeda71577dc89f00",
            "placeholder": "​",
            "style": "IPY_MODEL_19f41aaac4184151a483bf3c50dcfade",
            "value": " 1.11k/1.11k [00:00&lt;00:00, 34.0kB/s]"
          }
        },
        "8eb144084a194d5392391057557d0fa5": {
          "model_module": "@jupyter-widgets/base",
          "model_name": "LayoutModel",
          "model_module_version": "1.2.0",
          "state": {
            "_model_module": "@jupyter-widgets/base",
            "_model_module_version": "1.2.0",
            "_model_name": "LayoutModel",
            "_view_count": null,
            "_view_module": "@jupyter-widgets/base",
            "_view_module_version": "1.2.0",
            "_view_name": "LayoutView",
            "align_content": null,
            "align_items": null,
            "align_self": null,
            "border": null,
            "bottom": null,
            "display": null,
            "flex": null,
            "flex_flow": null,
            "grid_area": null,
            "grid_auto_columns": null,
            "grid_auto_flow": null,
            "grid_auto_rows": null,
            "grid_column": null,
            "grid_gap": null,
            "grid_row": null,
            "grid_template_areas": null,
            "grid_template_columns": null,
            "grid_template_rows": null,
            "height": null,
            "justify_content": null,
            "justify_items": null,
            "left": null,
            "margin": null,
            "max_height": null,
            "max_width": null,
            "min_height": null,
            "min_width": null,
            "object_fit": null,
            "object_position": null,
            "order": null,
            "overflow": null,
            "overflow_x": null,
            "overflow_y": null,
            "padding": null,
            "right": null,
            "top": null,
            "visibility": null,
            "width": null
          }
        },
        "e187d14ec038441a9ed82180bbe63653": {
          "model_module": "@jupyter-widgets/base",
          "model_name": "LayoutModel",
          "model_module_version": "1.2.0",
          "state": {
            "_model_module": "@jupyter-widgets/base",
            "_model_module_version": "1.2.0",
            "_model_name": "LayoutModel",
            "_view_count": null,
            "_view_module": "@jupyter-widgets/base",
            "_view_module_version": "1.2.0",
            "_view_name": "LayoutView",
            "align_content": null,
            "align_items": null,
            "align_self": null,
            "border": null,
            "bottom": null,
            "display": null,
            "flex": null,
            "flex_flow": null,
            "grid_area": null,
            "grid_auto_columns": null,
            "grid_auto_flow": null,
            "grid_auto_rows": null,
            "grid_column": null,
            "grid_gap": null,
            "grid_row": null,
            "grid_template_areas": null,
            "grid_template_columns": null,
            "grid_template_rows": null,
            "height": null,
            "justify_content": null,
            "justify_items": null,
            "left": null,
            "margin": null,
            "max_height": null,
            "max_width": null,
            "min_height": null,
            "min_width": null,
            "object_fit": null,
            "object_position": null,
            "order": null,
            "overflow": null,
            "overflow_x": null,
            "overflow_y": null,
            "padding": null,
            "right": null,
            "top": null,
            "visibility": null,
            "width": null
          }
        },
        "056e0b74f82542e8abd474f3a290a828": {
          "model_module": "@jupyter-widgets/controls",
          "model_name": "DescriptionStyleModel",
          "model_module_version": "1.5.0",
          "state": {
            "_model_module": "@jupyter-widgets/controls",
            "_model_module_version": "1.5.0",
            "_model_name": "DescriptionStyleModel",
            "_view_count": null,
            "_view_module": "@jupyter-widgets/base",
            "_view_module_version": "1.2.0",
            "_view_name": "StyleView",
            "description_width": ""
          }
        },
        "526df2a41fba49e485a98679dd2a18f5": {
          "model_module": "@jupyter-widgets/base",
          "model_name": "LayoutModel",
          "model_module_version": "1.2.0",
          "state": {
            "_model_module": "@jupyter-widgets/base",
            "_model_module_version": "1.2.0",
            "_model_name": "LayoutModel",
            "_view_count": null,
            "_view_module": "@jupyter-widgets/base",
            "_view_module_version": "1.2.0",
            "_view_name": "LayoutView",
            "align_content": null,
            "align_items": null,
            "align_self": null,
            "border": null,
            "bottom": null,
            "display": null,
            "flex": null,
            "flex_flow": null,
            "grid_area": null,
            "grid_auto_columns": null,
            "grid_auto_flow": null,
            "grid_auto_rows": null,
            "grid_column": null,
            "grid_gap": null,
            "grid_row": null,
            "grid_template_areas": null,
            "grid_template_columns": null,
            "grid_template_rows": null,
            "height": null,
            "justify_content": null,
            "justify_items": null,
            "left": null,
            "margin": null,
            "max_height": null,
            "max_width": null,
            "min_height": null,
            "min_width": null,
            "object_fit": null,
            "object_position": null,
            "order": null,
            "overflow": null,
            "overflow_x": null,
            "overflow_y": null,
            "padding": null,
            "right": null,
            "top": null,
            "visibility": null,
            "width": null
          }
        },
        "fd110b6d2f5f49e9b71aa9c8c3a96b77": {
          "model_module": "@jupyter-widgets/controls",
          "model_name": "ProgressStyleModel",
          "model_module_version": "1.5.0",
          "state": {
            "_model_module": "@jupyter-widgets/controls",
            "_model_module_version": "1.5.0",
            "_model_name": "ProgressStyleModel",
            "_view_count": null,
            "_view_module": "@jupyter-widgets/base",
            "_view_module_version": "1.2.0",
            "_view_name": "StyleView",
            "bar_color": null,
            "description_width": ""
          }
        },
        "f30599c7943f4f10aeda71577dc89f00": {
          "model_module": "@jupyter-widgets/base",
          "model_name": "LayoutModel",
          "model_module_version": "1.2.0",
          "state": {
            "_model_module": "@jupyter-widgets/base",
            "_model_module_version": "1.2.0",
            "_model_name": "LayoutModel",
            "_view_count": null,
            "_view_module": "@jupyter-widgets/base",
            "_view_module_version": "1.2.0",
            "_view_name": "LayoutView",
            "align_content": null,
            "align_items": null,
            "align_self": null,
            "border": null,
            "bottom": null,
            "display": null,
            "flex": null,
            "flex_flow": null,
            "grid_area": null,
            "grid_auto_columns": null,
            "grid_auto_flow": null,
            "grid_auto_rows": null,
            "grid_column": null,
            "grid_gap": null,
            "grid_row": null,
            "grid_template_areas": null,
            "grid_template_columns": null,
            "grid_template_rows": null,
            "height": null,
            "justify_content": null,
            "justify_items": null,
            "left": null,
            "margin": null,
            "max_height": null,
            "max_width": null,
            "min_height": null,
            "min_width": null,
            "object_fit": null,
            "object_position": null,
            "order": null,
            "overflow": null,
            "overflow_x": null,
            "overflow_y": null,
            "padding": null,
            "right": null,
            "top": null,
            "visibility": null,
            "width": null
          }
        },
        "19f41aaac4184151a483bf3c50dcfade": {
          "model_module": "@jupyter-widgets/controls",
          "model_name": "DescriptionStyleModel",
          "model_module_version": "1.5.0",
          "state": {
            "_model_module": "@jupyter-widgets/controls",
            "_model_module_version": "1.5.0",
            "_model_name": "DescriptionStyleModel",
            "_view_count": null,
            "_view_module": "@jupyter-widgets/base",
            "_view_module_version": "1.2.0",
            "_view_name": "StyleView",
            "description_width": ""
          }
        }
      }
    }
  },
  "nbformat": 4,
  "nbformat_minor": 0
}