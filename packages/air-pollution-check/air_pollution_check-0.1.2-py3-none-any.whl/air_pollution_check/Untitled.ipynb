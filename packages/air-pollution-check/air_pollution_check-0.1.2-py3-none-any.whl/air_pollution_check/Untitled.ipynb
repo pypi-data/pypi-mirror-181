{
 "cells": [
  {
   "cell_type": "code",
   "execution_count": 4,
   "id": "260b5166",
   "metadata": {},
   "outputs": [
    {
     "data": {
      "text/html": [
       "<div>\n",
       "<style scoped>\n",
       "    .dataframe tbody tr th:only-of-type {\n",
       "        vertical-align: middle;\n",
       "    }\n",
       "\n",
       "    .dataframe tbody tr th {\n",
       "        vertical-align: top;\n",
       "    }\n",
       "\n",
       "    .dataframe thead th {\n",
       "        text-align: right;\n",
       "    }\n",
       "</style>\n",
       "<table border=\"1\" class=\"dataframe\">\n",
       "  <thead>\n",
       "    <tr style=\"text-align: right;\">\n",
       "      <th></th>\n",
       "      <th>co</th>\n",
       "      <th>no</th>\n",
       "      <th>no2</th>\n",
       "      <th>o3</th>\n",
       "      <th>so2</th>\n",
       "      <th>pm2_5</th>\n",
       "      <th>pm10</th>\n",
       "      <th>nh3</th>\n",
       "      <th>lat</th>\n",
       "      <th>lon</th>\n",
       "      <th>no2_level</th>\n",
       "      <th>pm10_level</th>\n",
       "      <th>o3_level</th>\n",
       "      <th>pm2.5_level</th>\n",
       "      <th>total_level</th>\n",
       "      <th>avg_level</th>\n",
       "    </tr>\n",
       "  </thead>\n",
       "  <tbody>\n",
       "    <tr>\n",
       "      <th>0</th>\n",
       "      <td>370.5</td>\n",
       "      <td>0</td>\n",
       "      <td>2.7</td>\n",
       "      <td>37.55</td>\n",
       "      <td>0.95</td>\n",
       "      <td>59.8</td>\n",
       "      <td>153.11</td>\n",
       "      <td>3.29</td>\n",
       "      <td>10</td>\n",
       "      <td>10</td>\n",
       "      <td>5</td>\n",
       "      <td>2</td>\n",
       "      <td>5</td>\n",
       "      <td>2</td>\n",
       "      <td>14</td>\n",
       "      <td>fair</td>\n",
       "    </tr>\n",
       "  </tbody>\n",
       "</table>\n",
       "</div>"
      ],
      "text/plain": [
       "      co  no  no2     o3   so2  pm2_5    pm10   nh3  lat  lon  no2_level  \\\n",
       "0  370.5   0  2.7  37.55  0.95   59.8  153.11  3.29   10   10          5   \n",
       "\n",
       "   pm10_level  o3_level  pm2.5_level  total_level avg_level  \n",
       "0           2         5            2           14      fair  "
      ]
     },
     "execution_count": 4,
     "metadata": {},
     "output_type": "execute_result"
    }
   ],
   "source": [
    "import air_pollution_check\n",
    "\n",
    "air_pollution_check.transfer_df(10,10)"
   ]
  },
  {
   "cell_type": "code",
   "execution_count": null,
   "id": "5ca360dc",
   "metadata": {},
   "outputs": [],
   "source": []
  }
 ],
 "metadata": {
  "kernelspec": {
   "display_name": "Python 3 (ipykernel)",
   "language": "python",
   "name": "python3"
  },
  "language_info": {
   "codemirror_mode": {
    "name": "ipython",
    "version": 3
   },
   "file_extension": ".py",
   "mimetype": "text/x-python",
   "name": "python",
   "nbconvert_exporter": "python",
   "pygments_lexer": "ipython3",
   "version": "3.9.12"
  }
 },
 "nbformat": 4,
 "nbformat_minor": 5
}
