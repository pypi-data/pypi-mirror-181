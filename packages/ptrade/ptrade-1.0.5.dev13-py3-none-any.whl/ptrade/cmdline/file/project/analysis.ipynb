{
 "cells": [
  {
   "cell_type": "code",
   "execution_count": null,
   "metadata": {},
   "outputs": [],
   "source": [
    "import pandas as pd\n",
    "from ptrade.component.analysis import Analysis"
   ]
  },
  {
   "cell_type": "markdown",
   "metadata": {},
   "source": [
    "## 读取交易数据"
   ]
  },
  {
   "cell_type": "code",
   "execution_count": null,
   "metadata": {
    "pycharm": {
     "name": "#%%\n"
    }
   },
   "outputs": [],
   "source": [
    "filepath = './simulate.csv' # 数据路径\n",
    "df = pd.read_csv(filepath)\n",
    "df.head(2)"
   ]
  },
  {
   "cell_type": "markdown",
   "metadata": {},
   "source": [
    "## 分析"
   ]
  },
  {
   "cell_type": "code",
   "execution_count": null,
   "metadata": {
    "pycharm": {
     "name": "#%%\n"
    }
   },
   "outputs": [],
   "source": [
    "ans = Analysis()"
   ]
  },
  {
   "cell_type": "markdown",
   "metadata": {},
   "source": [
    "### 按照仓位计算交易过程"
   ]
  },
  {
   "cell_type": "code",
   "execution_count": null,
   "metadata": {
    "pycharm": {
     "name": "#%%\n"
    }
   },
   "outputs": [],
   "source": [
    "df_by_position = ans.get_df_by_position(\n",
    "    position=None,  # 最大总仓位\n",
    "    longPosition=None,  # 最大多仓位\n",
    "    shortPosition=None,  # 最大空仓位\n",
    "    df=df,  # 数据\n",
    ")\n",
    "df_by_position.head()"
   ]
  },
  {
   "cell_type": "markdown",
   "metadata": {},
   "source": [
    "### 按照等比投资计算交易过程"
   ]
  },
  {
   "cell_type": "code",
   "execution_count": null,
   "metadata": {
    "pycharm": {
     "name": "#%%\n"
    }
   },
   "outputs": [],
   "source": [
    "df_sequential_investment = ans.get_df_sequential_investment(\n",
    "    account_money=1000,  # 初始账户金额\n",
    "    invest_percentage=0.1,  # 投资金额比\n",
    "    position=None,  # 最大总仓位\n",
    "    longPosition=None,  # 最大多仓位\n",
    "    shortPosition=None,  # 最大空仓位\n",
    "    df=df,  # 数据\n",
    ")\n",
    "df_sequential_investment.head()"
   ]
  },
  {
   "cell_type": "code",
   "execution_count": null,
   "metadata": {},
   "outputs": [],
   "source": [
    "### 按阶段分析交易过程数据"
   ]
  },
  {
   "cell_type": "code",
   "execution_count": null,
   "metadata": {
    "pycharm": {
     "name": "#%%\n"
    }
   },
   "outputs": [],
   "source": [
    "df_info_day = ans.get_df_process_info(\n",
    "    account_money=1000,  # 初始账户金额\n",
    "    period='day',  # 统计的单位时间段\n",
    "    position=None,  # 最大总仓位\n",
    "    longPosition=None,  # 最大多仓位\n",
    "    shortPosition=None,  # 最大空仓位\n",
    "    df=df,  # 数据\n",
    ")\n",
    "df_info_day.head()"
   ]
  },
  {
   "cell_type": "code",
   "execution_count": null,
   "metadata": {
    "pycharm": {
     "name": "#%%\n"
    }
   },
   "outputs": [],
   "source": [
    "df_info_week = ans.get_df_process_info(\n",
    "    account_money=1000,  # 初始账户金额\n",
    "    period='week',  # 统计的单位时间段\n",
    "    position=None,  # 最大总仓位\n",
    "    longPosition=None,  # 最大多仓位\n",
    "    shortPosition=None,  # 最大空仓位\n",
    "    df=df,  # 数据\n",
    ")\n",
    "df_info_week.head()"
   ]
  },
  {
   "cell_type": "code",
   "execution_count": null,
   "metadata": {
    "pycharm": {
     "name": "#%%\n"
    }
   },
   "outputs": [],
   "source": [
    "df_info_month= ans.get_df_process_info(\n",
    "    account_money=1000,  # 初始账户金额\n",
    "    period='month',  # 统计的单位时间段\n",
    "    position=None,  # 最大总仓位\n",
    "    longPosition=None,  # 最大多仓位\n",
    "    shortPosition=None,  # 最大空仓位\n",
    "    df=df,  # 数据\n",
    ")\n",
    "df_info_month.head()"
   ]
  },
  {
   "cell_type": "code",
   "execution_count": null,
   "metadata": {
    "pycharm": {
     "name": "#%%\n"
    }
   },
   "outputs": [],
   "source": [
    "df_info_all= ans.get_df_process_info(\n",
    "    account_money=1000,  # 初始账户金额\n",
    "    period='all',  # 统计的单位时间段\n",
    "    position=None,  # 最大总仓位\n",
    "    longPosition=None,  # 最大多仓位\n",
    "    shortPosition=None,  # 最大空仓位\n",
    "    df=df,  # 数据\n",
    ")\n",
    "df_info_all.head()"
   ]
  },
  {
   "cell_type": "code",
   "execution_count": null,
   "metadata": {
    "pycharm": {
     "name": "#%%\n"
    }
   },
   "outputs": [],
   "source": []
  }
 ],
 "metadata": {
  "kernelspec": {
   "display_name": "Python 3 (ipykernel)",
   "language": "python",
   "name": "python3"
  },
  "language_info": {
   "codemirror_mode": {
    "name": "ipython",
    "version": 3
   },
   "file_extension": ".py",
   "mimetype": "text/x-python",
   "name": "python",
   "nbconvert_exporter": "python",
   "pygments_lexer": "ipython3",
   "version": "3.8.4"
  }
 },
 "nbformat": 4,
 "nbformat_minor": 1
}
