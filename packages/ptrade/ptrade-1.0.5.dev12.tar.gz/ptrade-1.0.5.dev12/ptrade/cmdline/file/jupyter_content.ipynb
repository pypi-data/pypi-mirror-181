{
 "cells": [
  {
   "cell_type": "code",
   "execution_count": null,
   "id": "0b323301",
   "metadata": {},
   "outputs": [],
   "source": [
    "import ptrade"
   ]
  },
  {
   "cell_type": "markdown",
   "id": "9d9779ee",
   "metadata": {},
   "source": [
    "## Rule"
   ]
  },
  {
   "cell_type": "code",
   "execution_count": null,
   "id": "35a23da8",
   "metadata": {},
   "outputs": [],
   "source": [
    "class MyRule():\n",
    "    # [交易规则] -----------------------------------------------------------\n",
    "    # T = 0 -> T0交易\n",
    "    # T = 1 -> T1交易 ...\n",
    "    T = 0\n",
    "    # [时区] --------------------------------------------------------------\n",
    "    TIMEZONE = 'Asia/Shanghai'  \n",
    "    # TIMEZONE = 'America/New_York' \n",
    "    # [账户余额] -----------------------------------------------------------\n",
    "    ACCOUNT_MONEY = 1000\n",
    "    # [购买金额] -----------------------------------------------------------\n",
    "    # 单次开仓的默认金额占比\n",
    "    BUY_MONEY_RATE = None  \n",
    "    # 单次开仓的默认金额\n",
    "    BUY_MONEY = 100  \n",
    "    # [止盈止损] -----------------------------------------------------------\n",
    "    # 多单止盈，挂单价格\n",
    "    LONG_TP_RATE = None  \n",
    "    # 多单止损，出发止损价格，以市价单平仓\n",
    "    LONG_SL_RATE = None  \n",
    "    # 空单止盈，挂单价格\n",
    "    SHORT_TP_RATE = None  \n",
    "    # 空单止损，出发止损价格，以市价单平仓\n",
    "    SHORT_SL_RATE = None  \n",
    "    # [杠杆] ---------------------------------------------------------------\n",
    "    # 多单杠杆\n",
    "    LONG_LEVER = 1  \n",
    "    # 空单杠杆\n",
    "    SHORT_LEVER = 1  \n",
    "    # [仓位] ---------------------------------------------------------------\n",
    "    # 多单仓位\n",
    "    LONG_POSITION = 5\n",
    "    # 空单仓位\n",
    "    SHORT_POSITION = 5  \n",
    "    # 总仓位\n",
    "    POSITION = 10  \n",
    "    # [最长订单时间（分钟）] ---------------------------------------------------\n",
    "    # 可以执行开仓的时间\n",
    "    BUY_PERIODS = [\n",
    "        ['00:00:00', '23:59:59']  # 可以开仓时间段为00:00:00 ~ 23:59:59\n",
    "    ]\n",
    "    # 可以执行平仓的时间\n",
    "    SELL_PERIODS = [\n",
    "        ['00:00:00', '23:59:59']  # 可以平仓时间段为00:00:00 ~ 23:59:59\n",
    "    ]\n",
    "    # 运行抛出的时间\n",
    "    THROW_PERIODS = []\n",
    "    # [最长订单时间（分钟）] ---------------------------------------------------\n",
    "    MAX_HOLD_ORDER_MINUTE = None\n",
    "    # [手续费率] -------------------------------------------------------------\n",
    "    # 开仓的手续费\n",
    "    BUY_COMMISSION_RATE = 0.00035  \n",
    "    # 平仓的手续费\n",
    "    SELL_COMMISSION_RATE = 0.00035  "
   ]
  },
  {
   "cell_type": "markdown",
   "id": "9d1e9934",
   "metadata": {},
   "source": [
    "##  Simulate"
   ]
  },
  {
   "cell_type": "code",
   "execution_count": null,
   "id": "49d99812",
   "metadata": {},
   "outputs": [],
   "source": [
    "class MySimulate(ptrade.Simulate):\n",
    "    \n",
    "    def setup(self):\n",
    "        # do something\n",
    "        pass\n",
    "\n",
    "    def buy(self):\n",
    "        # do something\n",
    "        pass\n",
    "    \n",
    "    def sell(self):\n",
    "        # do something\n",
    "        pass"
   ]
  },
  {
   "cell_type": "markdown",
   "id": "f51d677e",
   "metadata": {},
   "source": [
    "## Load Candle"
   ]
  },
  {
   "cell_type": "code",
   "execution_count": null,
   "id": "7e20f53e",
   "metadata": {},
   "outputs": [],
   "source": [
    "candle = ptrade.load.load_candle(\n",
    "    company = '【交易所】',\n",
    "    instType = '【产品类别】',\n",
    "    instId = '【产品ID】',\n",
    "    start = '【起始日期】',\n",
    "    end = '【终止日期】',\n",
    "    bar = '【时间粒度】',\n",
    ")"
   ]
  },
  {
   "cell_type": "markdown",
   "id": "fcd5b23e",
   "metadata": {},
   "source": [
    "## Run "
   ]
  },
  {
   "cell_type": "code",
   "execution_count": null,
   "id": "fd402462",
   "metadata": {},
   "outputs": [],
   "source": [
    "ms = MySimulate(\n",
    "    candle = candle,\n",
    "    rule = Rule,\n",
    "    instId = None,\n",
    "    warn = True,\n",
    ")"
   ]
  },
  {
   "cell_type": "markdown",
   "id": "aecd38a3",
   "metadata": {},
   "source": [
    "## Analysis"
   ]
  },
  {
   "cell_type": "code",
   "execution_count": null,
   "id": "ca41a7dc",
   "metadata": {},
   "outputs": [],
   "source": [
    "# 完整历史交易数据\n",
    "df = ms.analysis.get_df()\n",
    "df.head()"
   ]
  },
  {
   "cell_type": "code",
   "execution_count": null,
   "id": "b6882cd1",
   "metadata": {},
   "outputs": [],
   "source": [
    "df_by_position = ms.analysis.get_df_by_position(\n",
    "    position=None,  # 最大总仓位\n",
    "    longPosition=None,  # 最大多仓位\n",
    "    shortPosition=None,  # 最大空仓位\n",
    ")\n",
    "df_by_position.head()"
   ]
  },
  {
   "cell_type": "code",
   "execution_count": null,
   "id": "9180a9eb",
   "metadata": {},
   "outputs": [],
   "source": [
    "df_sequential_investment = ms.analysis.get_df_sequential_investment(\n",
    "    account_money=1000,  # 初始账户金额\n",
    "    invest_percentage=0.1,  # 投资金额比\n",
    "    position=None,  # 最大总仓位\n",
    "    longPosition=None,  # 最大多仓位\n",
    "    shortPosition=None,  # 最大空仓位\n",
    ")\n",
    "df_sequential_investment.head()"
   ]
  },
  {
   "cell_type": "code",
   "execution_count": null,
   "id": "0c3c16d5",
   "metadata": {},
   "outputs": [],
   "source": [
    "df_info_day = ms.analysis.get_df_process_info(\n",
    "    account_money=1000,  # 初始账户金额\n",
    "    period='day',  # 统计的单位时间段\n",
    "    position=None,  # 最大总仓位\n",
    "    longPosition=None,  # 最大多仓位\n",
    "    shortPosition=None,  # 最大空仓位\n",
    ")\n",
    "df_info_day.head()"
   ]
  },
  {
   "cell_type": "code",
   "execution_count": null,
   "id": "8789944e",
   "metadata": {},
   "outputs": [],
   "source": [
    "df_info_week = ms.analysis.get_df_process_info(\n",
    "    account_money=1000,  # 初始账户金额\n",
    "    period='week',  # 统计的单位时间段\n",
    "    position=None,  # 最大总仓位\n",
    "    longPosition=None,  # 最大多仓位\n",
    "    shortPosition=None,  # 最大空仓位\n",
    ")\n",
    "df_info_week.head()"
   ]
  },
  {
   "cell_type": "code",
   "execution_count": null,
   "id": "834fc512",
   "metadata": {},
   "outputs": [],
   "source": [
    "df_info_month= ms.analysis.get_df_process_info(\n",
    "    account_money=1000,  # 初始账户金额\n",
    "    period='month',  # 统计的单位时间段\n",
    "    position=None,  # 最大总仓位\n",
    "    longPosition=None,  # 最大多仓位\n",
    "    shortPosition=None,  # 最大空仓位\n",
    ")\n",
    "df_info_month.head()"
   ]
  },
  {
   "cell_type": "code",
   "execution_count": null,
   "id": "862d1eae",
   "metadata": {},
   "outputs": [],
   "source": [
    "df_info_all= ms.analysis.get_df_process_info(\n",
    "    account_money=1000,  # 初始账户金额\n",
    "    period='all',  # 统计的单位时间段\n",
    "    position=None,  # 最大总仓位\n",
    "    longPosition=None,  # 最大多仓位\n",
    "    shortPosition=None,  # 最大空仓位\n",
    ")\n",
    "df_info_all.head()"
   ]
  }
 ],
 "metadata": {
  "kernelspec": {
   "display_name": "Python 3 (ipykernel)",
   "language": "python",
   "name": "python3"
  },
  "language_info": {
   "codemirror_mode": {
    "name": "ipython",
    "version": 3
   },
   "file_extension": ".py",
   "mimetype": "text/x-python",
   "name": "python",
   "nbconvert_exporter": "python",
   "pygments_lexer": "ipython3",
   "version": "3.8.4"
  }
 },
 "nbformat": 4,
 "nbformat_minor": 5
}