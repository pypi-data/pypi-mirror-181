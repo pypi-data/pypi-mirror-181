{
 "cells": [
  {
   "cell_type": "code",
   "execution_count": 1,
   "id": "smart-burke",
   "metadata": {},
   "outputs": [],
   "source": [
    "import numpy as np\n",
    "from sklearn.datasets import make_blobs \n",
    "from sklearn.cluster import KMeans\n",
    "import pandas as pd\n",
    "from src.cagg_memview import aggregate\n",
    "import matplotlib.pyplot as plt\n",
    "import seaborn as sns\n",
    "from tqdm import tqdm\n",
    "import matplotlib\n",
    "plt.style.use('ggplot')\n",
    "# np.random.seed(0)"
   ]
  },
  {
   "cell_type": "code",
   "execution_count": 2,
   "id": "copyrighted-cookie",
   "metadata": {},
   "outputs": [],
   "source": [
    "def wcss(data, labels, centers):\n",
    "    _sum = 0\n",
    "    for i in np.unique(labels):\n",
    "        c = centers[i]\n",
    "        partition = data[labels == i]\n",
    "        _sum = _sum + np.sum(np.linalg.norm(partition - c, ord=2, axis=1)**2)\n",
    "    return _sum"
   ]
  },
  {
   "cell_type": "code",
   "execution_count": 3,
   "id": "contained-burke",
   "metadata": {},
   "outputs": [
    {
     "name": "stderr",
     "output_type": "stream",
     "text": [
      "100%|██████████| 100/100 [04:11<00:00,  2.51s/it]\n"
     ]
    }
   ],
   "source": [
    "X, y = make_blobs(n_samples=1000, centers=10, n_features=2, random_state=0)\n",
    "\n",
    "WCSS_Kmeans = list()\n",
    "WCSS_Agg_sp = list()\n",
    "WCSS_Agg_center = list()\n",
    "WCSS_Agg_median = list()\n",
    "upper_bound = list()\n",
    "\n",
    "for TOL in tqdm(np.arange(1.0, 0.0, -0.01)):\n",
    "    agg_labels, splist, nr_dist = aggregate(X, sorting=\"2-norm\", tol=TOL)\n",
    "    sps = np.array(splist)[:, 3:]\n",
    "    centers = list()\n",
    "    m_centers = list()\n",
    "    for i in np.unique(agg_labels):\n",
    "        centers.append(X[agg_labels == i].mean(axis=0))\n",
    "        m_centers.append(np.median(X[agg_labels == i], axis=0))\n",
    "        \n",
    "    upper_bound.append(0.5*(TOL**2)*(1000 - len(np.unique(agg_labels))))\n",
    "    kmeans = KMeans(n_clusters=len(np.unique(agg_labels)),init='k-means++', random_state=0).fit(X)\n",
    "    WCSS_Kmeans.append(kmeans.inertia_) # or WCSS_Kmeans.append(wcss(X, kmeans.labels_, kmeans.cluster_centers_))\n",
    "    WCSS_Agg_sp.append(wcss(X, agg_labels, sps))\n",
    "    WCSS_Agg_center.append(wcss(X, agg_labels, np.array(centers)))\n",
    "    WCSS_Agg_median.append(wcss(X, agg_labels, np.array(m_centers)))"
   ]
  },
  {
   "cell_type": "code",
   "execution_count": 4,
   "id": "color-single",
   "metadata": {},
   "outputs": [],
   "source": [
    "WCSS = pd.DataFrame()\n",
    "WCSS['Kmeans++'] = WCSS_Kmeans\n",
    "WCSS['Aggregation - starting points'] = WCSS_Agg_sp\n",
    "WCSS['Aggregation - mean centers'] = WCSS_Agg_center\n",
    "WCSS['Aggregation - median centers'] = WCSS_Agg_median\n",
    "WCSS['Probabilistic estimate'] = upper_bound\n",
    "WCSS.to_csv('results/WCSS.csv', index=False)"
   ]
  },
  {
   "cell_type": "code",
   "execution_count": null,
   "id": "early-soccer",
   "metadata": {},
   "outputs": [],
   "source": []
  },
  {
   "cell_type": "code",
   "execution_count": null,
   "id": "dental-algebra",
   "metadata": {},
   "outputs": [],
   "source": []
  },
  {
   "cell_type": "code",
   "execution_count": null,
   "id": "deluxe-arena",
   "metadata": {},
   "outputs": [],
   "source": []
  },
  {
   "cell_type": "code",
   "execution_count": null,
   "id": "provincial-theory",
   "metadata": {},
   "outputs": [],
   "source": []
  },
  {
   "cell_type": "code",
   "execution_count": null,
   "id": "pregnant-spine",
   "metadata": {},
   "outputs": [],
   "source": []
  },
  {
   "cell_type": "code",
   "execution_count": null,
   "id": "alive-belarus",
   "metadata": {},
   "outputs": [],
   "source": []
  }
 ],
 "metadata": {
  "kernelspec": {
   "display_name": "Python 3",
   "language": "python",
   "name": "python3"
  },
  "language_info": {
   "codemirror_mode": {
    "name": "ipython",
    "version": 3
   },
   "file_extension": ".py",
   "mimetype": "text/x-python",
   "name": "python",
   "nbconvert_exporter": "python",
   "pygments_lexer": "ipython3",
   "version": "3.9.2"
  }
 },
 "nbformat": 4,
 "nbformat_minor": 5
}
