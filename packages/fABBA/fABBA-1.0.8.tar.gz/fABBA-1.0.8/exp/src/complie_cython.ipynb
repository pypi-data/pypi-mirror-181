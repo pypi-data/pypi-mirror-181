{
 "cells": [
  {
   "cell_type": "code",
   "execution_count": 1,
   "id": "judicial-corps",
   "metadata": {},
   "outputs": [
    {
     "name": "stdout",
     "output_type": "stream",
     "text": [
      "running build_ext\n"
     ]
    }
   ],
   "source": [
    "# %load_ext Cython\n",
    "!python3 setup.py build_ext --inplace"
   ]
  },
  {
   "cell_type": "code",
   "execution_count": 2,
   "id": "egyptian-sitting",
   "metadata": {},
   "outputs": [],
   "source": [
    "import time\n",
    "import numpy as np\n",
    "from compress_c import compress as compress_c\n",
    "from compress import compress"
   ]
  },
  {
   "cell_type": "code",
   "execution_count": 3,
   "id": "nearby-distinction",
   "metadata": {},
   "outputs": [],
   "source": [
    "num = 1000000\n",
    "np.random.seed(0)\n",
    "mu, sigma = 0, 1\n",
    "synthetic_ts = np.random.normal(mu, sigma, num)"
   ]
  },
  {
   "cell_type": "code",
   "execution_count": 4,
   "id": "dominant-motorcycle",
   "metadata": {},
   "outputs": [
    {
     "name": "stdout",
     "output_type": "stream",
     "text": [
      "time: 0.8014583587646484\n"
     ]
    }
   ],
   "source": [
    "st = time.time()\n",
    "pieces_c = compress_c(synthetic_ts, 0.5)\n",
    "et = time.time()\n",
    "print(\"time:\", et - st)"
   ]
  },
  {
   "cell_type": "code",
   "execution_count": null,
   "id": "native-insulin",
   "metadata": {},
   "outputs": [],
   "source": [
    "st = time.time()\n",
    "pieces = compress(synthetic_ts, 0.5)\n",
    "et = time.time()\n",
    "print(\"time:\", et - st)"
   ]
  },
  {
   "cell_type": "code",
   "execution_count": null,
   "id": "temporal-survivor",
   "metadata": {},
   "outputs": [],
   "source": [
    "pieces_c[:5]"
   ]
  },
  {
   "cell_type": "code",
   "execution_count": null,
   "id": "further-undergraduate",
   "metadata": {},
   "outputs": [],
   "source": [
    "pieces[:5]"
   ]
  },
  {
   "cell_type": "code",
   "execution_count": null,
   "id": "split-portable",
   "metadata": {},
   "outputs": [],
   "source": []
  },
  {
   "cell_type": "code",
   "execution_count": null,
   "id": "developmental-interpretation",
   "metadata": {},
   "outputs": [],
   "source": []
  }
 ],
 "metadata": {
  "kernelspec": {
   "display_name": "Python 3",
   "language": "python",
   "name": "python3"
  },
  "language_info": {
   "codemirror_mode": {
    "name": "ipython",
    "version": 3
   },
   "file_extension": ".py",
   "mimetype": "text/x-python",
   "name": "python",
   "nbconvert_exporter": "python",
   "pygments_lexer": "ipython3",
   "version": "3.9.2"
  }
 },
 "nbformat": 4,
 "nbformat_minor": 5
}
