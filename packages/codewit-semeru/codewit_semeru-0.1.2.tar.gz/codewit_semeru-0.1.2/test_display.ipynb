{
 "cells": [
  {
   "cell_type": "code",
   "execution_count": null,
   "metadata": {},
   "outputs": [],
   "source": [
    "from codewit_semeru import WITCode\n",
    "%load_ext autoreload\n",
    "%autoreload 2\n"
   ]
  },
  {
   "cell_type": "code",
   "execution_count": null,
   "metadata": {},
   "outputs": [],
   "source": [
    "from datasets.load import load_dataset\n",
    "import pandas as pd\n",
    "\n",
    "DATA_LEN = 1024\n",
    "NUM_DATA = 20\n",
    "\n",
    "dataset = load_dataset(\"code_x_glue_cc_code_completion_line\", \"python\", split=\"train\")\n",
    "\n",
    "pruned_dataset = []\n",
    "for i, input_seq in enumerate(dataset):\n",
    "    temp = input_seq[\"input\"]  # type: ignore\n",
    "    if len(temp) <= DATA_LEN:\n",
    "        pruned_dataset.append(temp)\n",
    "    if len(pruned_dataset) >= NUM_DATA:\n",
    "        break\n",
    "pd.DataFrame(pruned_dataset).describe()"
   ]
  },
  {
   "cell_type": "code",
   "execution_count": null,
   "metadata": {},
   "outputs": [],
   "source": [
    "WITCode(\"codeparrot/codeparrot-small\", pruned_dataset)"
   ]
  }
 ],
 "metadata": {
  "kernelspec": {
   "display_name": "wit",
   "language": "python",
   "name": "python3"
  },
  "language_info": {
   "codemirror_mode": {
    "name": "ipython",
    "version": 3
   },
   "file_extension": ".py",
   "mimetype": "text/x-python",
   "name": "python",
   "nbconvert_exporter": "python",
   "pygments_lexer": "ipython3",
   "version": "3.9.13"
  },
  "vscode": {
   "interpreter": {
    "hash": "f7cba909dfccb753a083b5c847ff0953a2f60d53a3ab0b04c3a3801e4b65b4b7"
   }
  }
 },
 "nbformat": 4,
 "nbformat_minor": 2
}
