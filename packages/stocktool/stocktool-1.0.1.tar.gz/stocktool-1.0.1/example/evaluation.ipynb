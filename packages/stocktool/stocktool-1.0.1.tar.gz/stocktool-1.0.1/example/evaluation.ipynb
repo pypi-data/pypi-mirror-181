{
 "cells": [
  {
   "cell_type": "markdown",
   "id": "b72e12a1",
   "metadata": {},
   "source": [
    "# Evaluation"
   ]
  },
  {
   "cell_type": "code",
   "execution_count": null,
   "id": "a07283d6",
   "metadata": {},
   "outputs": [],
   "source": [
    "data = StockData([\"Meta\", \"AMZN\", \"MSFT\", \"AAPL\", \"MCD\", \"COST\", \"TM\"], \"2022-04-01\", \"2022-06-01\")\n",
    "model = StockPrediction(data)\n",
    "eva = StockEvaluation(model, asset = 100)\n",
    "\n",
    "### weighted = True means we will split money into all the stocks with positive predicted profit. default is False\n",
    "### means we will only invest the stock with highest predicted profit\n",
    "eva.evaluate(20, weighted = True, graph = True)"
   ]
  },
  {
   "cell_type": "code",
   "execution_count": null,
   "id": "1e101109",
   "metadata": {},
   "outputs": [],
   "source": [
    "### after evaluate, use graph method to plot real prive vs predicted price\n",
    "eva.graph()\n",
    "\n",
    "### also can specify stocks and days\n",
    "#eva.graph(stocks = [\"Meta\"], days = 10)"
   ]
  },
  {
   "cell_type": "code",
   "execution_count": null,
   "id": "d5c45113",
   "metadata": {},
   "outputs": [],
   "source": [
    "eva.graph(stocks = [\"Meta\"], days = 10)"
   ]
  },
  {
   "cell_type": "code",
   "execution_count": null,
   "id": "dcc50a6c",
   "metadata": {},
   "outputs": [],
   "source": []
  },
  {
   "cell_type": "code",
   "execution_count": null,
   "id": "54eb1433",
   "metadata": {},
   "outputs": [],
   "source": []
  }
 ],
 "metadata": {
  "kernelspec": {
   "display_name": "Python 3 (ipykernel)",
   "language": "python",
   "name": "python3"
  },
  "language_info": {
   "codemirror_mode": {
    "name": "ipython",
    "version": 3
   },
   "file_extension": ".py",
   "mimetype": "text/x-python",
   "name": "python",
   "nbconvert_exporter": "python",
   "pygments_lexer": "ipython3",
   "version": "3.7.13"
  }
 },
 "nbformat": 4,
 "nbformat_minor": 5
}
