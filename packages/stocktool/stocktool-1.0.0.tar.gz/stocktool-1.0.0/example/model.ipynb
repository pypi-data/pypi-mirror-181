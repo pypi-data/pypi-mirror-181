{
 "cells": [
  {
   "cell_type": "markdown",
   "id": "5392b645",
   "metadata": {},
   "source": [
    "# Forecast\n",
    "\n",
    "**Use `StockPrediction(data, val)` or `StockPrediction(val, stocks, start, end, period)` to get prediction class.**  \n",
    "\n",
    "- Here we can use the data obtained before, and can also specify new stocks and time period.\n",
    "- Our forecasting based on TBATS model, which combines trend analysis, seasonality analysis, ARIMA and box-cox transformation."
   ]
  },
  {
   "cell_type": "code",
   "execution_count": null,
   "id": "d5f6d48f",
   "metadata": {},
   "outputs": [],
   "source": [
    "data1 = StockData(stocks = [\"Meta\", \"AMZN\"], start = \"2022-01-20\", period = 180)\n",
    "model = StockPrediction(data1)"
   ]
  },
  {
   "cell_type": "code",
   "execution_count": null,
   "id": "47a36d37",
   "metadata": {},
   "outputs": [],
   "source": [
    "model1 = StockPrediction(val = \"Open\", \n",
    "                         stocks = [\"AAPL\", \"MSFT\", \"TM\", \"MCD\", \"TSLA\"], \n",
    "                         start = \"2020-10-20\", \n",
    "                         end = \"2022-11-28\")"
   ]
  },
  {
   "cell_type": "markdown",
   "id": "cd88c437",
   "metadata": {},
   "source": [
    "**Use `predict(days, level)` to predict the stock price in next few days (default days is next 1 day), along with confidence interval (default level is 95%).**  \n",
    "\n",
    "- `model.predict()` is a dictionary, you can access the prediction of a stock by `model.predict()[\"stock_name\"]`.\n",
    "- You can specify preferred predicting days and confidence interval."
   ]
  },
  {
   "cell_type": "code",
   "execution_count": null,
   "id": "8c90570f",
   "metadata": {},
   "outputs": [],
   "source": [
    "model.predict(days = 5, level = 0.9)[\"Meta\"]"
   ]
  },
  {
   "cell_type": "code",
   "execution_count": null,
   "id": "f3f3958f",
   "metadata": {},
   "outputs": [],
   "source": [
    "model1.predict()[\"AAPL\"]"
   ]
  },
  {
   "cell_type": "markdown",
   "id": "a03c24d4",
   "metadata": {},
   "source": [
    "**Use `update(date)` to update model with new stock price data.**\n",
    "\n",
    "- If not specifiy `date` argument, `update()` will update model with data till today."
   ]
  },
  {
   "cell_type": "code",
   "execution_count": null,
   "id": "9fef4255",
   "metadata": {},
   "outputs": [],
   "source": [
    "model1.update(date=\"2022-12-01\")"
   ]
  },
  {
   "cell_type": "code",
   "execution_count": null,
   "id": "b55ad7cd",
   "metadata": {},
   "outputs": [],
   "source": [
    "model1.predict()[\"AAPL\"]"
   ]
  },
  {
   "cell_type": "code",
   "execution_count": null,
   "id": "e4b50ff0",
   "metadata": {},
   "outputs": [],
   "source": [
    "model1.update()"
   ]
  },
  {
   "cell_type": "code",
   "execution_count": null,
   "id": "730134b4",
   "metadata": {},
   "outputs": [],
   "source": [
    "model1.predict()[\"AAPL\"]"
   ]
  }
 ],
 "metadata": {
  "kernelspec": {
   "display_name": "Python 3 (ipykernel)",
   "language": "python",
   "name": "python3"
  },
  "language_info": {
   "codemirror_mode": {
    "name": "ipython",
    "version": 3
   },
   "file_extension": ".py",
   "mimetype": "text/x-python",
   "name": "python",
   "nbconvert_exporter": "python",
   "pygments_lexer": "ipython3",
   "version": "3.7.13"
  }
 },
 "nbformat": 4,
 "nbformat_minor": 5
}
