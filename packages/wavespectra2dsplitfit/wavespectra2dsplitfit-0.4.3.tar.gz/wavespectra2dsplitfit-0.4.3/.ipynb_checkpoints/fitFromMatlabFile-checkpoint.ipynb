{
 "cells": [
  {
   "cell_type": "markdown",
   "id": "129ac0a9-dc47-42d6-900a-949810a13089",
   "metadata": {},
   "source": [
    "# FUNCTION: runFitting"
   ]
  },
  {
   "cell_type": "code",
   "execution_count": 1,
   "id": "531569ad-66fc-4b04-8615-fdecd6879e5d",
   "metadata": {},
   "outputs": [],
   "source": [
    "def runFitting(tag, rawSpec, allTimes, timeRange, baseConfig):\n",
    "    import numpy as np\n",
    "    \n",
    "    # B. Loop over times and fit spectra   \n",
    "    allPartRes = []\n",
    "    allPartStatus = []\n",
    "    for iTime in timeRange:\n",
    "        fTime = rawSpec[iTime].meta[\"date\"].strftime(\"%Y-%m-%dT%H_%M_%S\")\n",
    "        \n",
    "        # B3. Make the full configuration\n",
    "        aConfig = {\n",
    "            'iTime': iTime,\n",
    "            'fTime': fTime,\n",
    "            'saveFigFilename': f\"images/{tag}_{fTime}\"\n",
    "        }\n",
    "        tConfig = {**baseConfig, **aConfig}\n",
    "        if tConfig['useWind']:\n",
    "            tConfig['wspd'] = rawSpec[iTime].meta['wspd']\n",
    "            tConfig['wdir'] = rawSpec[iTime].meta['wdir']\n",
    "            tConfig['dpt'] = rawSpec[iTime].meta['dpt']\n",
    "        else:\n",
    "            tConfig['wspd'] = None\n",
    "            tConfig['wdir'] = None\n",
    "            tConfig['dpt'] = None\n",
    "        \n",
    "        # B4. Do the fitting\n",
    "        print(\"=== START =====================================================================\")\n",
    "        print(iTime,fTime,tConfig)\n",
    "        specParms, fitStatus = rawSpec[iTime].fit2DSpectrum(tConfig)\n",
    "        print(specParms, fitStatus)\n",
    "        print(\"=== END =======================================================================\")\n",
    "        \n",
    "        # B5. Save off all the parameters\n",
    "        allPartRes.append(specParms)\n",
    "        allPartStatus.append(fitStatus)                \n",
    "    \n",
    "    return allPartRes, allPartStatus\n"
   ]
  },
  {
   "cell_type": "markdown",
   "id": "1a47e489-fd55-483b-9538-b6802d470ac7",
   "metadata": {},
   "source": [
    "# FUNCTION: fitResults2Pandas"
   ]
  },
  {
   "cell_type": "code",
   "execution_count": 2,
   "id": "e90d163b-bf67-45da-9cb7-c0409a327e44",
   "metadata": {},
   "outputs": [],
   "source": [
    "def fitResults2Pandas(allPartRes, allPartStatus, allTimes, timeRange):\n",
    "\n",
    "    # C. Save all the parameters to a csv file\n",
    "    import pandas as pd\n",
    "    # C1. Get maximum elements for all partitions\n",
    "    maxParts = 0\n",
    "    for tParts in allPartRes:\n",
    "        tRes = [x for xs in tParts for x in xs] \n",
    "        maxParts = max(len(tRes),maxParts)\n",
    "\n",
    "    # C2. Load data table with partition results and fitting results\n",
    "    import numpy as np\n",
    "    nTimesUsed = len(allPartRes)\n",
    "    dataArray = np.zeros([nTimesUsed, maxParts + 3])\n",
    "    selTimes = []\n",
    "    for iTime,tParts in enumerate(allPartRes):\n",
    "        tRes = [x for xs in allPartRes[iTime] for x in xs] \n",
    "        dataArray[iTime,0:len(tRes)] = tRes\n",
    "        dataArray[iTime,-3:] = allPartStatus[iTime]\n",
    "        selTimes.append(allTimes[timeRange[iTime]])\n",
    "\n",
    "    columns = int(maxParts/8) * [\"Hs\",\"Tp\",\"gamma\",\"sigmaa\",\"sigmab\",\"tailExp\",\"ThetaP\",\"sSpread\"]\n",
    "    columns = columns + [\"Solved\",\"Fit Error\",\"NoFuncEvals\"]\n",
    "    df = pd.DataFrame(index = selTimes, data = dataArray, columns = columns)\n",
    "    return df\n"
   ]
  },
  {
   "cell_type": "markdown",
   "id": "2c5544bc-28cb-4743-9ee9-f64f292128a4",
   "metadata": {},
   "source": [
    "# FUNCTION: readspec_mat"
   ]
  },
  {
   "cell_type": "code",
   "execution_count": 3,
   "id": "5ada3243-ef95-4747-94f1-fdb1be2387fa",
   "metadata": {},
   "outputs": [],
   "source": [
    "def readspec_mat(filename, dates=\"td\", freq=\"fd\", dirn=\"thetad\", spec2d=\"spec2d\"):  \n",
    "\n",
    "    import scipy.io\n",
    "    mat = scipy.io.loadmat(filename)\n",
    "    mat.keys()\n",
    "    tm = mat[dates]\n",
    "    f = mat[freq]\n",
    "    th = mat[dirn]\n",
    "    S = mat[spec2d]\n",
    "\n",
    "    import numpy as np\n",
    "    import datetime as dt\n",
    "    sDate = [dt.datetime(x[0],x[1],x[2],x[3],x[4],x[5]) for x in tm]\n",
    "\n",
    "    from wavespectra2dsplitfit.wavespec import waveSpec\n",
    "    #from wavespectra2dsplitfit.wavespectra2dsplitfit.wavespec import waveSpec\n",
    "    allSpec = [waveSpec() for x in sDate]\n",
    "    for i,tSpec in enumerate(allSpec):\n",
    "        tSpec.f = f[0]\n",
    "        tSpec.th = th[0]\n",
    "        tSpec.S = S[i,:,:]\n",
    "        tSpec.autoCorrect()\n",
    "        tSpec.meta = {'date':sDate[i]}\n",
    "    \n",
    "    return allSpec"
   ]
  },
  {
   "cell_type": "markdown",
   "id": "b545d7be-65a4-49f6-8d6e-857f892f84ee",
   "metadata": {},
   "source": [
    "# Main "
   ]
  },
  {
   "cell_type": "code",
   "execution_count": 8,
   "id": "0a469dd6-212d-4ec8-935e-d0df7d3f8173",
   "metadata": {
    "tags": []
   },
   "outputs": [],
   "source": [
    "def main(filename):\n",
    "    \n",
    "    # A. Read the data file \n",
    "    #filename = 'data/Prelude_RPS_realtime_201901.mat'\n",
    "    allSpec = readspec_mat(filename)\n",
    "\n",
    "    # B. Regrid spectra to increase speed of fitting\n",
    "    import numpy as np\n",
    "    f = np.arange(0.04,0.4,0.01)\n",
    "    th = np.arange(0,350,15)\n",
    "    for tSpec in allSpec:\n",
    "        tSpec.regrid(f,th) \n",
    "\n",
    "    # C. Run the fitting\n",
    "    baseConfig = {\n",
    "        'maxPartitions': 3,\n",
    "        'useClustering': True,\n",
    "        'useWind': False,\n",
    "        'useFittedWindSea': False, \n",
    "        'useWindSeaInClustering': False,\n",
    "        'plotClusterSpace': False,\n",
    "        'doPlot': False\n",
    "    }\n",
    "    allTimes = [x.meta['date'] for x in allSpec]   \n",
    "    \n",
    "    timeRange = range(0,len(allTimes),1)\n",
    "    #timeRange = range(0,10,1)\n",
    "    allPartRes, allPartStatus = runFitting(\"Test\", allSpec, allTimes, timeRange, baseConfig)   \n",
    "\n",
    "    # D. Compile and save the results\n",
    "    df = fitResults2Pandas(allPartRes, allPartStatus, allTimes, timeRange) \n",
    "    df.to_csv(f\"fittedParms.csv\")\n",
    "\n",
    "    return df"
   ]
  },
  {
   "cell_type": "code",
   "execution_count": 9,
   "id": "20a8cf2b-0d43-4486-9220-06c6ed4e0a1a",
   "metadata": {},
   "outputs": [
    {
     "name": "stdout",
     "output_type": "stream",
     "text": [
      "=== START =====================================================================\n",
      "0 2019-01-01T00_00_00 {'maxPartitions': 3, 'useClustering': True, 'useWind': False, 'useFittedWindSea': False, 'useWindSeaInClustering': False, 'plotClusterSpace': False, 'doPlot': False, 'iTime': 0, 'fTime': '2019-01-01T00_00_00', 'saveFigFilename': 'images/Test_2019-01-01T00_00_00', 'wspd': None, 'wdir': None, 'dpt': None}\n",
      "running reducePeaksClustering 5,3\n",
      "Optimization terminated successfully.\n",
      "         Current function value: 2.671312\n",
      "         Iterations: 1396\n",
      "         Function evaluations: 2300\n",
      "[[2.2965755697829828e-05, 5.847953216374265, 1.0014872687540235, 0.07, 0.09, -1.0000117725459383, 300.0, 5.847953216374265], [6.219561283222957, 7.751937984496119, 3.759284610278266, 0.07, 0.09, -3.583922649480753, 290.0, 7.751937984496119], [3.1859574340434262, 10.869565217391298, 2.205290533333506, 0.07, 0.09, -5.73721460677768, 240.0, 10.869565217391298]] [True, 2.6713120662771455, 2300]\n",
      "=== END =======================================================================\n",
      "=== START =====================================================================\n",
      "1 2019-01-01T00_30_00 {'maxPartitions': 3, 'useClustering': True, 'useWind': False, 'useFittedWindSea': False, 'useWindSeaInClustering': False, 'plotClusterSpace': False, 'doPlot': False, 'iTime': 1, 'fTime': '2019-01-01T00_30_00', 'saveFigFilename': 'images/Test_2019-01-01T00_30_00', 'wspd': None, 'wdir': None, 'dpt': None}\n",
      "running reducePeaksClustering 5,3\n",
      "Optimization terminated successfully.\n",
      "         Current function value: 1.306433\n",
      "         Iterations: 815\n",
      "         Function evaluations: 1224\n",
      "[[3.1725437581887928, 4.081632653061221, 2.4538711131947393, 0.07, 0.09, -3.297715289466251, 300.0, 4.081632653061221], [4.620245464584128, 7.874015748031491, 2.2361733590135366, 0.07, 0.09, -7.732353732315046, 290.0, 7.874015748031491], [3.8478194844780544, 10.101010101010095, 7.959406850446232, 0.07, 0.09, -1.3948353675348955, 240.0, 10.101010101010095]] [True, 1.3064329515092454, 1224]\n",
      "=== END =======================================================================\n",
      "=== START =====================================================================\n",
      "2 2019-01-01T01_00_00 {'maxPartitions': 3, 'useClustering': True, 'useWind': False, 'useFittedWindSea': False, 'useWindSeaInClustering': False, 'plotClusterSpace': False, 'doPlot': False, 'iTime': 2, 'fTime': '2019-01-01T01_00_00', 'saveFigFilename': 'images/Test_2019-01-01T01_00_00', 'wspd': None, 'wdir': None, 'dpt': None}\n",
      "running reducePeaksClustering 11,3\n",
      "Optimization terminated successfully.\n",
      "         Current function value: 1.029138\n",
      "         Iterations: 899\n",
      "         Function evaluations: 1336\n",
      "[[1.7895361918708317, 3.759398496240599, 3.806395772070722, 0.07, 0.09, -2.1301613212757977, 290.0, 3.759398496240599], [5.953001343291842, 7.936507936507931, 2.0095696405388392, 0.07, 0.09, -1.949148634941533, 290.0, 7.936507936507931], [2.1854070188358734, 10.526315789473678, 3.855479722164848, 0.07, 0.09, -3.335417109176368, 240.0, 10.526315789473678]] [True, 1.0291383343540035, 1336]\n",
      "=== END =======================================================================\n",
      "=== START =====================================================================\n",
      "3 2019-01-01T01_30_00 {'maxPartitions': 3, 'useClustering': True, 'useWind': False, 'useFittedWindSea': False, 'useWindSeaInClustering': False, 'plotClusterSpace': False, 'doPlot': False, 'iTime': 3, 'fTime': '2019-01-01T01_30_00', 'saveFigFilename': 'images/Test_2019-01-01T01_30_00', 'wspd': None, 'wdir': None, 'dpt': None}\n",
      "running reducePeaksClustering 5,3\n",
      "Optimization terminated successfully.\n",
      "         Current function value: 1.234395\n",
      "         Iterations: 1030\n",
      "         Function evaluations: 1537\n",
      "[[3.461026675656433, 4.329004329004325, 1.8380043114900446, 0.07, 0.09, -3.9621205668578936, 290.0, 4.329004329004325], [4.958285272750523, 7.812499999999995, 1.6926195647522904, 0.07, 0.09, -10.12425508335644, 280.0, 7.812499999999995], [2.1618485563393595, 11.904761904761898, 1.521094774556105, 0.07, 0.09, -21.873982762490094, 250.0, 11.904761904761898]] [True, 1.234394838231472, 1537]\n",
      "=== END =======================================================================\n",
      "=== START =====================================================================\n",
      "4 2019-01-01T02_00_00 {'maxPartitions': 3, 'useClustering': True, 'useWind': False, 'useFittedWindSea': False, 'useWindSeaInClustering': False, 'plotClusterSpace': False, 'doPlot': False, 'iTime': 4, 'fTime': '2019-01-01T02_00_00', 'saveFigFilename': 'images/Test_2019-01-01T02_00_00', 'wspd': None, 'wdir': None, 'dpt': None}\n",
      "running reducePeaksClustering 7,3\n",
      "Optimization terminated successfully.\n",
      "         Current function value: 0.692309\n",
      "         Iterations: 1601\n",
      "         Function evaluations: 2358\n",
      "[[1.3432714611425816, 3.597122302158271, 19.998494213677315, 0.07, 0.09, -49.994422172743796, 300.0, 3.597122302158271], [5.678608751542873, 7.575757575757571, 2.4984869024725382, 0.07, 0.09, -1.4086407593590078, 290.0, 7.575757575757571], [2.261026942802819, 10.63829787234042, 3.603600700927049, 0.07, 0.09, -6.939275094434075, 250.0, 10.63829787234042]] [True, 0.692308837461592, 2358]\n",
      "=== END =======================================================================\n",
      "=== START =====================================================================\n",
      "5 2019-01-01T02_30_00 {'maxPartitions': 3, 'useClustering': True, 'useWind': False, 'useFittedWindSea': False, 'useWindSeaInClustering': False, 'plotClusterSpace': False, 'doPlot': False, 'iTime': 5, 'fTime': '2019-01-01T02_30_00', 'saveFigFilename': 'images/Test_2019-01-01T02_30_00', 'wspd': None, 'wdir': None, 'dpt': None}\n",
      "running reducePeaksClustering 5,3\n",
      "Optimization terminated successfully.\n",
      "         Current function value: 1.520870\n",
      "         Iterations: 1138\n",
      "         Function evaluations: 1727\n",
      "[[1.6422088864270301, 2.9850746268656696, 1.0002125083713382, 0.07, 0.09, -6.5495752296649155, 240.0, 2.9850746268656696], [2.9535560092104833, 4.115226337448557, 1.0000051820742608, 0.07, 0.09, -8.825209335406711, 290.0, 4.115226337448557], [5.880906660192396, 7.999999999999995, 1.9372442021793543, 0.07, 0.09, -4.032017925783476, 280.0, 7.999999999999995]] [True, 1.5208696882911146, 1727]\n",
      "=== END =======================================================================\n",
      "=== START =====================================================================\n",
      "6 2019-01-01T03_00_00 {'maxPartitions': 3, 'useClustering': True, 'useWind': False, 'useFittedWindSea': False, 'useWindSeaInClustering': False, 'plotClusterSpace': False, 'doPlot': False, 'iTime': 6, 'fTime': '2019-01-01T03_00_00', 'saveFigFilename': 'images/Test_2019-01-01T03_00_00', 'wspd': None, 'wdir': None, 'dpt': None}\n",
      "running reducePeaksClustering 7,3\n",
      "Optimization terminated successfully.\n",
      "         Current function value: 0.898978\n",
      "         Iterations: 1423\n",
      "         Function evaluations: 2273\n",
      "[[2.4771087343745832, 3.80228136882129, 2.640672166156692, 0.07, 0.09, -1.0000012306974662, 280.0, 3.80228136882129], [5.387087723025554, 7.633587786259537, 7.014331426461263, 0.07, 0.09, -1.0000216597996907, 280.0, 7.633587786259537], [2.2830487886000936, 10.41666666666666, 1.0000185351280455, 0.07, 0.09, -18.21329919965798, 250.0, 10.41666666666666]] [True, 0.8989782824567788, 2273]\n",
      "=== END =======================================================================\n",
      "=== START =====================================================================\n",
      "7 2019-01-01T03_30_00 {'maxPartitions': 3, 'useClustering': True, 'useWind': False, 'useFittedWindSea': False, 'useWindSeaInClustering': False, 'plotClusterSpace': False, 'doPlot': False, 'iTime': 7, 'fTime': '2019-01-01T03_30_00', 'saveFigFilename': 'images/Test_2019-01-01T03_30_00', 'wspd': None, 'wdir': None, 'dpt': None}\n",
      "running reducePeaksClustering 11,3\n",
      "Optimization terminated successfully.\n",
      "         Current function value: 1.134275\n",
      "         Iterations: 1804\n",
      "         Function evaluations: 2825\n",
      "[[1.5446584707521314, 3.891050583657585, 1.00001747525688, 0.07, 0.09, -1.000419062752129, 270.0, 3.891050583657585], [5.747456609165457, 7.633587786259537, 4.607110807900582, 0.07, 0.09, -1.0000023506607885, 290.0, 7.633587786259537], [2.490916209448074, 10.309278350515457, 2.253170303486332, 0.07, 0.09, -13.71683376233577, 250.0, 10.309278350515457]] [True, 1.134274955018767, 2825]\n",
      "=== END =======================================================================\n",
      "=== START =====================================================================\n",
      "8 2019-01-01T04_00_00 {'maxPartitions': 3, 'useClustering': True, 'useWind': False, 'useFittedWindSea': False, 'useWindSeaInClustering': False, 'plotClusterSpace': False, 'doPlot': False, 'iTime': 8, 'fTime': '2019-01-01T04_00_00', 'saveFigFilename': 'images/Test_2019-01-01T04_00_00', 'wspd': None, 'wdir': None, 'dpt': None}\n",
      "running reducePeaksClustering 12,3\n",
      "Optimization terminated successfully.\n",
      "         Current function value: 0.846765\n",
      "         Iterations: 1856\n",
      "         Function evaluations: 2883\n",
      "[[1.5753709095614812, 2.840909090909089, 1.3213543345180887, 0.07, 0.09, -6.126510469690265, 270.0, 2.840909090909089], [5.080752731121562, 7.936507936507931, 4.426866248530091, 0.07, 0.09, -1.0000001075567833, 300.0, 7.936507936507931], [3.1207084221099755, 10.63829787234042, 3.91142515092142, 0.07, 0.09, -3.4127673424582747, 250.0, 10.63829787234042]] [True, 0.8467645963308705, 2883]\n",
      "=== END =======================================================================\n",
      "=== START =====================================================================\n",
      "9 2019-01-01T04_30_00 {'maxPartitions': 3, 'useClustering': True, 'useWind': False, 'useFittedWindSea': False, 'useWindSeaInClustering': False, 'plotClusterSpace': False, 'doPlot': False, 'iTime': 9, 'fTime': '2019-01-01T04_30_00', 'saveFigFilename': 'images/Test_2019-01-01T04_30_00', 'wspd': None, 'wdir': None, 'dpt': None}\n",
      "running reducePeaksClustering 9,3\n",
      "Optimization terminated successfully.\n",
      "         Current function value: 0.797224\n",
      "         Iterations: 773\n",
      "         Function evaluations: 1208\n",
      "[[0.029407903842541352, 4.201680672268904, 2.6209674769309705, 0.07, 0.09, -8.80874061860732, 330.0, 4.201680672268904], [5.376972850909773, 7.575757575757571, 2.3949155284793133, 0.07, 0.09, -2.214686019973067, 290.0, 7.575757575757571], [1.7917180608029808, 11.235955056179769, 1.0000011911598243, 0.07, 0.09, -9.632300373093901, 210.0, 11.235955056179769]] [True, 0.7972240737880616, 1208]\n",
      "=== END =======================================================================\n"
     ]
    }
   ],
   "source": [
    "try:\n",
    "    # If running in jupyter notebook put filename here\n",
    "    get_ipython()  # fails if not running in jupyter notebook/ipython \n",
    "    filename = \"data/ExampleWaveSpectraObservations.mat\"\n",
    "except:\n",
    "    # If runing from command line specify input matlab file as command line\n",
    "    #  argument e.g. python fitFromMatlabFile.py data/ExampleWaveSpectraObservations.mat\n",
    "    import sys\n",
    "    if len(sys.argv) > 1:\n",
    "        filename = sys.argv[1]\n",
    "        \n",
    "df = main(filename)"
   ]
  },
  {
   "cell_type": "code",
   "execution_count": 11,
   "id": "e0f4fe36-5146-4d1c-b668-72c53e38324b",
   "metadata": {},
   "outputs": [
    {
     "name": "stdout",
     "output_type": "stream",
     "text": [
      "[NbConvertApp] Converting notebook fitFromMatlabFile.ipynb to python\n",
      "[NbConvertApp] Writing 4979 bytes to fitFromMatlabFile.py\n"
     ]
    }
   ],
   "source": [
    "try:\n",
    "    get_ipython() \n",
    "    !jupyter nbconvert fitFromMatlabFile.ipynb --to python\n",
    "except:\n",
    "    None"
   ]
  },
  {
   "cell_type": "code",
   "execution_count": 11,
   "id": "889fe3aa-565b-4e45-b4ca-6bceb4bc6487",
   "metadata": {},
   "outputs": [],
   "source": [
    "filename = \"data/ExampleWaveSpectraObservations.mat\"\n",
    "allSpec = readspec_mat(filename)"
   ]
  },
  {
   "cell_type": "code",
   "execution_count": 16,
   "id": "c35b68ee-b99f-4d98-b522-8ec2d33e7b80",
   "metadata": {},
   "outputs": [
    {
     "name": "stdout",
     "output_type": "stream",
     "text": [
      "2019-01-01 00:00:00\n",
      "2019-01-01 04:30:00\n"
     ]
    }
   ],
   "source": [
    "print(allSpec[0].meta['date'])\n",
    "print(allSpec[-1].meta['date'])\n"
   ]
  },
  {
   "cell_type": "code",
   "execution_count": 20,
   "id": "0715fe6d-2865-40b1-9cc5-ec60a6c995e1",
   "metadata": {},
   "outputs": [
    {
     "ename": "FileNotFoundError",
     "evalue": "[Errno 2] No such file or directory: 'data/Australia_Prelude_12-12-2022_0614.csv'",
     "output_type": "error",
     "traceback": [
      "\u001b[0;31m---------------------------------------------------------------------------\u001b[0m",
      "\u001b[0;31mFileNotFoundError\u001b[0m                         Traceback (most recent call last)",
      "Cell \u001b[0;32mIn[20], line 3\u001b[0m\n\u001b[1;32m      1\u001b[0m filename \u001b[38;5;241m=\u001b[39m \u001b[38;5;124m'\u001b[39m\u001b[38;5;124mdata/Australia_Prelude_12-12-2022_0614.csv\u001b[39m\u001b[38;5;124m'\u001b[39m\n\u001b[1;32m      2\u001b[0m \u001b[38;5;28;01mimport\u001b[39;00m \u001b[38;5;21;01mpandas\u001b[39;00m \u001b[38;5;28;01mas\u001b[39;00m \u001b[38;5;21;01mpd\u001b[39;00m\n\u001b[0;32m----> 3\u001b[0m df \u001b[38;5;241m=\u001b[39m \u001b[43mpd\u001b[49m\u001b[38;5;241;43m.\u001b[39;49m\u001b[43mread_csv\u001b[49m\u001b[43m(\u001b[49m\u001b[43mfilename\u001b[49m\u001b[43m,\u001b[49m\u001b[43mindex_col\u001b[49m\u001b[38;5;241;43m=\u001b[39;49m\u001b[38;5;241;43m0\u001b[39;49m\u001b[43m,\u001b[49m\u001b[43m \u001b[49m\u001b[43mparse_dates\u001b[49m\u001b[38;5;241;43m=\u001b[39;49m\u001b[38;5;28;43;01mTrue\u001b[39;49;00m\u001b[43m,\u001b[49m\u001b[43m \u001b[49m\u001b[43mheader\u001b[49m\u001b[38;5;241;43m=\u001b[39;49m\u001b[38;5;241;43m2\u001b[39;49m\u001b[43m)\u001b[49m\n",
      "File \u001b[0;32m/usr/local/lib/python3.10/site-packages/pandas/util/_decorators.py:211\u001b[0m, in \u001b[0;36mdeprecate_kwarg.<locals>._deprecate_kwarg.<locals>.wrapper\u001b[0;34m(*args, **kwargs)\u001b[0m\n\u001b[1;32m    209\u001b[0m     \u001b[38;5;28;01melse\u001b[39;00m:\n\u001b[1;32m    210\u001b[0m         kwargs[new_arg_name] \u001b[38;5;241m=\u001b[39m new_arg_value\n\u001b[0;32m--> 211\u001b[0m \u001b[38;5;28;01mreturn\u001b[39;00m \u001b[43mfunc\u001b[49m\u001b[43m(\u001b[49m\u001b[38;5;241;43m*\u001b[39;49m\u001b[43margs\u001b[49m\u001b[43m,\u001b[49m\u001b[43m \u001b[49m\u001b[38;5;241;43m*\u001b[39;49m\u001b[38;5;241;43m*\u001b[39;49m\u001b[43mkwargs\u001b[49m\u001b[43m)\u001b[49m\n",
      "File \u001b[0;32m/usr/local/lib/python3.10/site-packages/pandas/util/_decorators.py:331\u001b[0m, in \u001b[0;36mdeprecate_nonkeyword_arguments.<locals>.decorate.<locals>.wrapper\u001b[0;34m(*args, **kwargs)\u001b[0m\n\u001b[1;32m    325\u001b[0m \u001b[38;5;28;01mif\u001b[39;00m \u001b[38;5;28mlen\u001b[39m(args) \u001b[38;5;241m>\u001b[39m num_allow_args:\n\u001b[1;32m    326\u001b[0m     warnings\u001b[38;5;241m.\u001b[39mwarn(\n\u001b[1;32m    327\u001b[0m         msg\u001b[38;5;241m.\u001b[39mformat(arguments\u001b[38;5;241m=\u001b[39m_format_argument_list(allow_args)),\n\u001b[1;32m    328\u001b[0m         \u001b[38;5;167;01mFutureWarning\u001b[39;00m,\n\u001b[1;32m    329\u001b[0m         stacklevel\u001b[38;5;241m=\u001b[39mfind_stack_level(),\n\u001b[1;32m    330\u001b[0m     )\n\u001b[0;32m--> 331\u001b[0m \u001b[38;5;28;01mreturn\u001b[39;00m \u001b[43mfunc\u001b[49m\u001b[43m(\u001b[49m\u001b[38;5;241;43m*\u001b[39;49m\u001b[43margs\u001b[49m\u001b[43m,\u001b[49m\u001b[43m \u001b[49m\u001b[38;5;241;43m*\u001b[39;49m\u001b[38;5;241;43m*\u001b[39;49m\u001b[43mkwargs\u001b[49m\u001b[43m)\u001b[49m\n",
      "File \u001b[0;32m/usr/local/lib/python3.10/site-packages/pandas/io/parsers/readers.py:950\u001b[0m, in \u001b[0;36mread_csv\u001b[0;34m(filepath_or_buffer, sep, delimiter, header, names, index_col, usecols, squeeze, prefix, mangle_dupe_cols, dtype, engine, converters, true_values, false_values, skipinitialspace, skiprows, skipfooter, nrows, na_values, keep_default_na, na_filter, verbose, skip_blank_lines, parse_dates, infer_datetime_format, keep_date_col, date_parser, dayfirst, cache_dates, iterator, chunksize, compression, thousands, decimal, lineterminator, quotechar, quoting, doublequote, escapechar, comment, encoding, encoding_errors, dialect, error_bad_lines, warn_bad_lines, on_bad_lines, delim_whitespace, low_memory, memory_map, float_precision, storage_options)\u001b[0m\n\u001b[1;32m    935\u001b[0m kwds_defaults \u001b[38;5;241m=\u001b[39m _refine_defaults_read(\n\u001b[1;32m    936\u001b[0m     dialect,\n\u001b[1;32m    937\u001b[0m     delimiter,\n\u001b[0;32m   (...)\u001b[0m\n\u001b[1;32m    946\u001b[0m     defaults\u001b[38;5;241m=\u001b[39m{\u001b[38;5;124m\"\u001b[39m\u001b[38;5;124mdelimiter\u001b[39m\u001b[38;5;124m\"\u001b[39m: \u001b[38;5;124m\"\u001b[39m\u001b[38;5;124m,\u001b[39m\u001b[38;5;124m\"\u001b[39m},\n\u001b[1;32m    947\u001b[0m )\n\u001b[1;32m    948\u001b[0m kwds\u001b[38;5;241m.\u001b[39mupdate(kwds_defaults)\n\u001b[0;32m--> 950\u001b[0m \u001b[38;5;28;01mreturn\u001b[39;00m \u001b[43m_read\u001b[49m\u001b[43m(\u001b[49m\u001b[43mfilepath_or_buffer\u001b[49m\u001b[43m,\u001b[49m\u001b[43m \u001b[49m\u001b[43mkwds\u001b[49m\u001b[43m)\u001b[49m\n",
      "File \u001b[0;32m/usr/local/lib/python3.10/site-packages/pandas/io/parsers/readers.py:605\u001b[0m, in \u001b[0;36m_read\u001b[0;34m(filepath_or_buffer, kwds)\u001b[0m\n\u001b[1;32m    602\u001b[0m _validate_names(kwds\u001b[38;5;241m.\u001b[39mget(\u001b[38;5;124m\"\u001b[39m\u001b[38;5;124mnames\u001b[39m\u001b[38;5;124m\"\u001b[39m, \u001b[38;5;28;01mNone\u001b[39;00m))\n\u001b[1;32m    604\u001b[0m \u001b[38;5;66;03m# Create the parser.\u001b[39;00m\n\u001b[0;32m--> 605\u001b[0m parser \u001b[38;5;241m=\u001b[39m \u001b[43mTextFileReader\u001b[49m\u001b[43m(\u001b[49m\u001b[43mfilepath_or_buffer\u001b[49m\u001b[43m,\u001b[49m\u001b[43m \u001b[49m\u001b[38;5;241;43m*\u001b[39;49m\u001b[38;5;241;43m*\u001b[39;49m\u001b[43mkwds\u001b[49m\u001b[43m)\u001b[49m\n\u001b[1;32m    607\u001b[0m \u001b[38;5;28;01mif\u001b[39;00m chunksize \u001b[38;5;129;01mor\u001b[39;00m iterator:\n\u001b[1;32m    608\u001b[0m     \u001b[38;5;28;01mreturn\u001b[39;00m parser\n",
      "File \u001b[0;32m/usr/local/lib/python3.10/site-packages/pandas/io/parsers/readers.py:1442\u001b[0m, in \u001b[0;36mTextFileReader.__init__\u001b[0;34m(self, f, engine, **kwds)\u001b[0m\n\u001b[1;32m   1439\u001b[0m     \u001b[38;5;28mself\u001b[39m\u001b[38;5;241m.\u001b[39moptions[\u001b[38;5;124m\"\u001b[39m\u001b[38;5;124mhas_index_names\u001b[39m\u001b[38;5;124m\"\u001b[39m] \u001b[38;5;241m=\u001b[39m kwds[\u001b[38;5;124m\"\u001b[39m\u001b[38;5;124mhas_index_names\u001b[39m\u001b[38;5;124m\"\u001b[39m]\n\u001b[1;32m   1441\u001b[0m \u001b[38;5;28mself\u001b[39m\u001b[38;5;241m.\u001b[39mhandles: IOHandles \u001b[38;5;241m|\u001b[39m \u001b[38;5;28;01mNone\u001b[39;00m \u001b[38;5;241m=\u001b[39m \u001b[38;5;28;01mNone\u001b[39;00m\n\u001b[0;32m-> 1442\u001b[0m \u001b[38;5;28mself\u001b[39m\u001b[38;5;241m.\u001b[39m_engine \u001b[38;5;241m=\u001b[39m \u001b[38;5;28;43mself\u001b[39;49m\u001b[38;5;241;43m.\u001b[39;49m\u001b[43m_make_engine\u001b[49m\u001b[43m(\u001b[49m\u001b[43mf\u001b[49m\u001b[43m,\u001b[49m\u001b[43m \u001b[49m\u001b[38;5;28;43mself\u001b[39;49m\u001b[38;5;241;43m.\u001b[39;49m\u001b[43mengine\u001b[49m\u001b[43m)\u001b[49m\n",
      "File \u001b[0;32m/usr/local/lib/python3.10/site-packages/pandas/io/parsers/readers.py:1735\u001b[0m, in \u001b[0;36mTextFileReader._make_engine\u001b[0;34m(self, f, engine)\u001b[0m\n\u001b[1;32m   1733\u001b[0m     \u001b[38;5;28;01mif\u001b[39;00m \u001b[38;5;124m\"\u001b[39m\u001b[38;5;124mb\u001b[39m\u001b[38;5;124m\"\u001b[39m \u001b[38;5;129;01mnot\u001b[39;00m \u001b[38;5;129;01min\u001b[39;00m mode:\n\u001b[1;32m   1734\u001b[0m         mode \u001b[38;5;241m+\u001b[39m\u001b[38;5;241m=\u001b[39m \u001b[38;5;124m\"\u001b[39m\u001b[38;5;124mb\u001b[39m\u001b[38;5;124m\"\u001b[39m\n\u001b[0;32m-> 1735\u001b[0m \u001b[38;5;28mself\u001b[39m\u001b[38;5;241m.\u001b[39mhandles \u001b[38;5;241m=\u001b[39m \u001b[43mget_handle\u001b[49m\u001b[43m(\u001b[49m\n\u001b[1;32m   1736\u001b[0m \u001b[43m    \u001b[49m\u001b[43mf\u001b[49m\u001b[43m,\u001b[49m\n\u001b[1;32m   1737\u001b[0m \u001b[43m    \u001b[49m\u001b[43mmode\u001b[49m\u001b[43m,\u001b[49m\n\u001b[1;32m   1738\u001b[0m \u001b[43m    \u001b[49m\u001b[43mencoding\u001b[49m\u001b[38;5;241;43m=\u001b[39;49m\u001b[38;5;28;43mself\u001b[39;49m\u001b[38;5;241;43m.\u001b[39;49m\u001b[43moptions\u001b[49m\u001b[38;5;241;43m.\u001b[39;49m\u001b[43mget\u001b[49m\u001b[43m(\u001b[49m\u001b[38;5;124;43m\"\u001b[39;49m\u001b[38;5;124;43mencoding\u001b[39;49m\u001b[38;5;124;43m\"\u001b[39;49m\u001b[43m,\u001b[49m\u001b[43m \u001b[49m\u001b[38;5;28;43;01mNone\u001b[39;49;00m\u001b[43m)\u001b[49m\u001b[43m,\u001b[49m\n\u001b[1;32m   1739\u001b[0m \u001b[43m    \u001b[49m\u001b[43mcompression\u001b[49m\u001b[38;5;241;43m=\u001b[39;49m\u001b[38;5;28;43mself\u001b[39;49m\u001b[38;5;241;43m.\u001b[39;49m\u001b[43moptions\u001b[49m\u001b[38;5;241;43m.\u001b[39;49m\u001b[43mget\u001b[49m\u001b[43m(\u001b[49m\u001b[38;5;124;43m\"\u001b[39;49m\u001b[38;5;124;43mcompression\u001b[39;49m\u001b[38;5;124;43m\"\u001b[39;49m\u001b[43m,\u001b[49m\u001b[43m \u001b[49m\u001b[38;5;28;43;01mNone\u001b[39;49;00m\u001b[43m)\u001b[49m\u001b[43m,\u001b[49m\n\u001b[1;32m   1740\u001b[0m \u001b[43m    \u001b[49m\u001b[43mmemory_map\u001b[49m\u001b[38;5;241;43m=\u001b[39;49m\u001b[38;5;28;43mself\u001b[39;49m\u001b[38;5;241;43m.\u001b[39;49m\u001b[43moptions\u001b[49m\u001b[38;5;241;43m.\u001b[39;49m\u001b[43mget\u001b[49m\u001b[43m(\u001b[49m\u001b[38;5;124;43m\"\u001b[39;49m\u001b[38;5;124;43mmemory_map\u001b[39;49m\u001b[38;5;124;43m\"\u001b[39;49m\u001b[43m,\u001b[49m\u001b[43m \u001b[49m\u001b[38;5;28;43;01mFalse\u001b[39;49;00m\u001b[43m)\u001b[49m\u001b[43m,\u001b[49m\n\u001b[1;32m   1741\u001b[0m \u001b[43m    \u001b[49m\u001b[43mis_text\u001b[49m\u001b[38;5;241;43m=\u001b[39;49m\u001b[43mis_text\u001b[49m\u001b[43m,\u001b[49m\n\u001b[1;32m   1742\u001b[0m \u001b[43m    \u001b[49m\u001b[43merrors\u001b[49m\u001b[38;5;241;43m=\u001b[39;49m\u001b[38;5;28;43mself\u001b[39;49m\u001b[38;5;241;43m.\u001b[39;49m\u001b[43moptions\u001b[49m\u001b[38;5;241;43m.\u001b[39;49m\u001b[43mget\u001b[49m\u001b[43m(\u001b[49m\u001b[38;5;124;43m\"\u001b[39;49m\u001b[38;5;124;43mencoding_errors\u001b[39;49m\u001b[38;5;124;43m\"\u001b[39;49m\u001b[43m,\u001b[49m\u001b[43m \u001b[49m\u001b[38;5;124;43m\"\u001b[39;49m\u001b[38;5;124;43mstrict\u001b[39;49m\u001b[38;5;124;43m\"\u001b[39;49m\u001b[43m)\u001b[49m\u001b[43m,\u001b[49m\n\u001b[1;32m   1743\u001b[0m \u001b[43m    \u001b[49m\u001b[43mstorage_options\u001b[49m\u001b[38;5;241;43m=\u001b[39;49m\u001b[38;5;28;43mself\u001b[39;49m\u001b[38;5;241;43m.\u001b[39;49m\u001b[43moptions\u001b[49m\u001b[38;5;241;43m.\u001b[39;49m\u001b[43mget\u001b[49m\u001b[43m(\u001b[49m\u001b[38;5;124;43m\"\u001b[39;49m\u001b[38;5;124;43mstorage_options\u001b[39;49m\u001b[38;5;124;43m\"\u001b[39;49m\u001b[43m,\u001b[49m\u001b[43m \u001b[49m\u001b[38;5;28;43;01mNone\u001b[39;49;00m\u001b[43m)\u001b[49m\u001b[43m,\u001b[49m\n\u001b[1;32m   1744\u001b[0m \u001b[43m\u001b[49m\u001b[43m)\u001b[49m\n\u001b[1;32m   1745\u001b[0m \u001b[38;5;28;01massert\u001b[39;00m \u001b[38;5;28mself\u001b[39m\u001b[38;5;241m.\u001b[39mhandles \u001b[38;5;129;01mis\u001b[39;00m \u001b[38;5;129;01mnot\u001b[39;00m \u001b[38;5;28;01mNone\u001b[39;00m\n\u001b[1;32m   1746\u001b[0m f \u001b[38;5;241m=\u001b[39m \u001b[38;5;28mself\u001b[39m\u001b[38;5;241m.\u001b[39mhandles\u001b[38;5;241m.\u001b[39mhandle\n",
      "File \u001b[0;32m/usr/local/lib/python3.10/site-packages/pandas/io/common.py:856\u001b[0m, in \u001b[0;36mget_handle\u001b[0;34m(path_or_buf, mode, encoding, compression, memory_map, is_text, errors, storage_options)\u001b[0m\n\u001b[1;32m    851\u001b[0m \u001b[38;5;28;01melif\u001b[39;00m \u001b[38;5;28misinstance\u001b[39m(handle, \u001b[38;5;28mstr\u001b[39m):\n\u001b[1;32m    852\u001b[0m     \u001b[38;5;66;03m# Check whether the filename is to be opened in binary mode.\u001b[39;00m\n\u001b[1;32m    853\u001b[0m     \u001b[38;5;66;03m# Binary mode does not support 'encoding' and 'newline'.\u001b[39;00m\n\u001b[1;32m    854\u001b[0m     \u001b[38;5;28;01mif\u001b[39;00m ioargs\u001b[38;5;241m.\u001b[39mencoding \u001b[38;5;129;01mand\u001b[39;00m \u001b[38;5;124m\"\u001b[39m\u001b[38;5;124mb\u001b[39m\u001b[38;5;124m\"\u001b[39m \u001b[38;5;129;01mnot\u001b[39;00m \u001b[38;5;129;01min\u001b[39;00m ioargs\u001b[38;5;241m.\u001b[39mmode:\n\u001b[1;32m    855\u001b[0m         \u001b[38;5;66;03m# Encoding\u001b[39;00m\n\u001b[0;32m--> 856\u001b[0m         handle \u001b[38;5;241m=\u001b[39m \u001b[38;5;28;43mopen\u001b[39;49m\u001b[43m(\u001b[49m\n\u001b[1;32m    857\u001b[0m \u001b[43m            \u001b[49m\u001b[43mhandle\u001b[49m\u001b[43m,\u001b[49m\n\u001b[1;32m    858\u001b[0m \u001b[43m            \u001b[49m\u001b[43mioargs\u001b[49m\u001b[38;5;241;43m.\u001b[39;49m\u001b[43mmode\u001b[49m\u001b[43m,\u001b[49m\n\u001b[1;32m    859\u001b[0m \u001b[43m            \u001b[49m\u001b[43mencoding\u001b[49m\u001b[38;5;241;43m=\u001b[39;49m\u001b[43mioargs\u001b[49m\u001b[38;5;241;43m.\u001b[39;49m\u001b[43mencoding\u001b[49m\u001b[43m,\u001b[49m\n\u001b[1;32m    860\u001b[0m \u001b[43m            \u001b[49m\u001b[43merrors\u001b[49m\u001b[38;5;241;43m=\u001b[39;49m\u001b[43merrors\u001b[49m\u001b[43m,\u001b[49m\n\u001b[1;32m    861\u001b[0m \u001b[43m            \u001b[49m\u001b[43mnewline\u001b[49m\u001b[38;5;241;43m=\u001b[39;49m\u001b[38;5;124;43m\"\u001b[39;49m\u001b[38;5;124;43m\"\u001b[39;49m\u001b[43m,\u001b[49m\n\u001b[1;32m    862\u001b[0m \u001b[43m        \u001b[49m\u001b[43m)\u001b[49m\n\u001b[1;32m    863\u001b[0m     \u001b[38;5;28;01melse\u001b[39;00m:\n\u001b[1;32m    864\u001b[0m         \u001b[38;5;66;03m# Binary mode\u001b[39;00m\n\u001b[1;32m    865\u001b[0m         handle \u001b[38;5;241m=\u001b[39m \u001b[38;5;28mopen\u001b[39m(handle, ioargs\u001b[38;5;241m.\u001b[39mmode)\n",
      "\u001b[0;31mFileNotFoundError\u001b[0m: [Errno 2] No such file or directory: 'data/Australia_Prelude_12-12-2022_0614.csv'"
     ]
    }
   ],
   "source": [
    "filename = 'data/Australia_Prelude_12-12-2022_0614.csv'\n",
    "import pandas as pd\n",
    "df = pd.read_csv(filename,index_col=0, parse_dates=True, header=2)"
   ]
  },
  {
   "cell_type": "code",
   "execution_count": null,
   "id": "1e170ee0-df84-4ac8-a5ab-a3ea05c6068e",
   "metadata": {},
   "outputs": [],
   "source": []
  }
 ],
 "metadata": {
  "kernelspec": {
   "display_name": "Python 3 (ipykernel)",
   "language": "python",
   "name": "python3"
  },
  "language_info": {
   "codemirror_mode": {
    "name": "ipython",
    "version": 3
   },
   "file_extension": ".py",
   "mimetype": "text/x-python",
   "name": "python",
   "nbconvert_exporter": "python",
   "pygments_lexer": "ipython3",
   "version": "3.10.9"
  }
 },
 "nbformat": 4,
 "nbformat_minor": 5
}
