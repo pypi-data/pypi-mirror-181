{
 "cells": [
  {
   "cell_type": "markdown",
   "metadata": {},
   "source": [
    "# Example notebook rbatools\n",
    "\n",
    "Here we exemplify rbatools with the existing RBA-model of Bacillus subtilis (https://pubmed.ncbi.nlm.nih.gov/26498510/).\n",
    "\n",
    "For further information on rba, please consider our website: https://rba.inrae.fr "
   ]
  },
  {
   "cell_type": "code",
   "execution_count": null,
   "metadata": {},
   "outputs": [],
   "source": [
    "# doing necessary imports:\n",
    "\n",
    "import matplotlib as mpl\n",
    "import matplotlib.pyplot as plt\n",
    "import seaborn\n",
    "import pandas\n",
    "import numpy\n",
    "import rba\n",
    "\n",
    "from ipywidgets import IntProgress\n",
    "from IPython.display import display\n",
    "\n",
    "from rbatools.rba_session import SessionRBA\n"
   ]
  },
  {
   "cell_type": "markdown",
   "metadata": {},
   "source": [
    "# 1. Initiating modelling session and results handeling"
   ]
  },
  {
   "cell_type": "markdown",
   "metadata": {},
   "source": [
    "## Starting of session\n",
    "Here we initiate an rbatools.rba_session.SessionRBA with a model of B.subtilis. Variable 'model_filename' specifies where the RBA model is located and should be changed by the user. \n",
    "\n",
    "Upon initiation of session explicit exchange reactions for external metabolites are added, to facilitate conveinient acces to metabolite exchange rates.\n",
    "\n",
    "#### 'Bacterial-RBA-models' directory with different bacterial RBA models can be obtained from: https://github.com/SysBioInra/Bacterial-RBA-models\n",
    "\n",
    "#### --> Relevant rbatools.rba_ression.SessionRBA methods on used here, are '__init__' and 'add_exchange_reactions'."
   ]
  },
  {
   "cell_type": "code",
   "execution_count": null,
   "metadata": {},
   "outputs": [],
   "source": [
    "print(SessionRBA.__doc__)"
   ]
  },
  {
   "cell_type": "code",
   "execution_count": null,
   "metadata": {},
   "outputs": [],
   "source": [
    "print(SessionRBA.__init__.__doc__)"
   ]
  },
  {
   "cell_type": "code",
   "execution_count": null,
   "metadata": {},
   "outputs": [],
   "source": [
    "print(SessionRBA.add_exchange_reactions.__doc__)"
   ]
  },
  {
   "cell_type": "code",
   "execution_count": null,
   "metadata": {},
   "outputs": [],
   "source": [
    "model_filename = '../../../Bacterial-RBA-models/Bacillus-subtilis-168-WT'\n",
    "# initiate RBA-session with cplex as lp solver. If cplex is not available glpk can be used as lp solver.\n",
    "#However glpk is significantly slower\n",
    "Simulation = SessionRBA(model_filename,lp_solver=\"cplex\")\n",
    "#Simulation = SessionRBA(model_filename,lp_solver=\"swiglpk\")\n",
    "Simulation.add_exchange_reactions()\n"
   ]
  },
  {
   "cell_type": "markdown",
   "metadata": {},
   "source": [
    "## Simulation-results handling\n",
    "Here we perform simple simulation runs and record the corresponding set of parameters and results.\n",
    "After we have performed all desired simulations (and did the corresponding recordings) we write them to Simulation results object. From those objects the results and parameters can be exported into various formats.\n",
    "#### --> Relevant rbatools.rba_session.SessionRBA methods used here, are 'find_max_growth_rate', 'record_results', 'record_parameters' and 'write_results'."
   ]
  },
  {
   "cell_type": "code",
   "execution_count": null,
   "metadata": {},
   "outputs": [],
   "source": [
    "print(Simulation.find_max_growth_rate.__doc__)"
   ]
  },
  {
   "cell_type": "code",
   "execution_count": null,
   "metadata": {},
   "outputs": [],
   "source": [
    "print(Simulation.record_results.__doc__)"
   ]
  },
  {
   "cell_type": "code",
   "execution_count": null,
   "metadata": {},
   "outputs": [],
   "source": [
    "print(Simulation.record_parameters.__doc__)"
   ]
  },
  {
   "cell_type": "code",
   "execution_count": null,
   "metadata": {},
   "outputs": [],
   "source": [
    "print(Simulation.write_results.__doc__)"
   ]
  },
  {
   "cell_type": "markdown",
   "metadata": {},
   "source": [
    "#### Here we exemplify storing simulation data, by obtaining two growth-optimal cellular states and recording them as \"TestRun_1\" and \"TestRun_2\":"
   ]
  },
  {
   "cell_type": "code",
   "execution_count": null,
   "metadata": {},
   "outputs": [],
   "source": [
    "Simulation.find_max_growth_rate() #determine growth-optimal state\n",
    "Simulation.record_results(run_name=\"TestRun_1\") #record corresponding state variables\n",
    "Simulation.record_parameters(run_name=\"TestRun_1\") #record corresponding problem coefficients\n",
    "\n",
    "Simulation.find_max_growth_rate()\n",
    "Simulation.record_results(run_name=\"TestRun_2\")\n",
    "Simulation.record_parameters(run_name=\"TestRun_2\")\n"
   ]
  },
  {
   "cell_type": "markdown",
   "metadata": {},
   "source": [
    "#### Here we write the recorded results to a results object:"
   ]
  },
  {
   "cell_type": "code",
   "execution_count": null,
   "metadata": {},
   "outputs": [],
   "source": [
    "Simulation.write_results(session_name=\"TestSession\") \n"
   ]
  },
  {
   "cell_type": "markdown",
   "metadata": {},
   "source": [
    "## Simulation-results export\n",
    "Here we export results and parameters into various formats, from the previously written data.\n",
    "#### --> Relevant rbatools.rba_SimulationData.RBA_SimulationData methods used here, are 'export_sbtab', 'export_csv', 'export_escher_map' and 'export_proteo_map'."
   ]
  },
  {
   "cell_type": "code",
   "execution_count": null,
   "metadata": {},
   "outputs": [],
   "source": [
    "print(Simulation.SimulationData.export_sbtab.__doc__)"
   ]
  },
  {
   "cell_type": "code",
   "execution_count": null,
   "metadata": {},
   "outputs": [],
   "source": [
    "print(Simulation.SimulationData.export_csv.__doc__)"
   ]
  },
  {
   "cell_type": "code",
   "execution_count": null,
   "metadata": {},
   "outputs": [],
   "source": [
    "print(Simulation.SimulationData.export_escher_map.__doc__)"
   ]
  },
  {
   "cell_type": "code",
   "execution_count": null,
   "metadata": {},
   "outputs": [],
   "source": [
    "print(Simulation.SimulationData.export_proteo_map.__doc__)"
   ]
  },
  {
   "cell_type": "markdown",
   "metadata": {},
   "source": [
    "#### Here we export the written results into the format sbtab, escher map input-data for fluxes and protein-investment for different model-reactions and finally input for visualisation with proteo-maps for individual genes and all protein-isoforms (w.r.t cellular localisation):"
   ]
  },
  {
   "cell_type": "code",
   "execution_count": null,
   "metadata": {},
   "outputs": [],
   "source": [
    "Simulation.SimulationData.export_sbtab(filename=\"../../../Test_SimulationResults_SBtab_Bsubtilis\",add_links=True)\n",
    "Simulation.SimulationData.export_csv(output_directory=\"../../../\")\n"
   ]
  },
  {
   "cell_type": "markdown",
   "metadata": {},
   "source": [
    "#### Store json files, with the right input format to the escher-map visualization to current working directory:"
   ]
  },
  {
   "cell_type": "code",
   "execution_count": null,
   "metadata": {},
   "outputs": [],
   "source": [
    "# escher map with flux values of metabolic reactions (mmol/(h*g_DW)):\n",
    "Simulation.SimulationData.export_escher_map(type=\"fluxes\",output_directory=\"../../../\") \n",
    "# escher map with protein investment into metabolic reactions (mmol Amino acid residues/g_DW):\n",
    "Simulation.SimulationData.export_escher_map(type=\"investment\",output_directory=\"../../../\")\n"
   ]
  },
  {
   "cell_type": "markdown",
   "metadata": {},
   "source": [
    "#### Store tsv files, with the right input format to the proteo-map visualization:"
   ]
  },
  {
   "cell_type": "code",
   "execution_count": null,
   "metadata": {},
   "outputs": [],
   "source": [
    "# proteo map with genes (all protein-isoforms considered together):\n",
    "Simulation.SimulationData.export_proteo_map(type='genes',output_directory=\"../../../\")\n",
    "# proteo map with protein-isoforms (proteins originating from same gene, \n",
    "#but located in different cellular compartments are considered individually):\n",
    "Simulation.SimulationData.export_proteo_map(type='isoforms',output_directory=\"../../../\")"
   ]
  },
  {
   "cell_type": "code",
   "execution_count": null,
   "metadata": {},
   "outputs": [],
   "source": [
    "\n",
    "df1=Simulation.SimulationData.ReactionData.to_data_frame()\n",
    "print(df1)\n",
    "sbt=Simulation.SimulationData.ReactionData.to_sbtab(table_id='reaction_flux', table_type='QuantityMatrix', table_name='Reaction fluxes')\n",
    "sbt.filename = 'ReactionData.tsv'\n",
    "sbt.change_attribute('Unit', 'mmol/(h*gDW)')\n",
    "sbt.change_attribute('QuantityType', 'reaction_flux')\n",
    "sbt.change_attribute('Text', 'Reaction fluxes obtained in the simulation runs (table columns).')\n",
    "sbt.unset_attribute('SBtabVersion')\n",
    "print(sbt.columns)\n",
    "df_sbtab=sbt.to_data_frame()\n",
    "print(df_sbtab)\n"
   ]
  },
  {
   "cell_type": "code",
   "execution_count": null,
   "metadata": {},
   "outputs": [],
   "source": [
    "print(Simulation.SimulationParameters.export_sbtab.__doc__)"
   ]
  },
  {
   "cell_type": "code",
   "execution_count": null,
   "metadata": {},
   "outputs": [],
   "source": [
    "Simulation.SimulationParameters.export_sbtab(filename=\"../../../Test_SimulationParameters_SBtab_Bsubtilis\")\n"
   ]
  },
  {
   "cell_type": "markdown",
   "metadata": {},
   "source": [
    "# 2. Investigating (growth-optimal) cellular states"
   ]
  },
  {
   "cell_type": "markdown",
   "metadata": {},
   "source": [
    "## Glucose screen\n",
    "Here we iterate through a predefined list of glucose concentrations (glcs) and determine the corresponding maximum growth-rates and optimal configuration of exchange fluxes. Maximum growth-rate vs. glucose results in  a Monod curve\n",
    "#### --> Relevant rbatools.rba_session.SessionRBA methods used here, are 'get_medium', 'set_medium', 'find_max_growth_rate' and 'return_exchange_fluxes'."
   ]
  },
  {
   "cell_type": "code",
   "execution_count": null,
   "metadata": {},
   "outputs": [],
   "source": [
    "print(Simulation.reload_model.__doc__)"
   ]
  },
  {
   "cell_type": "code",
   "execution_count": null,
   "metadata": {},
   "outputs": [],
   "source": [
    "print(Simulation.get_medium.__doc__)"
   ]
  },
  {
   "cell_type": "code",
   "execution_count": null,
   "metadata": {},
   "outputs": [],
   "source": [
    "print(Simulation.set_medium.__doc__)"
   ]
  },
  {
   "cell_type": "code",
   "execution_count": null,
   "metadata": {},
   "outputs": [],
   "source": [
    "print(Simulation.find_max_growth_rate.__doc__)"
   ]
  },
  {
   "cell_type": "code",
   "execution_count": null,
   "metadata": {},
   "outputs": [],
   "source": [
    "print(Simulation.return_exchange_fluxes.__doc__)"
   ]
  },
  {
   "cell_type": "markdown",
   "metadata": {},
   "source": [
    "#### Lets first look at the current Medium:"
   ]
  },
  {
   "cell_type": "code",
   "execution_count": null,
   "metadata": {},
   "outputs": [],
   "source": [
    "print(Simulation.get_medium())"
   ]
  },
  {
   "cell_type": "markdown",
   "metadata": {},
   "source": [
    "#### Here we firstly generate a list of several glucose-concentrations in the medium to screen. Then we iterate over all of them and determine the respective growth-optimal states and store relevant information for visualisation (maximum growth-rates and exchange-fluxes with the medium):"
   ]
  },
  {
   "cell_type": "code",
   "execution_count": null,
   "metadata": {},
   "outputs": [],
   "source": [
    "Simulation.reload_model()\n",
    "\n",
    "glcs=[0.005+(i*0.0025) for i in range(27)] # generate glucose concnetration intervals\n",
    "Results_glc_screen={\"Mu\":[],\"M_glc\":[],\"M_o2\":[],\"M_ac\":[]} # generate empty structure to store results of interest\n",
    "f = IntProgress(min=0, max=len(glcs)) # initiate progress bar\n",
    "display(f) # show progress bar\n",
    "for glc_conc in glcs: # iterate through all generated glucose concentrations\n",
    "    f.value += 1 # increment progress bar\n",
    "    Simulation.set_medium({'M_glc':glc_conc}) #set glucose concnetration to respective value\n",
    "    #determine growth-optimal state and maximum growth-rate:\n",
    "    mumax=Simulation.find_max_growth_rate(max=1.0,try_unscaling_if_sol_status_is_feasible_only_before_unscaling=True)\n",
    "    J_ex=Simulation.return_exchange_fluxes() # obtain corresponding exchange-fluxes\n",
    "    # write growth-rate and exchanges for glucose, oxygen and acetate to storing structure:\n",
    "    for i in Results_glc_screen.keys():\n",
    "        if i ==\"Mu\":\n",
    "            Results_glc_screen[\"Mu\"].append(mumax)\n",
    "        else:\n",
    "            if i in J_ex.keys():\n",
    "                Results_glc_screen[i].append(J_ex[i])\n",
    "            else:\n",
    "                Results_glc_screen[i].append(0)\n",
    "                "
   ]
  },
  {
   "cell_type": "code",
   "execution_count": null,
   "metadata": {},
   "outputs": [],
   "source": [
    "# plot results of glucose screen\n",
    "fig = plt.figure(figsize=(8,4))\n",
    "ax = fig.add_subplot(111)\n",
    "ax.plot(glcs,Results_glc_screen[\"Mu\"],linewidth=5,alpha=0.6,color=\"dimgray\")\n",
    "ax.legend([\"Monod curve\"],loc=\"upper left\",fontsize=12,frameon=False)\n",
    "ax.plot(glcs,Results_glc_screen[\"Mu\"],linewidth=13,alpha=0.6,color=\"gainsboro\")\n",
    "ax.plot(glcs,Results_glc_screen[\"Mu\"],linewidth=10,alpha=0.6,color=\"lightgray\")\n",
    "ax.plot(glcs,Results_glc_screen[\"Mu\"],linewidth=7,alpha=0.6,color=\"silver\")\n",
    "ax.plot(glcs,Results_glc_screen[\"Mu\"],linewidth=5,alpha=0.6,color=\"gray\")\n",
    "ax.plot(glcs,Results_glc_screen[\"Mu\"],linewidth=2,alpha=0.6,color=\"dimgray\")\n",
    "ax.plot(glcs,Results_glc_screen[\"Mu\"],linewidth=1,alpha=0.6,color=\"black\")\n",
    "ax2=ax.twinx()\n",
    "ax2.plot(glcs,[i for i in Results_glc_screen[\"M_ac\"]],linewidth=4,color=\"mediumseagreen\",alpha=0.9)\n",
    "ax2.plot(glcs,[-i for i in Results_glc_screen[\"M_o2\"]],linewidth=4,color=\"indianred\",alpha=0.9,linestyle=(0, (1, 1)))\n",
    "ax2.plot(glcs,[-i for i in Results_glc_screen[\"M_glc\"]],linewidth=4,color=\"steelblue\",alpha=0.9,linestyle=(0, (3, 1, 1, 1)))\n",
    "ax2.legend([\"$Acetate$ excretion\",\"$O_2$ uptake\",\"$Glucose$ uptake\"],loc=\"lower right\",fontsize=12,frameon=False)\n",
    "\n",
    "ax.set_title(\"Glucose dependent growth-rate and exchange fluxes\",fontsize=15)\n",
    "ax.set_xlabel(\"Glucose concentration (mM)\",fontsize=12)\n",
    "#ax.set_ylim(-0.01,0.69)\n",
    "#ax.set_xlim(0.004,0.075)\n",
    "ax.tick_params(axis='y', labelcolor=\"dimgrey\")\n",
    "ax2.tick_params(axis='y', labelcolor=\"black\")\n",
    "ax.set_ylabel(\"Growth rate ($h^{-1}$)\",color=\"dimgrey\",fontsize=12)\n",
    "ax2.set_ylabel('Exchange fluxes ($\\\\frac{mmol}{h \\\\times g_{DW}}$)',color=\"black\",fontsize=12)\n",
    "#ax2.set_ylim(-0.2,15.6)\n",
    "plt.tight_layout()\n",
    "plt.show()\n"
   ]
  },
  {
   "cell_type": "markdown",
   "metadata": {},
   "source": [
    "## Search for minimal required glucose concentration at different growth rates\n",
    "Here we iterate through a predefined list of growth rates and determine the corresponding required concentration of glucose. Results in a Monod curve with switched axes.\n",
    "#### --> Relevant rbatools.rba_session.SessionRBA methods used here, are 'set_growth_rate' and 'find_min_substrate_concentration'."
   ]
  },
  {
   "cell_type": "code",
   "execution_count": null,
   "metadata": {},
   "outputs": [],
   "source": [
    "print(Simulation.set_growth_rate.__doc__)"
   ]
  },
  {
   "cell_type": "code",
   "execution_count": null,
   "metadata": {},
   "outputs": [],
   "source": [
    "print(Simulation.find_min_substrate_concentration.__doc__)"
   ]
  },
  {
   "cell_type": "code",
   "execution_count": null,
   "metadata": {},
   "outputs": [],
   "source": [
    "#determine maximum growth-rate among all growth-rates from previous analysis:\n",
    "max_mu_glc_screen=max(list(Results_glc_screen[\"Mu\"])) \n",
    "\n",
    "Simulation.reload_model()\n",
    "\n",
    "n_intervals=20 # specify number of intervals to screen\n",
    "# generate specified number of intervals between 0 and maximum growth-rate:\n",
    "mus=[max_mu_glc_screen*(i+1)/n_intervals for i in range(n_intervals)] \n",
    "glcs=[] # initiate empty list of glucose concentrations\n",
    "f = IntProgress(min=0, max=len(mus)) # initiate progress bar\n",
    "display(f) #show progress bar\n",
    "for mu in mus: #iterate through all specified growth rates\n",
    "    f.value += 1 #increment progress bar\n",
    "    Simulation.set_growth_rate(mu) #set growth-rate to specified value\n",
    "    #determine minimum feasible glucose-concentration, still allowing specified growth-rate:\n",
    "    min_glc=Simulation.find_min_substrate_concentration(metabolite=\"M_glc\", precision=0.001, max=1.0)\n",
    "    glcs.append(min_glc)#store determined minimum feasible growth rate\n",
    "    "
   ]
  },
  {
   "cell_type": "code",
   "execution_count": null,
   "metadata": {},
   "outputs": [],
   "source": [
    "#plot results\n",
    "fig=plt.figure(figsize=(8,4))\n",
    "ax = fig.add_subplot(111)\n",
    "\n",
    "ax.scatter(mus,glcs,s=10)\n",
    "ax.set_title(\"Minimal required glucose concentration vs growth rate\")\n",
    "ax.set_ylabel(\"Glucose concentration ($mM$)\",fontsize=8, labelpad=0.1)\n",
    "ax.set_xlabel(\"Growth rate ($h^{-1}$)\",fontsize=8, labelpad=1.5)\n",
    "ax.set_ylim(0,0.1)\n",
    "plt.show()\n"
   ]
  },
  {
   "cell_type": "markdown",
   "metadata": {},
   "source": [
    "## Derive Biomass functions\n",
    "Here we derive biomass-functions for different growth-rates, as used as objectives in FBA-modelling, from the RBA-model. Since RBA, unlike FBA, allows a varying biomass-compostion with growth rate; we would like to provide the user with a method to also impose growth-rate specific objectives for FBA. \n",
    "\n",
    "(The derived biomass function is specified by a linear combination of metabolic-precursor fluxes, represented by biomass function coefficients (with unit mmol/(h*g_DW)).)\n",
    "(Please note that only non-zero coefficients are returned.)\n",
    "\n",
    "#### --> Relevant rbatools.rba_session.SessionRBA methods used here, is 'derive_current_biomass_function'"
   ]
  },
  {
   "cell_type": "code",
   "execution_count": null,
   "metadata": {},
   "outputs": [],
   "source": [
    "print(Simulation.derive_current_biomass_function.__doc__)"
   ]
  },
  {
   "cell_type": "markdown",
   "metadata": {},
   "source": [
    "#### Here we screen a range of growth rates, between zero and a maximum; to determine the corresponding biomass functions and write all of them into a data frame"
   ]
  },
  {
   "cell_type": "code",
   "execution_count": null,
   "metadata": {},
   "outputs": [],
   "source": [
    "Simulation.reload_model()\n",
    "glcs=[0.005+(i*0.005) for i in range(13)] #generate glucose concnetration intervals\n",
    "f = IntProgress(min=0, max=len(glcs)) #initiate progress bar\n",
    "display(f) #show progress-bar\n",
    "biomass_functions=pandas.DataFrame() #initiate data-frame to store results\n",
    "for glc_conc in glcs: # iterate through all generated glucose concentrations\n",
    "    f.value += 1 #increment progress bar\n",
    "    Simulation.reload_model()\n",
    "    Simulation.set_medium({'M_glc':glc_conc}) #set glucose concnetration to respective value\n",
    "    #determine growth-optimal state and maximum growth-rate:\n",
    "    mumax=Simulation.find_max_growth_rate(max=1.0,try_unscaling_if_sol_status_is_feasible_only_before_unscaling=True)\n",
    "    #determine biomass function, specific to current state:\n",
    "    current_bm_function=Simulation.derive_current_biomass_function(from_rba_solution=True)\n",
    "    for metabolite in current_bm_function.index: #iterate through all non-zero biomass-components\n",
    "        #check whether coefficient is above numerical-noise threchold:\n",
    "        if abs(current_bm_function.loc[metabolite,\"Coefficient\"])>=10**-10:\n",
    "            #write coefficient to results data-frame:\n",
    "            biomass_functions.loc[metabolite,\"Mu = {}\".format(mumax)]=current_bm_function.loc[metabolite,\"Coefficient\"]\n"
   ]
  },
  {
   "cell_type": "code",
   "execution_count": null,
   "metadata": {},
   "outputs": [],
   "source": [
    "#display results\n",
    "biomass_functions"
   ]
  },
  {
   "cell_type": "markdown",
   "metadata": {},
   "source": [
    "# 3. Investigating the feasible space and trade-offs of cellular variables "
   ]
  },
  {
   "cell_type": "markdown",
   "metadata": {},
   "source": [
    "## Variability Analysis on substrate exchange fluxes\n",
    "Here we iterate through a predefined list of growth rates (between 0 and the maximum wild-type growth rate) and determine the corresponding feasible ranges of glucose- and oxygen uptake. \n",
    "#### --> Relevant rbatools.rba_session.SessionRBA methods used here, are 'set_medium', 'set_growth_rate' and 'get_feasible_range'."
   ]
  },
  {
   "cell_type": "code",
   "execution_count": null,
   "metadata": {},
   "outputs": [],
   "source": [
    "print(Simulation.get_feasible_range.__doc__)"
   ]
  },
  {
   "cell_type": "code",
   "execution_count": null,
   "metadata": {},
   "outputs": [],
   "source": [
    "Simulation.reload_model()\n",
    "\n",
    "Simulation.set_medium({'M_glc':0.025}) #set glucose concentration\n",
    "mumax=Simulation.find_max_growth_rate() #determine maximum growth-rate\n",
    "# generate growthe-rates between 0 and maximum growth-rate:\n",
    "Mus=[mumax*i for i in [0.01,0.025,0.05,0.075,0.1,0.125,0.15,0.175,0.2,0.225,0.25,0.275,0.3,0.325,0.35,0.375,0.4,0.425,0.45,0.475,0.5,0.525,0.55,0.575,0.6,0.625,0.65,0.675,0.7,0.725,0.75,0.775,0.8,0.825,0.85,0.875,0.9,0.925,0.95,0.975,0.9825,0.99,0.9925,0.995,0.9975,1]]\n",
    "Reactions_to_check=[\"R_EX_glc_e\",\"R_EX_o2_e\"] #specify reactions to determine feasible range for\n",
    "#create empty data-structure for results\n",
    "Feasible_Ranges=dict(zip(Reactions_to_check,[{\"Minima\":[],\"Maxima\":[]},{\"Minima\":[],\"Maxima\":[]},{\"Minima\":[],\"Maxima\":[]}]))\n",
    "\n",
    "f = IntProgress(min=0, max=len(Mus)) #initiate progress bar\n",
    "display(f) #show progress bar\n",
    "for mu in Mus: #iterate over all specified growth-rates\n",
    "    f.value += 1 #increment progress bar \n",
    "    Simulation.set_growth_rate(mu) #set growth-rate to specified value\n",
    "    # determine feasible ranges of variables in question:\n",
    "    Feasible_range=Simulation.get_feasible_range(variables=Reactions_to_check)\n",
    "    # write obtained extrema of feasible ranges to data structure:\n",
    "    for rxn in Reactions_to_check:\n",
    "        Feasible_Ranges[rxn][\"Minima\"].append(Feasible_range[rxn]['Min'])\n",
    "        Feasible_Ranges[rxn][\"Maxima\"].append(Feasible_range[rxn]['Max'])\n",
    "        "
   ]
  },
  {
   "cell_type": "code",
   "execution_count": null,
   "metadata": {},
   "outputs": [],
   "source": [
    "# plot results\n",
    "fig=plt.figure(figsize=(8,4))\n",
    "\n",
    "ax = fig.add_subplot(111)\n",
    "\n",
    "ax.fill_between(x=Mus,y1=Feasible_Ranges[\"R_EX_glc_e\"][\"Minima\"],y2=Feasible_Ranges[\"R_EX_glc_e\"][\"Maxima\"],interpolate=True,color='steelblue',alpha=0.25)\n",
    "ax.plot(Mus,Feasible_Ranges[\"R_EX_glc_e\"][\"Minima\"],color='steelblue',alpha=0.9,linewidth=2,linestyle=(0, (3, 1, 1, 1)))\n",
    "ax.plot(Mus,Feasible_Ranges[\"R_EX_glc_e\"][\"Maxima\"],color='steelblue',alpha=0.9,linewidth=2,linestyle=(0, (3, 1, 1, 1)))\n",
    "ax2=ax.twinx()\n",
    "ax2.fill_between(x=Mus,y1=Feasible_Ranges[\"R_EX_o2_e\"][\"Minima\"],y2=Feasible_Ranges[\"R_EX_o2_e\"][\"Maxima\"],interpolate=True,color='indianred',alpha=0.25)\n",
    "ax2.plot(Mus,Feasible_Ranges[\"R_EX_o2_e\"][\"Minima\"],color='indianred',alpha=0.9,linewidth=2,linestyle=(0, (1, 1)))\n",
    "ax2.plot(Mus,Feasible_Ranges[\"R_EX_o2_e\"][\"Maxima\"],color='indianred',alpha=0.9,linewidth=2,linestyle=(0, (1, 1)))\n",
    "\n",
    "ax.tick_params(axis='y', labelcolor=\"royalblue\")\n",
    "ax2.tick_params(axis='y', labelcolor=\"indianred\")\n",
    "ax.set_ylim(0.5,7.25)\n",
    "ax.set_yticks([1,2,3,4,5,6,7])\n",
    "#ax.set_xlim(0,0.335)\n",
    "ax2.set_ylim(1,24)\n",
    "ax2.set_yticks([5,10,15,20])\n",
    "#ax2.set_xlim(0,0.335)\n",
    "ax.set_xticks([0.05,0.1,0.15,0.2,0.25,0.3])\n",
    "ax2.set_xticks([0.05,0.1,0.15,0.2,0.25,0.3])\n",
    "ax.set_xticklabels([0.05,0.1,0.15,0.2,0.25,0.3])\n",
    "ax2.set_xticklabels([0.05,0.1,0.15,0.2,0.25,0.3])\n",
    "\n",
    "ax.set_ylabel('$Glucose$ $\\\\frac{mmol}{h \\\\times g_{DW}}$)',fontsize=12,color=\"steelblue\")\n",
    "ax2.set_ylabel('$O_2$ $\\\\frac{mmol}{h \\\\times g_{DW}}$)',fontsize=12,color=\"indianred\")\n",
    "\n",
    "plt.title('Feasible uptake fluxes, over (sub-optimal) growth-rates',fontsize=15)\n",
    "ax.set_xlabel('Growth-rate ($h^{-1}$)',fontsize=12)\n",
    "\n",
    "plt.tight_layout()\n",
    "plt.show()\n"
   ]
  },
  {
   "cell_type": "markdown",
   "metadata": {},
   "source": [
    "## Metabolic engineering\n",
    "Here we investigate the trade-off, between cellular fitness (maximum growth-rate) and production of a metabolic compound of interest. \n",
    "We firstly add a test-reaction, which only consumes thiamine-diphosphate (vitamin B1). Then we determine the maximum flux through this reaction at different growth-rates for different substrate concentrations.\n",
    "\n",
    "Please note thate the resulting curve, corresponds directly to the upper boundary of the feasible range, obtained with the get_feasible_range method and could thus also be obtained this way.\n",
    "\n",
    "#### --> Relevant rbatools.rba_session.SessionRBA methods used here, are 'add_reaction', 'set_medium' and 'find_max_growth_rate', 'set_growth_rate'.\n",
    "\n",
    "#### --> Relevant rbatools.rba_problem.ProblemRBA methods used here, are 'clear_objective', 'set_objective' and 'solve_lp'\n",
    "\n"
   ]
  },
  {
   "cell_type": "code",
   "execution_count": null,
   "metadata": {},
   "outputs": [],
   "source": [
    "print(Simulation.add_reaction.__doc__)"
   ]
  },
  {
   "cell_type": "code",
   "execution_count": null,
   "metadata": {},
   "outputs": [],
   "source": [
    "print(Simulation.Problem.clear_objective.__doc__)"
   ]
  },
  {
   "cell_type": "code",
   "execution_count": null,
   "metadata": {},
   "outputs": [],
   "source": [
    "print(Simulation.Problem.set_objective.__doc__)"
   ]
  },
  {
   "cell_type": "code",
   "execution_count": null,
   "metadata": {},
   "outputs": [],
   "source": [
    "print(Simulation.Problem.solve_lp.__doc__)"
   ]
  },
  {
   "cell_type": "markdown",
   "metadata": {},
   "source": [
    "#### Since there is no exchange reaction for the metabolite of interest (M_tpp) into a sink, we have to add such a reaction \"making M_tpp_c disappear\":"
   ]
  },
  {
   "cell_type": "code",
   "execution_count": null,
   "metadata": {},
   "outputs": [],
   "source": [
    "Simulation.reload_model()\n",
    "Simulation.add_reaction(reaction_id=\"R_rxnTest\",reactants={\"M_tpp_c\":1},reversible=False)\n"
   ]
  },
  {
   "cell_type": "code",
   "execution_count": null,
   "metadata": {},
   "outputs": [],
   "source": [
    "Glucose_concentrations=[0.0125,0.025,0.05,0.1,1] # generate list of glucose concentrations to test\n",
    "Growth_rates={} #create empty data structure for obtained growth rates\n",
    "excretion_fluxes={} #create empty data structure for metabolite excretion\n",
    "f = IntProgress(min=0, max=len(Glucose_concentrations)) # initiate progress bar\n",
    "display(f) #show progress bar \n",
    "for glc_conc in Glucose_concentrations: # iterate over glucose concentration\n",
    "    f.value += 1 #increment progress bar\n",
    "    excretion_fluxes[glc_conc]=[] #generate empty list for excretion fluxes\n",
    "    Simulation.set_medium({'M_glc':glc_conc}) # set glucose concentration\n",
    "    mu_WT=Simulation.find_max_growth_rate() #determine wild-type max growth-rate\n",
    "    #create list of various growth-rates between 0 and the maximum:\n",
    "    Growth_rates[glc_conc]=[mu_WT*i for i in [0.01,0.025,0.05,0.075,0.1,0.125,0.15,0.175,0.2,0.225,0.25,0.275,0.3,0.325,0.35,0.375,0.4,0.425,0.45,0.475,0.5,0.525,0.55,0.575,0.6,0.625,0.65,0.675,0.7,0.725,0.75,0.775,0.8,0.825,0.85,0.875,0.9,0.925,0.95,0.975,0.9825,0.99,0.9925,0.995,0.9975,1]]\n",
    "    for mu in Growth_rates[glc_conc]: #iterate over growth rates\n",
    "        Simulation.set_growth_rate(mu) #set growth rate\n",
    "        Simulation.Problem.clear_objective() #clear objective function\n",
    "        Simulation.Problem.set_objective(inputDict={\"R_rxnTest\": -1.0}) #specify objective to maximize \"R_rxnTest\"\n",
    "        Simulation.Problem.solve_lp() #solve linear problem\n",
    "        if Simulation.Problem.Solved: # if feasible solution does exist\n",
    "            #add optimum to results\n",
    "            excretion_fluxes[glc_conc].append(-Simulation.Problem.ObjectiveValue)\n",
    "        else:\n",
    "            excretion_fluxes[glc_conc].append(numpy.nan)     \n",
    "            "
   ]
  },
  {
   "cell_type": "code",
   "execution_count": null,
   "metadata": {},
   "outputs": [],
   "source": [
    "#plot results\n",
    "plt.scatter(Growth_rates[0.0125],excretion_fluxes[0.0125],s=5,color=\"blue\",label=\"Glc: 0.0125 mM\")\n",
    "plt.scatter(Growth_rates[0.025],excretion_fluxes[0.025],s=5,color=\"black\",label=\"Glc: 0.025 mM\")\n",
    "plt.scatter(Growth_rates[0.05],excretion_fluxes[0.05],s=5,color=\"orange\",label=\"Glc: 0.05 mM\")\n",
    "plt.scatter(Growth_rates[0.1],excretion_fluxes[0.1],s=5,color=\"red\",label=\"Glc: 0.1 mM\")\n",
    "plt.scatter(Growth_rates[1],excretion_fluxes[1],s=5,color=\"green\",label=\"Glc: 1 mM\")\n",
    "plt.legend()\n",
    "plt.xlabel(\"Growth-rate ($h^{-1}$)\")\n",
    "plt.ylabel(\"Production Flux ($mmol/(h^{-1}*g_{DW}$)))\")\n",
    "plt.title(\"Tradeoff between vitamin B1-production and growth-rate in different media\")\n",
    "plt.show()\n"
   ]
  },
  {
   "cell_type": "markdown",
   "metadata": {},
   "source": [
    "## Pareto front\n",
    "Here we investigate the pareto-efficient tradeoff between investment in additional ATP-expenditure and investment in additional (cytosolic) protein at different growth rates. In order to obtain an RBA-problem variable, representing the average cytosolic protein, we add a process (ID: P_Dummy_Cytosol and name: Dummy_process_Cytosol), without any function and a machinery composed of one average_protein_Cytoplasm, to the model and rebuild the session.\n",
    "\n",
    "Then we determine the maximum wild-type growth-rate and define several growth-rates between 0 and the maximum. For each of those we then determine the pareto-front between the  variables 'P_Dummy_Cytosol' and 'R_maintenance_atp'. \n",
    "#### --> Relevant rbatools.rba_session.SessionRBA methods used here, are 'find_max_growth_rate', 'set_growth_rate', 'get_current_parameter_value' and 'get_pareto_front'."
   ]
  },
  {
   "cell_type": "code",
   "execution_count": null,
   "metadata": {},
   "outputs": [],
   "source": [
    "Simulation.reload_model()\n",
    "# generate process object:\n",
    "test_process=rba.xml.processes.Process(id_=\"P_Dummy_Cytosol\",name=\"Dummy_process_Cytosol\")\n",
    "# define machinery composition of added process:\n",
    "test_process.machinery.machinery_composition.reactants._elements.append(rba.xml.common.SpeciesReference(species=\"average_protein_Cytoplasm\", stoichiometry=1))\n",
    "# add process to model:\n",
    "Simulation.model.processes.processes.append(test_process)\n",
    "# determine total number of peptides of protein, constituting machinery\n",
    "process_machinery_amino_acid_length=sum(list(Simulation.get_protein_information(\"average_protein_Cytoplasm\")['AAcomposition'].values()))\n",
    "\n",
    "Simulation.rebuild_from_model()\n"
   ]
  },
  {
   "cell_type": "code",
   "execution_count": null,
   "metadata": {},
   "outputs": [],
   "source": [
    "print(Simulation.get_current_parameter_value.__doc__)"
   ]
  },
  {
   "cell_type": "code",
   "execution_count": null,
   "metadata": {},
   "outputs": [],
   "source": [
    "print(Simulation.get_pareto_front.__doc__)"
   ]
  },
  {
   "cell_type": "code",
   "execution_count": null,
   "metadata": {},
   "outputs": [],
   "source": [
    "Simulation.set_medium({'M_glc':0.025}) #set glucose concentration\n",
    "mumax_WT=Simulation.find_max_growth_rate(max=1.0) #determine maximum growth-rate\n",
    "#create list of various growth-rates between 0 and the maximum:\n",
    "Growth_rates=[mumax_WT*i for i in [0.001,0.01,0.1,0.2,0.3,0.4,0.5,0.6,0.7,0.8,0.9,0.99]]\n",
    "Results_Pareto={\"Protein\":[],\"ATP\":[],\"Growth-rate\":[]} #create empty data-structure for results\n",
    "total_AAconcentrations={} #create empty data structure for total amino-acid concentration\n",
    "f = IntProgress(min=0, max=len(Growth_rates)) # initiate progress bar\n",
    "display(f) #show progress bar\n",
    "for mu in Growth_rates: #iterate over growth-rates\n",
    "    f.value += 1 # increment progress bar\n",
    "    Simulation.set_growth_rate(mu) #set growth rate\n",
    "    #determine current total number of amino acid residues in cell:\n",
    "    total_AAconcentrations[mu/mumax_WT]=Simulation.get_current_parameter_value(parameter=\"amino_acid_concentration\")\n",
    "    # calculate pareto front between variables of interest\n",
    "    ParetoFront=Simulation.get_pareto_front(variable_X=\"P_Dummy_Cytosol_machinery\", variable_Y=\"R_maintenance_atp\", N=100, sign_VY='max')\n",
    "    # append fraction of maximum growth rate to results\n",
    "    Results_Pareto[\"Growth-rate\"].append([int(100*mu/mumax_WT)]*ParetoFront.shape[0])\n",
    "    # append atp values of pareto front to results\n",
    "    Results_Pareto[\"ATP\"].append(list(ParetoFront[\"R_maintenance_atp\"]))\n",
    "    # append proteome-fraction of protein (number of AAs in protein, divided by total cellular number of AAs)\n",
    "    Results_Pareto[\"Protein\"].append(list(ParetoFront[\"P_Dummy_Cytosol_machinery\"]*process_machinery_amino_acid_length/total_AAconcentrations[mu/mumax_WT]))\n"
   ]
  },
  {
   "cell_type": "code",
   "execution_count": null,
   "metadata": {},
   "outputs": [],
   "source": [
    "# plot results\n",
    "import matplotlib as mpl\n",
    "\n",
    "def fmt(x):\n",
    "    s = f\"{x/100:.1f}\"\n",
    "    if s.endswith(\"0\"):\n",
    "        s = f\"{x:.0f}\"\n",
    "    return(s+\" $\\\\mu_{max}$\")\n",
    "\n",
    "fig=plt.figure(figsize=(8*0.92439,4.025*0.92439))\n",
    "ax = fig.add_subplot(111)\n",
    "ax.contourf(numpy.array(Results_Pareto[\"Protein\"]), numpy.array(Results_Pareto[\"ATP\"]), numpy.array(Results_Pareto[\"Growth-rate\"]),1000, cmap='gist_yarg')\n",
    "CS10 =ax.contour(numpy.array(Results_Pareto[\"Protein\"]), numpy.array(Results_Pareto[\"ATP\"]), numpy.array(Results_Pareto[\"Growth-rate\"]),levels=[10],colors='dimgray',linewidths=1)\n",
    "CS20 =ax.contour(numpy.array(Results_Pareto[\"Protein\"]), numpy.array(Results_Pareto[\"ATP\"]), numpy.array(Results_Pareto[\"Growth-rate\"]),levels=[20],colors='dimgray',linewidths=1)\n",
    "CS30 =ax.contour(numpy.array(Results_Pareto[\"Protein\"]), numpy.array(Results_Pareto[\"ATP\"]), numpy.array(Results_Pareto[\"Growth-rate\"]),levels=[30],colors='dimgray',linewidths=1)\n",
    "CS40 =ax.contour(numpy.array(Results_Pareto[\"Protein\"]), numpy.array(Results_Pareto[\"ATP\"]), numpy.array(Results_Pareto[\"Growth-rate\"]),levels=[40],colors='lightgrey',linewidths=1)\n",
    "CS50 =ax.contour(numpy.array(Results_Pareto[\"Protein\"]), numpy.array(Results_Pareto[\"ATP\"]), numpy.array(Results_Pareto[\"Growth-rate\"]),levels=[50],colors='lightgrey',linewidths=1)\n",
    "CS60 =ax.contour(numpy.array(Results_Pareto[\"Protein\"]), numpy.array(Results_Pareto[\"ATP\"]), numpy.array(Results_Pareto[\"Growth-rate\"]),levels=[60],colors='lightgrey',linewidths=1)\n",
    "CS70 =ax.contour(numpy.array(Results_Pareto[\"Protein\"]), numpy.array(Results_Pareto[\"ATP\"]), numpy.array(Results_Pareto[\"Growth-rate\"]),levels=[70],colors='gainsboro',linewidths=1)\n",
    "CS80 =ax.contour(numpy.array(Results_Pareto[\"Protein\"]), numpy.array(Results_Pareto[\"ATP\"]), numpy.array(Results_Pareto[\"Growth-rate\"]),levels=[80],colors='gainsboro',linewidths=1)\n",
    "CS90 =ax.contour(numpy.array(Results_Pareto[\"Protein\"]), numpy.array(Results_Pareto[\"ATP\"]), numpy.array(Results_Pareto[\"Growth-rate\"]),levels=[90],colors='gainsboro',linewidths=1)\n",
    "\n",
    "labe20=ax.clabel(CS20, inline=True, fontsize=12,fmt=fmt ,rightside_up=False)\n",
    "labe40=ax.clabel(CS40, inline=True, fontsize=12,fmt=fmt)\n",
    "labe60=ax.clabel(CS60, inline=True, fontsize=12,fmt=fmt)\n",
    "labe80=ax.clabel(CS80, inline=True, fontsize=12,fmt=fmt)\n",
    "\n",
    "ax.set_ylim(8.8,36)\n",
    "ax.set_xlim(-0.002,0.54)\n",
    "ax.set_xticks([0.05,0.1,0.15,0.2,0.25,0.3,0.35,0.4,0.45,0.5])\n",
    "ax.set_xticklabels([\"{}%\".format(int(i*100)) for i in [0.05,0.1,0.15,0.2,0.25,0.3,0.35,0.4,0.45,0.5]])\n",
    "\n",
    "ax.set_title(\"Trade-off between protein- and ATP use vs. growth-rate\",fontsize=15)\n",
    "ax.set_ylabel(\"$ATP$-turnover ($\\\\frac{mmol}{h \\\\times g_{DW}}$)\",fontsize=12)\n",
    "ax.set_xlabel(\"Fraction of additional protein among total proteome\",fontsize=12)\n",
    "\n",
    "plt.tight_layout()\n",
    "plt.show()\n"
   ]
  },
  {
   "cell_type": "markdown",
   "metadata": {},
   "source": [
    "# 4. Investigating the effect of parameters on (growth-optimal) cellular states "
   ]
  },
  {
   "cell_type": "markdown",
   "metadata": {},
   "source": [
    "## Kapp sampling - global sensitivity analysis\n",
    "Here we sample N global sets of enzyme efficiencies, by drawing multiplicative factors for each enzyme's forward- and backward efficiency form a log-normal distribution (base: e). The wild-type efficiencies are then multiplied with this factor and the maximum growth-rate and corresponding exchange fluxes of glucose, oxygen and acetate are determined. \n",
    "\n",
    "#### --> Relevant rbatools.rba_session.SessionRBA methods used here, are 'add_parameter_multipliers_for_enzyme_efficiencies', 'set_medium' and 'sample_kapp_multipliers'."
   ]
  },
  {
   "cell_type": "code",
   "execution_count": null,
   "metadata": {},
   "outputs": [],
   "source": [
    "print(Simulation.add_parameter_multipliers_for_enzyme_efficiencies.__doc__)"
   ]
  },
  {
   "cell_type": "code",
   "execution_count": null,
   "metadata": {},
   "outputs": [],
   "source": [
    "print(Simulation.sample_kapp_multipliers.__doc__)"
   ]
  },
  {
   "cell_type": "markdown",
   "metadata": {},
   "source": [
    "#### Here we visualise the distribution, from which the scaling factors for enzyme efficiencies are drawn."
   ]
  },
  {
   "cell_type": "code",
   "execution_count": null,
   "metadata": {},
   "outputs": [],
   "source": [
    "STDEV_SAMPLING=numpy.log(1.1) \n",
    "MEAN_SAMPLING=0\n",
    "\n",
    "fig, ax= plt.subplots(1, 1)\n",
    "ax=plt.hist([numpy.e**j for j in list(numpy.random.normal(loc=MEAN_SAMPLING,scale=STDEV_SAMPLING,size=500000))],200)\n",
    "plt.title(\"Distribution of multiplicative scaling factors\")\n",
    "plt.xlabel(\"(Multiplicative) scaling factor\")\n",
    "plt.ylabel(\"Frequency\")\n",
    "plt.show()\n"
   ]
  },
  {
   "cell_type": "markdown",
   "metadata": {},
   "source": [
    "#### Here we sample a defined number of cellular states with added enzyme efficiency noise: (Please note that a large number of samples requires long comutation times and therefore we chose only 30)."
   ]
  },
  {
   "cell_type": "code",
   "execution_count": null,
   "metadata": {},
   "outputs": [],
   "source": [
    "N_SAMPLES=30\n",
    "\n",
    "Simulation.reload_model()\n",
    "# add parameter multipliers for each enzyme efficiency (initialized as 1.0):\n",
    "enzymes=Simulation.add_parameter_multipliers_for_enzyme_efficiencies()\n",
    "Simulation.set_medium({'M_glc':0.025}) # set growth-rate\n",
    "# define variable names of decision variables in mudel to record for each sample:\n",
    "Variables_to_record=[\"R_EX_glc_e\",\"R_EX_ac_e\",\"R_EX_o2_e\"]\n",
    "# draw specified number of samples, from distribution with specified parameters and record specified decision variable each run\n",
    "KappScreenResults=Simulation.sample_kapp_multipliers(n=N_SAMPLES,mean=MEAN_SAMPLING,stdev=STDEV_SAMPLING,enzymes=enzymes,Variables_to_record=Variables_to_record)\n"
   ]
  },
  {
   "cell_type": "code",
   "execution_count": null,
   "metadata": {},
   "outputs": [],
   "source": [
    "# plot results\n",
    "df=pandas.DataFrame(KappScreenResults)\n",
    "\n",
    "fig, ax= plt.subplots(4, 1,figsize=(8,8))\n",
    "\n",
    "seaborn.histplot(data=df.loc[(df[\"Mu\"]!=4)&(df[\"Mu\"]!=None)], x=\"Mu\",ax=ax[0],alpha=0.3,color=\"dimgray\", kde=False,line_kws={\"linewidth\":4,\"alpha\":1},bins=19,fill=True)\n",
    "ax[0].legend([\"Growth rate ($h^{-1}$)\"],frameon=False,loc=\"upper right\",fontsize=13)\n",
    "ax[0].set_yticks([])\n",
    "ax[0].set_ylabel(\"\")\n",
    "ax[0].set_xlabel(\"\")\n",
    "\n",
    "seaborn.histplot(data=df.loc[(df[\"R_EX_o2_e\"]!=None)], x=\"R_EX_o2_e\",ax=ax[1],alpha=0.3,color=\"indianred\", kde=False,line_kws={\"linewidth\":4,\"alpha\":1},bins=15,fill=True)\n",
    "ax[1].legend([\"$O_2$ uptake: ($\\\\frac{mmol}{h \\\\times g_{DW}}$)\"],frameon=False,loc=\"upper right\",fontsize=13)\n",
    "ax[1].set_yticks([])\n",
    "ax[1].set_ylabel(\"\")\n",
    "ax[1].set_xlabel(\"\")\n",
    "\n",
    "seaborn.histplot(data=df.loc[(df[\"R_EX_glc_e\"]!=None)], x=\"R_EX_glc_e\",ax=ax[2],alpha=0.3,color=\"steelblue\", kde=False,line_kws={\"linewidth\":4,\"alpha\":1},bins=20,fill=True)\n",
    "ax[2].legend([\"$Glucose$ uptake: ($\\\\frac{mmol}{h \\\\times g_{DW}}$)\"],frameon=False,loc=\"upper right\",fontsize=13)\n",
    "ax[2].set_yticks([])\n",
    "ax[2].set_ylabel(\"\")\n",
    "ax[2].set_xlabel(\"\")\n",
    "\n",
    "seaborn.histplot(data=-df.loc[(df[\"R_EX_ac_e\"]!=None)], x=\"R_EX_ac_e\",ax=ax[3],alpha=0.3,color=\"mediumseagreen\", kde=False,line_kws={\"linewidth\":4,\"alpha\":1},bins=30,fill=True)\n",
    "ax[3].legend([\"$Acetate$ excretion: ($\\\\frac{mmol}{h \\\\times g_{DW}}$)\"],frameon=False,loc=\"upper right\",fontsize=13)\n",
    "ax[3].set_yticks([])\n",
    "ax[3].set_ylabel(\"\")\n",
    "ax[3].set_xlabel(\"\")\n",
    "\n",
    "ax[0].set_title(\"Cellular state variability from sampled enzyme efficiencies\",fontsize=15)\n",
    "\n",
    "plt.tight_layout()\n",
    "plt.show()\n"
   ]
  },
  {
   "cell_type": "markdown",
   "metadata": {},
   "source": [
    "## Ribosome efficiency sampling\n",
    "Here we screen the impact of modulation of ribosome-capacity on the maximum growth-rate at different glucose concentrations. At each growth rate multiplicative modulators on ribosome-capacity between 0.01 and 100 are applied and the maximum growth-rate is determined.\n",
    "#### --> Relevant rbatools.rba_session.SessionRBA methods used here, are 'add_parameter_multiplier', 'setMedium' and 'screen_multipliers'."
   ]
  },
  {
   "cell_type": "code",
   "execution_count": null,
   "metadata": {},
   "outputs": [],
   "source": [
    "print(Simulation.add_parameter_multiplier.__doc__)"
   ]
  },
  {
   "cell_type": "code",
   "execution_count": null,
   "metadata": {},
   "outputs": [],
   "source": [
    "print(Simulation.screen_multipliers.__doc__)"
   ]
  },
  {
   "cell_type": "code",
   "execution_count": null,
   "metadata": {},
   "outputs": [],
   "source": [
    "Simulation.reload_model()\n",
    "\n",
    "Glucose_concentrations=[0.0125,0.025,0.05,0.1,1] # generate list of glucose concentrations to test\n",
    "\n",
    "# add parameter multiplier for ribosome capacity (initialized as 1.0):\n",
    "Simulation.add_parameter_multiplier(model_parameter=\"ribosome_capacity\",rebuild_model=True)\n",
    "log_factors=[-2,-1.5,-1,-0.5,0,0.5,1,1.5,2] # define (logarithmic, base 10) multipliers to test\n",
    "\n",
    "Results={} # initiate empty result-storing structure\n",
    "f = IntProgress(min=0, max=len(Glucose_concentrations)) # initiate progress bar\n",
    "display(f) # show progress bar\n",
    "for glc_conc in Glucose_concentrations: # iterate over glucose concentrations\n",
    "    f.value += 1 # increment progress bar\n",
    "    Simulation.set_medium({'M_glc':glc_conc}) # set glucose concentration in medium\n",
    "    # screen the defined multipliers:\n",
    "    screen_results=Simulation.screen_multipliers(parameter=\"ribosome_capacity\",factors=[10**i for i in log_factors])\n",
    "    # store results:\n",
    "    scaling_factors , growth_rates = [list(i) for i in zip(*screen_results.items())]\n",
    "    Results[glc_conc]={\"Scaling Factors\":scaling_factors,\"Growth_rates\":[i[\"Mu\"] for i in growth_rates]}\n"
   ]
  },
  {
   "cell_type": "code",
   "execution_count": null,
   "metadata": {},
   "outputs": [],
   "source": [
    "# plot results\n",
    "color_dict={0.0125:\"lightsteelblue\",0.025:\"orange\",0.05:\"lightsteelblue\",0.1:\"steelblue\",1:\"steelblue\"}\n",
    "alpha_dict={0.0125:0.3,0.025:0.8,0.05:0.7,0.1:0.4,1:1}\n",
    "\n",
    "fig=plt.figure(figsize=(8,4))\n",
    "ax = fig.add_subplot(111)\n",
    "\n",
    "log_scaling_coeffs=[numpy.log10(i) for i in Results[glc_conc][\"Scaling Factors\"]]\n",
    "for glc_conc in reversed(Glucose_concentrations):\n",
    "    if glc_conc in color_dict.keys():\n",
    "        ax.scatter(log_scaling_coeffs,Results[glc_conc][\"Growth_rates\"],color=color_dict[glc_conc],alpha=1,s=50,edgecolor='none')\n",
    "plt.legend([\"$Glucose$ : {} $mM$\".format(glc_conc) for glc_conc in reversed(Glucose_concentrations) if glc_conc in color_dict.keys()],fontsize=12,frameon=False)\n",
    "ax.vlines(x=0,ymin=0,ymax=1.6,linestyles=\"dashed\",color=\"black\",linewidth=1,alpha=0.3)\n",
    "for glc_conc in Glucose_concentrations:\n",
    "    if glc_conc in color_dict.keys():\n",
    "        ax.plot(log_scaling_coeffs,Results[glc_conc][\"Growth_rates\"],color=color_dict[glc_conc],alpha=alpha_dict[glc_conc])\n",
    "for glc_conc in Glucose_concentrations:\n",
    "    if glc_conc in color_dict.keys():\n",
    "        ax.scatter([numpy.log10(i) for i in Results[glc_conc][\"Scaling Factors\"]],Results[glc_conc][\"Growth_rates\"],color=color_dict[glc_conc],alpha=alpha_dict[glc_conc],s=50,edgecolor='none')\n",
    "\n",
    "ax.set_title(\"Effect of ribosome capacity modulation on growth-rate\",fontsize=15)\n",
    "ax.set_xlabel(\"Scaling factor ribosome capacity\",fontsize=12)\n",
    "ax.set_ylabel(\"Growth-rate ($h^{-1}$)\",fontsize=12)\n",
    "ax.set_xticks([-2,-1,1,2,0])\n",
    "ax.set_xticklabels([str(\"$10^{\"+str(i)+\"}$\") for i in [-2,-1,1,2]]+[str(1)])\n",
    "\n",
    "plt.tight_layout()\n",
    "plt.show()\n"
   ]
  },
  {
   "cell_type": "markdown",
   "metadata": {},
   "source": [
    "## Local sensitivity analysis of growth rate vs. ribosome capacity over glucose concentrations\n",
    "Here we perform local sensitivity analysis of maximum growth-rate on ribosome- and glucose-uptake (PTSG-system) efficiency at different glucose concentrations. Local sensitivity is represented as the partial derivative of maximum growth-rate vs. model-parameter values at wild-type. \n",
    "\n",
    "Absolute sensitivity represents the the change in growth-rate per change in parameter value.\n",
    "Scaled sensitivity represents the relative change in growth-rate per relative change in parameter value.\n",
    "#### --> Relevant rbatools.rba_session.SessionRBA methods used here, are 'add_parameter_multiplier', 'setMedium' and 'local_sensitivity'."
   ]
  },
  {
   "cell_type": "code",
   "execution_count": null,
   "metadata": {},
   "outputs": [],
   "source": [
    "print(Simulation.local_sensitivity.__doc__)"
   ]
  },
  {
   "cell_type": "code",
   "execution_count": null,
   "metadata": {},
   "outputs": [],
   "source": [
    "Simulation.reload_model()\n",
    "\n",
    "Glucose_concentrations=[0.00625*(i+1) for i in range(16)] # generate list of glucose concentrations to test\n",
    "\n",
    "Local_sensitivities={} # initiate empty result-storing structure\n",
    "f = IntProgress(min=0, max=len(Glucose_concentrations)) # initiate progress bar\n",
    "display(f) # show progress bar\n",
    "for glc_conc in Glucose_concentrations: # iterate over glucose concentrations\n",
    "    f.value += 1 # increment progress bar  \n",
    "    Simulation.set_medium({'M_glc':glc_conc}) # set glucose concentration in medium\n",
    "    # perform local sensitivity analysis:\n",
    "    res=Simulation.local_sensitivity(parameters=[\"ribosome_capacity\",'TptsG_efficiency'],relative_parameter_difference=0.01)\n",
    "    Local_sensitivities[glc_conc]=res # store results\n"
   ]
  },
  {
   "cell_type": "code",
   "execution_count": null,
   "metadata": {},
   "outputs": [],
   "source": [
    "# plot results\n",
    "fig=plt.figure(figsize=(8,4))\n",
    "ax = fig.add_subplot(111)\n",
    "\n",
    "ax.plot([glc_conc for glc_conc in Glucose_concentrations if glc_conc<=1],[Local_sensitivities[glc_conc].loc[\"ribosome_capacity\",\"Scaled_Sensitivity\"] for glc_conc in Glucose_concentrations if glc_conc<=1],\n",
    "                color=\"indianred\",\n",
    "                linewidth=2,\n",
    "                linestyle=\"dashed\")\n",
    "ax.scatter([glc_conc for glc_conc in Glucose_concentrations if glc_conc<=1],[Local_sensitivities[glc_conc].loc[\"ribosome_capacity\",\"Scaled_Sensitivity\"] for glc_conc in Glucose_concentrations if glc_conc<=1],\n",
    "                color=\"indianred\")\n",
    "ax2=ax.twinx()\n",
    "ax2.plot([glc_conc for glc_conc in Glucose_concentrations if glc_conc<=1],[Local_sensitivities[glc_conc].loc[\"ribosome_capacity\",\"Absolute_Sensitivity\"] for glc_conc in Glucose_concentrations if glc_conc<=1],\n",
    "                color=\"steelblue\",\n",
    "                linewidth=2,\n",
    "                linestyle=\"dashed\")\n",
    "ax2.scatter([glc_conc for glc_conc in Glucose_concentrations if glc_conc<=1],[Local_sensitivities[glc_conc].loc[\"ribosome_capacity\",\"Absolute_Sensitivity\"] for glc_conc in Glucose_concentrations if glc_conc<=1],\n",
    "                color=\"steelblue\")\n",
    "\n",
    "ax.set_title(\"Local sensitivities ribosome_capacity at $WT$ capacity\")\n",
    "ax.set_xlabel(\"Glucose concentration ($mM$)\", labelpad=0.1)\n",
    "ax.set_ylabel(\"Scaled sensitivity\",color=\"indianred\")\n",
    "ax2.set_ylabel('Absolute sensitivity',color=\"steelblue\")\n",
    "\n",
    "plt.show()\n",
    "\n",
    "fig=plt.figure(figsize=(8,4))\n",
    "ax = fig.add_subplot(111)\n",
    "\n",
    "ax.plot([glc_conc for glc_conc in Glucose_concentrations if glc_conc<=1],[Local_sensitivities[glc_conc].loc[\"TptsG_efficiency\",\"Scaled_Sensitivity\"] for glc_conc in Glucose_concentrations if glc_conc<=1],\n",
    "                color=\"indianred\",\n",
    "                linewidth=2,\n",
    "                linestyle=\"dashed\")\n",
    "ax.scatter([glc_conc for glc_conc in Glucose_concentrations if glc_conc<=1],[Local_sensitivities[glc_conc].loc[\"TptsG_efficiency\",\"Scaled_Sensitivity\"] for glc_conc in Glucose_concentrations if glc_conc<=1],\n",
    "                color=\"indianred\")\n",
    "ax2=ax.twinx()\n",
    "ax2.plot([glc_conc for glc_conc in Glucose_concentrations if glc_conc<=1],[Local_sensitivities[glc_conc].loc[\"TptsG_efficiency\",\"Absolute_Sensitivity\"] for glc_conc in Glucose_concentrations if glc_conc<=1],\n",
    "                color=\"steelblue\",\n",
    "                linewidth=2,\n",
    "                linestyle=\"dashed\")\n",
    "ax2.scatter([glc_conc for glc_conc in Glucose_concentrations if glc_conc<=1],[Local_sensitivities[glc_conc].loc[\"TptsG_efficiency\",\"Absolute_Sensitivity\"] for glc_conc in Glucose_concentrations if glc_conc<=1],\n",
    "                color=\"steelblue\")\n",
    "\n",
    "ax.set_title(\"Local sensitivities TptsG_efficiency at $WT$ capacity\")\n",
    "ax.set_xlabel(\"Glucose concentration ($mM$)\", labelpad=0.1)\n",
    "ax.set_ylabel(\"Scaled sensitivity\",color=\"indianred\")\n",
    "ax2.set_ylabel('Absolute sensitivity',color=\"steelblue\")\n",
    "plt.show()\n"
   ]
  },
  {
   "cell_type": "markdown",
   "metadata": {},
   "source": [
    "# 5. Investigating the effect of Gene KO´s on cellular fitness"
   ]
  },
  {
   "cell_type": "markdown",
   "metadata": {},
   "source": [
    "Here we apply single knock-outs for all genes, associated with non-transport metabolic reactions and evaluate their effects on the maximum growth-rate.\n",
    "\n",
    "#### --> Relevant rbatools.rba_session.SessionRBA methods used here, are 'setMedium', 'find_max_growth_rate', 'get_reactions', 'get_reaction_information', 'apply_gene_knock_out', 'set_growth_rate', 'solve' and  'undo_gene_knock_out'."
   ]
  },
  {
   "cell_type": "code",
   "execution_count": null,
   "metadata": {},
   "outputs": [],
   "source": [
    "print(Simulation.get_reactions.__doc__)"
   ]
  },
  {
   "cell_type": "code",
   "execution_count": null,
   "metadata": {},
   "outputs": [],
   "source": [
    "print(Simulation.get_reaction_information.__doc__)"
   ]
  },
  {
   "cell_type": "code",
   "execution_count": null,
   "metadata": {},
   "outputs": [],
   "source": [
    "print(Simulation.apply_gene_knock_out.__doc__)"
   ]
  },
  {
   "cell_type": "code",
   "execution_count": null,
   "metadata": {},
   "outputs": [],
   "source": [
    "print(Simulation.solve.__doc__)"
   ]
  },
  {
   "cell_type": "code",
   "execution_count": null,
   "metadata": {},
   "outputs": [],
   "source": [
    "print(Simulation.undo_gene_knock_out.__doc__)"
   ]
  },
  {
   "cell_type": "markdown",
   "metadata": {},
   "source": [
    "#### Here we do the gene-KO screen: (Please note that a screen over all respective genes is very time-consuming, therefore we abort the screen after a COUNT_LIMIT of 30. If you wish to do the full screen, plese set the COUNT_LIMIT variable to None)"
   ]
  },
  {
   "cell_type": "code",
   "execution_count": null,
   "metadata": {},
   "outputs": [],
   "source": [
    "COUNT_LIMIT=50\n",
    "#COUNT_LIMIT=None\n",
    "\n",
    "Simulation.reload_model()\n",
    "\n",
    "Simulation.set_medium({'M_glc':0.1}) # set medium\n",
    "mu_WT=Simulation.find_max_growth_rate() # determine wild-type growth-rate\n",
    "\n",
    "KO_mus={} # initiate results structure\n",
    "count=0\n",
    "#f = IntProgress(min=0, max=len(Simulation.get_reactions())) # initiate progress bar\n",
    "#display(f) # show progress bar\n",
    "for rxn in Simulation.get_reactions(): # iterate over all model reactions\n",
    "    #f.value += 1 # increment progress bar   \n",
    "    if COUNT_LIMIT is not None:\n",
    "        if count>=COUNT_LIMIT:\n",
    "            break\n",
    "    rxn_info=Simulation.get_reaction_information(rxn) # retrieve information on reaction\n",
    "    if rxn_info['Type'] == 'Normal': # Only continue if reaction is not transport\n",
    "        if rxn_info['Enzyme']!='': # Only continue if reaction has associated enzyme\n",
    "            try:\n",
    "                rxn_subunits=list(Simulation.get_enzyme_information(rxn_info['Enzyme'])['Subunits'].keys()) \n",
    "                # All proteins associated with reaction's enzyme\n",
    "                for rxn_su in rxn_subunits:\n",
    "                    if not rxn_su in KO_mus.keys(): #only continue if proteins has not bee checked before\n",
    "                        Simulation.apply_gene_knock_out(gene=rxn_su) # knock out protein\n",
    "                        #check whether wild-type growth-rate is feasible\n",
    "                        Simulation.set_growth_rate(mu_WT) \n",
    "                        mu_WT_feasible=Simulation.solve()\n",
    "                        if not mu_WT_feasible: # if WT growth rate is not feasible we have to find the maximum one\n",
    "                            # Ergo: (mu_max < mu_WT)\n",
    "                            #check whether cell can grow at all with knock-out\n",
    "                            Simulation.set_growth_rate(0.0)\n",
    "                            mu_zero_feasible=Simulation.solve()\n",
    "                            if not mu_zero_feasible:\n",
    "                                # if growth rate 0 is infeasible, cell is growth-deficient \n",
    "                                # Ergo: (mu_max = 0)\n",
    "                                KO_mus.update({rxn_su:0})\n",
    "                            else:\n",
    "                                # if growth rate 0 is feasible, we have to find the maximum growth rate \n",
    "                                # Ergo: (0 < mu_max < mu_WT)\n",
    "                                KO_mus.update({rxn_su:Simulation.find_max_growth_rate(max=mu_WT)})\n",
    "                        else: \n",
    "                            # if WT growth-rate is feasible, we dont need to run the search for maximum growth-rate.\n",
    "                            # Ergo: (mu_max = mu_WT)\n",
    "                            KO_mus.update({rxn_su:mu_WT})\n",
    "                        Simulation.undo_gene_knock_out(gene=rxn_su) # undo gene-KO\n",
    "                    count+=1\n",
    "            except:\n",
    "                if not rxn_su in KO_mus.keys():\n",
    "                    KO_mus.update({rxn_su:numpy.nan})\n"
   ]
  },
  {
   "cell_type": "markdown",
   "metadata": {},
   "source": [
    "#### Here we write the obtained results into a new data structure, holding information on gene ID, KO growth-rate and an annotation of the KO´s effect on growth-rate (relative to wild-type):"
   ]
  },
  {
   "cell_type": "code",
   "execution_count": null,
   "metadata": {
    "scrolled": true
   },
   "outputs": [],
   "source": [
    "KO_effects=pandas.DataFrame() \n",
    "for i in KO_mus.keys():\n",
    "    if numpy.isfinite(KO_mus[i]):\n",
    "        KO_effects.loc[i,\"Gene\"]=i\n",
    "        KO_effects.loc[i,\"Mu\"]= KO_mus[i]\n",
    "        if KO_mus[i] == mu_WT:\n",
    "            KO_effects.loc[i,\"KO effect\"]= \"No effect\"\n",
    "        elif KO_mus[i] == 0:\n",
    "            KO_effects.loc[i,\"KO effect\"]= \"Growth deficiency\"\n",
    "        else:\n",
    "            KO_effects.loc[i,\"KO effect\"]= \"Growth-rate reduction\"\n",
    "\n",
    "\n",
    "number_growth_deficiency=KO_effects.loc[KO_effects[\"KO effect\"]==\"Growth deficiency\"].shape[0]      \n",
    "number_growth_reduction=KO_effects.loc[KO_effects[\"KO effect\"]==\"Growth-rate reduction\"].shape[0]      \n",
    "number_no_effect=KO_effects.loc[KO_effects[\"KO effect\"]==\"No effect\"].shape[0]      \n",
    "\n",
    "print(\"Number of genes without effect on growth-rate: {}\".format(number_no_effect))\n",
    "print(\"Number of genes with growth-deficiency effect: {}\".format(number_growth_deficiency))\n",
    "print(\"Number of genes with reducing effect on growth-rate: {}\".format(number_growth_reduction))\n"
   ]
  },
  {
   "cell_type": "code",
   "execution_count": null,
   "metadata": {
    "scrolled": true
   },
   "outputs": [],
   "source": [
    "# plot results\n",
    "fig=plt.figure(figsize=(8,4))\n",
    "ax = fig.add_subplot(111)\n",
    "hist=ax.hist(KO_effects.loc[KO_effects[\"KO effect\"]==\"Growth-rate reduction\",\"Mu\"],15)\n",
    "ax.set_title(\"Distribution of maximum growth-rates with gene KOs\")\n",
    "ax.set_xlabel(\"Growth-rate\")\n",
    "ax.set_ylabel(\"Frequency\")\n"
   ]
  },
  {
   "cell_type": "markdown",
   "metadata": {},
   "source": [
    "# 6. RBA-derived FBA\n",
    "\n",
    "Here we want to compare the growth-rates, predicted with two variants of the RBA-model derived FBA over different medium-conditions.\n",
    "We screen over different glucose concentrations.\n",
    "At first we predict the maximum growth-rate and growth-optimal exchange fluxes with RBA. Then we generate the corresponding FBA problem and once solve it with the RBA-derived biomass-function (dependent on growth-rate and cellular state) and once solved it with a biomass function, derived and adapted from literature (http://bigg.ucsd.edu/models/iYO844). In each of the FBA simulations we maximise the biomass-function rate, under the constraints for carbon- and nitrogen (glucose and ammonium) uptake rates, predicted by RBA.\n",
    "\n",
    "#### --> Relevant rbatools.rba_session.SessionRBA methods used here, are 'add_reaction', 'set_medium', 'find_max_growth_rate', 'return_exchange_fluxes', 'build_fba_model'.\n",
    "\n",
    "#### --> Relevant rbatools.fba_problem.ProblemFBA methods used here, are 'clear_objective', 'set_objective','set_lb', 'set_ub' and 'solve_lp'\n"
   ]
  },
  {
   "cell_type": "code",
   "execution_count": null,
   "metadata": {},
   "outputs": [],
   "source": [
    "print(Simulation.build_fba_model.__doc__)"
   ]
  },
  {
   "cell_type": "markdown",
   "metadata": {},
   "source": [
    "#### Since there is no biomass-reaction in the RBA-model used, we have to add it. This is derived from an existing FBA model of B.subtilis, and the metabolite IDs are adapted. (Please note, that metabolites, not present in the RBA-model are ignored):"
   ]
  },
  {
   "cell_type": "code",
   "execution_count": null,
   "metadata": {},
   "outputs": [],
   "source": [
    "# define products of biomass reaction\n",
    "products={\"M_adp_c\":104.997414,\"M_h_c\":105,\"M_p_c\":104.985613}\n",
    "\n",
    "# define reactants of biomass reaction\n",
    "reactants={\"M_ala_c\":0.266902,\n",
    "           \"M_fthf_c\":0.000367,\n",
    "           \"M_ala_c\":0.266902,\n",
    "           \"M_amp_c\":0.00467,\n",
    "           \"M_arg_c\":0.193021,\n",
    "           \"M_asn_c\":0.147987,\n",
    "           \"M_asp_c\":0.148014,\n",
    "           \"M_atp_c\":105.053483,\n",
    "           \"M_ca2_c\":0.003205,\n",
    "           \"M_cl_c\":5e-06,\n",
    "           \"M_cdp_c\":0.000251,\n",
    "           \"M_cmp_c\":0.001042,\n",
    "           \"M_ctp_c\":0.038902,\n",
    "           \"M_cys_c\":0.05699,\n",
    "           \"M_datp_c\":0.022982,\n",
    "           \"M_dctp_c\":0.01738,\n",
    "           \"M_dgtp_c\":0.017398,\n",
    "           \"M_dttp_c\":0.022899,\n",
    "           \"M_fe3_c\":0.00345,\n",
    "           \"M_gdp_c\":0.00018,\n",
    "           \"M_gln_c\":0.260335,\n",
    "           \"M_glu_c\":0.260378,\n",
    "           \"M_gly_c\":0.408288,\n",
    "           \"M_gmp_c\":0.000503,\n",
    "           \"M_wtaout_c\":0.002347,\n",
    "           \"M_gtp_c\":0.062667,\n",
    "           \"M_h2o_c\":105,\n",
    "           \"M_his_c\":0.081739,\n",
    "           \"M_ile_c\":0.269905,\n",
    "           \"M_k_c\":0.706312,\n",
    "           \"M_leu_c\":0.346445,\n",
    "           \"M_lys_c\":0.323093,\n",
    "           \"M_1gdg_c\":8.6e-05,\n",
    "           \"M_met_c\":0.113326,\n",
    "           \"M_mg2_c\":0.101714,\n",
    "           \"M_mmq_c\":0.000266,\n",
    "           \"M_nad_c\":0.016164,\n",
    "           \"M_nadp_c\":0.000934,\n",
    "           \"M_nadph_c\":0.000216,\n",
    "           \"M_pgout_c\":0.101817,\n",
    "           \"M_pgo_c\":0.000176,\n",
    "           \"M_phe_c\":0.175939,\n",
    "           \"M_pp_c\":0.000918,\n",
    "           \"M_pro_c\":0.160642,\n",
    "           \"M_pe_c\":0.00056,\n",
    "           \"M_ser_c\":0.216213,\n",
    "           \"M_3gdg_c\":6.6e-05,\n",
    "           \"M_thr_c\":0.186317,\n",
    "           \"M_trp_c\":0.054336,\n",
    "           \"M_tyr_c\":0.110824,\n",
    "           \"M_utp_c\":0.041501,\n",
    "           \"M_val_c\":0.306734}\n",
    "\n",
    "Simulation.reload_model()\n",
    "# add biomass function to model, named R_BIOMASS_BS_10:\n",
    "Simulation.add_reaction(reaction_id=\"R_BIOMASS_BS_10\",reactants=reactants,products=products,reversible=False)\n",
    "Simulation.rebuild_from_model()"
   ]
  },
  {
   "cell_type": "code",
   "execution_count": null,
   "metadata": {},
   "outputs": [],
   "source": [
    "exchanges_to_impose=[\"M_glc\",\"M_nh3\"] # define exchange reactions to impose onto the FBA model\n",
    "glcs=[0.005+(i*0.0025) for i in range(26)]  # generate list of glucose concentrations to test\n",
    "rba_mumax=[] #generate empty list for RBA-predicted growth rates\n",
    "fba_fixedBMf_mumax=[] #generate empty list for FBA-predicted growth rates with R_BIOMASS_BS_10 as biomass function\n",
    "rba_targetBMf_mumax=[] #generate empty list for RBA-predicted growth rates with RBA-derived as biomass function\n",
    "f = IntProgress(min=0, max=3*len(glcs)) #initiate progress bar\n",
    "display(f) #show progress bar\n",
    "for glc_conc in glcs:\n",
    "    Simulation.rebuild_from_model()\n",
    "    Simulation.set_medium({'M_glc':glc_conc}) #set glucose concentration\n",
    "    # predict maximum RBA growth-rate\n",
    "    mumax=Simulation.find_max_growth_rate(max=1.0,try_unscaling_if_sol_status_is_feasible_only_before_unscaling=True)\n",
    "    f.value += 1 #increment progress bar\n",
    "    rba_mumax.append(mumax) # store predicted growth rate\n",
    "    J_ex=Simulation.return_exchange_fluxes() #extract exchange fluxes from rba-solution\n",
    "    #filter exchanges\n",
    "    exchange_bounds={Simulation.ExchangeReactionMap[i]:-J_ex[i] for i in J_ex.keys() if i in exchanges_to_impose}\n",
    "  \n",
    "    ##### FBA with RBA-derived biomass function ######\n",
    "    #Construct fba problem with RBA-specific biomass-function:\n",
    "    Simulation.build_fba_model(rba_derived_biomass_function=True,from_rba_solution=True)\n",
    "    Simulation.FBA.clear_objective() #set all objective coefficients to 0\n",
    "    Simulation.FBA.set_objective({'R_BIOMASS_targetsRBA': -1.0}) # set objective to maximize this biomass-function\n",
    "    #impose exchange-fluxes:\n",
    "    Simulation.FBA.set_lb(exchange_bounds) \n",
    "    Simulation.FBA.set_ub(exchange_bounds)\n",
    "    Simulation.FBA.solve_lp() #solve FBA problem to maximize R_BIOMASS_targetsRBA\n",
    "    if Simulation.FBA.Solved:\n",
    "        rba_targetBMf_mumax.append(-Simulation.FBA.ObjectiveValue) # store predicted growth rate\n",
    "    else:\n",
    "        rba_targetBMf_mumax.append(numpy.nan)\n",
    "    f.value += 1 #increment progress bar    \n",
    "    \n",
    "    ##### FBA with literature-derived biomass function ######\n",
    "    Simulation.FBA.clear_objective() #set all objective coefficients to 0\n",
    "    Simulation.FBA.set_objective({'R_BIOMASS_BS_10': -1.0}) # set objective to maximize this biomass-function\n",
    "    Simulation.FBA.solve_lp() #solve FBA problem to maximize R_BIOMASS_BS_10\n",
    "    if Simulation.FBA.Solved:\n",
    "        fba_fixedBMf_mumax.append(-Simulation.FBA.ObjectiveValue) # store predicted growth rate\n",
    "    else:\n",
    "        fba_fixedBMf_mumax.append(numpy.nan)\n",
    "    f.value += 1 #increment progress bar   \n"
   ]
  },
  {
   "cell_type": "code",
   "execution_count": null,
   "metadata": {},
   "outputs": [],
   "source": [
    "# plot results\n",
    "plt.plot(glcs,rba_mumax,color=\"black\",label=\"RBA\",linewidth=1,alpha=0.8)\n",
    "plt.scatter(glcs,fba_fixedBMf_mumax,color=\"indianred\",alpha=0.8,label=\"FBA: Literature-derived BM-function\")\n",
    "plt.scatter(glcs,rba_targetBMf_mumax,color=\"cornflowerblue\",label=\"FBA: RBA-derived BM-function\")\n",
    "plt.title(\"RBA- vs. FBA growth-rate predictions\")\n",
    "plt.xlabel(\"Glucose concentration\")\n",
    "plt.ylabel(\"Predicted growth-rate\")\n",
    "plt.legend()\n"
   ]
  }
 ],
 "metadata": {
  "kernelspec": {
   "display_name": "Python 3",
   "language": "python",
   "name": "python3"
  },
  "language_info": {
   "codemirror_mode": {
    "name": "ipython",
    "version": 3
   },
   "file_extension": ".py",
   "mimetype": "text/x-python",
   "name": "python",
   "nbconvert_exporter": "python",
   "pygments_lexer": "ipython3",
   "version": "3.6.5"
  }
 },
 "nbformat": 4,
 "nbformat_minor": 2
}
