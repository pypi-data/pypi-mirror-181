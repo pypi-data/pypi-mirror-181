{
 "cells": [
  {
   "cell_type": "markdown",
   "metadata": {},
   "source": [
    "## 🤔 Config"
   ]
  },
  {
   "cell_type": "code",
   "execution_count": null,
   "metadata": {},
   "outputs": [],
   "source": [
    "#|default_exp utils.config"
   ]
  },
  {
   "cell_type": "code",
   "execution_count": null,
   "metadata": {},
   "outputs": [],
   "source": [
    "# |hide\n",
    "from nbdev.showdoc import *"
   ]
  },
  {
   "cell_type": "code",
   "execution_count": null,
   "metadata": {},
   "outputs": [],
   "source": [
    "# |hide\n",
    "# |export\n",
    "from copy import copy\n",
    "from types import SimpleNamespace\n",
    "from typing import Callable, Union, Optional, TypeVar\n",
    "from contextlib import contextmanager\n",
    "\n",
    "import numpy as np"
   ]
  },
  {
   "cell_type": "code",
   "execution_count": null,
   "metadata": {},
   "outputs": [],
   "source": []
  },
  {
   "cell_type": "code",
   "execution_count": null,
   "metadata": {},
   "outputs": [],
   "source": [
    "# |exporti\n",
    "_defaults = SimpleNamespace(\n",
    "    precision     = 3,    # Digits after `.`\n",
    "    threshold_max = 3,    # .abs() larger than 1e3 -> Sci mode\n",
    "    threshold_min = -4,   # .abs() smaller that 1e-4 -> Sci mode\n",
    "    sci_mode      = None, # Sci mode (2.3e4). \n",
    "    indent        = 2,    # Indent for .deeper()\n",
    "    color         = True, # ANSI colors in text\n",
    "    repr          = None, # `lovely` is used for `repr(np.ndarray)`\n",
    "    str           = None, # `lovely` is used for `str(np.ndarray)`\n",
    ")\n",
    "\n",
    "_config = copy(_defaults)"
   ]
  },
  {
   "cell_type": "code",
   "execution_count": null,
   "metadata": {},
   "outputs": [],
   "source": [
    "# |exporti\n",
    "\n",
    "# Allows passing None as an argument to reset the \n",
    "class _Default():\n",
    "    def __repr__(self):\n",
    "        return \"Ignore\"\n",
    "Default = _Default()\n",
    "D = TypeVar(\"Default\")"
   ]
  },
  {
   "cell_type": "code",
   "execution_count": null,
   "metadata": {},
   "outputs": [],
   "source": [
    "# |export\n",
    "\n",
    "def set_config( precision       :Optional[Union[D, int]]    =Default, # Digits after `.`\n",
    "                threshold_min   :Optional[Union[D,int]]     =Default, # .abs() larger than 1e3 -> Sci mode\n",
    "                threshold_max   :Optional[Union[D,int]]     =Default, # .abs() smaller that 1e-4 -> Sci mode\n",
    "                sci_mode        :Optional[Union[D,bool]]    =Default, # Sci mode (1.2e3), True, False, None=auto.\n",
    "                indent          :Optional[Union[D,bool]]    =Default, # Indent for .deeper()\n",
    "                color           :Optional[Union[D,bool]]    =Default, # ANSI colors in text\n",
    "                repr            :Optional[Union[D,Callable]]=Default, # \n",
    "                str             :Optional[Union[D,Callable]]=Default):# \n",
    "\n",
    "    \"Set config variables\"\n",
    "    args = locals().copy()\n",
    "    for k,v in args.items():\n",
    "        if v != Default:\n",
    "            \n",
    "            # set_config(repr=func)             -> Set both `repr` and `str`.\n",
    "            # set_config(repr=func, str=None)   -> Set `repr`, unset `str``\n",
    "            # set_config(str=func)              -> Set `str`` only, don't tuch `repr``\n",
    "            # set_config(repr=None)             -> Unset `repr`and `str``\n",
    "            # set_config(str=None)              -> Unset `str` only\n",
    "\n",
    "            if k == \"repr\":\n",
    "                np.set_string_function(v, True)\n",
    "                if args[\"str\"] == Default:\n",
    "                    np.set_string_function(v, False)\n",
    "            if k == \"str\":\n",
    "                np.set_string_function(v, False)\n",
    "\n",
    "            if v is None:\n",
    "                setattr(_config, k, getattr(_defaults, k))\n",
    "            else:\n",
    "                setattr(_config, k, v)\n"
   ]
  },
  {
   "cell_type": "code",
   "execution_count": null,
   "metadata": {},
   "outputs": [],
   "source": [
    "# |export\n",
    "def get_config():\n",
    "    \"Get a copy of config variables\"\n",
    "    return copy(_config)"
   ]
  },
  {
   "cell_type": "code",
   "execution_count": null,
   "metadata": {},
   "outputs": [],
   "source": [
    "# |export\n",
    "@contextmanager\n",
    "def config( precision       :Optional[Union[D,int]]    =Default, # Digits after `.`\n",
    "            threshold_min   :Optional[Union[D,int]]     =Default, # .abs() larger than 1e3 -> Sci mode\n",
    "            threshold_max   :Optional[Union[D,int]]     =Default, # .abs() smaller that 1e-4 -> Sci mode\n",
    "            sci_mode        :Optional[Union[D,bool]]    =Default, # Sci mode (1.2e3), True, False, None=auto.\n",
    "            indent          :Optional[Union[D,bool]]    =Default, # Indent for .deeper()\n",
    "            color           :Optional[Union[D,bool]]    =Default, # ANSI colors in text\n",
    "            repr            :Optional[Union[D,Callable]]=Default, # \n",
    "            str             :Optional[Union[D,Callable]]=Default):#\n",
    "    \"Context manager for temporarily setting printting options.\"\n",
    "    global _config\n",
    "    new_opts = { k:v for k, v in locals().items() if v != Default }\n",
    "    old_opts = copy(get_config().__dict__)\n",
    "\n",
    "    try:\n",
    "        set_config(**new_opts)\n",
    "        yield\n",
    "    finally:\n",
    "        set_config(**old_opts)"
   ]
  },
  {
   "cell_type": "code",
   "execution_count": null,
   "metadata": {},
   "outputs": [
    {
     "data": {
      "text/markdown": [
       "---\n",
       "\n",
       "[source](https://github.com/xl0/lovely-numpy/blob/master/lovely_numpy/utils/config.py#L37){target=\"_blank\" style=\"float:right; font-size:smaller\"}\n",
       "\n",
       "### set_config\n",
       "\n",
       ">      set_config (precision:Union[~Default,int,NoneType]=Ignore,\n",
       ">                  threshold_min:Union[~Default,int,NoneType]=Ignore,\n",
       ">                  threshold_max:Union[~Default,int,NoneType]=Ignore,\n",
       ">                  sci_mode:Union[~Default,bool,NoneType]=Ignore,\n",
       ">                  indent:Union[~Default,bool,NoneType]=Ignore,\n",
       ">                  color:Union[~Default,bool,NoneType]=Ignore,\n",
       ">                  repr:Union[~Default,Callable,NoneType]=Ignore,\n",
       ">                  str:Union[~Default,Callable,NoneType]=Ignore)\n",
       "\n",
       "Set config variables\n",
       "\n",
       "|    | **Type** | **Default** | **Details** |\n",
       "| -- | -------- | ----------- | ----------- |\n",
       "| precision | Union | Ignore | Digits after `.` |\n",
       "| threshold_min | Union | Ignore | .abs() larger than 1e3 -> Sci mode |\n",
       "| threshold_max | Union | Ignore | .abs() smaller that 1e-4 -> Sci mode |\n",
       "| sci_mode | Union | Ignore | Sci mode (1.2e3), True, False, None=auto. |\n",
       "| indent | Union | Ignore | Indent for .deeper() |\n",
       "| color | Union | Ignore | ANSI colors in text |\n",
       "| repr | Union | Ignore |  |\n",
       "| str | Union | Ignore |  |"
      ],
      "text/plain": [
       "---\n",
       "\n",
       "[source](https://github.com/xl0/lovely-numpy/blob/master/lovely_numpy/utils/config.py#L37){target=\"_blank\" style=\"float:right; font-size:smaller\"}\n",
       "\n",
       "### set_config\n",
       "\n",
       ">      set_config (precision:Union[~Default,int,NoneType]=Ignore,\n",
       ">                  threshold_min:Union[~Default,int,NoneType]=Ignore,\n",
       ">                  threshold_max:Union[~Default,int,NoneType]=Ignore,\n",
       ">                  sci_mode:Union[~Default,bool,NoneType]=Ignore,\n",
       ">                  indent:Union[~Default,bool,NoneType]=Ignore,\n",
       ">                  color:Union[~Default,bool,NoneType]=Ignore,\n",
       ">                  repr:Union[~Default,Callable,NoneType]=Ignore,\n",
       ">                  str:Union[~Default,Callable,NoneType]=Ignore)\n",
       "\n",
       "Set config variables\n",
       "\n",
       "|    | **Type** | **Default** | **Details** |\n",
       "| -- | -------- | ----------- | ----------- |\n",
       "| precision | Union | Ignore | Digits after `.` |\n",
       "| threshold_min | Union | Ignore | .abs() larger than 1e3 -> Sci mode |\n",
       "| threshold_max | Union | Ignore | .abs() smaller that 1e-4 -> Sci mode |\n",
       "| sci_mode | Union | Ignore | Sci mode (1.2e3), True, False, None=auto. |\n",
       "| indent | Union | Ignore | Indent for .deeper() |\n",
       "| color | Union | Ignore | ANSI colors in text |\n",
       "| repr | Union | Ignore |  |\n",
       "| str | Union | Ignore |  |"
      ]
     },
     "execution_count": null,
     "metadata": {},
     "output_type": "execute_result"
    }
   ],
   "source": [
    "show_doc(set_config)"
   ]
  },
  {
   "cell_type": "code",
   "execution_count": null,
   "metadata": {},
   "outputs": [
    {
     "data": {
      "text/markdown": [
       "---\n",
       "\n",
       "[source](https://github.com/xl0/lovely-numpy/blob/master/lovely_numpy/utils/config.py#L71){target=\"_blank\" style=\"float:right; font-size:smaller\"}\n",
       "\n",
       "### get_config\n",
       "\n",
       ">      get_config ()\n",
       "\n",
       "Get a copy of config variables"
      ],
      "text/plain": [
       "---\n",
       "\n",
       "[source](https://github.com/xl0/lovely-numpy/blob/master/lovely_numpy/utils/config.py#L71){target=\"_blank\" style=\"float:right; font-size:smaller\"}\n",
       "\n",
       "### get_config\n",
       "\n",
       ">      get_config ()\n",
       "\n",
       "Get a copy of config variables"
      ]
     },
     "execution_count": null,
     "metadata": {},
     "output_type": "execute_result"
    }
   ],
   "source": [
    "show_doc(get_config)"
   ]
  },
  {
   "cell_type": "code",
   "execution_count": null,
   "metadata": {},
   "outputs": [
    {
     "data": {
      "text/markdown": [
       "---\n",
       "\n",
       "[source](https://github.com/xl0/lovely-numpy/blob/master/lovely_numpy/utils/config.py#L77){target=\"_blank\" style=\"float:right; font-size:smaller\"}\n",
       "\n",
       "### config\n",
       "\n",
       ">      config (precision:Union[~Default,int,NoneType]=Ignore,\n",
       ">              threshold_min:Union[~Default,int,NoneType]=Ignore,\n",
       ">              threshold_max:Union[~Default,int,NoneType]=Ignore,\n",
       ">              sci_mode:Union[~Default,bool,NoneType]=Ignore,\n",
       ">              indent:Union[~Default,bool,NoneType]=Ignore,\n",
       ">              color:Union[~Default,bool,NoneType]=Ignore,\n",
       ">              repr:Union[~Default,Callable,NoneType]=Ignore,\n",
       ">              str:Union[~Default,Callable,NoneType]=Ignore)\n",
       "\n",
       "Context manager for temporarily setting printting options.\n",
       "\n",
       "|    | **Type** | **Default** | **Details** |\n",
       "| -- | -------- | ----------- | ----------- |\n",
       "| precision | Union | Ignore | Digits after `.` |\n",
       "| threshold_min | Union | Ignore | .abs() larger than 1e3 -> Sci mode |\n",
       "| threshold_max | Union | Ignore | .abs() smaller that 1e-4 -> Sci mode |\n",
       "| sci_mode | Union | Ignore | Sci mode (1.2e3), True, False, None=auto. |\n",
       "| indent | Union | Ignore | Indent for .deeper() |\n",
       "| color | Union | Ignore | ANSI colors in text |\n",
       "| repr | Union | Ignore |  |\n",
       "| str | Union | Ignore |  |"
      ],
      "text/plain": [
       "---\n",
       "\n",
       "[source](https://github.com/xl0/lovely-numpy/blob/master/lovely_numpy/utils/config.py#L77){target=\"_blank\" style=\"float:right; font-size:smaller\"}\n",
       "\n",
       "### config\n",
       "\n",
       ">      config (precision:Union[~Default,int,NoneType]=Ignore,\n",
       ">              threshold_min:Union[~Default,int,NoneType]=Ignore,\n",
       ">              threshold_max:Union[~Default,int,NoneType]=Ignore,\n",
       ">              sci_mode:Union[~Default,bool,NoneType]=Ignore,\n",
       ">              indent:Union[~Default,bool,NoneType]=Ignore,\n",
       ">              color:Union[~Default,bool,NoneType]=Ignore,\n",
       ">              repr:Union[~Default,Callable,NoneType]=Ignore,\n",
       ">              str:Union[~Default,Callable,NoneType]=Ignore)\n",
       "\n",
       "Context manager for temporarily setting printting options.\n",
       "\n",
       "|    | **Type** | **Default** | **Details** |\n",
       "| -- | -------- | ----------- | ----------- |\n",
       "| precision | Union | Ignore | Digits after `.` |\n",
       "| threshold_min | Union | Ignore | .abs() larger than 1e3 -> Sci mode |\n",
       "| threshold_max | Union | Ignore | .abs() smaller that 1e-4 -> Sci mode |\n",
       "| sci_mode | Union | Ignore | Sci mode (1.2e3), True, False, None=auto. |\n",
       "| indent | Union | Ignore | Indent for .deeper() |\n",
       "| color | Union | Ignore | ANSI colors in text |\n",
       "| repr | Union | Ignore |  |\n",
       "| str | Union | Ignore |  |"
      ]
     },
     "execution_count": null,
     "metadata": {},
     "output_type": "execute_result"
    }
   ],
   "source": [
    "show_doc(config)"
   ]
  },
  {
   "cell_type": "markdown",
   "metadata": {},
   "source": [
    "## Examples"
   ]
  },
  {
   "cell_type": "code",
   "execution_count": null,
   "metadata": {},
   "outputs": [],
   "source": [
    "from lovely_numpy import Lo, lovely, set_config, get_config, config"
   ]
  },
  {
   "cell_type": "markdown",
   "metadata": {},
   "source": [
    "### Precision"
   ]
  },
  {
   "cell_type": "code",
   "execution_count": null,
   "metadata": {},
   "outputs": [
    {
     "data": {
      "text/plain": [
       "array[3] x∈[1.00000, 3.00000] μ=2.00000 σ=0.81650 [1.00000, 2.00000, 3.00000]"
      ]
     },
     "execution_count": null,
     "metadata": {},
     "output_type": "execute_result"
    }
   ],
   "source": [
    "set_config(precision=5)\n",
    "Lo(np.array([1., 2, 3]))"
   ]
  },
  {
   "cell_type": "markdown",
   "metadata": {},
   "source": [
    "### Scientific mode"
   ]
  },
  {
   "cell_type": "code",
   "execution_count": null,
   "metadata": {},
   "outputs": [
    {
     "data": {
      "text/plain": [
       "array[3] x∈[1.00000e+00, 3.00000e+00] μ=2.00000e+00 σ=8.16497e-01 [1.00000e+00, 2.00000e+00, 3.00000e+00]"
      ]
     },
     "execution_count": null,
     "metadata": {},
     "output_type": "execute_result"
    }
   ],
   "source": [
    "set_config(sci_mode=True) # Force always on\n",
    "Lo(np.array([1., 2, 3]))"
   ]
  },
  {
   "cell_type": "markdown",
   "metadata": {},
   "source": [
    "### Color on/off"
   ]
  },
  {
   "cell_type": "code",
   "execution_count": null,
   "metadata": {},
   "outputs": [
    {
     "data": {
      "text/plain": [
       "array NaN! nan"
      ]
     },
     "execution_count": null,
     "metadata": {},
     "output_type": "execute_result"
    }
   ],
   "source": [
    "set_config(color=False) # Force always off\n",
    "Lo(np.array(np.nan))"
   ]
  },
  {
   "cell_type": "markdown",
   "metadata": {},
   "source": [
    "### Repr and str"
   ]
  },
  {
   "cell_type": "code",
   "execution_count": null,
   "metadata": {},
   "outputs": [
    {
     "data": {
      "text/plain": [
       "array[2] i64 μ=1.50000e+00 σ=5.00000e-01 [1, 2]"
      ]
     },
     "execution_count": null,
     "metadata": {},
     "output_type": "execute_result"
    }
   ],
   "source": [
    "set_config(repr=lovely)\n",
    "np.array([1,2])"
   ]
  },
  {
   "cell_type": "markdown",
   "metadata": {},
   "source": [
    ":::{.callout-note}\n",
    "I expect that most people would want `repr` and `str` to do the same thing in this context.\\\n",
    "Setting `repr` also sets `str`. Pass `str=None` to only set `repr`\n",
    ":::\n",
    "\n",
    "```py\n",
    "set_config(repr=func)             # Set both `repr` and `str`.\n",
    "set_config(repr=func, str=None)   # Set `repr`, unset `str`\n",
    "set_config(str=func)              # Set `str` only, don't touch `repr`\n",
    "set_config(repr=None)             # Unset `repr`and `str`\n",
    "set_config(str=None)              # Unset `str` only\n",
    "```"
   ]
  },
  {
   "cell_type": "markdown",
   "metadata": {},
   "source": [
    "### Reser to defaults"
   ]
  },
  {
   "cell_type": "code",
   "execution_count": null,
   "metadata": {},
   "outputs": [],
   "source": [
    "set_config(precision=None, sci_mode=None, color=None, repr=None)"
   ]
  },
  {
   "cell_type": "code",
   "execution_count": null,
   "metadata": {},
   "outputs": [
    {
     "data": {
      "text/plain": [
       "array[3] μ=1.500 σ=0.500 \u001b[31mNaN!\u001b[0m [1.000, 2.000, nan]"
      ]
     },
     "execution_count": null,
     "metadata": {},
     "output_type": "execute_result"
    }
   ],
   "source": [
    "Lo(np.array([1., 2, np.nan]))"
   ]
  },
  {
   "cell_type": "code",
   "execution_count": null,
   "metadata": {},
   "outputs": [
    {
     "data": {
      "text/plain": [
       "array([1, 2])"
      ]
     },
     "execution_count": null,
     "metadata": {},
     "output_type": "execute_result"
    }
   ],
   "source": [
    "np.array([1,2])"
   ]
  },
  {
   "cell_type": "markdown",
   "metadata": {},
   "source": [
    "### Context manager"
   ]
  },
  {
   "cell_type": "code",
   "execution_count": null,
   "metadata": {},
   "outputs": [
    {
     "name": "stdout",
     "output_type": "stream",
     "text": [
      "array[3] x∈[1.000e+00, 3.000e+00] μ=2.000e+00 σ=8.165e-01 [1.000e+00, 2.000e+00, 3.000e+00]\n"
     ]
    }
   ],
   "source": [
    "with config(sci_mode=True):    \n",
    "    print(Lo(np.array([1., 2, 3])))"
   ]
  },
  {
   "cell_type": "code",
   "execution_count": null,
   "metadata": {},
   "outputs": [
    {
     "data": {
      "text/plain": [
       "array[3] x∈[1.000, 3.000] μ=2.000 σ=0.816 [1.000, 2.000, 3.000]"
      ]
     },
     "execution_count": null,
     "metadata": {},
     "output_type": "execute_result"
    }
   ],
   "source": [
    "Lo(np.array([1., 2, 3]))"
   ]
  },
  {
   "cell_type": "code",
   "execution_count": null,
   "metadata": {},
   "outputs": [],
   "source": [
    "# |hide\n",
    "import nbdev; nbdev.nbdev_export()"
   ]
  },
  {
   "cell_type": "code",
   "execution_count": null,
   "metadata": {},
   "outputs": [],
   "source": []
  }
 ],
 "metadata": {
  "kernelspec": {
   "display_name": "Python 3.10.6 64-bit",
   "language": "python",
   "name": "python3"
  }
 },
 "nbformat": 4,
 "nbformat_minor": 2
}
