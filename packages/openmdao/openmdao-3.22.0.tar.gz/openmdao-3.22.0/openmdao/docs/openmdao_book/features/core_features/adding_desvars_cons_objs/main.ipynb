{
 "cells": [
  {
   "cell_type": "markdown",
   "metadata": {},
   "source": [
    "# Adding Design Variables, Constraints, and Objectives\n",
    "\n",
    "- [Adding Design Variables](adding_design_variables.ipynb)\n",
    "- [Adding Constraint](adding_constraint.ipynb)\n",
    "- [Adding Objective](adding_objective.ipynb)"
   ]
  }
 ],
 "metadata": {
  "celltoolbar": "Tags",
  "kernelspec": {
   "display_name": "Python 3",
   "language": "python",
   "name": "python3"
  },
  "language_info": {
   "codemirror_mode": {
    "name": "ipython",
    "version": 3
   },
   "file_extension": ".py",
   "mimetype": "text/x-python",
   "name": "python",
   "nbconvert_exporter": "python",
   "pygments_lexer": "ipython3",
   "version": "3.8.5"
  },
  "orphan": true
 },
 "nbformat": 4,
 "nbformat_minor": 4
}
