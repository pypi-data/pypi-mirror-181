{
 "cells": [
  {
   "cell_type": "code",
   "execution_count": 1,
   "metadata": {},
   "outputs": [
    {
     "name": "stderr",
     "output_type": "stream",
     "text": [
      "/Users/jacob/opt/miniconda3/envs/MLFinalProject/lib/python3.10/site-packages/tqdm/auto.py:22: TqdmWarning: IProgress not found. Please update jupyter and ipywidgets. See https://ipywidgets.readthedocs.io/en/stable/user_install.html\n",
      "  from .autonotebook import tqdm as notebook_tqdm\n"
     ]
    }
   ],
   "source": [
    "from checker_players.Runners.TrainRunner import TrainRunner \n",
    "from checker_players.Runners.TestRunner import TestRunner \n",
    "from checker_players.Players.RandomPlayer import RandomPlayer\n",
    "from checker_players.Players.MultilayerPerceptron import MultilayerPerceptron\n",
    "from checker_players.Checker_Environment.Board import Board\n",
    "from checker_players.Runners.Loggers.SimpleLogger import SimpleLogger \n",
    "from checker_players.Runners.Loggers.TrainLogger import TrainLogger \n",
    "from checker_players.Players.MinimaxPlayer import MinimaxPlayer\n",
    "from checker_players.Players.AlphaBeta import AlphaBeta"
   ]
  },
  {
   "cell_type": "code",
   "execution_count": 2,
   "metadata": {},
   "outputs": [],
   "source": [
    "board = Board()\n",
    "\n",
    "randomP1 = RandomPlayer(board.P1)\n",
    "minimaxP1 = MinimaxPlayer(board.P1)\n",
    "alphaBetaP1 = AlphaBeta(board.P1)\n",
    "perceptronP1 = MultilayerPerceptron(board.P1)\n",
    "\n",
    "randomP2 = RandomPlayer(board.P2)\n",
    "minimaxP2 = MinimaxPlayer(board.P2, 2)\n",
    "alphaBetaP2 = AlphaBeta(board.P2, 2)\n",
    "perceptronP2 = MultilayerPerceptron(board.P2)"
   ]
  },
  {
   "cell_type": "code",
   "execution_count": 3,
   "metadata": {},
   "outputs": [],
   "source": [
    "def win_history_to_percent(board, win_history):\n",
    "    won_gamesP1 = 0\n",
    "    won_gamesP2 = 0\n",
    "    for winner in win_history:\n",
    "        if winner == board.P1:\n",
    "            won_gamesP1 += 1\n",
    "        elif winner == board.P2:\n",
    "            won_gamesP2 += 1\n",
    "    return won_gamesP1 / (won_gamesP1 + won_gamesP2)"
   ]
  },
  {
   "cell_type": "code",
   "execution_count": 5,
   "metadata": {},
   "outputs": [
    {
     "name": "stdout",
     "output_type": "stream",
     "text": [
      "<checker_players.Runners.Loggers.TrainLogger.TrainLogger object at 0x7fc9348bd330>\n",
      "[1, 1, 1, 1, 1, 1]\n",
      "<checker_players.Runners.Loggers.TrainLogger.TrainLogger object at 0x7fc9348bcd30>\n",
      "[1, 1, 1, 1, 1, 1, 1, 1]\n",
      "<checker_players.Runners.Loggers.TrainLogger.TrainLogger object at 0x7fc9348bd120>\n"
     ]
    },
    {
     "ename": "KeyboardInterrupt",
     "evalue": "",
     "output_type": "error",
     "traceback": [
      "\u001b[0;31m---------------------------------------------------------------------------\u001b[0m",
      "\u001b[0;31mKeyboardInterrupt\u001b[0m                         Traceback (most recent call last)",
      "Cell \u001b[0;32mIn [5], line 8\u001b[0m\n\u001b[1;32m      6\u001b[0m logger \u001b[39m=\u001b[39m TrainLogger()\n\u001b[1;32m      7\u001b[0m \u001b[39mprint\u001b[39m(logger)\n\u001b[0;32m----> 8\u001b[0m _, win_history, _, _ \u001b[39m=\u001b[39m TestRunner(board, player1, player2, logger)\u001b[39m.\u001b[39;49mplay_games(numGames,\u001b[39m10000\u001b[39;49m)\n\u001b[1;32m      9\u001b[0m \u001b[39mprint\u001b[39m(win_history)\n\u001b[1;32m     10\u001b[0m results[(player1,player2)] \u001b[39m=\u001b[39m win_history_to_percent(board, win_history)\n",
      "File \u001b[0;32m~/Desktop/ML_Final/src/checker_players/Runners/TestRunner.py:28\u001b[0m, in \u001b[0;36mTestRunner.play_games\u001b[0;34m(self, num_of_games, turn_cutoff)\u001b[0m\n\u001b[1;32m     26\u001b[0m         \u001b[39mbreak\u001b[39;00m\n\u001b[1;32m     27\u001b[0m     curr_player \u001b[39m=\u001b[39m \u001b[39mself\u001b[39m\u001b[39m.\u001b[39mplayer1 \u001b[39mif\u001b[39;00m \u001b[39mself\u001b[39m\u001b[39m.\u001b[39mboard\u001b[39m.\u001b[39mplayer_turn \u001b[39melse\u001b[39;00m \u001b[39mself\u001b[39m\u001b[39m.\u001b[39mplayer2\n\u001b[0;32m---> 28\u001b[0m     \u001b[39mself\u001b[39m\u001b[39m.\u001b[39mboard\u001b[39m.\u001b[39mmake_move(curr_player\u001b[39m.\u001b[39;49mplay(\u001b[39mself\u001b[39;49m\u001b[39m.\u001b[39;49mboard))\n\u001b[1;32m     29\u001b[0m     \u001b[39mself\u001b[39m\u001b[39m.\u001b[39mlogger\u001b[39m.\u001b[39mapply(\u001b[39mself\u001b[39m\u001b[39m.\u001b[39mboard, \u001b[39mself\u001b[39m\u001b[39m.\u001b[39mplayer1, \u001b[39mself\u001b[39m\u001b[39m.\u001b[39mplayer2)\n\u001b[1;32m     30\u001b[0m \u001b[39mself\u001b[39m\u001b[39m.\u001b[39mlogger\u001b[39m.\u001b[39mend(\u001b[39mself\u001b[39m\u001b[39m.\u001b[39mboard, \u001b[39mself\u001b[39m\u001b[39m.\u001b[39mplayer1, \u001b[39mself\u001b[39m\u001b[39m.\u001b[39mplayer2)\n",
      "File \u001b[0;32m~/Desktop/ML_Final/src/checker_players/Players/AlphaBeta.py:59\u001b[0m, in \u001b[0;36mAlphaBeta.play\u001b[0;34m(self, board)\u001b[0m\n\u001b[1;32m     58\u001b[0m \u001b[39mdef\u001b[39;00m \u001b[39mplay\u001b[39m(\u001b[39mself\u001b[39m, board):\n\u001b[0;32m---> 59\u001b[0m     \u001b[39mreturn\u001b[39;00m \u001b[39mself\u001b[39;49m\u001b[39m.\u001b[39;49mget_best_move(board, \u001b[39mself\u001b[39;49m\u001b[39m.\u001b[39;49mdepth_cutoff)\n",
      "File \u001b[0;32m~/Desktop/ML_Final/src/checker_players/Players/AlphaBeta.py:52\u001b[0m, in \u001b[0;36mAlphaBeta.get_best_move\u001b[0;34m(self, board, depth_cutoff)\u001b[0m\n\u001b[1;32m     50\u001b[0m new_board \u001b[39m=\u001b[39m Board(board\u001b[39m.\u001b[39mspots, P1_turn\u001b[39m=\u001b[39m board\u001b[39m.\u001b[39mplayer_turn)\n\u001b[1;32m     51\u001b[0m new_board\u001b[39m.\u001b[39mmake_move(move)\n\u001b[0;32m---> 52\u001b[0m curr_evaluation \u001b[39m=\u001b[39m \u001b[39mself\u001b[39;49m\u001b[39m.\u001b[39;49mget_best_board_evaluation(new_board, depth_cutoff\u001b[39m-\u001b[39;49m\u001b[39m1\u001b[39;49m, alpha, beta, max_step \u001b[39m=\u001b[39;49m (new_board\u001b[39m.\u001b[39;49mplayer_turn \u001b[39m==\u001b[39;49m board\u001b[39m.\u001b[39;49mplayer_turn))\n\u001b[1;32m     53\u001b[0m best_move \u001b[39m=\u001b[39m move \u001b[39mif\u001b[39;00m curr_evaluation \u001b[39m>\u001b[39m best_evaluation \u001b[39melse\u001b[39;00m best_move\n\u001b[1;32m     54\u001b[0m best_evaluation \u001b[39m=\u001b[39m curr_evaluation \u001b[39mif\u001b[39;00m curr_evaluation \u001b[39m>\u001b[39m best_evaluation \u001b[39melse\u001b[39;00m best_evaluation\n",
      "File \u001b[0;32m~/Desktop/ML_Final/src/checker_players/Players/AlphaBeta.py:19\u001b[0m, in \u001b[0;36mAlphaBeta.get_best_board_evaluation\u001b[0;34m(self, board, depth_cutoff, alpha, beta, max_step)\u001b[0m\n\u001b[1;32m     17\u001b[0m new_board \u001b[39m=\u001b[39m Board(board\u001b[39m.\u001b[39mspots, P1_turn\u001b[39m=\u001b[39m board\u001b[39m.\u001b[39mplayer_turn)\n\u001b[1;32m     18\u001b[0m new_board\u001b[39m.\u001b[39mmake_move(move)\n\u001b[0;32m---> 19\u001b[0m value \u001b[39m=\u001b[39m \u001b[39mself\u001b[39;49m\u001b[39m.\u001b[39;49mget_best_board_evaluation(new_board, depth_cutoff\u001b[39m-\u001b[39;49m\u001b[39m1\u001b[39;49m, alpha, beta, max_step \u001b[39m=\u001b[39;49m max_step \u001b[39mif\u001b[39;49;00m (new_board\u001b[39m.\u001b[39;49mplayer_turn \u001b[39m==\u001b[39;49m board\u001b[39m.\u001b[39;49mplayer_turn) \u001b[39melse\u001b[39;49;00m \u001b[39mnot\u001b[39;49;00m max_step)\n\u001b[1;32m     20\u001b[0m best_value \u001b[39m=\u001b[39m value \u001b[39mif\u001b[39;00m \u001b[39mnot\u001b[39;00m best_value \u001b[39melse\u001b[39;00m best_value\n\u001b[1;32m     21\u001b[0m \u001b[39mif\u001b[39;00m max_step:\n",
      "File \u001b[0;32m~/Desktop/ML_Final/src/checker_players/Players/AlphaBeta.py:18\u001b[0m, in \u001b[0;36mAlphaBeta.get_best_board_evaluation\u001b[0;34m(self, board, depth_cutoff, alpha, beta, max_step)\u001b[0m\n\u001b[1;32m     16\u001b[0m \u001b[39mfor\u001b[39;00m move \u001b[39min\u001b[39;00m possible_moves:\n\u001b[1;32m     17\u001b[0m     new_board \u001b[39m=\u001b[39m Board(board\u001b[39m.\u001b[39mspots, P1_turn\u001b[39m=\u001b[39m board\u001b[39m.\u001b[39mplayer_turn)\n\u001b[0;32m---> 18\u001b[0m     new_board\u001b[39m.\u001b[39;49mmake_move(move)\n\u001b[1;32m     19\u001b[0m     value \u001b[39m=\u001b[39m \u001b[39mself\u001b[39m\u001b[39m.\u001b[39mget_best_board_evaluation(new_board, depth_cutoff\u001b[39m-\u001b[39m\u001b[39m1\u001b[39m, alpha, beta, max_step \u001b[39m=\u001b[39m max_step \u001b[39mif\u001b[39;00m (new_board\u001b[39m.\u001b[39mplayer_turn \u001b[39m==\u001b[39m board\u001b[39m.\u001b[39mplayer_turn) \u001b[39melse\u001b[39;00m \u001b[39mnot\u001b[39;00m max_step)\n\u001b[1;32m     20\u001b[0m     best_value \u001b[39m=\u001b[39m value \u001b[39mif\u001b[39;00m \u001b[39mnot\u001b[39;00m best_value \u001b[39melse\u001b[39;00m best_value\n",
      "File \u001b[0;32m~/Desktop/ML_Final/src/checker_players/Checker_Environment/Board.py:198\u001b[0m, in \u001b[0;36mBoard.make_move\u001b[0;34m(self, move, switch_player_turn)\u001b[0m\n\u001b[1;32m    195\u001b[0m \u001b[39mself\u001b[39m\u001b[39m.\u001b[39mspots[init_loc[\u001b[39m0\u001b[39m]][init_loc[\u001b[39m1\u001b[39m]] \u001b[39m=\u001b[39m \u001b[39mself\u001b[39m\u001b[39m.\u001b[39mEMPTY_SPOT\n\u001b[1;32m    197\u001b[0m \u001b[39m# Here we are promoting a checker piece if it has reached it's king row\u001b[39;00m\n\u001b[0;32m--> 198\u001b[0m \u001b[39mif\u001b[39;00m final_loc \u001b[39min\u001b[39;00m \u001b[39mself\u001b[39;49m\u001b[39m.\u001b[39;49mget_kings_row_positions(\u001b[39mself\u001b[39;49m\u001b[39m.\u001b[39;49mP1 \u001b[39mif\u001b[39;49;00m \u001b[39mself\u001b[39;49m\u001b[39m.\u001b[39;49mplayer_turn \u001b[39melse\u001b[39;49;00m \u001b[39mself\u001b[39;49m\u001b[39m.\u001b[39;49mP2):\n\u001b[1;32m    199\u001b[0m     \u001b[39mself\u001b[39m\u001b[39m.\u001b[39mspots[final_loc[\u001b[39m0\u001b[39m]][final_loc[\u001b[39m1\u001b[39m]] \u001b[39m=\u001b[39m \u001b[39mself\u001b[39m\u001b[39m.\u001b[39mP1_K \u001b[39mif\u001b[39;00m \u001b[39mself\u001b[39m\u001b[39m.\u001b[39mplayer_turn \u001b[39melse\u001b[39;00m \u001b[39mself\u001b[39m\u001b[39m.\u001b[39mP2_K\n\u001b[1;32m    201\u001b[0m \u001b[39mif\u001b[39;00m switch_player_turn:\n",
      "File \u001b[0;32m~/Desktop/ML_Final/src/checker_players/Checker_Environment/Board.py:176\u001b[0m, in \u001b[0;36mBoard.get_kings_row_positions\u001b[0;34m(self, player)\u001b[0m\n\u001b[1;32m    174\u001b[0m     \u001b[39mreturn\u001b[39;00m [[i, \u001b[39m0\u001b[39m] \u001b[39mfor\u001b[39;00m i \u001b[39min\u001b[39;00m \u001b[39mrange\u001b[39m(\u001b[39mself\u001b[39m\u001b[39m.\u001b[39mWIDTH)]\n\u001b[1;32m    175\u001b[0m \u001b[39melif\u001b[39;00m player \u001b[39min\u001b[39;00m (\u001b[39mself\u001b[39m\u001b[39m.\u001b[39mP1, \u001b[39mself\u001b[39m\u001b[39m.\u001b[39mP2):\n\u001b[0;32m--> 176\u001b[0m     \u001b[39mreturn\u001b[39;00m [[i, \u001b[39mself\u001b[39m\u001b[39m.\u001b[39mHEIGHT\u001b[39m-\u001b[39m\u001b[39m1\u001b[39m] \u001b[39mfor\u001b[39;00m i \u001b[39min\u001b[39;00m \u001b[39mrange\u001b[39m(\u001b[39mself\u001b[39m\u001b[39m.\u001b[39mWIDTH)]\n\u001b[1;32m    177\u001b[0m \u001b[39melse\u001b[39;00m:\n\u001b[1;32m    178\u001b[0m     \u001b[39mraise\u001b[39;00m \u001b[39mValueError\u001b[39;00m(\u001b[39m\"\u001b[39m\u001b[39mNot a valid player number. Availible player numbers are: \u001b[39m\u001b[39m\"\u001b[39m \u001b[39m+\u001b[39m\u001b[39mstr\u001b[39m(\u001b[39mself\u001b[39m\u001b[39m.\u001b[39mP1)\u001b[39m+\u001b[39m\u001b[39m\"\u001b[39m\u001b[39m, \u001b[39m\u001b[39m\"\u001b[39m\u001b[39m+\u001b[39m\u001b[39mstr\u001b[39m(\u001b[39mself\u001b[39m\u001b[39m.\u001b[39mP2))\n",
      "File \u001b[0;32m~/Desktop/ML_Final/src/checker_players/Checker_Environment/Board.py:176\u001b[0m, in \u001b[0;36m<listcomp>\u001b[0;34m(.0)\u001b[0m\n\u001b[1;32m    174\u001b[0m     \u001b[39mreturn\u001b[39;00m [[i, \u001b[39m0\u001b[39m] \u001b[39mfor\u001b[39;00m i \u001b[39min\u001b[39;00m \u001b[39mrange\u001b[39m(\u001b[39mself\u001b[39m\u001b[39m.\u001b[39mWIDTH)]\n\u001b[1;32m    175\u001b[0m \u001b[39melif\u001b[39;00m player \u001b[39min\u001b[39;00m (\u001b[39mself\u001b[39m\u001b[39m.\u001b[39mP1, \u001b[39mself\u001b[39m\u001b[39m.\u001b[39mP2):\n\u001b[0;32m--> 176\u001b[0m     \u001b[39mreturn\u001b[39;00m [[i, \u001b[39mself\u001b[39m\u001b[39m.\u001b[39mHEIGHT\u001b[39m-\u001b[39m\u001b[39m1\u001b[39m] \u001b[39mfor\u001b[39;00m i \u001b[39min\u001b[39;00m \u001b[39mrange\u001b[39m(\u001b[39mself\u001b[39m\u001b[39m.\u001b[39mWIDTH)]\n\u001b[1;32m    177\u001b[0m \u001b[39melse\u001b[39;00m:\n\u001b[1;32m    178\u001b[0m     \u001b[39mraise\u001b[39;00m \u001b[39mValueError\u001b[39;00m(\u001b[39m\"\u001b[39m\u001b[39mNot a valid player number. Availible player numbers are: \u001b[39m\u001b[39m\"\u001b[39m \u001b[39m+\u001b[39m\u001b[39mstr\u001b[39m(\u001b[39mself\u001b[39m\u001b[39m.\u001b[39mP1)\u001b[39m+\u001b[39m\u001b[39m\"\u001b[39m\u001b[39m, \u001b[39m\u001b[39m\"\u001b[39m\u001b[39m+\u001b[39m\u001b[39mstr\u001b[39m(\u001b[39mself\u001b[39m\u001b[39m.\u001b[39mP2))\n",
      "\u001b[0;31mKeyboardInterrupt\u001b[0m: "
     ]
    }
   ],
   "source": [
    "results = {}\n",
    "numGames = 2\n",
    "for player1 in {randomP1, minimaxP1, alphaBetaP1, perceptronP1}:\n",
    "    for player2 in {randomP2, minimaxP2, alphaBetaP2, perceptronP2}:\n",
    "        board.reset_board()\n",
    "        logger = TrainLogger()\n",
    "        print(logger)\n",
    "        _, win_history, _, _ = TestRunner(board, player1, player2, logger).play_games(numGames,10000)\n",
    "        print(win_history)\n",
    "        results[(player1,player2)] = win_history_to_percent(board, win_history)"
   ]
  },
  {
   "cell_type": "code",
   "execution_count": 12,
   "metadata": {},
   "outputs": [
    {
     "name": "stdout",
     "output_type": "stream",
     "text": [
      "(<checker_players.Players.RandomPlayer.RandomPlayer object at 0x7fb130d96b00>, <checker_players.Players.MinimaxPlayer.MinimaxPlayer object at 0x7fb1318b8790>):0.2222222222222222\n",
      "(<checker_players.Players.RandomPlayer.RandomPlayer object at 0x7fb130d96b00>, <checker_players.Players.RandomPlayer.RandomPlayer object at 0x7fb130d97ac0>):0.3\n",
      "(<checker_players.Players.RandomPlayer.RandomPlayer object at 0x7fb130d96b00>, <checker_players.Players.AlphaBeta.AlphaBeta object at 0x7fb1318b8f10>):0.2727272727272727\n",
      "(<checker_players.Players.RandomPlayer.RandomPlayer object at 0x7fb130d96b00>, <checker_players.Players.MultilayerPerceptron.MultilayerPerceptron object at 0x7fb130c8eb60>):0.2727272727272727\n",
      "(<checker_players.Players.AlphaBeta.AlphaBeta object at 0x7fb130d97fa0>, <checker_players.Players.MinimaxPlayer.MinimaxPlayer object at 0x7fb1318b8790>):0.3333333333333333\n",
      "(<checker_players.Players.AlphaBeta.AlphaBeta object at 0x7fb130d97fa0>, <checker_players.Players.RandomPlayer.RandomPlayer object at 0x7fb130d97ac0>):0.38461538461538464\n",
      "(<checker_players.Players.AlphaBeta.AlphaBeta object at 0x7fb130d97fa0>, <checker_players.Players.AlphaBeta.AlphaBeta object at 0x7fb1318b8f10>):0.42857142857142855\n",
      "(<checker_players.Players.AlphaBeta.AlphaBeta object at 0x7fb130d97fa0>, <checker_players.Players.MultilayerPerceptron.MultilayerPerceptron object at 0x7fb130c8eb60>):0.4666666666666667\n",
      "(<checker_players.Players.MinimaxPlayer.MinimaxPlayer object at 0x7fb130d96dd0>, <checker_players.Players.MinimaxPlayer.MinimaxPlayer object at 0x7fb1318b8790>):0.5\n",
      "(<checker_players.Players.MinimaxPlayer.MinimaxPlayer object at 0x7fb130d96dd0>, <checker_players.Players.RandomPlayer.RandomPlayer object at 0x7fb130d97ac0>):0.5294117647058824\n",
      "(<checker_players.Players.MinimaxPlayer.MinimaxPlayer object at 0x7fb130d96dd0>, <checker_players.Players.AlphaBeta.AlphaBeta object at 0x7fb1318b8f10>):0.5555555555555556\n",
      "(<checker_players.Players.MinimaxPlayer.MinimaxPlayer object at 0x7fb130d96dd0>, <checker_players.Players.MultilayerPerceptron.MultilayerPerceptron object at 0x7fb130c8eb60>):0.5789473684210527\n",
      "(<checker_players.Players.MultilayerPerceptron.MultilayerPerceptron object at 0x7fb1318b84f0>, <checker_players.Players.MinimaxPlayer.MinimaxPlayer object at 0x7fb1318b8790>):0.55\n",
      "(<checker_players.Players.MultilayerPerceptron.MultilayerPerceptron object at 0x7fb1318b84f0>, <checker_players.Players.RandomPlayer.RandomPlayer object at 0x7fb130d97ac0>):0.5238095238095238\n",
      "(<checker_players.Players.MultilayerPerceptron.MultilayerPerceptron object at 0x7fb1318b84f0>, <checker_players.Players.AlphaBeta.AlphaBeta object at 0x7fb1318b8f10>):0.5\n",
      "(<checker_players.Players.MultilayerPerceptron.MultilayerPerceptron object at 0x7fb1318b84f0>, <checker_players.Players.MultilayerPerceptron.MultilayerPerceptron object at 0x7fb130c8eb60>):0.5\n"
     ]
    }
   ],
   "source": [
    "for key in results.keys():\n",
    "    print(str(key) + \":\" + str(results[key]))"
   ]
  }
 ],
 "metadata": {
  "kernelspec": {
   "display_name": "MLFinalProject",
   "language": "python",
   "name": "python3"
  },
  "language_info": {
   "codemirror_mode": {
    "name": "ipython",
    "version": 3
   },
   "file_extension": ".py",
   "mimetype": "text/x-python",
   "name": "python",
   "nbconvert_exporter": "python",
   "pygments_lexer": "ipython3",
   "version": "3.10.8"
  },
  "orig_nbformat": 4,
  "vscode": {
   "interpreter": {
    "hash": "7d174f0bfa2bb58bc1890fa549ab973b368c4c60869bd4baa859e7b6f1fe1011"
   }
  }
 },
 "nbformat": 4,
 "nbformat_minor": 2
}
